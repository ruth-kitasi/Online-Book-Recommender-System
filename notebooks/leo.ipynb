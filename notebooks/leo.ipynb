{
 "cells": [
  {
   "cell_type": "markdown",
   "id": "1c20a1c9",
   "metadata": {},
   "source": [
    "# <img src=\"../leo_ipynb_title_icon.jpeg\" alt=\"Logo\" style=\"height: 2em; vertical-align: middle;\"/>Online Book Recommender System\n"
   ]
  },
  {
   "cell_type": "markdown",
   "id": "27b492eb",
   "metadata": {},
   "source": [
    "\n",
    "# 1. Business Understanding  \n",
    "---\n",
    "\n",
    "## 1.1 Introduction  \n",
    "The **Online Book Recommender System** aims to personalize user experiences by suggesting relevant books based on their preferences and behavior. With the growing volume of books available online, users often face **choice overload**, leading to decreased engagement.  \n",
    "\n",
    "**Key Goals**:  \n",
    "- Improve user retention and engagement.  \n",
    "- Increase cross-selling/up-selling opportunities.  \n",
    "- Solve the \"cold-start\" problem for new users/books.  \n",
    "\n",
    "**Approach**:  \n",
    "- **Collaborative Filtering**: Leverage user-book interactions (e.g., ratings).  \n",
    "- **Content-Based Filtering**: Use book metadata (genre, author, descriptions).  \n",
    "- **Hybrid Model**: Combine both for more accurate recommendations.  \n",
    "\n",
    "---\n",
    "\n",
    "## 1.2 Problem Statement  \n",
    "**Core Objective**:  \n",
    "> *\"Build a ML system that recommends books to users based on their past behavior and book features, while addressing data sparsity and cold-start challenges.\"*  \n",
    "\n",
    "**Challenges**:  \n",
    "1. **Data Sparsity**: Most users rate very few books.  \n",
    "\n",
    "2. **Cold Start**: No historical data for new users/books.  \n",
    "3. **Diversity**: Avoiding over-specialization in recommendations.  \n",
    "\n",
    "**Success Metrics**:  \n",
    "- **Model**: RMSE (rating prediction), Precision@K (top-K recs).  \n",
    "- **Business**: Increased CTR, reduced bounce rates.  \n",
    "\n",
    "---\n",
    "\n",
    "## 1.3 Key Stakeholders  \n",
    "| Stakeholder          | Interest/Impact                                                                 |  \n",
    "|----------------------|---------------------------------------------------------------------------------|  \n",
    "| **End Users**        | Personalized book discoveries, better engagement.                               |  \n",
    "| **Platform**         | Higher sales, improved retention (e.g., Amazon/Goodreads).                      |  \n",
    "| **Publishers**       | Increased visibility for niche books.                                            |  \n",
    "| **Data Team**        | Scalable models with measurable business impact.                                 |  \n",
    "\n",
    "---\n",
    "\n"
   ]
  },
  {
   "cell_type": "markdown",
   "id": "b2efbe58",
   "metadata": {},
   "source": [
    "# 2. Data Understanding  \n",
    "---\n",
    "## 2.1. File Overview\n",
    "We have 3 dataframes for this project namely `books_df.csv`, `ratings_df.csv` and `user_df.csv`\n",
    "\n",
    "## 2.2 Load Data"
   ]
  },
  {
   "cell_type": "code",
   "execution_count": 36,
   "id": "4ab27aa5",
   "metadata": {},
   "outputs": [],
   "source": [
    "import pandas as pd\n",
    "\n",
    "# Read books data\n",
    "books_df = pd.read_csv(\n",
    "    '../books_df.csv',\n",
    "    sep=';',\n",
    "    encoding='latin1',\n",
    "    quotechar='\"',     # Handles fields enclosed in double quotes\n",
    "    escapechar='\\\\'    # Handles escaped quotes inside those fields (e.g. \\\" )\n",
    ")\n",
    "\n",
    "# Read ratings data\n",
    "ratings_df = pd.read_csv('../ratings_df.csv', sep=';', encoding='latin1')  # encoding to fix UnicodeDecodeError\n",
    "\n",
    "# Read users data\n",
    "users_df = pd.read_csv('../user_df.csv', sep=';', encoding='latin1')  # encoding to fix UnicodeDecodeError\n"
   ]
  },
  {
   "cell_type": "markdown",
   "id": "8d319a34",
   "metadata": {},
   "source": [
    "## 2.3 Data Inspection"
   ]
  },
  {
   "cell_type": "code",
   "execution_count": 37,
   "id": "a27a82e2",
   "metadata": {},
   "outputs": [
    {
     "data": {
      "text/html": [
       "<div>\n",
       "<style scoped>\n",
       "    .dataframe tbody tr th:only-of-type {\n",
       "        vertical-align: middle;\n",
       "    }\n",
       "\n",
       "    .dataframe tbody tr th {\n",
       "        vertical-align: top;\n",
       "    }\n",
       "\n",
       "    .dataframe thead th {\n",
       "        text-align: right;\n",
       "    }\n",
       "</style>\n",
       "<table border=\"1\" class=\"dataframe\">\n",
       "  <thead>\n",
       "    <tr style=\"text-align: right;\">\n",
       "      <th></th>\n",
       "      <th>ISBN</th>\n",
       "      <th>Book-Title</th>\n",
       "      <th>Book-Author</th>\n",
       "      <th>Year-Of-Publication</th>\n",
       "      <th>Publisher</th>\n",
       "      <th>Image-URL-S</th>\n",
       "      <th>Image-URL-M</th>\n",
       "      <th>Image-URL-L</th>\n",
       "    </tr>\n",
       "  </thead>\n",
       "  <tbody>\n",
       "    <tr>\n",
       "      <th>0</th>\n",
       "      <td>0195153448</td>\n",
       "      <td>Classical Mythology</td>\n",
       "      <td>Mark P. O. Morford</td>\n",
       "      <td>2002</td>\n",
       "      <td>Oxford University Press</td>\n",
       "      <td>http://images.amazon.com/images/P/0195153448.0...</td>\n",
       "      <td>http://images.amazon.com/images/P/0195153448.0...</td>\n",
       "      <td>http://images.amazon.com/images/P/0195153448.0...</td>\n",
       "    </tr>\n",
       "    <tr>\n",
       "      <th>1</th>\n",
       "      <td>0002005018</td>\n",
       "      <td>Clara Callan</td>\n",
       "      <td>Richard Bruce Wright</td>\n",
       "      <td>2001</td>\n",
       "      <td>HarperFlamingo Canada</td>\n",
       "      <td>http://images.amazon.com/images/P/0002005018.0...</td>\n",
       "      <td>http://images.amazon.com/images/P/0002005018.0...</td>\n",
       "      <td>http://images.amazon.com/images/P/0002005018.0...</td>\n",
       "    </tr>\n",
       "  </tbody>\n",
       "</table>\n",
       "</div>"
      ],
      "text/plain": [
       "         ISBN           Book-Title           Book-Author  Year-Of-Publication  \\\n",
       "0  0195153448  Classical Mythology    Mark P. O. Morford                 2002   \n",
       "1  0002005018         Clara Callan  Richard Bruce Wright                 2001   \n",
       "\n",
       "                 Publisher                                        Image-URL-S  \\\n",
       "0  Oxford University Press  http://images.amazon.com/images/P/0195153448.0...   \n",
       "1    HarperFlamingo Canada  http://images.amazon.com/images/P/0002005018.0...   \n",
       "\n",
       "                                         Image-URL-M  \\\n",
       "0  http://images.amazon.com/images/P/0195153448.0...   \n",
       "1  http://images.amazon.com/images/P/0002005018.0...   \n",
       "\n",
       "                                         Image-URL-L  \n",
       "0  http://images.amazon.com/images/P/0195153448.0...  \n",
       "1  http://images.amazon.com/images/P/0002005018.0...  "
      ]
     },
     "metadata": {},
     "output_type": "display_data"
    },
    {
     "name": "stdout",
     "output_type": "stream",
     "text": [
      "<class 'pandas.core.frame.DataFrame'>\n",
      "RangeIndex: 271379 entries, 0 to 271378\n",
      "Data columns (total 8 columns):\n",
      " #   Column               Non-Null Count   Dtype \n",
      "---  ------               --------------   ----- \n",
      " 0   ISBN                 271379 non-null  object\n",
      " 1   Book-Title           271379 non-null  object\n",
      " 2   Book-Author          271378 non-null  object\n",
      " 3   Year-Of-Publication  271379 non-null  int64 \n",
      " 4   Publisher            271377 non-null  object\n",
      " 5   Image-URL-S          271379 non-null  object\n",
      " 6   Image-URL-M          271379 non-null  object\n",
      " 7   Image-URL-L          271379 non-null  object\n",
      "dtypes: int64(1), object(7)\n",
      "memory usage: 16.6+ MB\n"
     ]
    }
   ],
   "source": [
    "display(books_df.head(2))\n",
    "books_df.info()"
   ]
  },
  {
   "cell_type": "markdown",
   "id": "17e98205",
   "metadata": {},
   "source": [
    "- This dataframe contains info on the movies"
   ]
  },
  {
   "cell_type": "code",
   "execution_count": 38,
   "id": "3614bf77",
   "metadata": {},
   "outputs": [
    {
     "data": {
      "text/html": [
       "<div>\n",
       "<style scoped>\n",
       "    .dataframe tbody tr th:only-of-type {\n",
       "        vertical-align: middle;\n",
       "    }\n",
       "\n",
       "    .dataframe tbody tr th {\n",
       "        vertical-align: top;\n",
       "    }\n",
       "\n",
       "    .dataframe thead th {\n",
       "        text-align: right;\n",
       "    }\n",
       "</style>\n",
       "<table border=\"1\" class=\"dataframe\">\n",
       "  <thead>\n",
       "    <tr style=\"text-align: right;\">\n",
       "      <th></th>\n",
       "      <th>User-ID</th>\n",
       "      <th>ISBN</th>\n",
       "      <th>Book-Rating</th>\n",
       "    </tr>\n",
       "  </thead>\n",
       "  <tbody>\n",
       "    <tr>\n",
       "      <th>0</th>\n",
       "      <td>276725</td>\n",
       "      <td>034545104X</td>\n",
       "      <td>0</td>\n",
       "    </tr>\n",
       "    <tr>\n",
       "      <th>1</th>\n",
       "      <td>276726</td>\n",
       "      <td>0155061224</td>\n",
       "      <td>5</td>\n",
       "    </tr>\n",
       "  </tbody>\n",
       "</table>\n",
       "</div>"
      ],
      "text/plain": [
       "   User-ID        ISBN  Book-Rating\n",
       "0   276725  034545104X            0\n",
       "1   276726  0155061224            5"
      ]
     },
     "metadata": {},
     "output_type": "display_data"
    },
    {
     "name": "stdout",
     "output_type": "stream",
     "text": [
      "<class 'pandas.core.frame.DataFrame'>\n",
      "RangeIndex: 1149780 entries, 0 to 1149779\n",
      "Data columns (total 3 columns):\n",
      " #   Column       Non-Null Count    Dtype \n",
      "---  ------       --------------    ----- \n",
      " 0   User-ID      1149780 non-null  int64 \n",
      " 1   ISBN         1149780 non-null  object\n",
      " 2   Book-Rating  1149780 non-null  int64 \n",
      "dtypes: int64(2), object(1)\n",
      "memory usage: 26.3+ MB\n"
     ]
    }
   ],
   "source": [
    "display(ratings_df.head(2))\n",
    "ratings_df.info()"
   ]
  },
  {
   "cell_type": "markdown",
   "id": "b7a0e7a4",
   "metadata": {},
   "source": [
    "- This dataframes contains info on how different users rated different books"
   ]
  },
  {
   "cell_type": "code",
   "execution_count": 39,
   "id": "d7e1a451",
   "metadata": {},
   "outputs": [
    {
     "data": {
      "text/html": [
       "<div>\n",
       "<style scoped>\n",
       "    .dataframe tbody tr th:only-of-type {\n",
       "        vertical-align: middle;\n",
       "    }\n",
       "\n",
       "    .dataframe tbody tr th {\n",
       "        vertical-align: top;\n",
       "    }\n",
       "\n",
       "    .dataframe thead th {\n",
       "        text-align: right;\n",
       "    }\n",
       "</style>\n",
       "<table border=\"1\" class=\"dataframe\">\n",
       "  <thead>\n",
       "    <tr style=\"text-align: right;\">\n",
       "      <th></th>\n",
       "      <th>User-ID</th>\n",
       "      <th>Location</th>\n",
       "      <th>Age</th>\n",
       "    </tr>\n",
       "  </thead>\n",
       "  <tbody>\n",
       "    <tr>\n",
       "      <th>0</th>\n",
       "      <td>1</td>\n",
       "      <td>nyc, new york, usa</td>\n",
       "      <td>NaN</td>\n",
       "    </tr>\n",
       "    <tr>\n",
       "      <th>1</th>\n",
       "      <td>2</td>\n",
       "      <td>stockton, california, usa</td>\n",
       "      <td>18.0</td>\n",
       "    </tr>\n",
       "  </tbody>\n",
       "</table>\n",
       "</div>"
      ],
      "text/plain": [
       "   User-ID                   Location   Age\n",
       "0        1         nyc, new york, usa   NaN\n",
       "1        2  stockton, california, usa  18.0"
      ]
     },
     "metadata": {},
     "output_type": "display_data"
    },
    {
     "name": "stdout",
     "output_type": "stream",
     "text": [
      "<class 'pandas.core.frame.DataFrame'>\n",
      "RangeIndex: 278858 entries, 0 to 278857\n",
      "Data columns (total 3 columns):\n",
      " #   Column    Non-Null Count   Dtype  \n",
      "---  ------    --------------   -----  \n",
      " 0   User-ID   278858 non-null  int64  \n",
      " 1   Location  278858 non-null  object \n",
      " 2   Age       168096 non-null  float64\n",
      "dtypes: float64(1), int64(1), object(1)\n",
      "memory usage: 6.4+ MB\n"
     ]
    }
   ],
   "source": [
    "display(users_df.head(2))\n",
    "users_df.info()"
   ]
  },
  {
   "cell_type": "markdown",
   "id": "37cdc902",
   "metadata": {},
   "source": [
    "- This dataframes contains info on different users"
   ]
  },
  {
   "cell_type": "markdown",
   "id": "9c5a9569",
   "metadata": {},
   "source": [
    "## 2.4 Dataset Features Description\n",
    "\n",
    "### Books Dataset (`books_df`)\n",
    "**Records**: 271,379 books | **Features**: 8\n",
    "\n",
    "| Feature | Description |\n",
    "|---------|-------------|\n",
    "| ISBN | International Standard Book Number (unique identifier) |\n",
    "| Book-Title | Complete title of the book including subtitles |\n",
    "| Book-Author | Author(s) of the book |\n",
    "| Year-Of-Publication | Original publication year of the edition |\n",
    "| Publisher | Company/organization that published the book |\n",
    "| Image-URL-S | URL for small thumbnail cover image |\n",
    "| Image-URL-M | URL for medium-sized cover image |\n",
    "| Image-URL-L | URL for large/high-resolution cover image |\n",
    "\n",
    "---\n",
    "\n",
    "### Ratings Dataset (`ratings_df`)  \n",
    "**Records**: 1,149,780 ratings | **Features**: 3\n",
    "\n",
    "| Feature | Description |\n",
    "|---------|-------------|\n",
    "| User-ID | Anonymous unique identifier of the rating user |\n",
    "| ISBN | Book identifier (matches books_df) |\n",
    "| Book-Rating | Numerical rating given by user (scale to be verified) |\n",
    "\n",
    "---\n",
    "\n",
    "### Users Dataset (`users_df`)  \n",
    "**Records**: 278,858 users | **Features**: 3\n",
    "\n",
    "| Feature | Description |\n",
    "|---------|-------------|\n",
    "| User-ID | Unique identifier (matches ratings_df) |\n",
    "| Location | Free-text location description (e.g., \"New York, NY, USA\") |\n",
    "| Age | Self-reported age in years |"
   ]
  },
  {
   "cell_type": "markdown",
   "id": "0f1ff727",
   "metadata": {},
   "source": [
    "\n"
   ]
  },
  {
   "cell_type": "markdown",
   "id": "4410ad8c",
   "metadata": {},
   "source": [
    "## 3.1 Data Cleaning\n",
    "\n",
    "### 3.1.1 Handling Missing Values"
   ]
  },
  {
   "cell_type": "code",
   "execution_count": 40,
   "id": "f1f580ea",
   "metadata": {},
   "outputs": [],
   "source": [
    "# initialize list of dfs\n",
    "df_list =[books_df, ratings_df, users_df]"
   ]
  },
  {
   "cell_type": "code",
   "execution_count": 41,
   "id": "05f647ed",
   "metadata": {},
   "outputs": [
    {
     "data": {
      "text/plain": [
       "ISBN                   0\n",
       "Book-Title             0\n",
       "Book-Author            1\n",
       "Year-Of-Publication    0\n",
       "Publisher              2\n",
       "Image-URL-S            0\n",
       "Image-URL-M            0\n",
       "Image-URL-L            0\n",
       "dtype: int64"
      ]
     },
     "metadata": {},
     "output_type": "display_data"
    },
    {
     "data": {
      "text/plain": [
       "User-ID        0\n",
       "ISBN           0\n",
       "Book-Rating    0\n",
       "dtype: int64"
      ]
     },
     "metadata": {},
     "output_type": "display_data"
    },
    {
     "data": {
      "text/plain": [
       "User-ID          0\n",
       "Location         0\n",
       "Age         110762\n",
       "dtype: int64"
      ]
     },
     "metadata": {},
     "output_type": "display_data"
    }
   ],
   "source": [
    "#check missing values\n",
    "for df in df_list:\n",
    "    display(df.isna().sum())\n"
   ]
  },
  {
   "cell_type": "markdown",
   "id": "04300cd6",
   "metadata": {},
   "source": [
    "- In **`books_df`** missing values represent  **0.0011055 %** of the data which is not statistically significant hence we shall drop rows with these missing values and represent a very small fraction of thes data with over 271,000 books.\n",
    "- In **`users_df`** missing values in the `age` column represent **39.7198574 %** of the data. This is statistically significant. Before imputing/dropping the column we shall check whether there is a correlation between age and ratings\n",
    "\n",
    "#### 3.1.1.1 Dropping missing values in `books_df`"
   ]
  },
  {
   "cell_type": "code",
   "execution_count": 42,
   "id": "a7d86a38",
   "metadata": {},
   "outputs": [
    {
     "data": {
      "text/plain": [
       "ISBN                   0\n",
       "Book-Title             0\n",
       "Book-Author            0\n",
       "Year-Of-Publication    0\n",
       "Publisher              0\n",
       "Image-URL-S            0\n",
       "Image-URL-M            0\n",
       "Image-URL-L            0\n",
       "dtype: int64"
      ]
     },
     "metadata": {},
     "output_type": "display_data"
    },
    {
     "data": {
      "text/plain": [
       "(271376, 8)"
      ]
     },
     "metadata": {},
     "output_type": "display_data"
    }
   ],
   "source": [
    "# Drop missing values\n",
    "books_df =books_df.dropna()\n",
    "\n",
    "# verify drop\n",
    "display(books_df.isna().sum())\n",
    "display(books_df.shape)"
   ]
  },
  {
   "cell_type": "markdown",
   "id": "ebe944b4",
   "metadata": {},
   "source": [
    "#### 3.1.1.2 Handling missing values in `age` column, `users_df`"
   ]
  },
  {
   "cell_type": "code",
   "execution_count": 43,
   "id": "974929a8",
   "metadata": {},
   "outputs": [
    {
     "name": "stdout",
     "output_type": "stream",
     "text": [
      "Available age-rating pairs: 840,288\n",
      "Pearson Correlation Matrix:\n"
     ]
    },
    {
     "data": {
      "text/html": [
       "<div>\n",
       "<style scoped>\n",
       "    .dataframe tbody tr th:only-of-type {\n",
       "        vertical-align: middle;\n",
       "    }\n",
       "\n",
       "    .dataframe tbody tr th {\n",
       "        vertical-align: top;\n",
       "    }\n",
       "\n",
       "    .dataframe thead th {\n",
       "        text-align: right;\n",
       "    }\n",
       "</style>\n",
       "<table border=\"1\" class=\"dataframe\">\n",
       "  <thead>\n",
       "    <tr style=\"text-align: right;\">\n",
       "      <th></th>\n",
       "      <th>Age</th>\n",
       "      <th>Book-Rating</th>\n",
       "    </tr>\n",
       "  </thead>\n",
       "  <tbody>\n",
       "    <tr>\n",
       "      <th>Age</th>\n",
       "      <td>1.000000</td>\n",
       "      <td>-0.028238</td>\n",
       "    </tr>\n",
       "    <tr>\n",
       "      <th>Book-Rating</th>\n",
       "      <td>-0.028238</td>\n",
       "      <td>1.000000</td>\n",
       "    </tr>\n",
       "  </tbody>\n",
       "</table>\n",
       "</div>"
      ],
      "text/plain": [
       "                  Age  Book-Rating\n",
       "Age          1.000000    -0.028238\n",
       "Book-Rating -0.028238     1.000000"
      ]
     },
     "metadata": {},
     "output_type": "display_data"
    },
    {
     "data": {
      "image/png": "[encoded data removed]",
      "text/plain": [
       "<Figure size 432x288 with 1 Axes>"
      ]
     },
     "metadata": {
      "needs_background": "light"
     },
     "output_type": "display_data"
    }
   ],
   "source": [
    "import matplotlib.pyplot as plt\n",
    "\n",
    "# Merge ratings with user ages\n",
    "age_ratings = pd.merge(\n",
    "    ratings_df[['User-ID', 'Book-Rating']],\n",
    "    users_df[['User-ID', 'Age']],\n",
    "    on='User-ID',\n",
    "    how='inner'\n",
    ")\n",
    "\n",
    "# Plot average rating by age group\n",
    "age_ratings.groupby(pd.cut(age_ratings['Age'], bins=[0, 18, 30, 50, 100]))['Book-Rating'].mean().plot(kind='bar')\n",
    "plt.title('Average Rating by Age Group')\n",
    "\n",
    "\n",
    "\n",
    "# Drop rows where age is missing for correlation analysis\n",
    "age_ratings_clean = age_ratings.dropna(subset=['Age'])\n",
    "print(f\"Available age-rating pairs: {len(age_ratings_clean):,}\")\n",
    "\n",
    "corr = age_ratings_clean[['Age', 'Book-Rating']].corr(method='pearson')\n",
    "print(\"Pearson Correlation Matrix:\")\n",
    "display(corr)"
   ]
  },
  {
   "cell_type": "markdown",
   "id": "c65b8a83",
   "metadata": {},
   "source": [
    "#### Age Data Handling Decision\n",
    "- **Missing**: 110,762/278,858 (39.7%)\n",
    "- **Action**: Dropped column due to:\n",
    "  1. Insignificant  negative correlation with ratings (r =-0.028238)\n",
    "  2. Avoid imputation bias"
   ]
  },
  {
   "cell_type": "code",
   "execution_count": 44,
   "id": "18898d25",
   "metadata": {},
   "outputs": [
    {
     "data": {
      "text/plain": [
       "Index(['User-ID', 'Location'], dtype='object')"
      ]
     },
     "execution_count": 44,
     "metadata": {},
     "output_type": "execute_result"
    }
   ],
   "source": [
    "#drop column and verify\n",
    "users_df = users_df.drop(columns= ['Age'])\n",
    "users_df.columns"
   ]
  },
  {
   "cell_type": "markdown",
   "id": "2b5dbd08",
   "metadata": {},
   "source": [
    "### 3.1.2 Handling Duplicates"
   ]
  },
  {
   "cell_type": "markdown",
   "id": "5b42fca5",
   "metadata": {},
   "source": [
    "- For this we shall check dataframes individually since some have some unique identifiers\n",
    "#### `books_df`"
   ]
  },
  {
   "cell_type": "code",
   "execution_count": 45,
   "id": "6f6cc8d9",
   "metadata": {},
   "outputs": [
    {
     "data": {
      "text/plain": [
       "0"
      ]
     },
     "metadata": {},
     "output_type": "display_data"
    }
   ],
   "source": [
    "#check duplicates\n",
    "display(books_df['ISBN'].duplicated().sum())"
   ]
  },
  {
   "cell_type": "markdown",
   "id": "387f8c1a",
   "metadata": {},
   "source": [
    "- `books_df` has no duplicates\n",
    "#### `ratings_df`\n"
   ]
  },
  {
   "cell_type": "code",
   "execution_count": 46,
   "id": "e3673df2",
   "metadata": {},
   "outputs": [
    {
     "data": {
      "text/plain": [
       "0"
      ]
     },
     "metadata": {},
     "output_type": "display_data"
    }
   ],
   "source": [
    "#check duplicates\n",
    "display(ratings_df[['ISBN','User-ID']].duplicated().sum())"
   ]
  },
  {
   "cell_type": "markdown",
   "id": "8d107c86",
   "metadata": {},
   "source": [
    "- `ratings_df` has no duplicates either\n",
    "#### `users_df`\n"
   ]
  },
  {
   "cell_type": "code",
   "execution_count": 47,
   "id": "caab2c55",
   "metadata": {},
   "outputs": [
    {
     "data": {
      "text/plain": [
       "0"
      ]
     },
     "metadata": {},
     "output_type": "display_data"
    }
   ],
   "source": [
    "#check duplicates\n",
    "display(users_df['User-ID'].duplicated().sum())"
   ]
  },
  {
   "cell_type": "markdown",
   "id": "5f0ff8b1",
   "metadata": {},
   "source": [
    "- `users_df` has no duplicates either.\n",
    "- Thus, the datasets have no duplicates\n",
    "- Data Cleaning is complete, there is no need to check for outliers in this project since `Age`column has already been dropped."
   ]
  },
  {
   "cell_type": "markdown",
   "id": "8448048e",
   "metadata": {},
   "source": [
    "## 3.3 Dataset Merging"
   ]
  },
  {
   "cell_type": "code",
   "execution_count": null,
   "id": "041af5aa",
   "metadata": {},
   "outputs": [],
   "source": []
  }
 ],
 "metadata": {
  "kernelspec": {
   "display_name": "learn-env",
   "language": "python",
   "name": "python3"
  },
  "language_info": {
   "codemirror_mode": {
    "name": "ipython",
    "version": 3
   },
   "file_extension": ".py",
   "mimetype": "text/x-python",
   "name": "python",
   "nbconvert_exporter": "python",
   "pygments_lexer": "ipython3",
   "version": "3.8.5"
  }
 },
 "nbformat": 4,
 "nbformat_minor": 5
}
