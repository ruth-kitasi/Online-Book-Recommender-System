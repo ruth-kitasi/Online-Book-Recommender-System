{
 "cells": [
  {
   "cell_type": "markdown",
   "id": "1c20a1c9",
   "metadata": {},
   "source": [
    "# <img src=\"../leo_ipynb_title_icon.jpeg\" alt=\"Logo\" style=\"height: 2em; vertical-align: middle;\"/>Online Book Recommender System\n"
   ]
  },
  {
   "cell_type": "markdown",
   "id": "27b492eb",
   "metadata": {},
   "source": [
    "\n",
    "# 1. Business Understanding  \n",
    "---\n",
    "\n",
    "## 1.1 Introduction  \n",
    "The **Online Book Recommender System** aims to personalize user experiences by suggesting relevant books based on their preferences and behavior. With the growing volume of books available online, users often face **choice overload**, leading to decreased engagement.  \n",
    "\n",
    "**Key Goals**:  \n",
    "- Improve user retention and engagement.  \n",
    "- Increase cross-selling/up-selling opportunities.  \n",
    "- Solve the \"cold-start\" problem for new users/books.  \n",
    "\n",
    "**Approach**:  \n",
    "- **Collaborative Filtering**: Leverage user-book interactions (e.g., ratings).  \n",
    "- **Content-Based Filtering**: Use book metadata (genre, author, descriptions).  \n",
    "- **Hybrid Model**: Combine both for more accurate recommendations.  \n",
    "\n",
    "---\n",
    "\n",
    "## 1.2 Problem Statement  \n",
    "**Core Objective**:  \n",
    "> *\"Build a ML system that recommends books to users based on their past behavior and book features, while addressing data sparsity and cold-start challenges.\"*  \n",
    "\n",
    "**Challenges**:  \n",
    "1. **Data Sparsity**: Most users rate very few books.  \n",
    "\n",
    "2. **Cold Start**: No historical data for new users/books.  \n",
    "3. **Diversity**: Avoiding over-specialization in recommendations.  \n",
    "\n",
    "**Success Metrics**:  \n",
    "- **Model**: RMSE (rating prediction), Precision@K (top-K recs).  \n",
    "- **Business**: Increased CTR, reduced bounce rates.  \n",
    "\n",
    "---\n",
    "\n",
    "## 1.3 Key Stakeholders  \n",
    "| Stakeholder          | Interest/Impact                                                                 |  \n",
    "|----------------------|---------------------------------------------------------------------------------|  \n",
    "| **End Users**        | Personalized book discoveries, better engagement.                               |  \n",
    "| **Platform**         | Higher sales, improved retention (e.g., Amazon/Goodreads).                      |  \n",
    "| **Publishers**       | Increased visibility for niche books.                                            |  \n",
    "| **Data Team**        | Scalable models with measurable business impact.                                 |  \n",
    "\n",
    "---\n",
    "\n"
   ]
  },
  {
   "cell_type": "markdown",
   "id": "b2efbe58",
   "metadata": {},
   "source": [
    "# 2. Data Understanding  \n",
    "---\n",
    "## 2.1. File Overview\n",
    "We have 3 dataframes for this project namely `books_df.csv`, `ratings_df.csv` and `user_df.csv`\n",
    "\n",
    "## 2.2 Load Data"
   ]
  },
  {
   "cell_type": "code",
   "execution_count": 54,
   "id": "4ab27aa5",
   "metadata": {},
   "outputs": [],
   "source": [
    "import pandas as pd\n",
    "\n",
    "# Read books data\n",
    "books_df = pd.read_csv(\n",
    "    '../books_df.csv',\n",
    "    sep=';',\n",
    "    encoding='latin1',\n",
    "    quotechar='\"',     # Handles fields enclosed in double quotes\n",
    "    escapechar='\\\\'    # Handles escaped quotes inside those fields (e.g. \\\" )\n",
    ")\n",
    "\n",
    "# Read ratings data\n",
    "ratings_df = pd.read_csv('../ratings_df.csv', sep=';', encoding='latin1')  # encoding to fix UnicodeDecodeError\n",
    "\n",
    "# Read users data\n",
    "users_df = pd.read_csv('../user_df.csv', sep=';', encoding='latin1')  # encoding to fix UnicodeDecodeError\n"
   ]
  },
  {
   "cell_type": "markdown",
   "id": "8d319a34",
   "metadata": {},
   "source": [
    "## 2.3 Data Inspection"
   ]
  },
  {
   "cell_type": "code",
   "execution_count": 55,
   "id": "a27a82e2",
   "metadata": {},
   "outputs": [
    {
     "data": {
      "text/html": [
       "<div>\n",
       "<style scoped>\n",
       "    .dataframe tbody tr th:only-of-type {\n",
       "        vertical-align: middle;\n",
       "    }\n",
       "\n",
       "    .dataframe tbody tr th {\n",
       "        vertical-align: top;\n",
       "    }\n",
       "\n",
       "    .dataframe thead th {\n",
       "        text-align: right;\n",
       "    }\n",
       "</style>\n",
       "<table border=\"1\" class=\"dataframe\">\n",
       "  <thead>\n",
       "    <tr style=\"text-align: right;\">\n",
       "      <th></th>\n",
       "      <th>ISBN</th>\n",
       "      <th>Book-Title</th>\n",
       "      <th>Book-Author</th>\n",
       "      <th>Year-Of-Publication</th>\n",
       "      <th>Publisher</th>\n",
       "      <th>Image-URL-S</th>\n",
       "      <th>Image-URL-M</th>\n",
       "      <th>Image-URL-L</th>\n",
       "    </tr>\n",
       "  </thead>\n",
       "  <tbody>\n",
       "    <tr>\n",
       "      <th>0</th>\n",
       "      <td>0195153448</td>\n",
       "      <td>Classical Mythology</td>\n",
       "      <td>Mark P. O. Morford</td>\n",
       "      <td>2002</td>\n",
       "      <td>Oxford University Press</td>\n",
       "      <td>http://images.amazon.com/images/P/0195153448.0...</td>\n",
       "      <td>http://images.amazon.com/images/P/0195153448.0...</td>\n",
       "      <td>http://images.amazon.com/images/P/0195153448.0...</td>\n",
       "    </tr>\n",
       "    <tr>\n",
       "      <th>1</th>\n",
       "      <td>0002005018</td>\n",
       "      <td>Clara Callan</td>\n",
       "      <td>Richard Bruce Wright</td>\n",
       "      <td>2001</td>\n",
       "      <td>HarperFlamingo Canada</td>\n",
       "      <td>http://images.amazon.com/images/P/0002005018.0...</td>\n",
       "      <td>http://images.amazon.com/images/P/0002005018.0...</td>\n",
       "      <td>http://images.amazon.com/images/P/0002005018.0...</td>\n",
       "    </tr>\n",
       "  </tbody>\n",
       "</table>\n",
       "</div>"
      ],
      "text/plain": [
       "         ISBN           Book-Title           Book-Author  Year-Of-Publication  \\\n",
       "0  0195153448  Classical Mythology    Mark P. O. Morford                 2002   \n",
       "1  0002005018         Clara Callan  Richard Bruce Wright                 2001   \n",
       "\n",
       "                 Publisher                                        Image-URL-S  \\\n",
       "0  Oxford University Press  http://images.amazon.com/images/P/0195153448.0...   \n",
       "1    HarperFlamingo Canada  http://images.amazon.com/images/P/0002005018.0...   \n",
       "\n",
       "                                         Image-URL-M  \\\n",
       "0  http://images.amazon.com/images/P/0195153448.0...   \n",
       "1  http://images.amazon.com/images/P/0002005018.0...   \n",
       "\n",
       "                                         Image-URL-L  \n",
       "0  http://images.amazon.com/images/P/0195153448.0...  \n",
       "1  http://images.amazon.com/images/P/0002005018.0...  "
      ]
     },
     "metadata": {},
     "output_type": "display_data"
    },
    {
     "name": "stdout",
     "output_type": "stream",
     "text": [
      "<class 'pandas.core.frame.DataFrame'>\n",
      "RangeIndex: 271379 entries, 0 to 271378\n",
      "Data columns (total 8 columns):\n",
      " #   Column               Non-Null Count   Dtype \n",
      "---  ------               --------------   ----- \n",
      " 0   ISBN                 271379 non-null  object\n",
      " 1   Book-Title           271379 non-null  object\n",
      " 2   Book-Author          271378 non-null  object\n",
      " 3   Year-Of-Publication  271379 non-null  int64 \n",
      " 4   Publisher            271377 non-null  object\n",
      " 5   Image-URL-S          271379 non-null  object\n",
      " 6   Image-URL-M          271379 non-null  object\n",
      " 7   Image-URL-L          271379 non-null  object\n",
      "dtypes: int64(1), object(7)\n",
      "memory usage: 16.6+ MB\n"
     ]
    }
   ],
   "source": [
    "display(books_df.head(2))\n",
    "books_df.info()"
   ]
  },
  {
   "cell_type": "markdown",
   "id": "17e98205",
   "metadata": {},
   "source": [
    "- This dataframe contains info on the movies"
   ]
  },
  {
   "cell_type": "code",
   "execution_count": 56,
   "id": "3614bf77",
   "metadata": {},
   "outputs": [
    {
     "data": {
      "text/html": [
       "<div>\n",
       "<style scoped>\n",
       "    .dataframe tbody tr th:only-of-type {\n",
       "        vertical-align: middle;\n",
       "    }\n",
       "\n",
       "    .dataframe tbody tr th {\n",
       "        vertical-align: top;\n",
       "    }\n",
       "\n",
       "    .dataframe thead th {\n",
       "        text-align: right;\n",
       "    }\n",
       "</style>\n",
       "<table border=\"1\" class=\"dataframe\">\n",
       "  <thead>\n",
       "    <tr style=\"text-align: right;\">\n",
       "      <th></th>\n",
       "      <th>User-ID</th>\n",
       "      <th>ISBN</th>\n",
       "      <th>Book-Rating</th>\n",
       "    </tr>\n",
       "  </thead>\n",
       "  <tbody>\n",
       "    <tr>\n",
       "      <th>0</th>\n",
       "      <td>276725</td>\n",
       "      <td>034545104X</td>\n",
       "      <td>0</td>\n",
       "    </tr>\n",
       "    <tr>\n",
       "      <th>1</th>\n",
       "      <td>276726</td>\n",
       "      <td>0155061224</td>\n",
       "      <td>5</td>\n",
       "    </tr>\n",
       "  </tbody>\n",
       "</table>\n",
       "</div>"
      ],
      "text/plain": [
       "   User-ID        ISBN  Book-Rating\n",
       "0   276725  034545104X            0\n",
       "1   276726  0155061224            5"
      ]
     },
     "metadata": {},
     "output_type": "display_data"
    },
    {
     "name": "stdout",
     "output_type": "stream",
     "text": [
      "<class 'pandas.core.frame.DataFrame'>\n",
      "RangeIndex: 1149780 entries, 0 to 1149779\n",
      "Data columns (total 3 columns):\n",
      " #   Column       Non-Null Count    Dtype \n",
      "---  ------       --------------    ----- \n",
      " 0   User-ID      1149780 non-null  int64 \n",
      " 1   ISBN         1149780 non-null  object\n",
      " 2   Book-Rating  1149780 non-null  int64 \n",
      "dtypes: int64(2), object(1)\n",
      "memory usage: 26.3+ MB\n"
     ]
    }
   ],
   "source": [
    "display(ratings_df.head(2))\n",
    "ratings_df.info()"
   ]
  },
  {
   "cell_type": "markdown",
   "id": "b7a0e7a4",
   "metadata": {},
   "source": [
    "- This dataframes contains info on how different users rated different books"
   ]
  },
  {
   "cell_type": "code",
   "execution_count": 57,
   "id": "d7e1a451",
   "metadata": {},
   "outputs": [
    {
     "data": {
      "text/html": [
       "<div>\n",
       "<style scoped>\n",
       "    .dataframe tbody tr th:only-of-type {\n",
       "        vertical-align: middle;\n",
       "    }\n",
       "\n",
       "    .dataframe tbody tr th {\n",
       "        vertical-align: top;\n",
       "    }\n",
       "\n",
       "    .dataframe thead th {\n",
       "        text-align: right;\n",
       "    }\n",
       "</style>\n",
       "<table border=\"1\" class=\"dataframe\">\n",
       "  <thead>\n",
       "    <tr style=\"text-align: right;\">\n",
       "      <th></th>\n",
       "      <th>User-ID</th>\n",
       "      <th>Location</th>\n",
       "      <th>Age</th>\n",
       "    </tr>\n",
       "  </thead>\n",
       "  <tbody>\n",
       "    <tr>\n",
       "      <th>0</th>\n",
       "      <td>1</td>\n",
       "      <td>nyc, new york, usa</td>\n",
       "      <td>NaN</td>\n",
       "    </tr>\n",
       "    <tr>\n",
       "      <th>1</th>\n",
       "      <td>2</td>\n",
       "      <td>stockton, california, usa</td>\n",
       "      <td>18.0</td>\n",
       "    </tr>\n",
       "  </tbody>\n",
       "</table>\n",
       "</div>"
      ],
      "text/plain": [
       "   User-ID                   Location   Age\n",
       "0        1         nyc, new york, usa   NaN\n",
       "1        2  stockton, california, usa  18.0"
      ]
     },
     "metadata": {},
     "output_type": "display_data"
    },
    {
     "name": "stdout",
     "output_type": "stream",
     "text": [
      "<class 'pandas.core.frame.DataFrame'>\n",
      "RangeIndex: 278858 entries, 0 to 278857\n",
      "Data columns (total 3 columns):\n",
      " #   Column    Non-Null Count   Dtype  \n",
      "---  ------    --------------   -----  \n",
      " 0   User-ID   278858 non-null  int64  \n",
      " 1   Location  278858 non-null  object \n",
      " 2   Age       168096 non-null  float64\n",
      "dtypes: float64(1), int64(1), object(1)\n",
      "memory usage: 6.4+ MB\n"
     ]
    }
   ],
   "source": [
    "display(users_df.head(2))\n",
    "users_df.info()"
   ]
  },
  {
   "cell_type": "markdown",
   "id": "37cdc902",
   "metadata": {},
   "source": [
    "- This dataframes contains info on different users"
   ]
  },
  {
   "cell_type": "markdown",
   "id": "9c5a9569",
   "metadata": {},
   "source": [
    "## 2.4 Dataset Features Description\n",
    "\n",
    "### Books Dataset (`books_df`)\n",
    "**Records**: 271,379 books | **Features**: 8\n",
    "\n",
    "| Feature | Description |\n",
    "|---------|-------------|\n",
    "| ISBN | International Standard Book Number (unique identifier) |\n",
    "| Book-Title | Complete title of the book including subtitles |\n",
    "| Book-Author | Author(s) of the book |\n",
    "| Year-Of-Publication | Original publication year of the edition |\n",
    "| Publisher | Company/organization that published the book |\n",
    "| Image-URL-S | URL for small thumbnail cover image |\n",
    "| Image-URL-M | URL for medium-sized cover image |\n",
    "| Image-URL-L | URL for large/high-resolution cover image |\n",
    "\n",
    "---\n",
    "\n",
    "### Ratings Dataset (`ratings_df`)  \n",
    "**Records**: 1,149,780 ratings | **Features**: 3\n",
    "\n",
    "| Feature | Description |\n",
    "|---------|-------------|\n",
    "| User-ID | Anonymous unique identifier of the rating user |\n",
    "| ISBN | Book identifier (matches books_df) |\n",
    "| Book-Rating | Numerical rating given by user (scale to be verified) |\n",
    "\n",
    "---\n",
    "\n",
    "### Users Dataset (`users_df`)  \n",
    "**Records**: 278,858 users | **Features**: 3\n",
    "\n",
    "| Feature | Description |\n",
    "|---------|-------------|\n",
    "| User-ID | Unique identifier (matches ratings_df) |\n",
    "| Location | Free-text location description (e.g., \"New York, NY, USA\") |\n",
    "| Age | Self-reported age in years |"
   ]
  },
  {
   "cell_type": "markdown",
   "id": "0f1ff727",
   "metadata": {},
   "source": [
    "\n"
   ]
  },
  {
   "cell_type": "markdown",
   "id": "4410ad8c",
   "metadata": {},
   "source": [
    "## 3.1 Data Cleaning\n",
    "\n",
    "### 3.1.1 Handling Missing Values"
   ]
  },
  {
   "cell_type": "code",
   "execution_count": 58,
   "id": "f1f580ea",
   "metadata": {},
   "outputs": [],
   "source": [
    "# initialize list of dfs\n",
    "df_list =[books_df, ratings_df, users_df]"
   ]
  },
  {
   "cell_type": "code",
   "execution_count": 59,
   "id": "05f647ed",
   "metadata": {},
   "outputs": [
    {
     "data": {
      "text/plain": [
       "ISBN                   0\n",
       "Book-Title             0\n",
       "Book-Author            1\n",
       "Year-Of-Publication    0\n",
       "Publisher              2\n",
       "Image-URL-S            0\n",
       "Image-URL-M            0\n",
       "Image-URL-L            0\n",
       "dtype: int64"
      ]
     },
     "metadata": {},
     "output_type": "display_data"
    },
    {
     "data": {
      "text/plain": [
       "User-ID        0\n",
       "ISBN           0\n",
       "Book-Rating    0\n",
       "dtype: int64"
      ]
     },
     "metadata": {},
     "output_type": "display_data"
    },
    {
     "data": {
      "text/plain": [
       "User-ID          0\n",
       "Location         0\n",
       "Age         110762\n",
       "dtype: int64"
      ]
     },
     "metadata": {},
     "output_type": "display_data"
    }
   ],
   "source": [
    "#check missing values\n",
    "for df in df_list:\n",
    "    display(df.isna().sum())\n"
   ]
  },
  {
   "cell_type": "markdown",
   "id": "04300cd6",
   "metadata": {},
   "source": [
    "- In **`books_df`** missing values represent  **0.0011055 %** of the data which is not statistically significant hence we shall drop rows with these missing values and represent a very small fraction of thes data with over 271,000 books.\n",
    "- In **`users_df`** missing values in the `age` column represent **39.7198574 %** of the data. This is statistically significant. Before imputing/dropping the column we shall check whether there is a correlation between age and ratings\n",
    "\n",
    "#### 3.1.1.1 Dropping missing values in `books_df`"
   ]
  },
  {
   "cell_type": "code",
   "execution_count": 60,
   "id": "a7d86a38",
   "metadata": {},
   "outputs": [
    {
     "data": {
      "text/plain": [
       "ISBN                   0\n",
       "Book-Title             0\n",
       "Book-Author            0\n",
       "Year-Of-Publication    0\n",
       "Publisher              0\n",
       "Image-URL-S            0\n",
       "Image-URL-M            0\n",
       "Image-URL-L            0\n",
       "dtype: int64"
      ]
     },
     "metadata": {},
     "output_type": "display_data"
    },
    {
     "data": {
      "text/plain": [
       "(271376, 8)"
      ]
     },
     "metadata": {},
     "output_type": "display_data"
    }
   ],
   "source": [
    "# Drop missing values\n",
    "books_df =books_df.dropna()\n",
    "\n",
    "# verify drop\n",
    "display(books_df.isna().sum())\n",
    "display(books_df.shape)"
   ]
  },
  {
   "cell_type": "markdown",
   "id": "ebe944b4",
   "metadata": {},
   "source": [
    "#### 3.1.1.2 Handling missing values in `age` column, `users_df`"
   ]
  },
  {
   "cell_type": "code",
   "execution_count": 61,
   "id": "974929a8",
   "metadata": {},
   "outputs": [
    {
     "data": {
      "image/png": "[encoded data removed]",
      "text/plain": [
       "<Figure size 432x288 with 1 Axes>"
      ]
     },
     "metadata": {
      "needs_background": "light"
     },
     "output_type": "display_data"
    },
    {
     "name": "stdout",
     "output_type": "stream",
     "text": [
      "Available age-rating pairs: 840,288\n",
      "Pearson Correlation Matrix:\n"
     ]
    },
    {
     "data": {
      "text/html": [
       "<div>\n",
       "<style scoped>\n",
       "    .dataframe tbody tr th:only-of-type {\n",
       "        vertical-align: middle;\n",
       "    }\n",
       "\n",
       "    .dataframe tbody tr th {\n",
       "        vertical-align: top;\n",
       "    }\n",
       "\n",
       "    .dataframe thead th {\n",
       "        text-align: right;\n",
       "    }\n",
       "</style>\n",
       "<table border=\"1\" class=\"dataframe\">\n",
       "  <thead>\n",
       "    <tr style=\"text-align: right;\">\n",
       "      <th></th>\n",
       "      <th>Age</th>\n",
       "      <th>Book-Rating</th>\n",
       "    </tr>\n",
       "  </thead>\n",
       "  <tbody>\n",
       "    <tr>\n",
       "      <th>Age</th>\n",
       "      <td>1.000000</td>\n",
       "      <td>-0.028238</td>\n",
       "    </tr>\n",
       "    <tr>\n",
       "      <th>Book-Rating</th>\n",
       "      <td>-0.028238</td>\n",
       "      <td>1.000000</td>\n",
       "    </tr>\n",
       "  </tbody>\n",
       "</table>\n",
       "</div>"
      ],
      "text/plain": [
       "                  Age  Book-Rating\n",
       "Age          1.000000    -0.028238\n",
       "Book-Rating -0.028238     1.000000"
      ]
     },
     "metadata": {},
     "output_type": "display_data"
    }
   ],
   "source": [
    "\n",
    "import matplotlib.pyplot as plt\n",
    "\n",
    "\n",
    "# Merge ratings with user ages\n",
    "age_ratings = pd.merge(\n",
    "    ratings_df[['User-ID', 'Book-Rating']],\n",
    "    users_df[['User-ID', 'Age']],\n",
    "    on='User-ID',\n",
    "    how='inner'\n",
    ")\n",
    "\n",
    "# Define age bins and labels\n",
    "age_bins = [0, 18, 30, 50, 100]\n",
    "age_labels = ['<18', '18–29', '30–49', '50+']\n",
    "\n",
    "# Create age group with an \"Unknown\" category\n",
    "users_df['Age_Group'] = pd.cut(users_df['Age'], bins=age_bins, labels=age_labels)\n",
    "users_df['Age_Group'] = users_df['Age_Group'].cat.add_categories('Unknown').fillna('Unknown')\n",
    "\n",
    "# Plot average rating by age group (excluding 'Unknown')\n",
    "age_ratings = pd.merge(\n",
    "    ratings_df[['User-ID', 'Book-Rating']],\n",
    "    users_df[['User-ID', 'Age_Group']],\n",
    "    on='User-ID',\n",
    "    how='inner'\n",
    ")\n",
    "\n",
    "\n",
    "age_ratings.groupby('Age_Group')['Book-Rating'].mean().plot(kind='bar', color='skyblue')\n",
    "plt.title('Average Rating by Age Group')\n",
    "plt.ylabel('Average Rating')\n",
    "plt.xlabel('Age Group')\n",
    "plt.xticks(rotation=0)\n",
    "plt.grid(axis='y')\n",
    "plt.show()\n",
    "\n",
    "# Correlation analysis on known ages\n",
    "age_ratings_corr = pd.merge(\n",
    "    ratings_df[['User-ID', 'Book-Rating']],\n",
    "    users_df[['User-ID', 'Age']],\n",
    "    on='User-ID',\n",
    "    how='inner'\n",
    ").dropna(subset=['Age'])\n",
    "\n",
    "print(f\"Available age-rating pairs: {len(age_ratings_corr):,}\")\n",
    "corr = age_ratings_corr[['Age', 'Book-Rating']].corr(method='pearson')\n",
    "print(\"Pearson Correlation Matrix:\")\n",
    "display(corr)\n"
   ]
  },
  {
   "cell_type": "markdown",
   "id": "c65b8a83",
   "metadata": {},
   "source": [
    "#### Age Data Handling Strategy\n",
    "\n",
    "- **Missing Age Values**: 110,762 out of 278,858 users (~39.7%) had missing ages.\n",
    "- **Concern regarding imputaion**: Imputation may introduce noise because of the following reasons:\n",
    "  1. A very weak correlation with ratings (r = -0.0282).\n",
    "  2. Introduction of imputation bias due to high no of NaNs.\n",
    "\n",
    "#### Stategy:\n",
    "To better support content-based and hybrid recommendation systems:\n",
    "\n",
    "- Age is **binned** into 4 discrete groups: `<18`, `18–29`, `30–49`, `50+`.\n",
    "- Users with missing ages are placed into a separate **'Unknown'** category.\n",
    "- This allows age to be retained as a categorical feature while avoiding noisy imputations.\n",
    "\n",
    "This strategy preserves potentially useful demographic signals without compromising data quality or model robustness.\n"
   ]
  },
  {
   "cell_type": "code",
   "execution_count": 62,
   "id": "18898d25",
   "metadata": {},
   "outputs": [
    {
     "data": {
      "text/plain": [
       "Index(['User-ID', 'Location', 'Age_Group'], dtype='object')"
      ]
     },
     "execution_count": 62,
     "metadata": {},
     "output_type": "execute_result"
    }
   ],
   "source": [
    "#drop column and verify\n",
    "users_df = users_df.drop(columns= ['Age'])\n",
    "users_df.columns"
   ]
  },
  {
   "cell_type": "markdown",
   "id": "2b5dbd08",
   "metadata": {},
   "source": [
    "### 3.1.2 Handling Duplicates"
   ]
  },
  {
   "cell_type": "markdown",
   "id": "5b42fca5",
   "metadata": {},
   "source": [
    "- For this we shall check dataframes individually since some have some unique identifiers\n",
    "#### `books_df`"
   ]
  },
  {
   "cell_type": "code",
   "execution_count": 63,
   "id": "6f6cc8d9",
   "metadata": {},
   "outputs": [
    {
     "data": {
      "text/plain": [
       "0"
      ]
     },
     "metadata": {},
     "output_type": "display_data"
    }
   ],
   "source": [
    "#check duplicates\n",
    "display(books_df['ISBN'].duplicated().sum())"
   ]
  },
  {
   "cell_type": "markdown",
   "id": "387f8c1a",
   "metadata": {},
   "source": [
    "- `books_df` has no duplicates\n",
    "#### `ratings_df`\n"
   ]
  },
  {
   "cell_type": "code",
   "execution_count": 64,
   "id": "e3673df2",
   "metadata": {},
   "outputs": [
    {
     "data": {
      "text/plain": [
       "0"
      ]
     },
     "metadata": {},
     "output_type": "display_data"
    }
   ],
   "source": [
    "#check duplicates\n",
    "display(ratings_df[['ISBN','User-ID']].duplicated().sum())"
   ]
  },
  {
   "cell_type": "markdown",
   "id": "8d107c86",
   "metadata": {},
   "source": [
    "- `ratings_df` has no duplicates either\n",
    "#### `users_df`\n"
   ]
  },
  {
   "cell_type": "code",
   "execution_count": 65,
   "id": "caab2c55",
   "metadata": {},
   "outputs": [
    {
     "data": {
      "text/plain": [
       "0"
      ]
     },
     "metadata": {},
     "output_type": "display_data"
    }
   ],
   "source": [
    "#check duplicates\n",
    "display(users_df['User-ID'].duplicated().sum())"
   ]
  },
  {
   "cell_type": "markdown",
   "id": "5f0ff8b1",
   "metadata": {},
   "source": [
    "- `users_df` has no duplicates either.\n",
    "- Thus, the datasets have no duplicates\n",
    "- Data Cleaning is complete, there is no need to check for outliers in this project since `Age`column has already been dropped."
   ]
  },
  {
   "cell_type": "markdown",
   "id": "8448048e",
   "metadata": {},
   "source": [
    "## 3.3 Dataset Merging"
   ]
  },
  {
   "cell_type": "markdown",
   "id": "4811cd43",
   "metadata": {},
   "source": [
    "### 3.3.1 Validating keys before merging\n",
    "- We shall check if the unique identifiers of `books_df` and `users_df` match those in `ratings_df`"
   ]
  },
  {
   "cell_type": "code",
   "execution_count": 66,
   "id": "041af5aa",
   "metadata": {},
   "outputs": [
    {
     "name": "stdout",
     "output_type": "stream",
     "text": [
      "Ratings with valid ISBNs: 89.68%\n",
      "Ratings with valid User-IDs: 100.00%\n"
     ]
    }
   ],
   "source": [
    "# Check ISBN consistency between books and ratings\n",
    "isbn_match = ratings_df['ISBN'].isin(books_df['ISBN']).mean() * 100\n",
    "print(f\"Ratings with valid ISBNs: {isbn_match:.2f}%\")\n",
    "\n",
    "# Check User-ID consistency between users and ratings\n",
    "user_match = ratings_df['User-ID'].isin(users_df['User-ID']).mean() * 100\n",
    "print(f\"Ratings with valid User-IDs: {user_match:.2f}%\")"
   ]
  },
  {
   "cell_type": "markdown",
   "id": "9af5b67b",
   "metadata": {},
   "source": [
    "### Data Consistency Summary\n",
    "\n",
    "- **Valid ISBNs in ratings**: 89.68%  \n",
    "~10% of ratings reference books not found in `books_df` (possibly due to typos, missing entries, or alternate ISBNs).  \n",
    "\n",
    "- **Valid User-IDs in ratings**: 100.00%  \n",
    "All ratings have matching users in `users_df`; user data is fully consistent.\n"
   ]
  },
  {
   "cell_type": "markdown",
   "id": "ed4ee2fa",
   "metadata": {},
   "source": [
    "### 3.3.2 Merge `ratings_df` with `books_df`"
   ]
  },
  {
   "cell_type": "code",
   "execution_count": 67,
   "id": "11f3eaf8",
   "metadata": {},
   "outputs": [
    {
     "name": "stdout",
     "output_type": "stream",
     "text": [
      "Merged ratings-books shape: (1149780, 7)\n",
      "Unmatched ratings: 118608\n"
     ]
    }
   ],
   "source": [
    "ratings_books = ratings_df.merge(\n",
    "    books_df[['ISBN', 'Book-Title', 'Book-Author', 'Publisher', 'Year-Of-Publication']],\n",
    "    on='ISBN',\n",
    "    how='left'\n",
    ")\n",
    "\n",
    "print(f\"Merged ratings-books shape: {ratings_books.shape}\")\n",
    "print(f\"Unmatched ratings: {ratings_books['Book-Title'].isna().sum()}\")"
   ]
  },
  {
   "cell_type": "markdown",
   "id": "6626c269",
   "metadata": {},
   "source": []
  },
  {
   "cell_type": "markdown",
   "id": "07225762",
   "metadata": {},
   "source": [
    "### 3.3.3 Merge `ratings_books` with `users_df`\n",
    "- This is done to get the info on location and age"
   ]
  },
  {
   "cell_type": "code",
   "execution_count": 68,
   "id": "703cdd24",
   "metadata": {},
   "outputs": [
    {
     "data": {
      "text/plain": [
       "Index(['User-ID', 'Location', 'Age_Group'], dtype='object')"
      ]
     },
     "execution_count": 68,
     "metadata": {},
     "output_type": "execute_result"
    }
   ],
   "source": [
    "users_df.columns"
   ]
  },
  {
   "cell_type": "code",
   "execution_count": 69,
   "id": "caec260b",
   "metadata": {},
   "outputs": [
    {
     "data": {
      "text/html": [
       "<div>\n",
       "<style scoped>\n",
       "    .dataframe tbody tr th:only-of-type {\n",
       "        vertical-align: middle;\n",
       "    }\n",
       "\n",
       "    .dataframe tbody tr th {\n",
       "        vertical-align: top;\n",
       "    }\n",
       "\n",
       "    .dataframe thead th {\n",
       "        text-align: right;\n",
       "    }\n",
       "</style>\n",
       "<table border=\"1\" class=\"dataframe\">\n",
       "  <thead>\n",
       "    <tr style=\"text-align: right;\">\n",
       "      <th></th>\n",
       "      <th>User-ID</th>\n",
       "      <th>ISBN</th>\n",
       "      <th>Book-Rating</th>\n",
       "      <th>Book-Title</th>\n",
       "      <th>Book-Author</th>\n",
       "      <th>Publisher</th>\n",
       "      <th>Year-Of-Publication</th>\n",
       "      <th>Location</th>\n",
       "      <th>Age_Group</th>\n",
       "    </tr>\n",
       "  </thead>\n",
       "  <tbody>\n",
       "    <tr>\n",
       "      <th>610520</th>\n",
       "      <td>147847</td>\n",
       "      <td>0307988082</td>\n",
       "      <td>5</td>\n",
       "      <td>The Special Sleepover (The Barbie)</td>\n",
       "      <td>FRANCINE HUGHES</td>\n",
       "      <td>Golden Books</td>\n",
       "      <td>2001.0</td>\n",
       "      <td>greenville, illinois, usa</td>\n",
       "      <td>Unknown</td>\n",
       "    </tr>\n",
       "    <tr>\n",
       "      <th>1099614</th>\n",
       "      <td>264082</td>\n",
       "      <td>0373825013</td>\n",
       "      <td>0</td>\n",
       "      <td>Whirlwind (Tyler, Book 1)</td>\n",
       "      <td>Nancy Martin</td>\n",
       "      <td>Harlequin</td>\n",
       "      <td>1992.0</td>\n",
       "      <td>irving, texas, usa</td>\n",
       "      <td>30–49</td>\n",
       "    </tr>\n",
       "    <tr>\n",
       "      <th>762135</th>\n",
       "      <td>184299</td>\n",
       "      <td>0941130150</td>\n",
       "      <td>0</td>\n",
       "      <td>The Compleat Clammer</td>\n",
       "      <td>Christopher R. Reaske</td>\n",
       "      <td>Smithmark Pub</td>\n",
       "      <td>1986.0</td>\n",
       "      <td>omaha, nebraska, usa</td>\n",
       "      <td>30–49</td>\n",
       "    </tr>\n",
       "    <tr>\n",
       "      <th>609625</th>\n",
       "      <td>147572</td>\n",
       "      <td>0553577239</td>\n",
       "      <td>10</td>\n",
       "      <td>The Bone Doll's Twin (Tamir Trilogy, Book 1)</td>\n",
       "      <td>Lynn Flewelling</td>\n",
       "      <td>Spectra Books</td>\n",
       "      <td>2001.0</td>\n",
       "      <td>charleston, south carolina, usa</td>\n",
       "      <td>18–29</td>\n",
       "    </tr>\n",
       "    <tr>\n",
       "      <th>1020282</th>\n",
       "      <td>244657</td>\n",
       "      <td>0385335881</td>\n",
       "      <td>8</td>\n",
       "      <td>Shopaholic Takes Manhattan (Summer Display Opp...</td>\n",
       "      <td>Sophie Kinsella</td>\n",
       "      <td>Delta</td>\n",
       "      <td>2002.0</td>\n",
       "      <td>chicago, illinois, usa</td>\n",
       "      <td>30–49</td>\n",
       "    </tr>\n",
       "    <tr>\n",
       "      <th>88045</th>\n",
       "      <td>19206</td>\n",
       "      <td>8881930625</td>\n",
       "      <td>0</td>\n",
       "      <td>NaN</td>\n",
       "      <td>NaN</td>\n",
       "      <td>NaN</td>\n",
       "      <td>NaN</td>\n",
       "      <td>villar dora (to), piemonte, italy</td>\n",
       "      <td>30–49</td>\n",
       "    </tr>\n",
       "    <tr>\n",
       "      <th>287357</th>\n",
       "      <td>68808</td>\n",
       "      <td>0399237232</td>\n",
       "      <td>10</td>\n",
       "      <td>Triss (Redwall, Book 15)</td>\n",
       "      <td>Brian Jacques</td>\n",
       "      <td>Philomel Books</td>\n",
       "      <td>2002.0</td>\n",
       "      <td>poway, california, usa</td>\n",
       "      <td>Unknown</td>\n",
       "    </tr>\n",
       "    <tr>\n",
       "      <th>707050</th>\n",
       "      <td>171638</td>\n",
       "      <td>0515136379</td>\n",
       "      <td>8</td>\n",
       "      <td>Key of Knowledge (Key Trilogy (Paperback))</td>\n",
       "      <td>Nora Roberts</td>\n",
       "      <td>Jove Books</td>\n",
       "      <td>2003.0</td>\n",
       "      <td>trout creek, montana, usa</td>\n",
       "      <td>30–49</td>\n",
       "    </tr>\n",
       "    <tr>\n",
       "      <th>1125445</th>\n",
       "      <td>269781</td>\n",
       "      <td>0380819570</td>\n",
       "      <td>5</td>\n",
       "      <td>Here and Now</td>\n",
       "      <td>Constance O'Day-Flannery</td>\n",
       "      <td>Avon</td>\n",
       "      <td>2001.0</td>\n",
       "      <td>tigard, oregon, usa</td>\n",
       "      <td>30–49</td>\n",
       "    </tr>\n",
       "    <tr>\n",
       "      <th>754760</th>\n",
       "      <td>182599</td>\n",
       "      <td>0446678457</td>\n",
       "      <td>0</td>\n",
       "      <td>Cane River (Oprah's Book Club (Paperback))</td>\n",
       "      <td>Lalita Tademy</td>\n",
       "      <td>Warner Books</td>\n",
       "      <td>2002.0</td>\n",
       "      <td>montréal, quebec, canada</td>\n",
       "      <td>30–49</td>\n",
       "    </tr>\n",
       "  </tbody>\n",
       "</table>\n",
       "</div>"
      ],
      "text/plain": [
       "         User-ID        ISBN  Book-Rating  \\\n",
       "610520    147847  0307988082            5   \n",
       "1099614   264082  0373825013            0   \n",
       "762135    184299  0941130150            0   \n",
       "609625    147572  0553577239           10   \n",
       "1020282   244657  0385335881            8   \n",
       "88045      19206  8881930625            0   \n",
       "287357     68808  0399237232           10   \n",
       "707050    171638  0515136379            8   \n",
       "1125445   269781  0380819570            5   \n",
       "754760    182599  0446678457            0   \n",
       "\n",
       "                                                Book-Title  \\\n",
       "610520                  The Special Sleepover (The Barbie)   \n",
       "1099614                          Whirlwind (Tyler, Book 1)   \n",
       "762135                                The Compleat Clammer   \n",
       "609625        The Bone Doll's Twin (Tamir Trilogy, Book 1)   \n",
       "1020282  Shopaholic Takes Manhattan (Summer Display Opp...   \n",
       "88045                                                  NaN   \n",
       "287357                            Triss (Redwall, Book 15)   \n",
       "707050          Key of Knowledge (Key Trilogy (Paperback))   \n",
       "1125445                                       Here and Now   \n",
       "754760          Cane River (Oprah's Book Club (Paperback))   \n",
       "\n",
       "                      Book-Author       Publisher  Year-Of-Publication  \\\n",
       "610520            FRANCINE HUGHES    Golden Books               2001.0   \n",
       "1099614              Nancy Martin       Harlequin               1992.0   \n",
       "762135      Christopher R. Reaske   Smithmark Pub               1986.0   \n",
       "609625            Lynn Flewelling   Spectra Books               2001.0   \n",
       "1020282           Sophie Kinsella           Delta               2002.0   \n",
       "88045                         NaN             NaN                  NaN   \n",
       "287357              Brian Jacques  Philomel Books               2002.0   \n",
       "707050               Nora Roberts      Jove Books               2003.0   \n",
       "1125445  Constance O'Day-Flannery            Avon               2001.0   \n",
       "754760              Lalita Tademy    Warner Books               2002.0   \n",
       "\n",
       "                                  Location Age_Group  \n",
       "610520           greenville, illinois, usa   Unknown  \n",
       "1099614                 irving, texas, usa     30–49  \n",
       "762135                omaha, nebraska, usa     30–49  \n",
       "609625     charleston, south carolina, usa     18–29  \n",
       "1020282             chicago, illinois, usa     30–49  \n",
       "88045    villar dora (to), piemonte, italy     30–49  \n",
       "287357              poway, california, usa   Unknown  \n",
       "707050           trout creek, montana, usa     30–49  \n",
       "1125445                tigard, oregon, usa     30–49  \n",
       "754760            montréal, quebec, canada     30–49  "
      ]
     },
     "execution_count": 69,
     "metadata": {},
     "output_type": "execute_result"
    }
   ],
   "source": [
    "merged_df = ratings_books.merge(\n",
    "    users_df[['User-ID', 'Location','Age_Group']],\n",
    "    on='User-ID',\n",
    "    how='left'\n",
    ")\n",
    "\n",
    "merged_df.sample(n=10)"
   ]
  },
  {
   "cell_type": "code",
   "execution_count": 70,
   "id": "22737341",
   "metadata": {},
   "outputs": [
    {
     "data": {
      "text/plain": [
       "118608"
      ]
     },
     "execution_count": 70,
     "metadata": {},
     "output_type": "execute_result"
    }
   ],
   "source": [
    "merged_df['Book-Title'].isna().sum()"
   ]
  },
  {
   "cell_type": "markdown",
   "id": "ca72bbfd",
   "metadata": {},
   "source": [
    "### Handling Missing Book Metadata\n",
    "\n",
    "- Approximately **10.31%** of the ratings (118,608 entries) have missing book metadata.\n",
    "- This arises because these ISBNs are present in `ratings_df` but not found in `books_df`.\n",
    "- Instead of dropping these records, we will retain all ratings since the ISBNs can be useful in **collaborative filtering** models.\n",
    "- To keep track of such cases, we will introduce a flag indicating whether metadata is missing for each entry.\n"
   ]
  },
  {
   "cell_type": "markdown",
   "id": "a82a4197",
   "metadata": {},
   "source": [
    "### 3.3.4 Feature Engineering\n",
    "#### 3.3.4.1 Introducing tag for metadata"
   ]
  },
  {
   "cell_type": "code",
   "execution_count": 71,
   "id": "a412817f",
   "metadata": {},
   "outputs": [
    {
     "data": {
      "text/plain": [
       "118608"
      ]
     },
     "execution_count": 71,
     "metadata": {},
     "output_type": "execute_result"
    }
   ],
   "source": [
    "merged_df['Book-Title'].isna().sum()"
   ]
  },
  {
   "cell_type": "code",
   "execution_count": 72,
   "id": "bb56c53f",
   "metadata": {},
   "outputs": [],
   "source": [
    "# Tag them for reference\n",
    "merged_df['Missing_Metadata'] = merged_df['Book-Title'].isna()"
   ]
  },
  {
   "cell_type": "code",
   "execution_count": 73,
   "id": "b91b53e2",
   "metadata": {},
   "outputs": [
    {
     "data": {
      "text/plain": [
       "118608"
      ]
     },
     "execution_count": 73,
     "metadata": {},
     "output_type": "execute_result"
    }
   ],
   "source": [
    "len(merged_df[merged_df['Book-Title'].isna()])\n"
   ]
  },
  {
   "cell_type": "markdown",
   "id": "8cce6068",
   "metadata": {},
   "source": [
    "#### 3.3.4.1 Introducing column for country and city\n",
    "- This will make it possible to observe trends in EDA phase"
   ]
  },
  {
   "cell_type": "code",
   "execution_count": 74,
   "id": "8eabdbec",
   "metadata": {},
   "outputs": [
    {
     "data": {
      "text/plain": [
       "Usa               768068\n",
       "Canada            103782\n",
       "United Kingdom     50593\n",
       "Unknown            41215\n",
       "Germany            39675\n",
       "Australia          26477\n",
       "Spain              25742\n",
       "France             13877\n",
       "Italy              12147\n",
       "Portugal           10518\n",
       "Name: Country, dtype: int64"
      ]
     },
     "metadata": {},
     "output_type": "display_data"
    },
    {
     "data": {
      "text/plain": [
       "California    110462\n",
       "Unknown        50005\n",
       "Ontario        46080\n",
       "Texas          45206\n",
       "Florida        35265\n",
       "Missouri       34057\n",
       "Washington     32643\n",
       "England        32483\n",
       "Illinois       31563\n",
       "New York       30738\n",
       "Name: City, dtype: int64"
      ]
     },
     "metadata": {},
     "output_type": "display_data"
    }
   ],
   "source": [
    "# Extract and clean country \n",
    "merged_df['Country'] = (\n",
    "    merged_df['Location']\n",
    "    .str.split(',')\n",
    "    .str[-1]\n",
    "    .str.strip()\n",
    "    .str.title()\n",
    "    .replace(['', 'N/A', 'Na', 'Null'], 'Unknown')\n",
    "    .fillna('Unknown') \n",
    ")\n",
    "\n",
    "# Extract and clean City (middle part)\n",
    "merged_df['City'] = (\n",
    "    merged_df['Location']\n",
    "    .str.split(',')\n",
    "    .str[1]\n",
    "    .str.strip()\n",
    "    .str.title()\n",
    "    .replace(['', 'N/A', 'Na', 'Null'], 'Unknown')\n",
    "    .fillna('Unknown')\n",
    ")\n",
    "#display top 10 countries\n",
    "display(merged_df['Country'].value_counts().head(10))\n",
    "\n",
    "#display top 10 cities\n",
    "display(merged_df['City'].value_counts().head(10))"
   ]
  },
  {
   "cell_type": "markdown",
   "id": "123069c5",
   "metadata": {},
   "source": [
    "- Display final merged dataset"
   ]
  },
  {
   "cell_type": "code",
   "execution_count": 75,
   "id": "a363c2aa",
   "metadata": {},
   "outputs": [
    {
     "data": {
      "text/html": [
       "<div>\n",
       "<style scoped>\n",
       "    .dataframe tbody tr th:only-of-type {\n",
       "        vertical-align: middle;\n",
       "    }\n",
       "\n",
       "    .dataframe tbody tr th {\n",
       "        vertical-align: top;\n",
       "    }\n",
       "\n",
       "    .dataframe thead th {\n",
       "        text-align: right;\n",
       "    }\n",
       "</style>\n",
       "<table border=\"1\" class=\"dataframe\">\n",
       "  <thead>\n",
       "    <tr style=\"text-align: right;\">\n",
       "      <th></th>\n",
       "      <th>User-ID</th>\n",
       "      <th>ISBN</th>\n",
       "      <th>Book-Rating</th>\n",
       "      <th>Book-Title</th>\n",
       "      <th>Book-Author</th>\n",
       "      <th>Publisher</th>\n",
       "      <th>Year-Of-Publication</th>\n",
       "      <th>Location</th>\n",
       "      <th>Age_Group</th>\n",
       "      <th>Missing_Metadata</th>\n",
       "      <th>Country</th>\n",
       "      <th>City</th>\n",
       "    </tr>\n",
       "  </thead>\n",
       "  <tbody>\n",
       "    <tr>\n",
       "      <th>178554</th>\n",
       "      <td>38781</td>\n",
       "      <td>0373259131</td>\n",
       "      <td>0</td>\n",
       "      <td>Otherwise Engaged (Harlequin Temptation, No 813)</td>\n",
       "      <td>Cara Summers</td>\n",
       "      <td>Harlequin</td>\n",
       "      <td>2001.0</td>\n",
       "      <td>kingsville, texas, usa</td>\n",
       "      <td>30–49</td>\n",
       "      <td>False</td>\n",
       "      <td>Usa</td>\n",
       "      <td>Texas</td>\n",
       "    </tr>\n",
       "    <tr>\n",
       "      <th>533905</th>\n",
       "      <td>128835</td>\n",
       "      <td>0811805905</td>\n",
       "      <td>8</td>\n",
       "      <td>All Smiles</td>\n",
       "      <td>Bruce Velick</td>\n",
       "      <td>Chronicle Books</td>\n",
       "      <td>1995.0</td>\n",
       "      <td>bellingham, washington, usa</td>\n",
       "      <td>50+</td>\n",
       "      <td>False</td>\n",
       "      <td>Usa</td>\n",
       "      <td>Washington</td>\n",
       "    </tr>\n",
       "    <tr>\n",
       "      <th>1091374</th>\n",
       "      <td>261829</td>\n",
       "      <td>037324486X</td>\n",
       "      <td>0</td>\n",
       "      <td>The Heart Beneath  (Morgan's Mercenaries:  Ult...</td>\n",
       "      <td>Lindsay Mckenna</td>\n",
       "      <td>Silhouette</td>\n",
       "      <td>2002.0</td>\n",
       "      <td>fpo, ap, usa</td>\n",
       "      <td>30–49</td>\n",
       "      <td>False</td>\n",
       "      <td>Usa</td>\n",
       "      <td>Ap</td>\n",
       "    </tr>\n",
       "    <tr>\n",
       "      <th>1036247</th>\n",
       "      <td>247747</td>\n",
       "      <td>0531303306</td>\n",
       "      <td>0</td>\n",
       "      <td>Have You Been to the Beach Lately?: Poems</td>\n",
       "      <td>Ralph J. Fletcher</td>\n",
       "      <td>Orchard Books (NY)</td>\n",
       "      <td>2001.0</td>\n",
       "      <td>portsmouth, ohio, usa</td>\n",
       "      <td>Unknown</td>\n",
       "      <td>False</td>\n",
       "      <td>Usa</td>\n",
       "      <td>Ohio</td>\n",
       "    </tr>\n",
       "    <tr>\n",
       "      <th>309523</th>\n",
       "      <td>74076</td>\n",
       "      <td>0316812404</td>\n",
       "      <td>0</td>\n",
       "      <td>Revolution from Within: A Book of Self-Esteem</td>\n",
       "      <td>Gloria Steinem</td>\n",
       "      <td>Little Brown &amp;amp; Co</td>\n",
       "      <td>1992.0</td>\n",
       "      <td>victoria, british columbia, canada</td>\n",
       "      <td>50+</td>\n",
       "      <td>False</td>\n",
       "      <td>Canada</td>\n",
       "      <td>British Columbia</td>\n",
       "    </tr>\n",
       "    <tr>\n",
       "      <th>130089</th>\n",
       "      <td>30273</td>\n",
       "      <td>0312072376</td>\n",
       "      <td>0</td>\n",
       "      <td>Little Ways to Say I Love You</td>\n",
       "      <td>Marjabelle Young Stewart</td>\n",
       "      <td>St. Martin's Press</td>\n",
       "      <td>1992.0</td>\n",
       "      <td>naples, florida, usa</td>\n",
       "      <td>18–29</td>\n",
       "      <td>False</td>\n",
       "      <td>Usa</td>\n",
       "      <td>Florida</td>\n",
       "    </tr>\n",
       "    <tr>\n",
       "      <th>60190</th>\n",
       "      <td>12110</td>\n",
       "      <td>0743431014</td>\n",
       "      <td>6</td>\n",
       "      <td>Songs of the Humpback Whale : A Novel in Five ...</td>\n",
       "      <td>Jodi Picoult</td>\n",
       "      <td>Washington Square Press</td>\n",
       "      <td>2001.0</td>\n",
       "      <td>dracut, massachusetts, usa</td>\n",
       "      <td>30–49</td>\n",
       "      <td>False</td>\n",
       "      <td>Usa</td>\n",
       "      <td>Massachusetts</td>\n",
       "    </tr>\n",
       "    <tr>\n",
       "      <th>785993</th>\n",
       "      <td>189973</td>\n",
       "      <td>0515129283</td>\n",
       "      <td>0</td>\n",
       "      <td>A Hitch in Time (Time Passages Romance Series)</td>\n",
       "      <td>Christine Holden</td>\n",
       "      <td>Jove Books</td>\n",
       "      <td>2000.0</td>\n",
       "      <td>pittsburgh, pennsylvania, usa</td>\n",
       "      <td>Unknown</td>\n",
       "      <td>False</td>\n",
       "      <td>Usa</td>\n",
       "      <td>Pennsylvania</td>\n",
       "    </tr>\n",
       "    <tr>\n",
       "      <th>66929</th>\n",
       "      <td>13690</td>\n",
       "      <td>8485224574</td>\n",
       "      <td>6</td>\n",
       "      <td>NaN</td>\n",
       "      <td>NaN</td>\n",
       "      <td>NaN</td>\n",
       "      <td>NaN</td>\n",
       "      <td>gijón, asturias, spain</td>\n",
       "      <td>50+</td>\n",
       "      <td>True</td>\n",
       "      <td>Spain</td>\n",
       "      <td>Asturias</td>\n",
       "    </tr>\n",
       "    <tr>\n",
       "      <th>405917</th>\n",
       "      <td>98391</td>\n",
       "      <td>006000181X</td>\n",
       "      <td>8</td>\n",
       "      <td>With Her Last Breath</td>\n",
       "      <td>Cait London</td>\n",
       "      <td>Avon</td>\n",
       "      <td>2003.0</td>\n",
       "      <td>morrow, georgia, usa</td>\n",
       "      <td>50+</td>\n",
       "      <td>False</td>\n",
       "      <td>Usa</td>\n",
       "      <td>Georgia</td>\n",
       "    </tr>\n",
       "  </tbody>\n",
       "</table>\n",
       "</div>"
      ],
      "text/plain": [
       "         User-ID        ISBN  Book-Rating  \\\n",
       "178554     38781  0373259131            0   \n",
       "533905    128835  0811805905            8   \n",
       "1091374   261829  037324486X            0   \n",
       "1036247   247747  0531303306            0   \n",
       "309523     74076  0316812404            0   \n",
       "130089     30273  0312072376            0   \n",
       "60190      12110  0743431014            6   \n",
       "785993    189973  0515129283            0   \n",
       "66929      13690  8485224574            6   \n",
       "405917     98391  006000181X            8   \n",
       "\n",
       "                                                Book-Title  \\\n",
       "178554    Otherwise Engaged (Harlequin Temptation, No 813)   \n",
       "533905                                          All Smiles   \n",
       "1091374  The Heart Beneath  (Morgan's Mercenaries:  Ult...   \n",
       "1036247          Have You Been to the Beach Lately?: Poems   \n",
       "309523       Revolution from Within: A Book of Self-Esteem   \n",
       "130089                       Little Ways to Say I Love You   \n",
       "60190    Songs of the Humpback Whale : A Novel in Five ...   \n",
       "785993      A Hitch in Time (Time Passages Romance Series)   \n",
       "66929                                                  NaN   \n",
       "405917                                With Her Last Breath   \n",
       "\n",
       "                      Book-Author                Publisher  \\\n",
       "178554               Cara Summers                Harlequin   \n",
       "533905               Bruce Velick          Chronicle Books   \n",
       "1091374           Lindsay Mckenna               Silhouette   \n",
       "1036247         Ralph J. Fletcher       Orchard Books (NY)   \n",
       "309523             Gloria Steinem    Little Brown &amp; Co   \n",
       "130089   Marjabelle Young Stewart       St. Martin's Press   \n",
       "60190                Jodi Picoult  Washington Square Press   \n",
       "785993           Christine Holden               Jove Books   \n",
       "66929                         NaN                      NaN   \n",
       "405917                Cait London                     Avon   \n",
       "\n",
       "         Year-Of-Publication                            Location Age_Group  \\\n",
       "178554                2001.0              kingsville, texas, usa     30–49   \n",
       "533905                1995.0         bellingham, washington, usa       50+   \n",
       "1091374               2002.0                        fpo, ap, usa     30–49   \n",
       "1036247               2001.0               portsmouth, ohio, usa   Unknown   \n",
       "309523                1992.0  victoria, british columbia, canada       50+   \n",
       "130089                1992.0                naples, florida, usa     18–29   \n",
       "60190                 2001.0          dracut, massachusetts, usa     30–49   \n",
       "785993                2000.0       pittsburgh, pennsylvania, usa   Unknown   \n",
       "66929                    NaN              gijón, asturias, spain       50+   \n",
       "405917                2003.0                morrow, georgia, usa       50+   \n",
       "\n",
       "         Missing_Metadata Country              City  \n",
       "178554              False     Usa             Texas  \n",
       "533905              False     Usa        Washington  \n",
       "1091374             False     Usa                Ap  \n",
       "1036247             False     Usa              Ohio  \n",
       "309523              False  Canada  British Columbia  \n",
       "130089              False     Usa           Florida  \n",
       "60190               False     Usa     Massachusetts  \n",
       "785993              False     Usa      Pennsylvania  \n",
       "66929                True   Spain          Asturias  \n",
       "405917              False     Usa           Georgia  "
      ]
     },
     "metadata": {},
     "output_type": "display_data"
    }
   ],
   "source": [
    "display(merged_df.sample(n= 10, random_state= 42))"
   ]
  },
  {
   "cell_type": "markdown",
   "id": "6d22e3d9",
   "metadata": {},
   "source": [
    "# 4. Exploratory Data Analysis  \n",
    "\n",
    "## Univariate Analysis"
   ]
  },
  {
   "cell_type": "code",
   "execution_count": null,
   "id": "91a87bc0",
   "metadata": {},
   "outputs": [
    {
     "data": {
      "image/png": "[encoded data removed]",
      "text/plain": [
       "<Figure size 576x360 with 1 Axes>"
      ]
     },
     "metadata": {},
     "output_type": "display_data"
    },
    {
     "data": {
      "image/png": "[encoded data removed]",
      "text/plain": [
       "<Figure size 576x360 with 1 Axes>"
      ]
     },
     "metadata": {},
     "output_type": "display_data"
    },
    {
     "data": {
      "image/png": "[encoded data removed]",
      "text/plain": [
       "<Figure size 432x360 with 1 Axes>"
      ]
     },
     "metadata": {},
     "output_type": "display_data"
    },
    {
     "data": {
      "image/png": "[encoded data removed]",
      "text/plain": [
       "<Figure size 720x432 with 1 Axes>"
      ]
     },
     "metadata": {},
     "output_type": "display_data"
    }
   ],
   "source": [
    "import seaborn as sns\n",
    "import matplotlib.pyplot as plt\n",
    "\n",
    "# Set theme\n",
    "sns.set_theme(style=\"whitegrid\", font_scale=1.1)\n",
    "cool_blues = ['#0f172a', '#1e3a8a', '#3b82f6', '#60a5fa', '#93c5fd']\n",
    "sns.set_palette(cool_blues)\n",
    "\n",
    "# 1. Rating Distribution\n",
    "plt.figure(figsize=(8, 5))\n",
    "sns.histplot(merged_df['Book-Rating'], bins=11, kde=True, color=cool_blues[2])\n",
    "plt.title(\"Book Rating Distribution\", fontsize=14)\n",
    "plt.xlabel(\"Rating\", fontsize=12)\n",
    "plt.ylabel(\"Count\", fontsize=12)\n",
    "plt.tight_layout()\n",
    "plt.show()\n",
    "\n",
    "# 2. Age Group Distribution\n",
    "plt.figure(figsize=(8, 5))\n",
    "age_order = ['<18', '18–29', '30–49', '50+', 'Unknown'] if 'Unknown' in merged_df['Age_Group'].unique() else merged_df['Age_Group'].value_counts().index\n",
    "sns.countplot(x='Age_Group', data=merged_df, order=age_order, palette=cool_blues)\n",
    "plt.title(\"User Age Group Distribution\", fontsize=14)\n",
    "plt.xlabel(\"Age Group\", fontsize=12)\n",
    "plt.ylabel(\"User Count\", fontsize=12)\n",
    "plt.tight_layout()\n",
    "plt.show()\n",
    "\n",
    "# 3. Missing Metadata Flag\n",
    "plt.figure(figsize=(6, 5))\n",
    "sns.countplot(x='Missing_Metadata', data=merged_df, palette=[cool_blues[1], cool_blues[3]])\n",
    "plt.title(\"Presence of Missing Metadata\", fontsize=14)\n",
    "plt.xlabel(\"Metadata Missing\", fontsize=12)\n",
    "plt.ylabel(\"Number of Entries\", fontsize=12)\n",
    "plt.tight_layout()\n",
    "plt.show()\n",
    "\n",
    "# 4. Top 10 Countries by Rating Volume\n",
    "plt.figure(figsize=(10, 6))\n",
    "top_countries = merged_df['Country'].value_counts().head(10)\n",
    "sns.barplot(x=top_countries.values, y=top_countries.index, palette=cool_blues)\n",
    "plt.title(\"Top 10 Countries by Rating Volume\", fontsize=14)\n",
    "plt.xlabel(\"Number of Ratings\", fontsize=12)\n",
    "plt.ylabel(\"Country\", fontsize=12)\n",
    "plt.tight_layout()\n",
    "plt.show()\n",
    "\n",
    "\n"
   ]
  },
  {
   "cell_type": "markdown",
   "id": "1cf921c6",
   "metadata": {},
   "source": []
  },
  {
   "cell_type": "code",
   "execution_count": null,
   "id": "d41cce95",
   "metadata": {},
   "outputs": [],
   "source": []
  }
 ],
 "metadata": {
  "kernelspec": {
   "display_name": "learn-env",
   "language": "python",
   "name": "python3"
  },
  "language_info": {
   "codemirror_mode": {
    "name": "ipython",
    "version": 3
   },
   "file_extension": ".py",
   "mimetype": "text/x-python",
   "name": "python",
   "nbconvert_exporter": "python",
   "pygments_lexer": "ipython3",
   "version": "3.8.5"
  }
 },
 "nbformat": 4,
 "nbformat_minor": 5
}
