{
 "cells": [
  {
   "cell_type": "markdown",
   "id": "1c20a1c9",
   "metadata": {},
   "source": [
    "# <img src=\"../leo_ipynb_title_icon.jpeg\" alt=\"Logo\" style=\"height: 2em; vertical-align: middle;\"/>Online Book Recommender System\n"
   ]
  },
  {
   "cell_type": "markdown",
   "id": "27b492eb",
   "metadata": {},
   "source": [
    "\n",
    "# 1. Business Understanding  \n",
    "---\n",
    "\n",
    "## 1.1 Introduction  \n",
    "The **Online Book Recommender System** aims to personalize user experiences by suggesting relevant books based on their preferences and behavior. With the growing volume of books available online, users often face **choice overload**, leading to decreased engagement.  \n",
    "\n",
    "**Key Goals**:  \n",
    "- Improve user retention and engagement.  \n",
    "- Increase cross-selling/up-selling opportunities.  \n",
    "- Solve the \"cold-start\" problem for new users/books.  \n",
    "\n",
    "**Approach**:  \n",
    "- **Collaborative Filtering**: Leverage user-book interactions (e.g., ratings).  \n",
    "- **Content-Based Filtering**: Use book metadata (genre, author, descriptions).  \n",
    "- **Hybrid Model**: Combine both for more accurate recommendations.  \n",
    "\n",
    "---\n",
    "\n",
    "## 1.2 Problem Statement  \n",
    "**Core Objective**:  \n",
    "> *\"Build a ML system that recommends books to users based on their past behavior and book features, while addressing data sparsity and cold-start challenges.\"*  \n",
    "\n",
    "**Challenges**:  \n",
    "1. **Data Sparsity**: Most users rate very few books.  \n",
    "\n",
    "2. **Cold Start**: No historical data for new users/books.  \n",
    "3. **Diversity**: Avoiding over-specialization in recommendations.  \n",
    "\n",
    "**Success Metrics**:  \n",
    "- **Model**: RMSE (rating prediction), Precision@K (top-K recs).  \n",
    "- **Business**: Increased CTR, reduced bounce rates.  \n",
    "\n",
    "---\n",
    "\n",
    "## 1.3 Key Stakeholders  \n",
    "| Stakeholder          | Interest/Impact                                                                 |  \n",
    "|----------------------|---------------------------------------------------------------------------------|  \n",
    "| **End Users**        | Personalized book discoveries, better engagement.                               |  \n",
    "| **Platform**         | Higher sales, improved retention (e.g., Amazon/Goodreads).                      |  \n",
    "| **Publishers**       | Increased visibility for niche books.                                            |  \n",
    "| **Data Team**        | Scalable models with measurable business impact.                                 |  \n",
    "\n",
    "---\n",
    "\n"
   ]
  },
  {
   "cell_type": "markdown",
   "id": "b2efbe58",
   "metadata": {},
   "source": [
    "# 2. Data Understanding  \n",
    "---\n",
    "## 2.1. File Overview\n",
    "We have 3 dataframes for this project namely `books_df.csv`, `ratings_df.csv` and `user_df.csv`\n",
    "\n",
    "## 2.2 Load Data"
   ]
  },
  {
   "cell_type": "code",
   "execution_count": 1,
   "id": "4ab27aa5",
   "metadata": {},
   "outputs": [],
   "source": [
    "import pandas as pd\n",
    "\n",
    "# Read books data\n",
    "books_df = pd.read_csv(\n",
    "    '../books_df.csv',\n",
    "    sep=';',\n",
    "    encoding='latin1',\n",
    "    quotechar='\"',     # Handles fields enclosed in double quotes\n",
    "    escapechar='\\\\'    # Handles escaped quotes inside those fields (e.g. \\\" )\n",
    ")\n",
    "\n",
    "# Read ratings data\n",
    "ratings_df = pd.read_csv('../ratings_df.csv', sep=';', encoding='latin1')  # encoding to fix UnicodeDecodeError\n",
    "\n",
    "# Read users data\n",
    "users_df = pd.read_csv('../user_df.csv', sep=';', encoding='latin1')  # encoding to fix UnicodeDecodeError\n"
   ]
  },
  {
   "cell_type": "markdown",
   "id": "8d319a34",
   "metadata": {},
   "source": [
    "## 2.3 Data Inspection"
   ]
  },
  {
   "cell_type": "code",
   "execution_count": 2,
   "id": "a27a82e2",
   "metadata": {},
   "outputs": [
    {
     "data": {
      "text/html": [
       "<div>\n",
       "<style scoped>\n",
       "    .dataframe tbody tr th:only-of-type {\n",
       "        vertical-align: middle;\n",
       "    }\n",
       "\n",
       "    .dataframe tbody tr th {\n",
       "        vertical-align: top;\n",
       "    }\n",
       "\n",
       "    .dataframe thead th {\n",
       "        text-align: right;\n",
       "    }\n",
       "</style>\n",
       "<table border=\"1\" class=\"dataframe\">\n",
       "  <thead>\n",
       "    <tr style=\"text-align: right;\">\n",
       "      <th></th>\n",
       "      <th>ISBN</th>\n",
       "      <th>Book-Title</th>\n",
       "      <th>Book-Author</th>\n",
       "      <th>Year-Of-Publication</th>\n",
       "      <th>Publisher</th>\n",
       "      <th>Image-URL-S</th>\n",
       "      <th>Image-URL-M</th>\n",
       "      <th>Image-URL-L</th>\n",
       "    </tr>\n",
       "  </thead>\n",
       "  <tbody>\n",
       "    <tr>\n",
       "      <th>0</th>\n",
       "      <td>0195153448</td>\n",
       "      <td>Classical Mythology</td>\n",
       "      <td>Mark P. O. Morford</td>\n",
       "      <td>2002</td>\n",
       "      <td>Oxford University Press</td>\n",
       "      <td>http://images.amazon.com/images/P/0195153448.0...</td>\n",
       "      <td>http://images.amazon.com/images/P/0195153448.0...</td>\n",
       "      <td>http://images.amazon.com/images/P/0195153448.0...</td>\n",
       "    </tr>\n",
       "    <tr>\n",
       "      <th>1</th>\n",
       "      <td>0002005018</td>\n",
       "      <td>Clara Callan</td>\n",
       "      <td>Richard Bruce Wright</td>\n",
       "      <td>2001</td>\n",
       "      <td>HarperFlamingo Canada</td>\n",
       "      <td>http://images.amazon.com/images/P/0002005018.0...</td>\n",
       "      <td>http://images.amazon.com/images/P/0002005018.0...</td>\n",
       "      <td>http://images.amazon.com/images/P/0002005018.0...</td>\n",
       "    </tr>\n",
       "  </tbody>\n",
       "</table>\n",
       "</div>"
      ],
      "text/plain": [
       "         ISBN           Book-Title           Book-Author  Year-Of-Publication  \\\n",
       "0  0195153448  Classical Mythology    Mark P. O. Morford                 2002   \n",
       "1  0002005018         Clara Callan  Richard Bruce Wright                 2001   \n",
       "\n",
       "                 Publisher                                        Image-URL-S  \\\n",
       "0  Oxford University Press  http://images.amazon.com/images/P/0195153448.0...   \n",
       "1    HarperFlamingo Canada  http://images.amazon.com/images/P/0002005018.0...   \n",
       "\n",
       "                                         Image-URL-M  \\\n",
       "0  http://images.amazon.com/images/P/0195153448.0...   \n",
       "1  http://images.amazon.com/images/P/0002005018.0...   \n",
       "\n",
       "                                         Image-URL-L  \n",
       "0  http://images.amazon.com/images/P/0195153448.0...  \n",
       "1  http://images.amazon.com/images/P/0002005018.0...  "
      ]
     },
     "metadata": {},
     "output_type": "display_data"
    },
    {
     "name": "stdout",
     "output_type": "stream",
     "text": [
      "<class 'pandas.core.frame.DataFrame'>\n",
      "RangeIndex: 271379 entries, 0 to 271378\n",
      "Data columns (total 8 columns):\n",
      " #   Column               Non-Null Count   Dtype \n",
      "---  ------               --------------   ----- \n",
      " 0   ISBN                 271379 non-null  object\n",
      " 1   Book-Title           271379 non-null  object\n",
      " 2   Book-Author          271378 non-null  object\n",
      " 3   Year-Of-Publication  271379 non-null  int64 \n",
      " 4   Publisher            271377 non-null  object\n",
      " 5   Image-URL-S          271379 non-null  object\n",
      " 6   Image-URL-M          271379 non-null  object\n",
      " 7   Image-URL-L          271379 non-null  object\n",
      "dtypes: int64(1), object(7)\n",
      "memory usage: 16.6+ MB\n"
     ]
    }
   ],
   "source": [
    "display(books_df.head(2))\n",
    "books_df.info()"
   ]
  },
  {
   "cell_type": "markdown",
   "id": "17e98205",
   "metadata": {},
   "source": [
    "- This dataframe contains info on the movies"
   ]
  },
  {
   "cell_type": "code",
   "execution_count": 3,
   "id": "3614bf77",
   "metadata": {},
   "outputs": [
    {
     "data": {
      "text/html": [
       "<div>\n",
       "<style scoped>\n",
       "    .dataframe tbody tr th:only-of-type {\n",
       "        vertical-align: middle;\n",
       "    }\n",
       "\n",
       "    .dataframe tbody tr th {\n",
       "        vertical-align: top;\n",
       "    }\n",
       "\n",
       "    .dataframe thead th {\n",
       "        text-align: right;\n",
       "    }\n",
       "</style>\n",
       "<table border=\"1\" class=\"dataframe\">\n",
       "  <thead>\n",
       "    <tr style=\"text-align: right;\">\n",
       "      <th></th>\n",
       "      <th>User-ID</th>\n",
       "      <th>ISBN</th>\n",
       "      <th>Book-Rating</th>\n",
       "    </tr>\n",
       "  </thead>\n",
       "  <tbody>\n",
       "    <tr>\n",
       "      <th>0</th>\n",
       "      <td>276725</td>\n",
       "      <td>034545104X</td>\n",
       "      <td>0</td>\n",
       "    </tr>\n",
       "    <tr>\n",
       "      <th>1</th>\n",
       "      <td>276726</td>\n",
       "      <td>0155061224</td>\n",
       "      <td>5</td>\n",
       "    </tr>\n",
       "  </tbody>\n",
       "</table>\n",
       "</div>"
      ],
      "text/plain": [
       "   User-ID        ISBN  Book-Rating\n",
       "0   276725  034545104X            0\n",
       "1   276726  0155061224            5"
      ]
     },
     "metadata": {},
     "output_type": "display_data"
    },
    {
     "name": "stdout",
     "output_type": "stream",
     "text": [
      "<class 'pandas.core.frame.DataFrame'>\n",
      "RangeIndex: 1149780 entries, 0 to 1149779\n",
      "Data columns (total 3 columns):\n",
      " #   Column       Non-Null Count    Dtype \n",
      "---  ------       --------------    ----- \n",
      " 0   User-ID      1149780 non-null  int64 \n",
      " 1   ISBN         1149780 non-null  object\n",
      " 2   Book-Rating  1149780 non-null  int64 \n",
      "dtypes: int64(2), object(1)\n",
      "memory usage: 26.3+ MB\n"
     ]
    }
   ],
   "source": [
    "display(ratings_df.head(2))\n",
    "ratings_df.info()"
   ]
  },
  {
   "cell_type": "markdown",
   "id": "b7a0e7a4",
   "metadata": {},
   "source": [
    "- This dataframes contains info on how different users rated different books"
   ]
  },
  {
   "cell_type": "code",
   "execution_count": 4,
   "id": "d7e1a451",
   "metadata": {},
   "outputs": [
    {
     "data": {
      "text/html": [
       "<div>\n",
       "<style scoped>\n",
       "    .dataframe tbody tr th:only-of-type {\n",
       "        vertical-align: middle;\n",
       "    }\n",
       "\n",
       "    .dataframe tbody tr th {\n",
       "        vertical-align: top;\n",
       "    }\n",
       "\n",
       "    .dataframe thead th {\n",
       "        text-align: right;\n",
       "    }\n",
       "</style>\n",
       "<table border=\"1\" class=\"dataframe\">\n",
       "  <thead>\n",
       "    <tr style=\"text-align: right;\">\n",
       "      <th></th>\n",
       "      <th>User-ID</th>\n",
       "      <th>Location</th>\n",
       "      <th>Age</th>\n",
       "    </tr>\n",
       "  </thead>\n",
       "  <tbody>\n",
       "    <tr>\n",
       "      <th>0</th>\n",
       "      <td>1</td>\n",
       "      <td>nyc, new york, usa</td>\n",
       "      <td>NaN</td>\n",
       "    </tr>\n",
       "    <tr>\n",
       "      <th>1</th>\n",
       "      <td>2</td>\n",
       "      <td>stockton, california, usa</td>\n",
       "      <td>18.0</td>\n",
       "    </tr>\n",
       "  </tbody>\n",
       "</table>\n",
       "</div>"
      ],
      "text/plain": [
       "   User-ID                   Location   Age\n",
       "0        1         nyc, new york, usa   NaN\n",
       "1        2  stockton, california, usa  18.0"
      ]
     },
     "metadata": {},
     "output_type": "display_data"
    },
    {
     "name": "stdout",
     "output_type": "stream",
     "text": [
      "<class 'pandas.core.frame.DataFrame'>\n",
      "RangeIndex: 278858 entries, 0 to 278857\n",
      "Data columns (total 3 columns):\n",
      " #   Column    Non-Null Count   Dtype  \n",
      "---  ------    --------------   -----  \n",
      " 0   User-ID   278858 non-null  int64  \n",
      " 1   Location  278858 non-null  object \n",
      " 2   Age       168096 non-null  float64\n",
      "dtypes: float64(1), int64(1), object(1)\n",
      "memory usage: 6.4+ MB\n"
     ]
    }
   ],
   "source": [
    "display(users_df.head(2))\n",
    "users_df.info()"
   ]
  },
  {
   "cell_type": "markdown",
   "id": "37cdc902",
   "metadata": {},
   "source": [
    "- This dataframes contains info on different users"
   ]
  },
  {
   "cell_type": "markdown",
   "id": "9c5a9569",
   "metadata": {},
   "source": [
    "## 2.4 Dataset Features Description\n",
    "\n",
    "### Books Dataset (`books_df`)\n",
    "**Records**: 271,379 books | **Features**: 8\n",
    "\n",
    "| Feature | Description |\n",
    "|---------|-------------|\n",
    "| ISBN | International Standard Book Number (unique identifier) |\n",
    "| Book-Title | Complete title of the book including subtitles |\n",
    "| Book-Author | Author(s) of the book |\n",
    "| Year-Of-Publication | Original publication year of the edition |\n",
    "| Publisher | Company/organization that published the book |\n",
    "| Image-URL-S | URL for small thumbnail cover image |\n",
    "| Image-URL-M | URL for medium-sized cover image |\n",
    "| Image-URL-L | URL for large/high-resolution cover image |\n",
    "\n",
    "---\n",
    "\n",
    "### Ratings Dataset (`ratings_df`)  \n",
    "**Records**: 1,149,780 ratings | **Features**: 3\n",
    "\n",
    "| Feature | Description |\n",
    "|---------|-------------|\n",
    "| User-ID | Anonymous unique identifier of the rating user |\n",
    "| ISBN | Book identifier (matches books_df) |\n",
    "| Book-Rating | Numerical rating given by user (scale to be verified) |\n",
    "\n",
    "---\n",
    "\n",
    "### Users Dataset (`users_df`)  \n",
    "**Records**: 278,858 users | **Features**: 3\n",
    "\n",
    "| Feature | Description |\n",
    "|---------|-------------|\n",
    "| User-ID | Unique identifier (matches ratings_df) |\n",
    "| Location | Free-text location description (e.g., \"New York, NY, USA\") |\n",
    "| Age | Self-reported age in years |"
   ]
  },
  {
   "cell_type": "markdown",
   "id": "0f1ff727",
   "metadata": {},
   "source": [
    "\n"
   ]
  },
  {
   "cell_type": "markdown",
   "id": "4410ad8c",
   "metadata": {},
   "source": [
    "## 3.1 Data Cleaning\n",
    "\n",
    "### 3.1.1 Handling Missing Values"
   ]
  },
  {
   "cell_type": "code",
   "execution_count": 5,
   "id": "f1f580ea",
   "metadata": {},
   "outputs": [],
   "source": [
    "# initialize list of dfs\n",
    "df_list =[books_df, ratings_df, users_df]"
   ]
  },
  {
   "cell_type": "code",
   "execution_count": 6,
   "id": "05f647ed",
   "metadata": {},
   "outputs": [
    {
     "data": {
      "text/plain": [
       "ISBN                   0\n",
       "Book-Title             0\n",
       "Book-Author            1\n",
       "Year-Of-Publication    0\n",
       "Publisher              2\n",
       "Image-URL-S            0\n",
       "Image-URL-M            0\n",
       "Image-URL-L            0\n",
       "dtype: int64"
      ]
     },
     "metadata": {},
     "output_type": "display_data"
    },
    {
     "data": {
      "text/plain": [
       "User-ID        0\n",
       "ISBN           0\n",
       "Book-Rating    0\n",
       "dtype: int64"
      ]
     },
     "metadata": {},
     "output_type": "display_data"
    },
    {
     "data": {
      "text/plain": [
       "User-ID          0\n",
       "Location         0\n",
       "Age         110762\n",
       "dtype: int64"
      ]
     },
     "metadata": {},
     "output_type": "display_data"
    }
   ],
   "source": [
    "#check missing values\n",
    "for df in df_list:\n",
    "    display(df.isna().sum())\n"
   ]
  },
  {
   "cell_type": "markdown",
   "id": "04300cd6",
   "metadata": {},
   "source": [
    "- In **`books_df`** missing values represent  **0.0011055 %** of the data which is not statistically significant hence we shall drop rows with these missing values and represent a very small fraction of thes data with over 271,000 books.\n",
    "- In **`users_df`** missing values in the `age` column represent **39.7198574 %** of the data. This is statistically significant. Before imputing/dropping the column we shall check whether there is a correlation between age and ratings\n",
    "\n",
    "#### 3.1.1.1 Dropping missing values in `books_df`"
   ]
  },
  {
   "cell_type": "code",
   "execution_count": 7,
   "id": "a7d86a38",
   "metadata": {},
   "outputs": [
    {
     "data": {
      "text/plain": [
       "ISBN                   0\n",
       "Book-Title             0\n",
       "Book-Author            0\n",
       "Year-Of-Publication    0\n",
       "Publisher              0\n",
       "Image-URL-S            0\n",
       "Image-URL-M            0\n",
       "Image-URL-L            0\n",
       "dtype: int64"
      ]
     },
     "metadata": {},
     "output_type": "display_data"
    },
    {
     "data": {
      "text/plain": [
       "(271376, 8)"
      ]
     },
     "metadata": {},
     "output_type": "display_data"
    }
   ],
   "source": [
    "# Drop missing values\n",
    "books_df =books_df.dropna()\n",
    "\n",
    "# verify drop\n",
    "display(books_df.isna().sum())\n",
    "display(books_df.shape)"
   ]
  },
  {
   "cell_type": "markdown",
   "id": "ebe944b4",
   "metadata": {},
   "source": [
    "#### 3.1.1.2 Handling missing values in `age` column, `users_df`"
   ]
  },
  {
   "cell_type": "code",
   "execution_count": 8,
   "id": "974929a8",
   "metadata": {},
   "outputs": [
    {
     "data": {
      "image/png": "[encoded data removed]",
      "text/plain": [
       "<Figure size 432x288 with 1 Axes>"
      ]
     },
     "metadata": {
      "needs_background": "light"
     },
     "output_type": "display_data"
    },
    {
     "name": "stdout",
     "output_type": "stream",
     "text": [
      "Available age-rating pairs: 840,288\n",
      "Pearson Correlation Matrix:\n"
     ]
    },
    {
     "data": {
      "text/html": [
       "<div>\n",
       "<style scoped>\n",
       "    .dataframe tbody tr th:only-of-type {\n",
       "        vertical-align: middle;\n",
       "    }\n",
       "\n",
       "    .dataframe tbody tr th {\n",
       "        vertical-align: top;\n",
       "    }\n",
       "\n",
       "    .dataframe thead th {\n",
       "        text-align: right;\n",
       "    }\n",
       "</style>\n",
       "<table border=\"1\" class=\"dataframe\">\n",
       "  <thead>\n",
       "    <tr style=\"text-align: right;\">\n",
       "      <th></th>\n",
       "      <th>Age</th>\n",
       "      <th>Book-Rating</th>\n",
       "    </tr>\n",
       "  </thead>\n",
       "  <tbody>\n",
       "    <tr>\n",
       "      <th>Age</th>\n",
       "      <td>1.000000</td>\n",
       "      <td>-0.028238</td>\n",
       "    </tr>\n",
       "    <tr>\n",
       "      <th>Book-Rating</th>\n",
       "      <td>-0.028238</td>\n",
       "      <td>1.000000</td>\n",
       "    </tr>\n",
       "  </tbody>\n",
       "</table>\n",
       "</div>"
      ],
      "text/plain": [
       "                  Age  Book-Rating\n",
       "Age          1.000000    -0.028238\n",
       "Book-Rating -0.028238     1.000000"
      ]
     },
     "metadata": {},
     "output_type": "display_data"
    }
   ],
   "source": [
    "\n",
    "import matplotlib.pyplot as plt\n",
    "\n",
    "\n",
    "# Merge ratings with user ages\n",
    "age_ratings = pd.merge(\n",
    "    ratings_df[['User-ID', 'Book-Rating']],\n",
    "    users_df[['User-ID', 'Age']],\n",
    "    on='User-ID',\n",
    "    how='inner'\n",
    ")\n",
    "\n",
    "# Define age bins and labels\n",
    "age_bins = [0, 18, 30, 50, 100]\n",
    "age_labels = ['<18', '18–29', '30–49', '50+']\n",
    "\n",
    "# Create age group with an \"Unknown\" category\n",
    "users_df['Age_Group'] = pd.cut(users_df['Age'], bins=age_bins, labels=age_labels)\n",
    "users_df['Age_Group'] = users_df['Age_Group'].cat.add_categories('Unknown').fillna('Unknown')\n",
    "\n",
    "# Plot average rating by age group (excluding 'Unknown')\n",
    "age_ratings = pd.merge(\n",
    "    ratings_df[['User-ID', 'Book-Rating']],\n",
    "    users_df[['User-ID', 'Age_Group']],\n",
    "    on='User-ID',\n",
    "    how='inner'\n",
    ")\n",
    "\n",
    "\n",
    "age_ratings.groupby('Age_Group')['Book-Rating'].mean().plot(kind='bar', color='skyblue')\n",
    "plt.title('Average Rating by Age Group')\n",
    "plt.ylabel('Average Rating')\n",
    "plt.xlabel('Age Group')\n",
    "plt.xticks(rotation=0)\n",
    "plt.grid(axis='y')\n",
    "plt.show()\n",
    "\n",
    "# Correlation analysis on known ages\n",
    "age_ratings_corr = pd.merge(\n",
    "    ratings_df[['User-ID', 'Book-Rating']],\n",
    "    users_df[['User-ID', 'Age']],\n",
    "    on='User-ID',\n",
    "    how='inner'\n",
    ").dropna(subset=['Age'])\n",
    "\n",
    "print(f\"Available age-rating pairs: {len(age_ratings_corr):,}\")\n",
    "corr = age_ratings_corr[['Age', 'Book-Rating']].corr(method='pearson')\n",
    "print(\"Pearson Correlation Matrix:\")\n",
    "display(corr)\n"
   ]
  },
  {
   "cell_type": "markdown",
   "id": "c65b8a83",
   "metadata": {},
   "source": [
    "#### Age Data Handling Strategy\n",
    "\n",
    "- **Missing Age Values**: 110,762 out of 278,858 users (~39.7%) had missing ages.\n",
    "- **Concern regarding imputaion**: Imputation may introduce noise because of the following reasons:\n",
    "  1. A very weak correlation with ratings (r = -0.0282).\n",
    "  2. Introduction of imputation bias due to high no of NaNs.\n",
    "\n",
    "#### Stategy:\n",
    "To better support content-based and hybrid recommendation systems:\n",
    "\n",
    "- Age is **binned** into 4 discrete groups: `<18`, `18–29`, `30–49`, `50+`.\n",
    "- Users with missing ages are placed into a separate **'Unknown'** category.\n",
    "- This allows age to be retained as a categorical feature while avoiding noisy imputations.\n",
    "\n",
    "This strategy preserves potentially useful demographic signals without compromising data quality or model robustness.\n"
   ]
  },
  {
   "cell_type": "code",
   "execution_count": 9,
   "id": "18898d25",
   "metadata": {},
   "outputs": [
    {
     "data": {
      "text/plain": [
       "Index(['User-ID', 'Location', 'Age_Group'], dtype='object')"
      ]
     },
     "execution_count": 9,
     "metadata": {},
     "output_type": "execute_result"
    }
   ],
   "source": [
    "#drop column and verify\n",
    "users_df = users_df.drop(columns= ['Age'])\n",
    "users_df.columns"
   ]
  },
  {
   "cell_type": "markdown",
   "id": "2b5dbd08",
   "metadata": {},
   "source": [
    "### 3.1.2 Handling Duplicates"
   ]
  },
  {
   "cell_type": "markdown",
   "id": "5b42fca5",
   "metadata": {},
   "source": [
    "- For this we shall check dataframes individually since some have some unique identifiers\n",
    "#### `books_df`"
   ]
  },
  {
   "cell_type": "code",
   "execution_count": 10,
   "id": "6f6cc8d9",
   "metadata": {},
   "outputs": [
    {
     "data": {
      "text/plain": [
       "0"
      ]
     },
     "metadata": {},
     "output_type": "display_data"
    }
   ],
   "source": [
    "#check duplicates\n",
    "display(books_df['ISBN'].duplicated().sum())"
   ]
  },
  {
   "cell_type": "markdown",
   "id": "387f8c1a",
   "metadata": {},
   "source": [
    "- `books_df` has no duplicates\n",
    "#### `ratings_df`\n"
   ]
  },
  {
   "cell_type": "code",
   "execution_count": 11,
   "id": "e3673df2",
   "metadata": {},
   "outputs": [
    {
     "data": {
      "text/plain": [
       "0"
      ]
     },
     "metadata": {},
     "output_type": "display_data"
    }
   ],
   "source": [
    "#check duplicates\n",
    "display(ratings_df[['ISBN','User-ID']].duplicated().sum())"
   ]
  },
  {
   "cell_type": "markdown",
   "id": "8d107c86",
   "metadata": {},
   "source": [
    "- `ratings_df` has no duplicates either\n",
    "#### `users_df`\n"
   ]
  },
  {
   "cell_type": "code",
   "execution_count": 12,
   "id": "caab2c55",
   "metadata": {},
   "outputs": [
    {
     "data": {
      "text/plain": [
       "0"
      ]
     },
     "metadata": {},
     "output_type": "display_data"
    }
   ],
   "source": [
    "#check duplicates\n",
    "display(users_df['User-ID'].duplicated().sum())"
   ]
  },
  {
   "cell_type": "markdown",
   "id": "5f0ff8b1",
   "metadata": {},
   "source": [
    "- `users_df` has no duplicates either.\n",
    "- Thus, the datasets have no duplicates\n",
    "- Data Cleaning is complete, there is no need to check for outliers in this project since `Age`column has already been dropped."
   ]
  },
  {
   "cell_type": "markdown",
   "id": "8448048e",
   "metadata": {},
   "source": [
    "## 3.3 Dataset Merging"
   ]
  },
  {
   "cell_type": "markdown",
   "id": "4811cd43",
   "metadata": {},
   "source": [
    "### 3.3.1 Validating keys before merging\n",
    "- We shall check if the unique identifiers of `books_df` and `users_df` match those in `ratings_df`"
   ]
  },
  {
   "cell_type": "code",
   "execution_count": 13,
   "id": "041af5aa",
   "metadata": {},
   "outputs": [
    {
     "name": "stdout",
     "output_type": "stream",
     "text": [
      "Ratings with valid ISBNs: 89.68%\n",
      "Ratings with valid User-IDs: 100.00%\n"
     ]
    }
   ],
   "source": [
    "# Check ISBN consistency between books and ratings\n",
    "isbn_match = ratings_df['ISBN'].isin(books_df['ISBN']).mean() * 100\n",
    "print(f\"Ratings with valid ISBNs: {isbn_match:.2f}%\")\n",
    "\n",
    "# Check User-ID consistency between users and ratings\n",
    "user_match = ratings_df['User-ID'].isin(users_df['User-ID']).mean() * 100\n",
    "print(f\"Ratings with valid User-IDs: {user_match:.2f}%\")"
   ]
  },
  {
   "cell_type": "markdown",
   "id": "9af5b67b",
   "metadata": {},
   "source": [
    "### Data Consistency Summary\n",
    "\n",
    "- **Valid ISBNs in ratings**: 89.68%  \n",
    "~10% of ratings reference books not found in `books_df` (possibly due to typos, missing entries, or alternate ISBNs).  \n",
    "\n",
    "- **Valid User-IDs in ratings**: 100.00%  \n",
    "All ratings have matching users in `users_df`; user data is fully consistent.\n"
   ]
  },
  {
   "cell_type": "markdown",
   "id": "ed4ee2fa",
   "metadata": {},
   "source": [
    "### 3.3.2 Merge `ratings_df` with `books_df`"
   ]
  },
  {
   "cell_type": "code",
   "execution_count": 14,
   "id": "11f3eaf8",
   "metadata": {},
   "outputs": [
    {
     "name": "stdout",
     "output_type": "stream",
     "text": [
      "Merged ratings-books shape: (1149780, 7)\n",
      "Unmatched ratings: 118608\n"
     ]
    }
   ],
   "source": [
    "ratings_books = ratings_df.merge(\n",
    "    books_df[['ISBN', 'Book-Title', 'Book-Author', 'Publisher', 'Year-Of-Publication']],\n",
    "    on='ISBN',\n",
    "    how='left'\n",
    ")\n",
    "\n",
    "print(f\"Merged ratings-books shape: {ratings_books.shape}\")\n",
    "print(f\"Unmatched ratings: {ratings_books['Book-Title'].isna().sum()}\")"
   ]
  },
  {
   "cell_type": "markdown",
   "id": "6626c269",
   "metadata": {},
   "source": []
  },
  {
   "cell_type": "markdown",
   "id": "07225762",
   "metadata": {},
   "source": [
    "### 3.3.3 Merge `ratings_books` with `users_df`\n",
    "- This is done to get the info on location and age"
   ]
  },
  {
   "cell_type": "code",
   "execution_count": 15,
   "id": "703cdd24",
   "metadata": {},
   "outputs": [
    {
     "data": {
      "text/plain": [
       "Index(['User-ID', 'Location', 'Age_Group'], dtype='object')"
      ]
     },
     "execution_count": 15,
     "metadata": {},
     "output_type": "execute_result"
    }
   ],
   "source": [
    "users_df.columns"
   ]
  },
  {
   "cell_type": "code",
   "execution_count": 16,
   "id": "caec260b",
   "metadata": {},
   "outputs": [
    {
     "data": {
      "text/html": [
       "<div>\n",
       "<style scoped>\n",
       "    .dataframe tbody tr th:only-of-type {\n",
       "        vertical-align: middle;\n",
       "    }\n",
       "\n",
       "    .dataframe tbody tr th {\n",
       "        vertical-align: top;\n",
       "    }\n",
       "\n",
       "    .dataframe thead th {\n",
       "        text-align: right;\n",
       "    }\n",
       "</style>\n",
       "<table border=\"1\" class=\"dataframe\">\n",
       "  <thead>\n",
       "    <tr style=\"text-align: right;\">\n",
       "      <th></th>\n",
       "      <th>User-ID</th>\n",
       "      <th>ISBN</th>\n",
       "      <th>Book-Rating</th>\n",
       "      <th>Book-Title</th>\n",
       "      <th>Book-Author</th>\n",
       "      <th>Publisher</th>\n",
       "      <th>Year-Of-Publication</th>\n",
       "      <th>Location</th>\n",
       "      <th>Age_Group</th>\n",
       "    </tr>\n",
       "  </thead>\n",
       "  <tbody>\n",
       "    <tr>\n",
       "      <th>255144</th>\n",
       "      <td>58964</td>\n",
       "      <td>0446610542</td>\n",
       "      <td>5</td>\n",
       "      <td>The Bachelor (Warner Books Contemporary Romance)</td>\n",
       "      <td>Carly Phillips</td>\n",
       "      <td>Warner Forever</td>\n",
       "      <td>2002.0</td>\n",
       "      <td>sterling, illinois, usa</td>\n",
       "      <td>Unknown</td>\n",
       "    </tr>\n",
       "    <tr>\n",
       "      <th>395548</th>\n",
       "      <td>95359</td>\n",
       "      <td>0064400980</td>\n",
       "      <td>10</td>\n",
       "      <td>Betsy and Tacy Go Downtown (Betsy-Tacy)</td>\n",
       "      <td>Maud Hart Lovelace</td>\n",
       "      <td>HarperTrophy</td>\n",
       "      <td>2000.0</td>\n",
       "      <td>charleston, west virginia, usa</td>\n",
       "      <td>30–49</td>\n",
       "    </tr>\n",
       "    <tr>\n",
       "      <th>109385</th>\n",
       "      <td>25311</td>\n",
       "      <td>0140126562</td>\n",
       "      <td>0</td>\n",
       "      <td>Gracie: A Love Story</td>\n",
       "      <td>George Burns</td>\n",
       "      <td>Penguin USA</td>\n",
       "      <td>1989.0</td>\n",
       "      <td>durham, north carolina, usa</td>\n",
       "      <td>Unknown</td>\n",
       "    </tr>\n",
       "    <tr>\n",
       "      <th>1017853</th>\n",
       "      <td>243947</td>\n",
       "      <td>0696001306</td>\n",
       "      <td>0</td>\n",
       "      <td>Meat  (Better Homes and Gardens Cookbook Series)</td>\n",
       "      <td>Better Homes and Gardens Test Kitchen</td>\n",
       "      <td>Meredith Corp</td>\n",
       "      <td>1977.0</td>\n",
       "      <td>costa mesa, california, usa</td>\n",
       "      <td>30–49</td>\n",
       "    </tr>\n",
       "    <tr>\n",
       "      <th>436878</th>\n",
       "      <td>104636</td>\n",
       "      <td>0061013412</td>\n",
       "      <td>0</td>\n",
       "      <td>Orchid Beach (Holly Barker Novels (Paperback))</td>\n",
       "      <td>Stuart Woods</td>\n",
       "      <td>HarperTorch</td>\n",
       "      <td>1999.0</td>\n",
       "      <td>youngstown, ohio, usa</td>\n",
       "      <td>Unknown</td>\n",
       "    </tr>\n",
       "    <tr>\n",
       "      <th>961907</th>\n",
       "      <td>232131</td>\n",
       "      <td>0515132136</td>\n",
       "      <td>0</td>\n",
       "      <td>The Jury</td>\n",
       "      <td>Steve Martini</td>\n",
       "      <td>Jove Books</td>\n",
       "      <td>2002.0</td>\n",
       "      <td>oakland, california, usa</td>\n",
       "      <td>Unknown</td>\n",
       "    </tr>\n",
       "    <tr>\n",
       "      <th>281934</th>\n",
       "      <td>67079</td>\n",
       "      <td>0952030039</td>\n",
       "      <td>10</td>\n",
       "      <td>Cigar Box of Tricks</td>\n",
       "      <td>Shaun Clark</td>\n",
       "      <td>Circustuff</td>\n",
       "      <td>1994.0</td>\n",
       "      <td>london, england, united kingdom</td>\n",
       "      <td>30–49</td>\n",
       "    </tr>\n",
       "    <tr>\n",
       "      <th>928570</th>\n",
       "      <td>225763</td>\n",
       "      <td>0801978890</td>\n",
       "      <td>0</td>\n",
       "      <td>Speed-Cut Quilts (Creative Machine Arts Series)</td>\n",
       "      <td>Donna Poster</td>\n",
       "      <td>Krause Pubns Inc</td>\n",
       "      <td>1989.0</td>\n",
       "      <td>san francisco, california, usa</td>\n",
       "      <td>Unknown</td>\n",
       "    </tr>\n",
       "    <tr>\n",
       "      <th>345359</th>\n",
       "      <td>82497</td>\n",
       "      <td>0446612383</td>\n",
       "      <td>8</td>\n",
       "      <td>NaN</td>\n",
       "      <td>NaN</td>\n",
       "      <td>NaN</td>\n",
       "      <td>NaN</td>\n",
       "      <td>yulee, florida, usa</td>\n",
       "      <td>30–49</td>\n",
       "    </tr>\n",
       "    <tr>\n",
       "      <th>801014</th>\n",
       "      <td>194600</td>\n",
       "      <td>0671526723</td>\n",
       "      <td>7</td>\n",
       "      <td>Audrey Hepburns Neck</td>\n",
       "      <td>Alan Brown</td>\n",
       "      <td>Pocket</td>\n",
       "      <td>1997.0</td>\n",
       "      <td>toronto, ontario, canada</td>\n",
       "      <td>50+</td>\n",
       "    </tr>\n",
       "  </tbody>\n",
       "</table>\n",
       "</div>"
      ],
      "text/plain": [
       "         User-ID        ISBN  Book-Rating  \\\n",
       "255144     58964  0446610542            5   \n",
       "395548     95359  0064400980           10   \n",
       "109385     25311  0140126562            0   \n",
       "1017853   243947  0696001306            0   \n",
       "436878    104636  0061013412            0   \n",
       "961907    232131  0515132136            0   \n",
       "281934     67079  0952030039           10   \n",
       "928570    225763  0801978890            0   \n",
       "345359     82497  0446612383            8   \n",
       "801014    194600  0671526723            7   \n",
       "\n",
       "                                               Book-Title  \\\n",
       "255144   The Bachelor (Warner Books Contemporary Romance)   \n",
       "395548            Betsy and Tacy Go Downtown (Betsy-Tacy)   \n",
       "109385                               Gracie: A Love Story   \n",
       "1017853  Meat  (Better Homes and Gardens Cookbook Series)   \n",
       "436878     Orchid Beach (Holly Barker Novels (Paperback))   \n",
       "961907                                           The Jury   \n",
       "281934                                Cigar Box of Tricks   \n",
       "928570    Speed-Cut Quilts (Creative Machine Arts Series)   \n",
       "345359                                                NaN   \n",
       "801014                               Audrey Hepburns Neck   \n",
       "\n",
       "                                   Book-Author         Publisher  \\\n",
       "255144                          Carly Phillips    Warner Forever   \n",
       "395548                      Maud Hart Lovelace      HarperTrophy   \n",
       "109385                            George Burns       Penguin USA   \n",
       "1017853  Better Homes and Gardens Test Kitchen     Meredith Corp   \n",
       "436878                            Stuart Woods       HarperTorch   \n",
       "961907                           Steve Martini        Jove Books   \n",
       "281934                             Shaun Clark        Circustuff   \n",
       "928570                            Donna Poster  Krause Pubns Inc   \n",
       "345359                                     NaN               NaN   \n",
       "801014                              Alan Brown            Pocket   \n",
       "\n",
       "         Year-Of-Publication                         Location Age_Group  \n",
       "255144                2002.0          sterling, illinois, usa   Unknown  \n",
       "395548                2000.0   charleston, west virginia, usa     30–49  \n",
       "109385                1989.0      durham, north carolina, usa   Unknown  \n",
       "1017853               1977.0      costa mesa, california, usa     30–49  \n",
       "436878                1999.0            youngstown, ohio, usa   Unknown  \n",
       "961907                2002.0         oakland, california, usa   Unknown  \n",
       "281934                1994.0  london, england, united kingdom     30–49  \n",
       "928570                1989.0   san francisco, california, usa   Unknown  \n",
       "345359                   NaN              yulee, florida, usa     30–49  \n",
       "801014                1997.0         toronto, ontario, canada       50+  "
      ]
     },
     "execution_count": 16,
     "metadata": {},
     "output_type": "execute_result"
    }
   ],
   "source": [
    "merged_df = ratings_books.merge(\n",
    "    users_df[['User-ID', 'Location','Age_Group']],\n",
    "    on='User-ID',\n",
    "    how='left'\n",
    ")\n",
    "\n",
    "merged_df.sample(n=10)"
   ]
  },
  {
   "cell_type": "code",
   "execution_count": 17,
   "id": "22737341",
   "metadata": {},
   "outputs": [
    {
     "data": {
      "text/plain": [
       "118608"
      ]
     },
     "execution_count": 17,
     "metadata": {},
     "output_type": "execute_result"
    }
   ],
   "source": [
    "merged_df['Book-Title'].isna().sum()"
   ]
  },
  {
   "cell_type": "markdown",
   "id": "ca72bbfd",
   "metadata": {},
   "source": [
    "### Handling Missing Book Metadata\n",
    "\n",
    "- Approximately **10.31%** of the ratings (118,608 entries) have missing book metadata.\n",
    "- This arises because these ISBNs are present in `ratings_df` but not found in `books_df`.\n",
    "- Instead of dropping these records, we will retain all ratings since the ISBNs can be useful in **collaborative filtering** models.\n",
    "- To keep track of such cases, we will introduce a flag indicating whether metadata is missing for each entry.\n"
   ]
  },
  {
   "cell_type": "markdown",
   "id": "a82a4197",
   "metadata": {},
   "source": [
    "### 3.3.4 Feature Engineering\n",
    "#### 3.3.4.1 Introducing tag for metadata"
   ]
  },
  {
   "cell_type": "code",
   "execution_count": 18,
   "id": "a412817f",
   "metadata": {},
   "outputs": [
    {
     "data": {
      "text/plain": [
       "118608"
      ]
     },
     "execution_count": 18,
     "metadata": {},
     "output_type": "execute_result"
    }
   ],
   "source": [
    "merged_df['Book-Title'].isna().sum()"
   ]
  },
  {
   "cell_type": "code",
   "execution_count": 19,
   "id": "bb56c53f",
   "metadata": {},
   "outputs": [],
   "source": [
    "# Tag them for reference\n",
    "merged_df['Missing_Metadata'] = merged_df['Book-Title'].isna()"
   ]
  },
  {
   "cell_type": "code",
   "execution_count": 20,
   "id": "b91b53e2",
   "metadata": {},
   "outputs": [
    {
     "data": {
      "text/plain": [
       "118608"
      ]
     },
     "execution_count": 20,
     "metadata": {},
     "output_type": "execute_result"
    }
   ],
   "source": [
    "len(merged_df[merged_df['Book-Title'].isna()])\n"
   ]
  },
  {
   "cell_type": "markdown",
   "id": "8cce6068",
   "metadata": {},
   "source": [
    "#### 3.3.4.1 Introducing column for country and city\n",
    "- This will make it possible to observe trends in EDA phase"
   ]
  },
  {
   "cell_type": "code",
   "execution_count": 21,
   "id": "8eabdbec",
   "metadata": {},
   "outputs": [
    {
     "data": {
      "text/plain": [
       "Usa               768068\n",
       "Canada            103782\n",
       "United Kingdom     50593\n",
       "Unknown            41215\n",
       "Germany            39675\n",
       "Australia          26477\n",
       "Spain              25742\n",
       "France             13877\n",
       "Italy              12147\n",
       "Portugal           10518\n",
       "Name: Country, dtype: int64"
      ]
     },
     "metadata": {},
     "output_type": "display_data"
    },
    {
     "data": {
      "text/plain": [
       "California    110462\n",
       "Unknown        50005\n",
       "Ontario        46080\n",
       "Texas          45206\n",
       "Florida        35265\n",
       "Missouri       34057\n",
       "Washington     32643\n",
       "England        32483\n",
       "Illinois       31563\n",
       "New York       30738\n",
       "Name: City, dtype: int64"
      ]
     },
     "metadata": {},
     "output_type": "display_data"
    }
   ],
   "source": [
    "# Extract and clean country \n",
    "merged_df['Country'] = (\n",
    "    merged_df['Location']\n",
    "    .str.split(',')\n",
    "    .str[-1]\n",
    "    .str.strip()\n",
    "    .str.title()\n",
    "    .replace(['', 'N/A', 'Na', 'Null'], 'Unknown')\n",
    "    .fillna('Unknown') \n",
    ")\n",
    "\n",
    "# Extract and clean City (middle part)\n",
    "merged_df['City'] = (\n",
    "    merged_df['Location']\n",
    "    .str.split(',')\n",
    "    .str[1]\n",
    "    .str.strip()\n",
    "    .str.title()\n",
    "    .replace(['', 'N/A', 'Na', 'Null'], 'Unknown')\n",
    "    .fillna('Unknown')\n",
    ")\n",
    "#display top 10 countries\n",
    "display(merged_df['Country'].value_counts().head(10))\n",
    "\n",
    "#display top 10 cities\n",
    "display(merged_df['City'].value_counts().head(10))"
   ]
  },
  {
   "cell_type": "markdown",
   "id": "123069c5",
   "metadata": {},
   "source": [
    "- Display final merged dataset"
   ]
  },
  {
   "cell_type": "code",
   "execution_count": 22,
   "id": "a363c2aa",
   "metadata": {},
   "outputs": [
    {
     "data": {
      "text/html": [
       "<div>\n",
       "<style scoped>\n",
       "    .dataframe tbody tr th:only-of-type {\n",
       "        vertical-align: middle;\n",
       "    }\n",
       "\n",
       "    .dataframe tbody tr th {\n",
       "        vertical-align: top;\n",
       "    }\n",
       "\n",
       "    .dataframe thead th {\n",
       "        text-align: right;\n",
       "    }\n",
       "</style>\n",
       "<table border=\"1\" class=\"dataframe\">\n",
       "  <thead>\n",
       "    <tr style=\"text-align: right;\">\n",
       "      <th></th>\n",
       "      <th>User-ID</th>\n",
       "      <th>ISBN</th>\n",
       "      <th>Book-Rating</th>\n",
       "      <th>Book-Title</th>\n",
       "      <th>Book-Author</th>\n",
       "      <th>Publisher</th>\n",
       "      <th>Year-Of-Publication</th>\n",
       "      <th>Location</th>\n",
       "      <th>Age_Group</th>\n",
       "      <th>Missing_Metadata</th>\n",
       "      <th>Country</th>\n",
       "      <th>City</th>\n",
       "    </tr>\n",
       "  </thead>\n",
       "  <tbody>\n",
       "    <tr>\n",
       "      <th>178554</th>\n",
       "      <td>38781</td>\n",
       "      <td>0373259131</td>\n",
       "      <td>0</td>\n",
       "      <td>Otherwise Engaged (Harlequin Temptation, No 813)</td>\n",
       "      <td>Cara Summers</td>\n",
       "      <td>Harlequin</td>\n",
       "      <td>2001.0</td>\n",
       "      <td>kingsville, texas, usa</td>\n",
       "      <td>30–49</td>\n",
       "      <td>False</td>\n",
       "      <td>Usa</td>\n",
       "      <td>Texas</td>\n",
       "    </tr>\n",
       "    <tr>\n",
       "      <th>533905</th>\n",
       "      <td>128835</td>\n",
       "      <td>0811805905</td>\n",
       "      <td>8</td>\n",
       "      <td>All Smiles</td>\n",
       "      <td>Bruce Velick</td>\n",
       "      <td>Chronicle Books</td>\n",
       "      <td>1995.0</td>\n",
       "      <td>bellingham, washington, usa</td>\n",
       "      <td>50+</td>\n",
       "      <td>False</td>\n",
       "      <td>Usa</td>\n",
       "      <td>Washington</td>\n",
       "    </tr>\n",
       "    <tr>\n",
       "      <th>1091374</th>\n",
       "      <td>261829</td>\n",
       "      <td>037324486X</td>\n",
       "      <td>0</td>\n",
       "      <td>The Heart Beneath  (Morgan's Mercenaries:  Ult...</td>\n",
       "      <td>Lindsay Mckenna</td>\n",
       "      <td>Silhouette</td>\n",
       "      <td>2002.0</td>\n",
       "      <td>fpo, ap, usa</td>\n",
       "      <td>30–49</td>\n",
       "      <td>False</td>\n",
       "      <td>Usa</td>\n",
       "      <td>Ap</td>\n",
       "    </tr>\n",
       "    <tr>\n",
       "      <th>1036247</th>\n",
       "      <td>247747</td>\n",
       "      <td>0531303306</td>\n",
       "      <td>0</td>\n",
       "      <td>Have You Been to the Beach Lately?: Poems</td>\n",
       "      <td>Ralph J. Fletcher</td>\n",
       "      <td>Orchard Books (NY)</td>\n",
       "      <td>2001.0</td>\n",
       "      <td>portsmouth, ohio, usa</td>\n",
       "      <td>Unknown</td>\n",
       "      <td>False</td>\n",
       "      <td>Usa</td>\n",
       "      <td>Ohio</td>\n",
       "    </tr>\n",
       "    <tr>\n",
       "      <th>309523</th>\n",
       "      <td>74076</td>\n",
       "      <td>0316812404</td>\n",
       "      <td>0</td>\n",
       "      <td>Revolution from Within: A Book of Self-Esteem</td>\n",
       "      <td>Gloria Steinem</td>\n",
       "      <td>Little Brown &amp;amp; Co</td>\n",
       "      <td>1992.0</td>\n",
       "      <td>victoria, british columbia, canada</td>\n",
       "      <td>50+</td>\n",
       "      <td>False</td>\n",
       "      <td>Canada</td>\n",
       "      <td>British Columbia</td>\n",
       "    </tr>\n",
       "    <tr>\n",
       "      <th>130089</th>\n",
       "      <td>30273</td>\n",
       "      <td>0312072376</td>\n",
       "      <td>0</td>\n",
       "      <td>Little Ways to Say I Love You</td>\n",
       "      <td>Marjabelle Young Stewart</td>\n",
       "      <td>St. Martin's Press</td>\n",
       "      <td>1992.0</td>\n",
       "      <td>naples, florida, usa</td>\n",
       "      <td>18–29</td>\n",
       "      <td>False</td>\n",
       "      <td>Usa</td>\n",
       "      <td>Florida</td>\n",
       "    </tr>\n",
       "    <tr>\n",
       "      <th>60190</th>\n",
       "      <td>12110</td>\n",
       "      <td>0743431014</td>\n",
       "      <td>6</td>\n",
       "      <td>Songs of the Humpback Whale : A Novel in Five ...</td>\n",
       "      <td>Jodi Picoult</td>\n",
       "      <td>Washington Square Press</td>\n",
       "      <td>2001.0</td>\n",
       "      <td>dracut, massachusetts, usa</td>\n",
       "      <td>30–49</td>\n",
       "      <td>False</td>\n",
       "      <td>Usa</td>\n",
       "      <td>Massachusetts</td>\n",
       "    </tr>\n",
       "    <tr>\n",
       "      <th>785993</th>\n",
       "      <td>189973</td>\n",
       "      <td>0515129283</td>\n",
       "      <td>0</td>\n",
       "      <td>A Hitch in Time (Time Passages Romance Series)</td>\n",
       "      <td>Christine Holden</td>\n",
       "      <td>Jove Books</td>\n",
       "      <td>2000.0</td>\n",
       "      <td>pittsburgh, pennsylvania, usa</td>\n",
       "      <td>Unknown</td>\n",
       "      <td>False</td>\n",
       "      <td>Usa</td>\n",
       "      <td>Pennsylvania</td>\n",
       "    </tr>\n",
       "    <tr>\n",
       "      <th>66929</th>\n",
       "      <td>13690</td>\n",
       "      <td>8485224574</td>\n",
       "      <td>6</td>\n",
       "      <td>NaN</td>\n",
       "      <td>NaN</td>\n",
       "      <td>NaN</td>\n",
       "      <td>NaN</td>\n",
       "      <td>gijón, asturias, spain</td>\n",
       "      <td>50+</td>\n",
       "      <td>True</td>\n",
       "      <td>Spain</td>\n",
       "      <td>Asturias</td>\n",
       "    </tr>\n",
       "    <tr>\n",
       "      <th>405917</th>\n",
       "      <td>98391</td>\n",
       "      <td>006000181X</td>\n",
       "      <td>8</td>\n",
       "      <td>With Her Last Breath</td>\n",
       "      <td>Cait London</td>\n",
       "      <td>Avon</td>\n",
       "      <td>2003.0</td>\n",
       "      <td>morrow, georgia, usa</td>\n",
       "      <td>50+</td>\n",
       "      <td>False</td>\n",
       "      <td>Usa</td>\n",
       "      <td>Georgia</td>\n",
       "    </tr>\n",
       "  </tbody>\n",
       "</table>\n",
       "</div>"
      ],
      "text/plain": [
       "         User-ID        ISBN  Book-Rating  \\\n",
       "178554     38781  0373259131            0   \n",
       "533905    128835  0811805905            8   \n",
       "1091374   261829  037324486X            0   \n",
       "1036247   247747  0531303306            0   \n",
       "309523     74076  0316812404            0   \n",
       "130089     30273  0312072376            0   \n",
       "60190      12110  0743431014            6   \n",
       "785993    189973  0515129283            0   \n",
       "66929      13690  8485224574            6   \n",
       "405917     98391  006000181X            8   \n",
       "\n",
       "                                                Book-Title  \\\n",
       "178554    Otherwise Engaged (Harlequin Temptation, No 813)   \n",
       "533905                                          All Smiles   \n",
       "1091374  The Heart Beneath  (Morgan's Mercenaries:  Ult...   \n",
       "1036247          Have You Been to the Beach Lately?: Poems   \n",
       "309523       Revolution from Within: A Book of Self-Esteem   \n",
       "130089                       Little Ways to Say I Love You   \n",
       "60190    Songs of the Humpback Whale : A Novel in Five ...   \n",
       "785993      A Hitch in Time (Time Passages Romance Series)   \n",
       "66929                                                  NaN   \n",
       "405917                                With Her Last Breath   \n",
       "\n",
       "                      Book-Author                Publisher  \\\n",
       "178554               Cara Summers                Harlequin   \n",
       "533905               Bruce Velick          Chronicle Books   \n",
       "1091374           Lindsay Mckenna               Silhouette   \n",
       "1036247         Ralph J. Fletcher       Orchard Books (NY)   \n",
       "309523             Gloria Steinem    Little Brown &amp; Co   \n",
       "130089   Marjabelle Young Stewart       St. Martin's Press   \n",
       "60190                Jodi Picoult  Washington Square Press   \n",
       "785993           Christine Holden               Jove Books   \n",
       "66929                         NaN                      NaN   \n",
       "405917                Cait London                     Avon   \n",
       "\n",
       "         Year-Of-Publication                            Location Age_Group  \\\n",
       "178554                2001.0              kingsville, texas, usa     30–49   \n",
       "533905                1995.0         bellingham, washington, usa       50+   \n",
       "1091374               2002.0                        fpo, ap, usa     30–49   \n",
       "1036247               2001.0               portsmouth, ohio, usa   Unknown   \n",
       "309523                1992.0  victoria, british columbia, canada       50+   \n",
       "130089                1992.0                naples, florida, usa     18–29   \n",
       "60190                 2001.0          dracut, massachusetts, usa     30–49   \n",
       "785993                2000.0       pittsburgh, pennsylvania, usa   Unknown   \n",
       "66929                    NaN              gijón, asturias, spain       50+   \n",
       "405917                2003.0                morrow, georgia, usa       50+   \n",
       "\n",
       "         Missing_Metadata Country              City  \n",
       "178554              False     Usa             Texas  \n",
       "533905              False     Usa        Washington  \n",
       "1091374             False     Usa                Ap  \n",
       "1036247             False     Usa              Ohio  \n",
       "309523              False  Canada  British Columbia  \n",
       "130089              False     Usa           Florida  \n",
       "60190               False     Usa     Massachusetts  \n",
       "785993              False     Usa      Pennsylvania  \n",
       "66929                True   Spain          Asturias  \n",
       "405917              False     Usa           Georgia  "
      ]
     },
     "metadata": {},
     "output_type": "display_data"
    }
   ],
   "source": [
    "display(merged_df.sample(n= 10, random_state= 42))"
   ]
  },
  {
   "cell_type": "markdown",
   "id": "6d22e3d9",
   "metadata": {},
   "source": [
    "# 4. Exploratory Data Analysis  \n",
    "\n",
    "## 4.1 Univariate Analysis"
   ]
  },
  {
   "cell_type": "code",
   "execution_count": 23,
   "id": "91a87bc0",
   "metadata": {},
   "outputs": [
    {
     "data": {
      "image/png": "[encoded data removed]",
      "text/plain": [
       "<Figure size 576x360 with 1 Axes>"
      ]
     },
     "metadata": {},
     "output_type": "display_data"
    },
    {
     "data": {
      "image/png": "[encoded data removed]",
      "text/plain": [
       "<Figure size 576x360 with 1 Axes>"
      ]
     },
     "metadata": {},
     "output_type": "display_data"
    },
    {
     "data": {
      "image/png": "[encoded data removed]",
      "text/plain": [
       "<Figure size 432x360 with 1 Axes>"
      ]
     },
     "metadata": {},
     "output_type": "display_data"
    },
    {
     "data": {
      "image/png": "[encoded data removed]",
      "text/plain": [
       "<Figure size 720x432 with 1 Axes>"
      ]
     },
     "metadata": {},
     "output_type": "display_data"
    },
    {
     "data": {
      "image/png": "[encoded data removed]",
      "text/plain": [
       "<Figure size 720x432 with 1 Axes>"
      ]
     },
     "metadata": {},
     "output_type": "display_data"
    }
   ],
   "source": [
    "import seaborn as sns\n",
    "import matplotlib.pyplot as plt\n",
    "\n",
    "# Set theme\n",
    "sns.set_theme(style=\"whitegrid\", font_scale=1.1)\n",
    "cool_blues = ['#0f172a', '#1e3a8a', '#3b82f6', '#60a5fa', '#93c5fd']\n",
    "sns.set_palette(cool_blues)\n",
    "\n",
    "# 1. Rating Distribution\n",
    "plt.figure(figsize=(8, 5))\n",
    "sns.histplot(merged_df['Book-Rating'], bins=11, kde=True, color=cool_blues[2])\n",
    "plt.title(\"Book Rating Distribution\", fontsize=14)\n",
    "plt.xlabel(\"Rating\", fontsize=12)\n",
    "plt.ylabel(\"Count\", fontsize=12)\n",
    "plt.tight_layout()\n",
    "plt.show()\n",
    "\n",
    "# 2. Age Group Distribution\n",
    "plt.figure(figsize=(8, 5))\n",
    "age_order = ['<18', '18–29', '30–49', '50+', 'Unknown'] if 'Unknown' in merged_df['Age_Group'].unique() else merged_df['Age_Group'].value_counts().index\n",
    "sns.countplot(x='Age_Group', data=merged_df, order=age_order, palette=cool_blues)\n",
    "plt.title(\"User Age Group Distribution\", fontsize=14)\n",
    "plt.xlabel(\"Age Group\", fontsize=12)\n",
    "plt.ylabel(\"User Count\", fontsize=12)\n",
    "plt.tight_layout()\n",
    "plt.show()\n",
    "\n",
    "# 3. Missing Metadata Flag\n",
    "plt.figure(figsize=(6, 5))\n",
    "sns.countplot(x='Missing_Metadata', data=merged_df, palette=[cool_blues[1], cool_blues[3]])\n",
    "plt.title(\"Presence of Missing Metadata\", fontsize=14)\n",
    "plt.xlabel(\"Metadata Missing\", fontsize=12)\n",
    "plt.ylabel(\"Number of Entries\", fontsize=12)\n",
    "plt.tight_layout()\n",
    "plt.show()\n",
    "\n",
    "# 4. Top 10 Countries by Rating Volume\n",
    "plt.figure(figsize=(10, 6))\n",
    "top_countries = merged_df['Country'].value_counts().head(10)\n",
    "sns.barplot(x=top_countries.values, y=top_countries.index, palette=cool_blues)\n",
    "plt.title(\"Top 10 Countries by Rating Volume\", fontsize=14)\n",
    "plt.xlabel(\"Number of Ratings\", fontsize=12)\n",
    "plt.ylabel(\"Country\", fontsize=12)\n",
    "plt.tight_layout()\n",
    "plt.show()\n",
    "\n",
    "# 5. Top 10 Cities by Rating Volume\n",
    "plt.figure(figsize=(10, 6))\n",
    "top_countries = merged_df['City'].value_counts().head(10)\n",
    "sns.barplot(x=top_countries.values, y=top_countries.index, palette=cool_blues)\n",
    "plt.title(\"Top 10 Cities by Rating Volume\", fontsize=14)\n",
    "plt.xlabel(\"Number of Ratings\", fontsize=12)\n",
    "plt.ylabel(\"Country\", fontsize=12)\n",
    "plt.tight_layout()\n",
    "plt.show()\n",
    "\n"
   ]
  },
  {
   "cell_type": "markdown",
   "id": "1cf921c6",
   "metadata": {},
   "source": [
    "## 4.2 Bivariate analysis"
   ]
  },
  {
   "cell_type": "code",
   "execution_count": 24,
   "id": "2f5c821a",
   "metadata": {},
   "outputs": [
    {
     "data": {
      "image/png": "[encoded data removed]",
      "text/plain": [
       "<Figure size 576x432 with 1 Axes>"
      ]
     },
     "metadata": {},
     "output_type": "display_data"
    },
    {
     "data": {
      "image/png": "[encoded data removed]",
      "text/plain": [
       "<Figure size 720x432 with 1 Axes>"
      ]
     },
     "metadata": {},
     "output_type": "display_data"
    },
    {
     "data": {
      "image/png": "[encoded data removed]",
      "text/plain": [
       "<Figure size 864x432 with 1 Axes>"
      ]
     },
     "metadata": {},
     "output_type": "display_data"
    },
    {
     "data": {
      "image/png": "[encoded data removed]",
      "text/plain": [
       "<Figure size 720x432 with 1 Axes>"
      ]
     },
     "metadata": {},
     "output_type": "display_data"
    },
    {
     "data": {
      "image/png": "[encoded data removed]",
      "text/plain": [
       "<Figure size 864x432 with 1 Axes>"
      ]
     },
     "metadata": {},
     "output_type": "display_data"
    },
    {
     "data": {
      "image/png": "[encoded data removed]",
      "text/plain": [
       "<Figure size 864x432 with 1 Axes>"
      ]
     },
     "metadata": {},
     "output_type": "display_data"
    },
    {
     "data": {
      "image/png": "[encoded data removed]",
      "text/plain": [
       "<Figure size 720x432 with 1 Axes>"
      ]
     },
     "metadata": {},
     "output_type": "display_data"
    },
    {
     "data": {
      "image/png": "[encoded data removed]",
      "text/plain": [
       "<Figure size 864x432 with 1 Axes>"
      ]
     },
     "metadata": {},
     "output_type": "display_data"
    },
    {
     "data": {
      "image/png": "[encoded data removed]",
      "text/plain": [
       "<Figure size 864x432 with 1 Axes>"
      ]
     },
     "metadata": {},
     "output_type": "display_data"
    },
    {
     "data": {
      "image/png": "[encoded data removed]",
      "text/plain": [
       "<Figure size 864x432 with 1 Axes>"
      ]
     },
     "metadata": {},
     "output_type": "display_data"
    }
   ],
   "source": [
    "import pandas as pd\n",
    "import matplotlib.pyplot as plt\n",
    "import seaborn as sns\n",
    "\n",
    "# Color palette\n",
    "cool_blues = sns.color_palette(\"Blues_d\")\n",
    "\n",
    "# Filter out 0 ratings (usually not actual ratings)\n",
    "filtered_df = merged_df[merged_df['Book-Rating'] > 0]\n",
    "\n",
    "### 1. Rating Distribution\n",
    "plt.figure(figsize=(8, 6))\n",
    "sns.countplot(x='Book-Rating', data=filtered_df, palette=cool_blues)\n",
    "plt.title(\"Distribution of Book Ratings\")\n",
    "plt.xlabel(\"Rating (1 to 10)\")\n",
    "plt.ylabel(\"Count\")\n",
    "plt.tight_layout()\n",
    "plt.show()\n",
    "\n",
    "### 2. Rating Distribution by Age Group\n",
    "plt.figure(figsize=(10, 6))\n",
    "sns.boxplot(x='Age_Group', y='Book-Rating', data=filtered_df, palette=cool_blues,\n",
    "            order=['<18', '18–29', '30–49', '50+', 'Unknown'])\n",
    "plt.title(\"Book Ratings by Age Group\")\n",
    "plt.xlabel(\"Age Group\")\n",
    "plt.ylabel(\"Rating\")\n",
    "plt.tight_layout()\n",
    "plt.show()\n",
    "\n",
    "### 3. Average Rating by Country (min 1000 ratings)\n",
    "country_counts = filtered_df.groupby('Country')['Book-Rating'].count()\n",
    "eligible_countries = country_counts[country_counts >= 1000].index\n",
    "country_df = filtered_df[filtered_df['Country'].isin(eligible_countries)]\n",
    "\n",
    "avg_rating_per_country = country_df.groupby('Country')['Book-Rating'].mean().sort_values(ascending=False)\n",
    "\n",
    "plt.figure(figsize=(12, 6))\n",
    "ax = sns.barplot(x=avg_rating_per_country.index[:10], y=avg_rating_per_country.values[:10], palette=cool_blues)\n",
    "plt.title(\"Top 10 Countries by Average Rating (min 1000 ratings)\")\n",
    "plt.xlabel(\"Country\")\n",
    "plt.ylabel(\"Average Rating\")\n",
    "plt.xticks(rotation=45)\n",
    "for p in ax.patches:\n",
    "    ax.annotate(f'{p.get_height():.2f}', (p.get_x() + p.get_width() / 2, p.get_height()),\n",
    "                ha='center', va='bottom', fontsize=10)\n",
    "plt.tight_layout()\n",
    "plt.show()\n",
    "\n",
    "### 4. Average Rating by City (min 1000 ratings)\n",
    "city_counts = filtered_df.groupby('City')['Book-Rating'].count()\n",
    "eligible_cities = city_counts[city_counts >= 1000].index\n",
    "city_df = filtered_df[filtered_df['City'].isin(eligible_cities)]\n",
    "\n",
    "top_cities_rating = city_df.groupby('City')['Book-Rating'].mean().sort_values(ascending=False).head(10)\n",
    "\n",
    "plt.figure(figsize=(10, 6))\n",
    "ax = sns.barplot(x=top_cities_rating.index, y=top_cities_rating.values, palette=cool_blues)\n",
    "plt.title(\"Top 10 Cities by Average Rating (min 1000 ratings)\")\n",
    "plt.xlabel(\"City\")\n",
    "plt.ylabel(\"Average Rating\")\n",
    "plt.xticks(rotation=45)\n",
    "for p in ax.patches:\n",
    "    ax.annotate(f'{p.get_height():.2f}', (p.get_x() + p.get_width() / 2, p.get_height()),\n",
    "                ha='center', va='bottom', fontsize=10)\n",
    "plt.tight_layout()\n",
    "plt.show()\n",
    "\n",
    "### 5. Rating vs. Year of Publication (scatter + trend)\n",
    "plt.figure(figsize=(12, 6))\n",
    "sns.scatterplot(x='Year-Of-Publication', y='Book-Rating', data=filtered_df, alpha=0.3)\n",
    "sns.regplot(x='Year-Of-Publication', y='Book-Rating', data=filtered_df, scatter=False, color='red')\n",
    "plt.title(\"Book Rating vs. Year of Publication\")\n",
    "plt.xlabel(\"Year of Publication\")\n",
    "plt.ylabel(\"Rating\")\n",
    "plt.tight_layout()\n",
    "plt.show()\n",
    "\n",
    "### 6. Average Rating by Publisher (min 1000 ratings)\n",
    "publisher_counts = filtered_df.groupby('Publisher')['Book-Rating'].count()\n",
    "eligible_publishers = publisher_counts[publisher_counts >= 1000].index\n",
    "pub_df = filtered_df[filtered_df['Publisher'].isin(eligible_publishers)]\n",
    "\n",
    "top_pubs_rating = pub_df.groupby('Publisher')['Book-Rating'].mean().sort_values(ascending=False).head(10)\n",
    "\n",
    "plt.figure(figsize=(12, 6))\n",
    "ax = sns.barplot(x=top_pubs_rating.index, y=top_pubs_rating.values, palette=cool_blues)\n",
    "plt.title(\"Top 10 Publishers by Average Rating (min 1000 ratings)\")\n",
    "plt.xlabel(\"Publisher\")\n",
    "plt.ylabel(\"Average Rating\")\n",
    "plt.xticks(rotation=45, ha='right')\n",
    "for p in ax.patches:\n",
    "    ax.annotate(f'{p.get_height():.2f}', (p.get_x() + p.get_width() / 2, p.get_height()),\n",
    "                ha='center', va='bottom', fontsize=10)\n",
    "plt.tight_layout()\n",
    "plt.show()\n",
    "\n",
    "### 7a. Top 10 Most Rated Authors\n",
    "most_rated_authors = filtered_df['Book-Author'].value_counts().head(10)\n",
    "\n",
    "plt.figure(figsize=(10, 6))\n",
    "ax = sns.barplot(x=most_rated_authors.values, y=most_rated_authors.index, palette=cool_blues)\n",
    "plt.title(\"Top 10 Most Rated Authors\")\n",
    "plt.xlabel(\"Number of Ratings\")\n",
    "plt.ylabel(\"Author\")\n",
    "for p in ax.patches:\n",
    "    ax.annotate(f'{int(p.get_width())}', (p.get_width(), p.get_y() + p.get_height() / 2),\n",
    "                va='center', ha='left', fontsize=10)\n",
    "plt.tight_layout()\n",
    "plt.show()\n",
    "\n",
    "### 7b. Top 10 Authors by Average Rating (min 1000 ratings)\n",
    "author_counts = filtered_df.groupby('Book-Author')['Book-Rating'].count()\n",
    "eligible_authors = author_counts[author_counts >= 1000].index\n",
    "author_df = filtered_df[filtered_df['Book-Author'].isin(eligible_authors)]\n",
    "\n",
    "top_authors_rating = author_df.groupby('Book-Author')['Book-Rating'].mean().sort_values(ascending=False).head(10)\n",
    "\n",
    "plt.figure(figsize=(12, 6))\n",
    "ax = sns.barplot(x=top_authors_rating.values, y=top_authors_rating.index, palette=cool_blues)\n",
    "plt.title(\"Top 10 Authors by Average Rating (min 1000 ratings)\")\n",
    "plt.xlabel(\"Average Rating\")\n",
    "plt.ylabel(\"Author\")\n",
    "for p in ax.patches:\n",
    "    ax.annotate(f'{p.get_width():.2f}', (p.get_width(), p.get_y() + p.get_height() / 2),\n",
    "                va='center', ha='left', fontsize=10)\n",
    "plt.tight_layout()\n",
    "plt.show()\n",
    "\n",
    "### 8a. Top 10 Most Rated Books\n",
    "most_rated_books = filtered_df['Book-Title'].value_counts().head(10)\n",
    "\n",
    "plt.figure(figsize=(12, 6))\n",
    "ax = sns.barplot(x=most_rated_books.values, y=most_rated_books.index)\n",
    "plt.title(\"Top 10 Most Rated Books\")\n",
    "plt.xlabel(\"Number of Ratings\")\n",
    "plt.ylabel(\"Book Title\")\n",
    "for p in ax.patches:\n",
    "    ax.annotate(f'{int(p.get_width())}', (p.get_width(), p.get_y() + p.get_height() / 2),\n",
    "                va='center', ha='left', fontsize=10)\n",
    "plt.tight_layout()\n",
    "plt.show()\n",
    "\n",
    "### 8b. Top 10 Books by Average Rating (min 50 ratings)\n",
    "book_counts = filtered_df.groupby('Book-Title')['Book-Rating'].count()\n",
    "eligible_books = book_counts[book_counts >= 50].index\n",
    "book_df = filtered_df[filtered_df['Book-Title'].isin(eligible_books)]\n",
    "\n",
    "top_books_rating = book_df.groupby('Book-Title')['Book-Rating'].mean().sort_values(ascending=False).head(10)\n",
    "\n",
    "plt.figure(figsize=(12, 6))\n",
    "ax = sns.barplot(x=top_books_rating.values, y=top_books_rating.index, palette=cool_blues)\n",
    "plt.title(\"Top 10 Books by Average Rating (min 50 ratings)\")\n",
    "plt.xlabel(\"Average Rating\")\n",
    "plt.ylabel(\"Book Title\")\n",
    "for p in ax.patches:\n",
    "    ax.annotate(f'{p.get_width():.2f}', (p.get_width(), p.get_y() + p.get_height() / 2),\n",
    "                va='center', ha='left', fontsize=10)\n",
    "plt.tight_layout()\n",
    "plt.show()\n"
   ]
  },
  {
   "cell_type": "markdown",
   "id": "eba043e8",
   "metadata": {},
   "source": [
    "## Observations\n",
    "**Tbd**\n",
    "\n",
    "## 4.2 Multivariate analysis\n",
    "## Observations\n",
    "**Tbd**\n",
    "*****\n",
    "\n"
   ]
  },
  {
   "cell_type": "markdown",
   "id": "1304882f",
   "metadata": {},
   "source": [
    "# 5. Modeling\n",
    "# 5.1 Inspecting final merge"
   ]
  },
  {
   "cell_type": "code",
   "execution_count": 25,
   "id": "4c386790",
   "metadata": {},
   "outputs": [
    {
     "name": "stdout",
     "output_type": "stream",
     "text": [
      "<class 'pandas.core.frame.DataFrame'>\n",
      "Int64Index: 1149780 entries, 0 to 1149779\n",
      "Data columns (total 12 columns):\n",
      " #   Column               Non-Null Count    Dtype   \n",
      "---  ------               --------------    -----   \n",
      " 0   User-ID              1149780 non-null  int64   \n",
      " 1   ISBN                 1149780 non-null  object  \n",
      " 2   Book-Rating          1149780 non-null  int64   \n",
      " 3   Book-Title           1031172 non-null  object  \n",
      " 4   Book-Author          1031172 non-null  object  \n",
      " 5   Publisher            1031172 non-null  object  \n",
      " 6   Year-Of-Publication  1031172 non-null  float64 \n",
      " 7   Location             1149780 non-null  object  \n",
      " 8   Age_Group            1149780 non-null  category\n",
      " 9   Missing_Metadata     1149780 non-null  bool    \n",
      " 10  Country              1149780 non-null  object  \n",
      " 11  City                 1149780 non-null  object  \n",
      "dtypes: bool(1), category(1), float64(1), int64(2), object(7)\n",
      "memory usage: 98.7+ MB\n"
     ]
    },
    {
     "data": {
      "text/plain": [
       "None"
      ]
     },
     "metadata": {},
     "output_type": "display_data"
    },
    {
     "data": {
      "text/plain": [
       "Index(['User-ID', 'ISBN', 'Book-Rating', 'Book-Title', 'Book-Author',\n",
       "       'Publisher', 'Year-Of-Publication', 'Location', 'Age_Group',\n",
       "       'Missing_Metadata', 'Country', 'City'],\n",
       "      dtype='object')"
      ]
     },
     "metadata": {},
     "output_type": "display_data"
    },
    {
     "data": {
      "text/plain": [
       "(1149780, 12)"
      ]
     },
     "metadata": {},
     "output_type": "display_data"
    },
    {
     "data": {
      "text/html": [
       "<div>\n",
       "<style scoped>\n",
       "    .dataframe tbody tr th:only-of-type {\n",
       "        vertical-align: middle;\n",
       "    }\n",
       "\n",
       "    .dataframe tbody tr th {\n",
       "        vertical-align: top;\n",
       "    }\n",
       "\n",
       "    .dataframe thead th {\n",
       "        text-align: right;\n",
       "    }\n",
       "</style>\n",
       "<table border=\"1\" class=\"dataframe\">\n",
       "  <thead>\n",
       "    <tr style=\"text-align: right;\">\n",
       "      <th></th>\n",
       "      <th>User-ID</th>\n",
       "      <th>ISBN</th>\n",
       "      <th>Book-Rating</th>\n",
       "      <th>Book-Title</th>\n",
       "      <th>Book-Author</th>\n",
       "      <th>Publisher</th>\n",
       "      <th>Year-Of-Publication</th>\n",
       "      <th>Location</th>\n",
       "      <th>Age_Group</th>\n",
       "      <th>Missing_Metadata</th>\n",
       "      <th>Country</th>\n",
       "      <th>City</th>\n",
       "    </tr>\n",
       "  </thead>\n",
       "  <tbody>\n",
       "    <tr>\n",
       "      <th>178554</th>\n",
       "      <td>38781</td>\n",
       "      <td>0373259131</td>\n",
       "      <td>0</td>\n",
       "      <td>Otherwise Engaged (Harlequin Temptation, No 813)</td>\n",
       "      <td>Cara Summers</td>\n",
       "      <td>Harlequin</td>\n",
       "      <td>2001.0</td>\n",
       "      <td>kingsville, texas, usa</td>\n",
       "      <td>30–49</td>\n",
       "      <td>False</td>\n",
       "      <td>Usa</td>\n",
       "      <td>Texas</td>\n",
       "    </tr>\n",
       "    <tr>\n",
       "      <th>533905</th>\n",
       "      <td>128835</td>\n",
       "      <td>0811805905</td>\n",
       "      <td>8</td>\n",
       "      <td>All Smiles</td>\n",
       "      <td>Bruce Velick</td>\n",
       "      <td>Chronicle Books</td>\n",
       "      <td>1995.0</td>\n",
       "      <td>bellingham, washington, usa</td>\n",
       "      <td>50+</td>\n",
       "      <td>False</td>\n",
       "      <td>Usa</td>\n",
       "      <td>Washington</td>\n",
       "    </tr>\n",
       "    <tr>\n",
       "      <th>1091374</th>\n",
       "      <td>261829</td>\n",
       "      <td>037324486X</td>\n",
       "      <td>0</td>\n",
       "      <td>The Heart Beneath  (Morgan's Mercenaries:  Ult...</td>\n",
       "      <td>Lindsay Mckenna</td>\n",
       "      <td>Silhouette</td>\n",
       "      <td>2002.0</td>\n",
       "      <td>fpo, ap, usa</td>\n",
       "      <td>30–49</td>\n",
       "      <td>False</td>\n",
       "      <td>Usa</td>\n",
       "      <td>Ap</td>\n",
       "    </tr>\n",
       "    <tr>\n",
       "      <th>1036247</th>\n",
       "      <td>247747</td>\n",
       "      <td>0531303306</td>\n",
       "      <td>0</td>\n",
       "      <td>Have You Been to the Beach Lately?: Poems</td>\n",
       "      <td>Ralph J. Fletcher</td>\n",
       "      <td>Orchard Books (NY)</td>\n",
       "      <td>2001.0</td>\n",
       "      <td>portsmouth, ohio, usa</td>\n",
       "      <td>Unknown</td>\n",
       "      <td>False</td>\n",
       "      <td>Usa</td>\n",
       "      <td>Ohio</td>\n",
       "    </tr>\n",
       "    <tr>\n",
       "      <th>309523</th>\n",
       "      <td>74076</td>\n",
       "      <td>0316812404</td>\n",
       "      <td>0</td>\n",
       "      <td>Revolution from Within: A Book of Self-Esteem</td>\n",
       "      <td>Gloria Steinem</td>\n",
       "      <td>Little Brown &amp;amp; Co</td>\n",
       "      <td>1992.0</td>\n",
       "      <td>victoria, british columbia, canada</td>\n",
       "      <td>50+</td>\n",
       "      <td>False</td>\n",
       "      <td>Canada</td>\n",
       "      <td>British Columbia</td>\n",
       "    </tr>\n",
       "    <tr>\n",
       "      <th>130089</th>\n",
       "      <td>30273</td>\n",
       "      <td>0312072376</td>\n",
       "      <td>0</td>\n",
       "      <td>Little Ways to Say I Love You</td>\n",
       "      <td>Marjabelle Young Stewart</td>\n",
       "      <td>St. Martin's Press</td>\n",
       "      <td>1992.0</td>\n",
       "      <td>naples, florida, usa</td>\n",
       "      <td>18–29</td>\n",
       "      <td>False</td>\n",
       "      <td>Usa</td>\n",
       "      <td>Florida</td>\n",
       "    </tr>\n",
       "    <tr>\n",
       "      <th>60190</th>\n",
       "      <td>12110</td>\n",
       "      <td>0743431014</td>\n",
       "      <td>6</td>\n",
       "      <td>Songs of the Humpback Whale : A Novel in Five ...</td>\n",
       "      <td>Jodi Picoult</td>\n",
       "      <td>Washington Square Press</td>\n",
       "      <td>2001.0</td>\n",
       "      <td>dracut, massachusetts, usa</td>\n",
       "      <td>30–49</td>\n",
       "      <td>False</td>\n",
       "      <td>Usa</td>\n",
       "      <td>Massachusetts</td>\n",
       "    </tr>\n",
       "    <tr>\n",
       "      <th>785993</th>\n",
       "      <td>189973</td>\n",
       "      <td>0515129283</td>\n",
       "      <td>0</td>\n",
       "      <td>A Hitch in Time (Time Passages Romance Series)</td>\n",
       "      <td>Christine Holden</td>\n",
       "      <td>Jove Books</td>\n",
       "      <td>2000.0</td>\n",
       "      <td>pittsburgh, pennsylvania, usa</td>\n",
       "      <td>Unknown</td>\n",
       "      <td>False</td>\n",
       "      <td>Usa</td>\n",
       "      <td>Pennsylvania</td>\n",
       "    </tr>\n",
       "    <tr>\n",
       "      <th>66929</th>\n",
       "      <td>13690</td>\n",
       "      <td>8485224574</td>\n",
       "      <td>6</td>\n",
       "      <td>NaN</td>\n",
       "      <td>NaN</td>\n",
       "      <td>NaN</td>\n",
       "      <td>NaN</td>\n",
       "      <td>gijón, asturias, spain</td>\n",
       "      <td>50+</td>\n",
       "      <td>True</td>\n",
       "      <td>Spain</td>\n",
       "      <td>Asturias</td>\n",
       "    </tr>\n",
       "    <tr>\n",
       "      <th>405917</th>\n",
       "      <td>98391</td>\n",
       "      <td>006000181X</td>\n",
       "      <td>8</td>\n",
       "      <td>With Her Last Breath</td>\n",
       "      <td>Cait London</td>\n",
       "      <td>Avon</td>\n",
       "      <td>2003.0</td>\n",
       "      <td>morrow, georgia, usa</td>\n",
       "      <td>50+</td>\n",
       "      <td>False</td>\n",
       "      <td>Usa</td>\n",
       "      <td>Georgia</td>\n",
       "    </tr>\n",
       "    <tr>\n",
       "      <th>14903</th>\n",
       "      <td>2276</td>\n",
       "      <td>0345296052</td>\n",
       "      <td>0</td>\n",
       "      <td>The Fellowship of the Ring (Lord of the Rings ...</td>\n",
       "      <td>J. R. R. Tolkien</td>\n",
       "      <td>Ballantine Books</td>\n",
       "      <td>1981.0</td>\n",
       "      <td>niskayuna, new york, usa</td>\n",
       "      <td>30–49</td>\n",
       "      <td>False</td>\n",
       "      <td>Usa</td>\n",
       "      <td>New York</td>\n",
       "    </tr>\n",
       "    <tr>\n",
       "      <th>449812</th>\n",
       "      <td>107784</td>\n",
       "      <td>076422185X</td>\n",
       "      <td>6</td>\n",
       "      <td>Walking in Total God-Confidence</td>\n",
       "      <td>Donna Partow</td>\n",
       "      <td>Bethany House Publishers</td>\n",
       "      <td>1999.0</td>\n",
       "      <td>tarentum, pennsylvania, usa</td>\n",
       "      <td>Unknown</td>\n",
       "      <td>False</td>\n",
       "      <td>Usa</td>\n",
       "      <td>Pennsylvania</td>\n",
       "    </tr>\n",
       "    <tr>\n",
       "      <th>944055</th>\n",
       "      <td>228764</td>\n",
       "      <td>0758201583</td>\n",
       "      <td>0</td>\n",
       "      <td>This Pen for Hire: A Jaine Austen Mystery (Lev...</td>\n",
       "      <td>Laura Levine</td>\n",
       "      <td>Kensington Publishing Corporation</td>\n",
       "      <td>2002.0</td>\n",
       "      <td>oakdale, california, usa</td>\n",
       "      <td>30–49</td>\n",
       "      <td>False</td>\n",
       "      <td>Usa</td>\n",
       "      <td>California</td>\n",
       "    </tr>\n",
       "    <tr>\n",
       "      <th>163443</th>\n",
       "      <td>36003</td>\n",
       "      <td>0060958022</td>\n",
       "      <td>0</td>\n",
       "      <td>Five Quarters of the Orange</td>\n",
       "      <td>Joanne Harris</td>\n",
       "      <td>Perennial</td>\n",
       "      <td>2002.0</td>\n",
       "      <td>shah alam, selangor, malaysia</td>\n",
       "      <td>18–29</td>\n",
       "      <td>False</td>\n",
       "      <td>Malaysia</td>\n",
       "      <td>Selangor</td>\n",
       "    </tr>\n",
       "    <tr>\n",
       "      <th>60242</th>\n",
       "      <td>12122</td>\n",
       "      <td>1740590120</td>\n",
       "      <td>7</td>\n",
       "      <td>Lonely Planet East Coast Australia (Lonely Pla...</td>\n",
       "      <td>Verity Campbell</td>\n",
       "      <td>Lonely Planet Publications</td>\n",
       "      <td>2002.0</td>\n",
       "      <td>cooks hill, new south wales, australia</td>\n",
       "      <td>18–29</td>\n",
       "      <td>False</td>\n",
       "      <td>Australia</td>\n",
       "      <td>New South Wales</td>\n",
       "    </tr>\n",
       "  </tbody>\n",
       "</table>\n",
       "</div>"
      ],
      "text/plain": [
       "         User-ID        ISBN  Book-Rating  \\\n",
       "178554     38781  0373259131            0   \n",
       "533905    128835  0811805905            8   \n",
       "1091374   261829  037324486X            0   \n",
       "1036247   247747  0531303306            0   \n",
       "309523     74076  0316812404            0   \n",
       "130089     30273  0312072376            0   \n",
       "60190      12110  0743431014            6   \n",
       "785993    189973  0515129283            0   \n",
       "66929      13690  8485224574            6   \n",
       "405917     98391  006000181X            8   \n",
       "14903       2276  0345296052            0   \n",
       "449812    107784  076422185X            6   \n",
       "944055    228764  0758201583            0   \n",
       "163443     36003  0060958022            0   \n",
       "60242      12122  1740590120            7   \n",
       "\n",
       "                                                Book-Title  \\\n",
       "178554    Otherwise Engaged (Harlequin Temptation, No 813)   \n",
       "533905                                          All Smiles   \n",
       "1091374  The Heart Beneath  (Morgan's Mercenaries:  Ult...   \n",
       "1036247          Have You Been to the Beach Lately?: Poems   \n",
       "309523       Revolution from Within: A Book of Self-Esteem   \n",
       "130089                       Little Ways to Say I Love You   \n",
       "60190    Songs of the Humpback Whale : A Novel in Five ...   \n",
       "785993      A Hitch in Time (Time Passages Romance Series)   \n",
       "66929                                                  NaN   \n",
       "405917                                With Her Last Breath   \n",
       "14903    The Fellowship of the Ring (Lord of the Rings ...   \n",
       "449812                     Walking in Total God-Confidence   \n",
       "944055   This Pen for Hire: A Jaine Austen Mystery (Lev...   \n",
       "163443                         Five Quarters of the Orange   \n",
       "60242    Lonely Planet East Coast Australia (Lonely Pla...   \n",
       "\n",
       "                      Book-Author                          Publisher  \\\n",
       "178554               Cara Summers                          Harlequin   \n",
       "533905               Bruce Velick                    Chronicle Books   \n",
       "1091374           Lindsay Mckenna                         Silhouette   \n",
       "1036247         Ralph J. Fletcher                 Orchard Books (NY)   \n",
       "309523             Gloria Steinem              Little Brown &amp; Co   \n",
       "130089   Marjabelle Young Stewart                 St. Martin's Press   \n",
       "60190                Jodi Picoult            Washington Square Press   \n",
       "785993           Christine Holden                         Jove Books   \n",
       "66929                         NaN                                NaN   \n",
       "405917                Cait London                               Avon   \n",
       "14903            J. R. R. Tolkien                   Ballantine Books   \n",
       "449812               Donna Partow           Bethany House Publishers   \n",
       "944055               Laura Levine  Kensington Publishing Corporation   \n",
       "163443              Joanne Harris                          Perennial   \n",
       "60242             Verity Campbell         Lonely Planet Publications   \n",
       "\n",
       "         Year-Of-Publication                                Location  \\\n",
       "178554                2001.0                  kingsville, texas, usa   \n",
       "533905                1995.0             bellingham, washington, usa   \n",
       "1091374               2002.0                            fpo, ap, usa   \n",
       "1036247               2001.0                   portsmouth, ohio, usa   \n",
       "309523                1992.0      victoria, british columbia, canada   \n",
       "130089                1992.0                    naples, florida, usa   \n",
       "60190                 2001.0              dracut, massachusetts, usa   \n",
       "785993                2000.0           pittsburgh, pennsylvania, usa   \n",
       "66929                    NaN                  gijón, asturias, spain   \n",
       "405917                2003.0                    morrow, georgia, usa   \n",
       "14903                 1981.0                niskayuna, new york, usa   \n",
       "449812                1999.0             tarentum, pennsylvania, usa   \n",
       "944055                2002.0                oakdale, california, usa   \n",
       "163443                2002.0           shah alam, selangor, malaysia   \n",
       "60242                 2002.0  cooks hill, new south wales, australia   \n",
       "\n",
       "        Age_Group  Missing_Metadata    Country              City  \n",
       "178554      30–49             False        Usa             Texas  \n",
       "533905        50+             False        Usa        Washington  \n",
       "1091374     30–49             False        Usa                Ap  \n",
       "1036247   Unknown             False        Usa              Ohio  \n",
       "309523        50+             False     Canada  British Columbia  \n",
       "130089      18–29             False        Usa           Florida  \n",
       "60190       30–49             False        Usa     Massachusetts  \n",
       "785993    Unknown             False        Usa      Pennsylvania  \n",
       "66929         50+              True      Spain          Asturias  \n",
       "405917        50+             False        Usa           Georgia  \n",
       "14903       30–49             False        Usa          New York  \n",
       "449812    Unknown             False        Usa      Pennsylvania  \n",
       "944055      30–49             False        Usa        California  \n",
       "163443      18–29             False   Malaysia          Selangor  \n",
       "60242       18–29             False  Australia   New South Wales  "
      ]
     },
     "metadata": {},
     "output_type": "display_data"
    }
   ],
   "source": [
    "display(merged_df.info())\n",
    "display(merged_df.columns)\n",
    "display(merged_df.shape)\n",
    "display(merged_df.sample(n=15, random_state=42))"
   ]
  },
  {
   "cell_type": "markdown",
   "id": "6a9441b1",
   "metadata": {},
   "source": [
    "## 5.2 Collaborative Filtering\n",
    "## 5.2.1 User-Based Collaborative Filtering\n",
    "\n",
    "To avoid performance issues on large datasets, we use only 5% of ratings where users gave non-zero scores. We implement a **user-based collaborative filtering** model using cosine similarity with the Surprise library. This model identifies similar users and recommends books based on their ratings. The process includes:\n",
    "\n",
    "- Patching numpy for compatibility\n",
    "- Sampling to reduce memory footprint\n",
    "- Training a KNN-based recommender\n",
    "- Generating top-N book predictions for a selected user\n",
    "\n",
    "This setup is scalable and performs well with limited RAM.\n",
    "\n",
    "### Explanation of setup\n",
    "- **KNNBasic**  \n",
    "  Simple and effective algorithm for finding nearest neighbors based on user/item ratings.\n",
    "- **Cosine Similarity:**  \n",
    "  Measures directional similarity between rating vectors; well-suited for sparse data.\n",
    "- **User-based vs Item-based:**  \n",
    "  - `user_based=True`: Recommends based on similar users' preferences.  \n",
    "  - `user_based=False`: Recommends items similar to those the user liked.\n",
    "- **Sampling (5%)** used to reduce memory usage for faster experimentation.\n",
    "\n"
   ]
  },
  {
   "cell_type": "code",
   "execution_count": 26,
   "id": "b4955f12",
   "metadata": {},
   "outputs": [
    {
     "data": {
      "text/plain": [
       "'The rating sample has 21684 rows and 12 columns.'"
      ]
     },
     "metadata": {},
     "output_type": "display_data"
    },
    {
     "name": "stdout",
     "output_type": "stream",
     "text": [
      "Top 5 User-Based CF Recommendations for User 102532:\n",
      "ISBN: 0380018179 | Score: 7.6 | Title: The Thorn Birds\n",
      "ISBN: 8422641127 | Score: 7.6 | Title: Unknown\n",
      "ISBN: 3442453844 | Score: 7.6 | Title: Das Familiengrab.\n",
      "ISBN: 0060586125 | Score: 7.6 | Title: Three Wishes\n",
      "ISBN: 0316789844 | Score: 7.6 | Title: Resistance : A Novel\n"
     ]
    }
   ],
   "source": [
    "# Step 1: Patch numpy and import libraries\n",
    "import numpy as np\n",
    "np.int = int  # For compatibility with Surprise\n",
    "\n",
    "import pandas as pd\n",
    "from surprise import Dataset, Reader, KNNBasic\n",
    "import warnings\n",
    "warnings.filterwarnings('ignore')\n",
    "\n",
    "# Step 2: Filter and sample ratings\n",
    "useful_ratings_df = merged_df[merged_df['Book-Rating'] > 0]\n",
    "rating_sample_df = useful_ratings_df.sample(frac=0.05, random_state=42)  # sample 5% to reduce memory\n",
    "\n",
    "display(f\"The rating sample has {rating_sample_df.shape[0]} rows and {rating_sample_df.shape[1]} columns.\")\n",
    "\n",
    "# Step 3: Load Surprise dataset\n",
    "reader = Reader(rating_scale=(1, 10))\n",
    "ratings_for_surprise = rating_sample_df[['User-ID', 'ISBN', 'Book-Rating']]\n",
    "user_cf_data = Dataset.load_from_df(ratings_for_surprise, reader)\n",
    "user_cf_trainset = user_cf_data.build_full_trainset()\n",
    "\n",
    "# Step 4: Train User-Based Collaborative Filtering model\n",
    "user_cf_model = KNNBasic(sim_options={'name': 'cosine', 'user_based': True}, verbose=False)\n",
    "user_cf_model.fit(user_cf_trainset)\n",
    "\n",
    "# Step 5: Define function to get top N recommendations using user-based CF\n",
    "def get_top_n_user_cf(user_id, n=10):\n",
    "    try:\n",
    "        inner_uid = user_cf_trainset.to_inner_uid(user_id)\n",
    "    except ValueError:\n",
    "        print(f\"User ID {user_id} not found in training set.\")\n",
    "        return []\n",
    "\n",
    "    rated_items = set(j for (j, _) in user_cf_trainset.ur[inner_uid])\n",
    "    unseen_items = set(user_cf_trainset.all_items()) - rated_items\n",
    "\n",
    "    predictions = [user_cf_model.predict(user_id, user_cf_trainset.to_raw_iid(i)) for i in unseen_items]\n",
    "    top_n = sorted(predictions, key=lambda x: x.est, reverse=True)[:n]\n",
    "\n",
    "    return [(pred.iid, round(pred.est, 2)) for pred in top_n]\n",
    "\n",
    "# Step 6: Example usage\n",
    "sample_user_id = rating_sample_df['User-ID'].sample(n=1, random_state=42).iloc[0]\n",
    "user_cf_top_books = get_top_n_user_cf(sample_user_id, n=5)\n",
    "\n",
    "print(f\"Top 5 User-Based CF Recommendations for User {sample_user_id}:\")\n",
    "for isbn, score in user_cf_top_books:\n",
    "    title = merged_df.loc[merged_df['ISBN'] == isbn, 'Book-Title'].dropna().unique()\n",
    "    print(f\"ISBN: {isbn} | Score: {score} | Title: {title[0] if len(title) else 'Unknown'}\")\n"
   ]
  },
  {
   "cell_type": "markdown",
   "id": "d8c933d5",
   "metadata": {},
   "source": [
    "### Model Evaluation"
   ]
  },
  {
   "cell_type": "code",
   "execution_count": 27,
   "id": "aae3e533",
   "metadata": {},
   "outputs": [
    {
     "name": "stdout",
     "output_type": "stream",
     "text": [
      "---User Based (KNN)---\n",
      "Evaluating RMSE, MAE of algorithm KNNBasic on 3 split(s).\n",
      "\n",
      "                  Fold 1  Fold 2  Fold 3  Mean    Std     \n",
      "RMSE (testset)    1.8749  1.8449  1.8476  1.8558  0.0136  \n",
      "MAE (testset)     1.5117  1.5013  1.4982  1.5037  0.0058  \n",
      "Fit time          2.61    2.63    2.42    2.55    0.09    \n",
      "Test time         0.05    0.05    0.05    0.05    0.00    \n",
      "------\n"
     ]
    }
   ],
   "source": [
    "from surprise.model_selection import cross_validate\n",
    "\n",
    "#evaluation, user based\n",
    "print(\"---User Based (KNN)---\")\n",
    "results_user_based = cross_validate(user_cf_model, user_cf_data, measures=['RMSE', 'MAE'], cv=3, verbose=True)\n",
    "print(\"------\")\n"
   ]
  },
  {
   "cell_type": "markdown",
   "id": "b2ed61c4",
   "metadata": {},
   "source": [
    "## 5.2.2 Item-Based Collaborative Filtering\n",
    "\n",
    "For Item-Based Collaborative Filtering,we use the hyperparameter `'user_based': False` while initializing the KNNBasic algorithm. The rest of the steps are similar to those in User-Based filtering above."
   ]
  },
  {
   "cell_type": "code",
   "execution_count": 28,
   "id": "ad0edb3b",
   "metadata": {},
   "outputs": [
    {
     "data": {
      "text/plain": [
       "'# Step 1: Use the same rating_sample_df (no need to sample again)\\n\\n# Step 2: Load Surprise dataset\\nitem_cf_data = Dataset.load_from_df(ratings_for_surprise, reader)\\nitem_cf_trainset = item_cf_data.build_full_trainset()\\n\\n# Step 3: Train Item-Based Collaborative Filtering model\\nitem_cf_model = KNNBasic(sim_options={\\'name\\': \\'cosine\\', \\'user_based\\': False}, verbose=False)\\nitem_cf_model.fit(item_cf_trainset)\\n\\n# Step 4: Define function to get top N recommendations using item-based CF\\ndef get_top_n_item_cf(user_id, n=10):\\n    try:\\n        inner_uid = item_cf_trainset.to_inner_uid(user_id)\\n    except ValueError:\\n        print(f\"User ID {user_id} not found in training set.\")\\n        return []\\n\\n    rated_items = set(j for (j, _) in item_cf_trainset.ur[inner_uid])\\n    unseen_items = set(item_cf_trainset.all_items()) - rated_items\\n\\n    predictions = [item_cf_model.predict(user_id, item_cf_trainset.to_raw_iid(i)) for i in unseen_items]\\n    top_n = sorted(predictions, key=lambda x: x.est, reverse=True)[:n]\\n\\n    return [(pred.iid, round(pred.est, 2)) for pred in top_n]\\n\\n# Step 5: Example usage\\nsample_user_id = rating_sample_df[\\'User-ID\\'].sample(n=1, random_state=42).iloc[0]\\nitem_cf_top_books = get_top_n_item_cf(sample_user_id, n=5)\\n\\nprint(f\"Top 5 Item-Based CF Recommendations for User {sample_user_id}:\")\\nfor isbn, score in item_cf_top_books:\\n    title = merged_df.loc[merged_df[\\'ISBN\\'] == isbn, \\'Book-Title\\'].dropna().unique()\\n    print(f\"ISBN: {isbn} | Score: {score} | Title: {title[0] if len(title) else \\'Unknown\\'}\")\\n'"
      ]
     },
     "execution_count": 28,
     "metadata": {},
     "output_type": "execute_result"
    }
   ],
   "source": [
    "\"\"\"# Step 1: Use the same rating_sample_df (no need to sample again)\n",
    "\n",
    "# Step 2: Load Surprise dataset\n",
    "item_cf_data = Dataset.load_from_df(ratings_for_surprise, reader)\n",
    "item_cf_trainset = item_cf_data.build_full_trainset()\n",
    "\n",
    "# Step 3: Train Item-Based Collaborative Filtering model\n",
    "item_cf_model = KNNBasic(sim_options={'name': 'cosine', 'user_based': False}, verbose=False)\n",
    "item_cf_model.fit(item_cf_trainset)\n",
    "\n",
    "# Step 4: Define function to get top N recommendations using item-based CF\n",
    "def get_top_n_item_cf(user_id, n=10):\n",
    "    try:\n",
    "        inner_uid = item_cf_trainset.to_inner_uid(user_id)\n",
    "    except ValueError:\n",
    "        print(f\"User ID {user_id} not found in training set.\")\n",
    "        return []\n",
    "\n",
    "    rated_items = set(j for (j, _) in item_cf_trainset.ur[inner_uid])\n",
    "    unseen_items = set(item_cf_trainset.all_items()) - rated_items\n",
    "\n",
    "    predictions = [item_cf_model.predict(user_id, item_cf_trainset.to_raw_iid(i)) for i in unseen_items]\n",
    "    top_n = sorted(predictions, key=lambda x: x.est, reverse=True)[:n]\n",
    "\n",
    "    return [(pred.iid, round(pred.est, 2)) for pred in top_n]\n",
    "\n",
    "# Step 5: Example usage\n",
    "sample_user_id = rating_sample_df['User-ID'].sample(n=1, random_state=42).iloc[0]\n",
    "item_cf_top_books = get_top_n_item_cf(sample_user_id, n=5)\n",
    "\n",
    "print(f\"Top 5 Item-Based CF Recommendations for User {sample_user_id}:\")\n",
    "for isbn, score in item_cf_top_books:\n",
    "    title = merged_df.loc[merged_df['ISBN'] == isbn, 'Book-Title'].dropna().unique()\n",
    "    print(f\"ISBN: {isbn} | Score: {score} | Title: {title[0] if len(title) else 'Unknown'}\")\n",
    "\"\"\""
   ]
  },
  {
   "cell_type": "markdown",
   "id": "88b4664f",
   "metadata": {},
   "source": [
    "### Model Evaluation"
   ]
  },
  {
   "cell_type": "code",
   "execution_count": 29,
   "id": "73e033ca",
   "metadata": {},
   "outputs": [
    {
     "data": {
      "text/plain": [
       "'\\n#evaluation, item based\\nprint(\"---Item Based---\")\\nresults_item_based = cross_validate(algo, data_item_based, measures=[\\'RMSE\\', \\'MAE\\'], cv=3, verbose=True)\\n'"
      ]
     },
     "execution_count": 29,
     "metadata": {},
     "output_type": "execute_result"
    }
   ],
   "source": [
    "\"\"\"\n",
    "#evaluation, item based\n",
    "print(\"---Item Based---\")\n",
    "results_item_based = cross_validate(algo, data_item_based, measures=['RMSE', 'MAE'], cv=3, verbose=True)\n",
    "\"\"\"\n",
    "\n"
   ]
  },
  {
   "cell_type": "markdown",
   "id": "f1a8aa28",
   "metadata": {},
   "source": [
    "## 5.2.3 Matrix Factorization (SVD)\n",
    "\n",
    "To improve recommendation quality, we apply **Singular Value Decomposition (SVD)** using the Surprise library.  \n",
    "Unlike KNN, SVD learns **latent factors** representing users and items, enabling better predictions even with sparse data.\n",
    "\n",
    "We use the full dataset (non-zero ratings) without sampling, train the SVD model, and generate top-N book recommendations.\n",
    "\n",
    "### Key Points\n",
    "- **SVD:**  \n",
    "  Learns hidden patterns by factorizing the user-item matrix into lower dimensions.\n",
    "- **Advantages over KNN:**  \n",
    "  - Handles sparsity better.  \n",
    "  - Captures deeper relationships beyond surface-level similarity.  \n",
    "  - Scales efficiently to large datasets without needing sampling.\n",
    "- **No Sampling:**  \n",
    "  Full dataset used to maximize learning and recommendation quality.\n"
   ]
  },
  {
   "cell_type": "code",
   "execution_count": 30,
   "id": "64755983",
   "metadata": {},
   "outputs": [
    {
     "data": {
      "text/plain": [
       "'The dataset has 433671 rows and 12 columns.'"
      ]
     },
     "metadata": {},
     "output_type": "display_data"
    },
    {
     "name": "stdout",
     "output_type": "stream",
     "text": [
      "Top 5 SVD Recommendations for User 32440:\n",
      "ISBN: 8826703132 | Score: 9.52 | Title: Unknown\n",
      "ISBN: 0812550706 | Score: 9.42 | Title: Ender's Game (Ender Wiggins Saga (Paperback))\n",
      "ISBN: 0140143505 | Score: 9.34 | Title: 84 Charing Cross Road\n",
      "ISBN: 0385504209 | Score: 9.34 | Title: The Da Vinci Code\n",
      "ISBN: 0743454529 | Score: 9.32 | Title: My Sister's Keeper : A Novel (Picoult, Jodi)\n"
     ]
    }
   ],
   "source": [
    "# Step 1: Patch numpy and import libraries\n",
    "np.int = int  # For compatibility with Surprise\n",
    "\n",
    "\n",
    "from surprise import SVD\n",
    "warnings.filterwarnings('ignore')\n",
    "\n",
    "# Step 2: Filter ratings (no sampling now!)\n",
    "useful_ratings_df = merged_df[merged_df['Book-Rating'] > 0]\n",
    "\n",
    "display(f\"The dataset has {useful_ratings_df.shape[0]} rows and {useful_ratings_df.shape[1]} columns.\")\n",
    "\n",
    "# Step 3: Load Surprise dataset\n",
    "reader = Reader(rating_scale=(1, 10))\n",
    "ratings_for_surprise = useful_ratings_df[['User-ID', 'ISBN', 'Book-Rating']]\n",
    "user_cf_data = Dataset.load_from_df(ratings_for_surprise, reader)\n",
    "user_cf_trainset = user_cf_data.build_full_trainset()\n",
    "\n",
    "\n",
    "\n",
    "# Step 4: Train SVD model\n",
    "svd_model = SVD()\n",
    "svd_model.fit(user_cf_trainset)\n",
    "\n",
    "# Step 5: Define function to get top N recommendations using SVD\n",
    "def get_top_n_user_cf(user_id, n=10):\n",
    "    try:\n",
    "        inner_uid = user_cf_trainset.to_inner_uid(user_id)\n",
    "    except ValueError:\n",
    "        print(f\"User ID {user_id} not found in training set.\")\n",
    "        return []\n",
    "\n",
    "    rated_items = set(j for (j, _) in user_cf_trainset.ur[inner_uid])\n",
    "    unseen_items = set(user_cf_trainset.all_items()) - rated_items\n",
    "\n",
    "    predictions = [svd_model.predict(user_id, user_cf_trainset.to_raw_iid(i)) for i in unseen_items]\n",
    "    top_n = sorted(predictions, key=lambda x: x.est, reverse=True)[:n]\n",
    "\n",
    "    return [(pred.iid, round(pred.est, 2)) for pred in top_n]\n",
    "\n",
    "# Step 6: Example usage\n",
    "sample_user_id = useful_ratings_df['User-ID'].sample(n=1, random_state=42).iloc[0]\n",
    "user_cf_top_books = get_top_n_user_cf(sample_user_id, n=5)\n",
    "\n",
    "print(f\"Top 5 SVD Recommendations for User {sample_user_id}:\")\n",
    "for isbn, score in user_cf_top_books:\n",
    "    title = merged_df.loc[merged_df['ISBN'] == isbn, 'Book-Title'].dropna().unique()\n",
    "    print(f\"ISBN: {isbn} | Score: {score} | Title: {title[0] if len(title) else 'Unknown'}\")\n"
   ]
  },
  {
   "cell_type": "markdown",
   "id": "2e68660d",
   "metadata": {},
   "source": [
    "### Model Evaluation"
   ]
  },
  {
   "cell_type": "code",
   "execution_count": 31,
   "id": "7845a613",
   "metadata": {},
   "outputs": [
    {
     "name": "stdout",
     "output_type": "stream",
     "text": [
      "---Matrix Factorization (SVD)---\n",
      "Evaluating RMSE, MAE of algorithm SVD on 3 split(s).\n",
      "\n",
      "                  Fold 1  Fold 2  Fold 3  Mean    Std     \n",
      "RMSE (testset)    1.6438  1.6538  1.6475  1.6484  0.0041  \n",
      "MAE (testset)     1.2707  1.2787  1.2728  1.2741  0.0034  \n",
      "Fit time          20.78   20.38   23.22   21.46   1.26    \n",
      "Test time         1.55    1.53    1.10    1.39    0.21    \n",
      "------\n"
     ]
    }
   ],
   "source": [
    "\n",
    "print(\"---Matrix Factorization (SVD)---\")\n",
    "results_svd = cross_validate(svd_model, user_cf_data, measures=['RMSE', 'MAE'], cv=3, verbose=True)\n",
    "print(\"------\")\n",
    "\n"
   ]
  },
  {
   "cell_type": "markdown",
   "id": "d2c45bd0",
   "metadata": {},
   "source": [
    "### 5.2.3 Summary: Collaborative Filtering Models\n",
    "\n",
    "To evaluate our collaborative filtering models, we used **RMSE (Root Mean Squared Error)** and **MAE (Mean Absolute Error)**, which measure how closely our predicted ratings match the actual ratings.\n",
    "\n",
    "- **RMSE** penalizes larger errors more and is ideal when rating accuracy is critical.\n",
    "- **MAE** provides a simple average of error magnitude.\n",
    "\n",
    "We performed evaluation using `cross_validate` from Surprise with 3-fold cross-validation:\n"
   ]
  },
  {
   "cell_type": "markdown",
   "id": "5cc7e140",
   "metadata": {},
   "source": [
    "### Model Comparison: Collaborative Filtering with KNN model vs SVD Model\n",
    "\n",
    "We evaluated both models using **3-fold cross-validation** with RMSE and MAE:\n",
    "\n",
    "| Model           | RMSE (Mean)      | MAE (Mean) |\n",
    "|-----------------|------------------|------------|\n",
    "| KNN(User-Based) | 1.8554           | 1.5034     |\n",
    "| SVD             | **1.6485**       | **1.2737** |\n",
    "\n",
    "SVD model performs better than KNN across both metrics. Hence it shall be used for the final hybrid recommender system\n",
    "\n"
   ]
  },
  {
   "cell_type": "markdown",
   "id": "cf348c9b",
   "metadata": {},
   "source": [
    "## 5.3 Content-Based Filtering\n",
    "\n",
    "To build a personalized recommendation system based on the characteristics of books, we implement a **content-based filtering** model. This approach uses metadata (title, author, and publisher) to compute similarity between books and recommend those with similar content. It does not depend on user interactions.\n",
    "\n",
    "We first filter out books with missing metadata and use **TF-IDF vectorization** to transform text into numerical features. **Cosine similarity** is then applied to measure book-to-book similarity.\n",
    "\n",
    "### Explanation of setup\n",
    "- **Title cleaning**  \n",
    "  Some books that end with the phrase ***\"A Novel\"*** may introduce bias to our recommendation by adding similarities between books artificially. Title is cleaned to remove this bias\n",
    "- **TF-IDF Vectorizer**  \n",
    "  Converts book metadata (title, author, publisher) into numerical feature vectors based on word frequency, with emphasis on distinctive words. `stop_words='english'` removes common uninformative words. `max_features=5000` balances model size and accuracy.\n",
    "  \n",
    "- **Cosine Similarity**  \n",
    "  Measures the angle between two text feature vectors; ideal for text-based similarity.\n",
    "\n",
    "- **Metadata Filtering**  \n",
    "  Only books with valid metadata are used to ensure meaningful recommendations.\n",
    "\n",
    "- **Recommendation Logic**  \n",
    "  Finds top N books most similar to a given title based on the cosine similarity matrix.\n",
    "\n",
    "This method is effective in recommending similar books even for new users with no prior ratings.\n"
   ]
  },
  {
   "cell_type": "code",
   "execution_count": 41,
   "id": "cd83cb9f",
   "metadata": {},
   "outputs": [
    {
     "data": {
      "text/html": [
       "<div>\n",
       "<style scoped>\n",
       "    .dataframe tbody tr th:only-of-type {\n",
       "        vertical-align: middle;\n",
       "    }\n",
       "\n",
       "    .dataframe tbody tr th {\n",
       "        vertical-align: top;\n",
       "    }\n",
       "\n",
       "    .dataframe thead th {\n",
       "        text-align: right;\n",
       "    }\n",
       "</style>\n",
       "<table border=\"1\" class=\"dataframe\">\n",
       "  <thead>\n",
       "    <tr style=\"text-align: right;\">\n",
       "      <th></th>\n",
       "      <th>Book-Title</th>\n",
       "      <th>Book-Author</th>\n",
       "      <th>Publisher</th>\n",
       "    </tr>\n",
       "  </thead>\n",
       "  <tbody>\n",
       "    <tr>\n",
       "      <th>264573</th>\n",
       "      <td>Chateau Villon</td>\n",
       "      <td>Emily Spenser</td>\n",
       "      <td>Harlequin</td>\n",
       "    </tr>\n",
       "    <tr>\n",
       "      <th>41258</th>\n",
       "      <td>Irreconcilable Differences</td>\n",
       "      <td>Lia Matera</td>\n",
       "      <td>Avon</td>\n",
       "    </tr>\n",
       "    <tr>\n",
       "      <th>18715</th>\n",
       "      <td>The Dollmaker</td>\n",
       "      <td>Harriette Arnow</td>\n",
       "      <td>Avon</td>\n",
       "    </tr>\n",
       "    <tr>\n",
       "      <th>93975</th>\n",
       "      <td>Aftermath</td>\n",
       "      <td>Ladislas Farago</td>\n",
       "      <td>Avon</td>\n",
       "    </tr>\n",
       "    <tr>\n",
       "      <th>63735</th>\n",
       "      <td>Minor in Possession</td>\n",
       "      <td>J.A. Jance</td>\n",
       "      <td>Avon</td>\n",
       "    </tr>\n",
       "  </tbody>\n",
       "</table>\n",
       "</div>"
      ],
      "text/plain": [
       "                        Book-Title      Book-Author  Publisher\n",
       "264573              Chateau Villon    Emily Spenser  Harlequin\n",
       "41258   Irreconcilable Differences       Lia Matera       Avon\n",
       "18715                The Dollmaker  Harriette Arnow       Avon\n",
       "93975                    Aftermath  Ladislas Farago       Avon\n",
       "63735          Minor in Possession       J.A. Jance       Avon"
      ]
     },
     "execution_count": 41,
     "metadata": {},
     "output_type": "execute_result"
    }
   ],
   "source": [
    "import re\n",
    "\n",
    "# Step 1: Clean titles by removing \"A Novel\" (with or without colon)\n",
    "def clean_title(title):\n",
    "    title = re.sub(r':?\\s*A Novel\\b', '', title, flags=re.IGNORECASE)\n",
    "    return title.strip()\n",
    "\n",
    "# Step 2: Prepare metadata\n",
    "content_model_data = books_df[['Book-Title', 'Book-Author', 'Publisher']].copy()\n",
    "\n",
    "# Step 3: Apply title cleaning\n",
    "content_model_data['Clean-Title'] = content_model_data['Book-Title'].fillna('').apply(clean_title)\n",
    "\n",
    "\n",
    "# Step 4: Combine metadata fields \n",
    "content_model_data['content'] = (\n",
    "    content_model_data['Clean-Title'].fillna('') + ' ' +\n",
    "    (content_model_data['Book-Author'].fillna('') + ' ') +  \n",
    "    content_model_data['Publisher'].fillna('')\n",
    ")\n",
    "\n",
    "# Step 5: Apply TF-IDF vectorization\n",
    "from sklearn.feature_extraction.text import TfidfVectorizer\n",
    "from sklearn.metrics.pairwise import cosine_similarity\n",
    "\n",
    "tfidf_vectorizer = TfidfVectorizer(stop_words='english', max_features=5000)\n",
    "tfidf_matrix = tfidf_vectorizer.fit_transform(content_model_data['content'])\n",
    "\n",
    "# Step 6: Define function to recommend similar books based on content\n",
    "def recommend_books_content(title, n=5):\n",
    "    clean_input_title = clean_title(title)\n",
    "    \n",
    "    matches = content_model_data[\n",
    "        content_model_data['Clean-Title'].str.lower() == clean_input_title.lower()\n",
    "    ]\n",
    "\n",
    "    if matches.empty:\n",
    "        # fallback to fuzzy partial match\n",
    "        matches = content_model_data[\n",
    "            content_model_data['Clean-Title'].str.lower().str.contains(clean_input_title.lower())\n",
    "        ]\n",
    "        if matches.empty:\n",
    "            return []\n",
    "\n",
    "    idx = matches.index[0]\n",
    "    sim_scores = cosine_similarity(tfidf_matrix[idx], tfidf_matrix).flatten()\n",
    "    similar_indices = sim_scores.argsort()[::-1][1:n+1]\n",
    "\n",
    "    return content_model_data.iloc[similar_indices][['Book-Title', 'Book-Author', 'Publisher']]\n",
    "\n",
    "\n",
    "# Step 7: Example usage\n",
    "recommend_books_content(\"The Gazebo: A Novel\")\n",
    "\n",
    "\n"
   ]
  },
  {
   "cell_type": "markdown",
   "id": "daf4d208",
   "metadata": {},
   "source": [
    "## 5.4 Hybrid Recommendation System\n",
    "\n",
    "To build a robust and flexible recommendation system that leverages the strengths of multiple approaches, we implement a **hybrid recommendation system**. This combines **collaborative filtering**, **content-based filtering**, and **popularity-based recommendations** into a single, adaptive framework.\n",
    "\n",
    "This strategy improves personalization, handles cold-start users, and offers fallback options when limited user history is available.\n",
    "\n",
    "### Explanation of setup\n",
    "\n",
    "- **Collaborative Filtering (CF)**  \n",
    "  Predicts a user's preferences based on ratings from similar users.  \n",
    "  - **Matrix Factorization (SVD)** is used to find nearest neighbors among users.\n",
    "  - Only unseen items (not yet rated by the user) are considered for recommendation.\n",
    "  - Ideal for users with sufficient interaction history.\n",
    "\n",
    "- **Content-Based Filtering**  \n",
    "  Recommends books similar to a user's favorite based on metadata (title, author, publisher).\n",
    "  - Uses **TF-IDF Vectorization** to represent metadata numerically.\n",
    "  - **Cosine similarity** identifies the most similar books.\n",
    "  - Effective even for users with few ratings (cold start).\n",
    "\n",
    "- **Popularity-Based Recommendations**  \n",
    "  Fallback method recommending highly-rated, frequently-reviewed books.\n",
    "  - Popular books are computed based on **average rating** and **number of ratings**.\n",
    "  - Popularity lists can be adjusted by **age group**, **city**, or **country** if available.\n",
    "\n",
    "- **Recommendation Logic**  \n",
    "  1. First attempt personalized recommendations via **Collaborative Filtering**.\n",
    "  2. If a favorite book title is provided, fetch similar books via **Content-Based Filtering**.\n",
    "  3. If needed, fill remaining slots using **Popularity-Based Recommendations**.\n",
    "  4. Remove duplicates and prioritize diversity in final list.\n",
    "\n",
    "This hybrid system ensures that all users—new or experienced—receive data-driven and personalized book recommendations.\n"
   ]
  },
  {
   "cell_type": "code",
   "execution_count": 42,
   "id": "8cafd3b8",
   "metadata": {},
   "outputs": [],
   "source": [
    "# --- Preprocessing: Clean \"A Novel\" from titles in merged_df ---\n",
    "merged_df['Clean-Title'] = merged_df['Book-Title'].fillna('').apply(clean_title)\n",
    "\n",
    "# --- 0. Precompute Popularity Based on Average Ratings ---\n",
    "valid_popularity_df = merged_df[(merged_df['Book-Rating'] > 0) & (merged_df['Missing_Metadata'] == False)]\n",
    "\n",
    "book_avg_ratings = valid_popularity_df.groupby('ISBN')['Book-Rating'].mean()\n",
    "book_rating_counts = valid_popularity_df.groupby('ISBN').size()\n",
    "\n",
    "valid_books = book_rating_counts[book_rating_counts >= 5].index\n",
    "book_avg_ratings = book_avg_ratings.loc[valid_books]\n",
    "\n",
    "pop_overall = book_avg_ratings.sort_values(ascending=False).index.tolist()\n",
    "\n",
    "pop_by_age_group = (\n",
    "    valid_popularity_df[valid_popularity_df['ISBN'].isin(valid_books)]\n",
    "    .groupby(['Age_Group', 'ISBN'])['Book-Rating']\n",
    "    .mean()\n",
    "    .sort_values(ascending=False)\n",
    "    .groupby('Age_Group')\n",
    "    .apply(lambda x: x.index.get_level_values(1).tolist())\n",
    "    .to_dict()\n",
    ")\n",
    "\n",
    "pop_by_country = (\n",
    "    valid_popularity_df[valid_popularity_df['ISBN'].isin(valid_books)]\n",
    "    .groupby(['Country', 'ISBN'])['Book-Rating']\n",
    "    .mean()\n",
    "    .sort_values(ascending=False)\n",
    "    .groupby('Country')\n",
    "    .apply(lambda x: x.index.get_level_values(1).tolist())\n",
    "    .to_dict()\n",
    ")\n",
    "\n",
    "pop_by_city = (\n",
    "    valid_popularity_df[valid_popularity_df['ISBN'].isin(valid_books)]\n",
    "    .groupby(['City', 'ISBN'])['Book-Rating']\n",
    "    .mean()\n",
    "    .sort_values(ascending=False)\n",
    "    .groupby('City')\n",
    "    .apply(lambda x: x.index.get_level_values(1).tolist())\n",
    "    .to_dict()\n",
    ")\n",
    "\n",
    "# --- 1. User-Based Collaborative Filtering Recommendations ---\n",
    "def get_top_n_user_cf(user_id, n=5):\n",
    "    try:\n",
    "        inner_uid = user_cf_trainset.to_inner_uid(user_id)\n",
    "    except ValueError:\n",
    "        return []\n",
    "    \n",
    "    rated_items = set(j for (j, _) in user_cf_trainset.ur[inner_uid])\n",
    "    unseen_items = set(user_cf_trainset.all_items()) - rated_items\n",
    "\n",
    "    predictions = [user_cf_model.predict(user_id, user_cf_trainset.to_raw_iid(i)) for i in unseen_items]\n",
    "    top_n = sorted(predictions, key=lambda x: x.est, reverse=True)\n",
    "\n",
    "    result = []\n",
    "    for pred in top_n:\n",
    "        book_row = merged_df[(merged_df['ISBN'] == pred.iid) & (merged_df['Missing_Metadata'] == False)]\n",
    "        if not book_row.empty:\n",
    "            result.append(book_row.iloc[0]['Book-Title'])\n",
    "        if len(result) >= n:\n",
    "            break\n",
    "    return result\n",
    "\n",
    "# --- 2. Content-Based Filtering Recommendations ---\n",
    "def recommend_books_content(title, n=5):\n",
    "    cleaned_input_title = clean_title(title)\n",
    "    try:\n",
    "        idx = content_model_data[content_model_data['Clean-Title'].str.lower() == cleaned_input_title.lower()].index[0]\n",
    "    except IndexError:\n",
    "        return []\n",
    "    \n",
    "    sim_scores = cosine_similarity(tfidf_matrix[idx], tfidf_matrix).flatten()\n",
    "    similar_indices = sim_scores.argsort()[::-1][1:]\n",
    "\n",
    "    recommended_books = []\n",
    "    for i in similar_indices:\n",
    "        row = content_model_data.iloc[i]\n",
    "        title_candidate = row['Book-Title']\n",
    "        meta_row = merged_df[(merged_df['Book-Title'] == title_candidate) & (merged_df['Missing_Metadata'] == False)]\n",
    "        if not meta_row.empty:\n",
    "            recommended_books.append(meta_row.iloc[0]['Book-Title'])\n",
    "        if len(recommended_books) >= n:\n",
    "            break\n",
    "    \n",
    "    return recommended_books\n",
    "\n",
    "# --- 3. Popularity-Based Recommendations (Cold Start Fallback) ---\n",
    "def recommend_popular_books(user_id, n=5):\n",
    "    user_info = merged_df[merged_df['User-ID'] == user_id]\n",
    "    \n",
    "    if user_info.empty:\n",
    "        candidates = pop_overall\n",
    "    else:\n",
    "        user_info = user_info.iloc[0]\n",
    "        age_group = user_info.get('Age_Group', 'Unknown')\n",
    "        city = user_info.get('City')\n",
    "        country = user_info.get('Country')\n",
    "\n",
    "        candidates = []\n",
    "        if city and city in pop_by_city:\n",
    "            candidates += pop_by_city[city]\n",
    "        if country and country in pop_by_country:\n",
    "            candidates += pop_by_country[country]\n",
    "        if age_group != 'Unknown' and age_group in pop_by_age_group:\n",
    "            candidates += pop_by_age_group[age_group]\n",
    "\n",
    "        if not candidates:\n",
    "            candidates = pop_overall\n",
    "\n",
    "    seen = set()\n",
    "    unique_candidates = [x for x in candidates if not (x in seen or seen.add(x))]\n",
    "\n",
    "    popular_titles = []\n",
    "    for isbn in unique_candidates:\n",
    "        book_row = merged_df[(merged_df['ISBN'] == isbn) & (merged_df['Missing_Metadata'] == False)]\n",
    "        if not book_row.empty:\n",
    "            popular_titles.append(book_row.iloc[0]['Book-Title'])\n",
    "        if len(popular_titles) >= n:\n",
    "            break\n",
    "    \n",
    "    return popular_titles\n",
    "\n",
    "# --- 4. Full Hybrid Recommendation Function ---\n",
    "def hybrid_recommendation(user_id, favorite_book_title=None, n_cf=3, n_content=2, n_popular=2):\n",
    "    recommendations = []\n",
    "\n",
    "    # 4.1 Collaborative Filtering\n",
    "    cf_recommendations = get_top_n_user_cf(user_id, n=n_cf)\n",
    "    recommendations.extend(cf_recommendations)\n",
    "    \n",
    "    # 4.2 Content-Based Filtering\n",
    "    if favorite_book_title:\n",
    "        content_recs = recommend_books_content(favorite_book_title, n=n_content)\n",
    "        recommendations.extend(content_recs)\n",
    "    \n",
    "    # 4.3 Popularity fallback\n",
    "    if len(recommendations) < (n_cf + n_content):\n",
    "        popular_recs = recommend_popular_books(user_id, n=n_popular)\n",
    "        recommendations.extend(popular_recs)\n",
    "\n",
    "    # 4.4 Deduplicate while preserving order\n",
    "    seen = set()\n",
    "    final_recommendations = []\n",
    "    for book in recommendations:\n",
    "        if book and book not in seen:\n",
    "            seen.add(book)\n",
    "            final_recommendations.append(book)\n",
    "    \n",
    "    return final_recommendations[:n_cf + n_content + n_popular]\n",
    "\n",
    "\n",
    "\n"
   ]
  },
  {
   "cell_type": "code",
   "execution_count": 48,
   "id": "f9bf83a0",
   "metadata": {},
   "outputs": [
    {
     "name": "stdout",
     "output_type": "stream",
     "text": [
      "Hybrid Recommendations for User 32440:\n",
      "1. Lilith's Brood\n"
     ]
    },
    {
     "data": {
      "text/html": [
       "<img src=\"http://images.amazon.com/images/P/0446676101.01.LZZZZZZZ.jpg\"/>"
      ],
      "text/plain": [
       "<IPython.core.display.Image object>"
      ]
     },
     "metadata": {},
     "output_type": "display_data"
    },
    {
     "name": "stdout",
     "output_type": "stream",
     "text": [
      "2. Confessions of a Mask (New Directions Paperbook)\n"
     ]
    },
    {
     "data": {
      "text/html": [
       "<img src=\"http://images.amazon.com/images/P/081120118X.01.LZZZZZZZ.jpg\"/>"
      ],
      "text/plain": [
       "<IPython.core.display.Image object>"
      ]
     },
     "metadata": {},
     "output_type": "display_data"
    },
    {
     "name": "stdout",
     "output_type": "stream",
     "text": [
      "3. Rising Sun\n"
     ]
    },
    {
     "data": {
      "text/html": [
       "<img src=\"http://images.amazon.com/images/P/0345380371.01.LZZZZZZZ.jpg\"/>"
      ],
      "text/plain": [
       "<IPython.core.display.Image object>"
      ]
     },
     "metadata": {},
     "output_type": "display_data"
    },
    {
     "name": "stdout",
     "output_type": "stream",
     "text": [
      "4. Chateau Villon\n"
     ]
    },
    {
     "data": {
      "text/html": [
       "<img src=\"http://images.amazon.com/images/P/0373026684.01.LZZZZZZZ.jpg\"/>"
      ],
      "text/plain": [
       "<IPython.core.display.Image object>"
      ]
     },
     "metadata": {},
     "output_type": "display_data"
    },
    {
     "name": "stdout",
     "output_type": "stream",
     "text": [
      "5. Irreconcilable Differences\n"
     ]
    },
    {
     "data": {
      "text/html": [
       "<img src=\"http://images.amazon.com/images/P/0061097330.01.LZZZZZZZ.jpg\"/>"
      ],
      "text/plain": [
       "<IPython.core.display.Image object>"
      ]
     },
     "metadata": {},
     "output_type": "display_data"
    }
   ],
   "source": [
    "# --- 5. Example Usage ---\n",
    "from IPython.display import Image, display\n",
    "\n",
    "sample_user_id = useful_ratings_df['User-ID'].sample(n=1, random_state=42).iloc[0]\n",
    "hybrid_recs = hybrid_recommendation(sample_user_id, favorite_book_title=\"The Gazebo: A Novel\", n_cf=3, n_content=2, n_popular=2)\n",
    "print(f\"Hybrid Recommendations for User {sample_user_id}:\")\n",
    "\n",
    "for i, book_title in enumerate(hybrid_recs, 1):\n",
    "    print(f\"{i}. {book_title}\")\n",
    "    \n",
    "    # Find ISBN in merged_df\n",
    "    book_row = merged_df[(merged_df['Book-Title'] == book_title) & (merged_df['Missing_Metadata'] == False)]\n",
    "    \n",
    "    if not book_row.empty:\n",
    "        isbn = book_row.iloc[0]['ISBN']\n",
    "        \n",
    "        # Now find the book in books_df using ISBN\n",
    "        book_info = books_df[books_df['ISBN'] == isbn]\n",
    "        \n",
    "        if not book_info.empty:\n",
    "            image_url = book_info.iloc[0]['Image-URL-L']  # MLarge-size image\n",
    "            \n",
    "            # Display the image\n",
    "            display(Image(url=image_url))\n"
   ]
  },
  {
   "cell_type": "markdown",
   "id": "8beefd7f",
   "metadata": {},
   "source": [
    "## 5.6 Conclusion\n",
    "---\n",
    "\n",
    "The **Book Recommendation System** successfully delivers **personalized book suggestions** using a **hybrid approach** that combines:\n",
    "\n",
    "- **Collaborative Filtering** (User-based)\n",
    "- **Content-Based Filtering** (Book metadata & TF-IDF)\n",
    "- **Popularity-Based Recommendations** (for cold start users)\n",
    "\n",
    "**Key Achievements**:\n",
    "- **Handled cold start** for new users through popularity-based recommendations by age, city, and country.\n",
    "- **Addressed data sparsity** by focusing on users/books with sufficient ratings and applying fallbacks when needed.\n",
    "- **Improved diversity** through content-based recommendations.\n",
    "- **Generated explainable and relevant suggestions** to enhance user satisfaction and engagement.\n",
    "\n",
    "This approach aligns well with our business goals:\n",
    "- **Increased user engagement** via personalized recs.\n",
    "- **Boosted visibility** for a broader set of books, including niche titles.\n",
    "- **Scalable architecture** ready for integration into web-based platforms like online bookstores.\n"
   ]
  },
  {
   "cell_type": "markdown",
   "id": "e6ac4187",
   "metadata": {},
   "source": [
    "# 6. Deployment\n",
    "## 6.1. Deployment Overview (Flask + HTML)\n",
    "---\n",
    "\n",
    "To make the recommendation system accessible to end-users, we'll deploy it via a **Flask web application** with a simple front-end interface.\n",
    "\n",
    "### 6.1.1 Project Structure:\n",
    "``` \n",
    "│Leo\n",
    "├── app.py                      # Flask app entry point\n",
    "├── templates/\n",
    "│   └── index.html              # Homepage with input form for user ID/book title\n",
    "│   └── recommendations.html    # Displays recommended books + images\n",
    "├── static/\n",
    "│   └── style.css               # Basic styling for HTML pages\n",
    "│\n",
    "├── models/\n",
    "│   └── user_cf_model.pkl       # Trained collaborative filtering model\n",
    "│   └── tfidf_matrix.pkl        # TF-IDF matrix for content-based filtering\n",
    "│\n",
    "├── data/\n",
    "│   └── merged_df.pkl           # Processed metadata and ratings dataframe\n",
    "│   └── books_df.pkl            # Book details and images\n",
    "│\n",
    "└── utils.py                    # Helper functions for cleaning, recommending, etc.\n",
    "\n",
    "```\n",
    "\n",
    "### Key Features:\n",
    "- Input: User ID (and optionally, a favorite book)\n",
    "- Output: Top N hybrid recommendations with book covers\n",
    "- Recommendation logic handled via `hybrid_recommendation()` function\n",
    "- Flask routes for form handling, data loading, and prediction\n"
   ]
  },
  {
   "cell_type": "markdown",
   "id": "70258247",
   "metadata": {},
   "source": [
    "## 6.2 Saving Deployment components\n",
    "\n",
    "Save all necessary components for hybrid recommendation under the assumption of no new users/books:\n",
    "\n",
    "- `svd_model.pkl`: Trained SVD model for collaborative filtering.\n",
    "- `tfidf_matrix.pkl`: TF-IDF vectors for content-based filtering.\n",
    "- `indices.pkl`: Mapping of book titles to TF-IDF matrix indices.\n",
    "- `merged_data.pkl`: Preprocessed DataFrame with user/book info and ratings.\n",
    "- `tfidf_vectorizer.pkl`: TF-IDF vectorizer for future use.\n",
    "\n",
    "These files will be loaded in `app.py` to serve hybrid recommendations without retraining.\n"
   ]
  },
  {
   "cell_type": "code",
   "execution_count": 49,
   "id": "6fbb773a",
   "metadata": {},
   "outputs": [],
   "source": [
    "import pickle\n",
    "\n",
    "# 1. Save trained SVD model\n",
    "with open(\"../Deployment/Leo/models/svd_model.pkl\", \"wb\") as f:\n",
    "    pickle.dump(svd_model, f)\n",
    "\n",
    "# 2. Save TF-IDF matrix (used for content-based filtering)\n",
    "with open(\"../Deployment/Leo/models/tfidf_matrix.pkl\", \"wb\") as f:\n",
    "    pickle.dump(tfidf_matrix, f)\n",
    "\n",
    "# 3. Save indices mapping (book title -> index in tfidf matrix)\n",
    "indices = pd.Series(content_model_data.index, index=content_model_data['Clean-Title'].str.lower())\n",
    "\n",
    "with open(\"../Deployment/Leo/models/indices.pkl\", \"wb\") as f:\n",
    "    pickle.dump(indices, f)\n",
    "\n",
    "# 4. Save merged dataset (contains user IDs, ratings, book titles, etc.)\n",
    "with open(\"../Deployment/Leo/data/merged_data.pkl\", \"wb\") as f:\n",
    "    pickle.dump(merged_df, f)\n",
    "\n",
    "# 5. Optional: Save the TF-IDF vectorizer (for future extensibility)\n",
    "with open(\"../Deployment/Leo/models/tfidf_vectorizer.pkl\", \"wb\") as f:\n",
    "    pickle.dump(tfidf_vectorizer, f)\n"
   ]
  },
  {
   "cell_type": "code",
   "execution_count": null,
   "id": "c54dcd5a",
   "metadata": {},
   "outputs": [],
   "source": []
  }
 ],
 "metadata": {
  "kernelspec": {
   "display_name": "learn-env",
   "language": "python",
   "name": "python3"
  },
  "language_info": {
   "codemirror_mode": {
    "name": "ipython",
    "version": 3
   },
   "file_extension": ".py",
   "mimetype": "text/x-python",
   "name": "python",
   "nbconvert_exporter": "python",
   "pygments_lexer": "ipython3",
   "version": "3.8.5"
  }
 },
 "nbformat": 4,
 "nbformat_minor": 5
}
