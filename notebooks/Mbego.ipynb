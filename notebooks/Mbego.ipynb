{
 "cells": [
  {
   "cell_type": "markdown",
   "id": "c8822162",
   "metadata": {},
   "source": [
    "\n",
    "##   <span style=\"color:#00BCD4\"> **Project : Building a Smart Book Recommendation System**</span> \n",
    "\n",
    "#### <span style=\"color:#00BCD4\"> **Introduction**</span> \n",
    "In today’s data-driven world, delivering personalized book recommendations is key to enhancing user engagement. This project aims to design a robust recommender system for Book-Crossing by combining collaborative filtering, content-based analysis, and hybrid techniques. Below are the core objectives that will guide our implementation, from data preparation to real-time deployment, ensuring actionable insights and measurable success.  \n"
   ]
  },
  {
   "cell_type": "markdown",
   "id": "c7052733",
   "metadata": {},
   "source": [
    "### **Key Objectives**  \n",
    "1. **Clean and explore the dataset** to handle missing values, standardize formats, and uncover insights about users, books, and ratings or give a pipeline approach for example ; **Establish a robust data pipeline** to ingest, clean, and structure raw user and book data for analysis and modeling. \n",
    "\n",
    "2. **Implement Collaborative Filtering**  \n",
    "   - Build a model that identifies user preference patterns from ratings data.  \n",
    "\n",
    "3. **Develop Content-Based Filtering**  \n",
    "   - Leverage book metadata (author, genre) to recommend similar titles.  \n",
    "\n",
    "4. **Create a Hybrid Recommendation Engine**  \n",
    "   - Merge collaborative and content-based methods for balanced accuracy and diversity.  \n",
    "\n",
    "5. **Optimize and Validate System Performance**  \n",
    "   - Evaluate models using RMSE and precision, then fine-tune hyperparameters.  \n",
    "\n",
    "6. **Deploy Real-Time Recommendations**  \n",
    "   - Build a dynamic feature that updates suggestions based on new user interactions.  "
   ]
  },
  {
   "cell_type": "markdown",
   "id": "ce786486",
   "metadata": {},
   "source": [
    "##  <span style=\"color:#00BCD4\"> **Data Understanding**</span> "
   ]
  },
  {
   "cell_type": "markdown",
   "id": "823f6242",
   "metadata": {},
   "source": [
    "### Data Loading"
   ]
  },
  {
   "cell_type": "code",
   "execution_count": 87,
   "id": "9d36781a",
   "metadata": {},
   "outputs": [],
   "source": [
    "import pandas as pd\n",
    "import numpy as np\n",
    "\n",
    "# Load each dataset (replace paths with your actual file paths)\n",
    "books_df = pd.read_csv(r'N:\\Moringa\\afterM\\Online book reco\\Online-Book-Recommender-System\\books_df.csv',sep=';',encoding='latin1',quotechar='\"',on_bad_lines='skip',engine='python')\n",
    "users_df = pd.read_csv(r'N:\\Moringa\\afterM\\Online book reco\\Online-Book-Recommender-System\\user_df.csv', sep=';', encoding='latin1',  quotechar='\"',on_bad_lines='skip', engine='python')\n",
    "ratings_df = pd.read_csv(r'N:\\Moringa\\afterM\\Online book reco\\Online-Book-Recommender-System\\ratings_df.csv', encoding='latin1', sep=';', quotechar='\"',on_bad_lines='skip', engine='python')\n"
   ]
  },
  {
   "cell_type": "markdown",
   "id": "692c2888",
   "metadata": {},
   "source": [
    "#### Books Data"
   ]
  },
  {
   "cell_type": "code",
   "execution_count": 88,
   "id": "e8f33d97",
   "metadata": {},
   "outputs": [
    {
     "data": {
      "text/html": [
       "<div>\n",
       "<style scoped>\n",
       "    .dataframe tbody tr th:only-of-type {\n",
       "        vertical-align: middle;\n",
       "    }\n",
       "\n",
       "    .dataframe tbody tr th {\n",
       "        vertical-align: top;\n",
       "    }\n",
       "\n",
       "    .dataframe thead th {\n",
       "        text-align: right;\n",
       "    }\n",
       "</style>\n",
       "<table border=\"1\" class=\"dataframe\">\n",
       "  <thead>\n",
       "    <tr style=\"text-align: right;\">\n",
       "      <th></th>\n",
       "      <th>ISBN</th>\n",
       "      <th>Book-Title</th>\n",
       "      <th>Book-Author</th>\n",
       "      <th>Year-Of-Publication</th>\n",
       "      <th>Publisher</th>\n",
       "      <th>Image-URL-S</th>\n",
       "      <th>Image-URL-M</th>\n",
       "      <th>Image-URL-L</th>\n",
       "    </tr>\n",
       "  </thead>\n",
       "  <tbody>\n",
       "    <tr>\n",
       "      <th>0</th>\n",
       "      <td>0195153448</td>\n",
       "      <td>Classical Mythology</td>\n",
       "      <td>Mark P. O. Morford</td>\n",
       "      <td>2002</td>\n",
       "      <td>Oxford University Press</td>\n",
       "      <td>http://images.amazon.com/images/P/0195153448.0...</td>\n",
       "      <td>http://images.amazon.com/images/P/0195153448.0...</td>\n",
       "      <td>http://images.amazon.com/images/P/0195153448.0...</td>\n",
       "    </tr>\n",
       "    <tr>\n",
       "      <th>1</th>\n",
       "      <td>0002005018</td>\n",
       "      <td>Clara Callan</td>\n",
       "      <td>Richard Bruce Wright</td>\n",
       "      <td>2001</td>\n",
       "      <td>HarperFlamingo Canada</td>\n",
       "      <td>http://images.amazon.com/images/P/0002005018.0...</td>\n",
       "      <td>http://images.amazon.com/images/P/0002005018.0...</td>\n",
       "      <td>http://images.amazon.com/images/P/0002005018.0...</td>\n",
       "    </tr>\n",
       "    <tr>\n",
       "      <th>2</th>\n",
       "      <td>0060973129</td>\n",
       "      <td>Decision in Normandy</td>\n",
       "      <td>Carlo D'Este</td>\n",
       "      <td>1991</td>\n",
       "      <td>HarperPerennial</td>\n",
       "      <td>http://images.amazon.com/images/P/0060973129.0...</td>\n",
       "      <td>http://images.amazon.com/images/P/0060973129.0...</td>\n",
       "      <td>http://images.amazon.com/images/P/0060973129.0...</td>\n",
       "    </tr>\n",
       "  </tbody>\n",
       "</table>\n",
       "</div>"
      ],
      "text/plain": [
       "         ISBN            Book-Title           Book-Author  \\\n",
       "0  0195153448   Classical Mythology    Mark P. O. Morford   \n",
       "1  0002005018          Clara Callan  Richard Bruce Wright   \n",
       "2  0060973129  Decision in Normandy          Carlo D'Este   \n",
       "\n",
       "   Year-Of-Publication                Publisher  \\\n",
       "0                 2002  Oxford University Press   \n",
       "1                 2001    HarperFlamingo Canada   \n",
       "2                 1991          HarperPerennial   \n",
       "\n",
       "                                         Image-URL-S  \\\n",
       "0  http://images.amazon.com/images/P/0195153448.0...   \n",
       "1  http://images.amazon.com/images/P/0002005018.0...   \n",
       "2  http://images.amazon.com/images/P/0060973129.0...   \n",
       "\n",
       "                                         Image-URL-M  \\\n",
       "0  http://images.amazon.com/images/P/0195153448.0...   \n",
       "1  http://images.amazon.com/images/P/0002005018.0...   \n",
       "2  http://images.amazon.com/images/P/0060973129.0...   \n",
       "\n",
       "                                         Image-URL-L  \n",
       "0  http://images.amazon.com/images/P/0195153448.0...  \n",
       "1  http://images.amazon.com/images/P/0002005018.0...  \n",
       "2  http://images.amazon.com/images/P/0060973129.0...  "
      ]
     },
     "execution_count": 88,
     "metadata": {},
     "output_type": "execute_result"
    }
   ],
   "source": [
    "books_df.head(3)"
   ]
  },
  {
   "cell_type": "markdown",
   "id": "e86b843c",
   "metadata": {},
   "source": [
    "#### Users Data"
   ]
  },
  {
   "cell_type": "code",
   "execution_count": 89,
   "id": "31eee5f9",
   "metadata": {},
   "outputs": [
    {
     "data": {
      "text/html": [
       "<div>\n",
       "<style scoped>\n",
       "    .dataframe tbody tr th:only-of-type {\n",
       "        vertical-align: middle;\n",
       "    }\n",
       "\n",
       "    .dataframe tbody tr th {\n",
       "        vertical-align: top;\n",
       "    }\n",
       "\n",
       "    .dataframe thead th {\n",
       "        text-align: right;\n",
       "    }\n",
       "</style>\n",
       "<table border=\"1\" class=\"dataframe\">\n",
       "  <thead>\n",
       "    <tr style=\"text-align: right;\">\n",
       "      <th></th>\n",
       "      <th>User-ID</th>\n",
       "      <th>Location</th>\n",
       "      <th>Age</th>\n",
       "    </tr>\n",
       "  </thead>\n",
       "  <tbody>\n",
       "    <tr>\n",
       "      <th>0</th>\n",
       "      <td>1</td>\n",
       "      <td>nyc, new york, usa</td>\n",
       "      <td>NaN</td>\n",
       "    </tr>\n",
       "    <tr>\n",
       "      <th>1</th>\n",
       "      <td>2</td>\n",
       "      <td>stockton, california, usa</td>\n",
       "      <td>18.0</td>\n",
       "    </tr>\n",
       "    <tr>\n",
       "      <th>2</th>\n",
       "      <td>3</td>\n",
       "      <td>moscow, yukon territory, russia</td>\n",
       "      <td>NaN</td>\n",
       "    </tr>\n",
       "  </tbody>\n",
       "</table>\n",
       "</div>"
      ],
      "text/plain": [
       "   User-ID                         Location   Age\n",
       "0        1               nyc, new york, usa   NaN\n",
       "1        2        stockton, california, usa  18.0\n",
       "2        3  moscow, yukon territory, russia   NaN"
      ]
     },
     "execution_count": 89,
     "metadata": {},
     "output_type": "execute_result"
    }
   ],
   "source": [
    "users_df.head(3)"
   ]
  },
  {
   "cell_type": "code",
   "execution_count": 90,
   "id": "a118a809",
   "metadata": {},
   "outputs": [
    {
     "name": "stdout",
     "output_type": "stream",
     "text": [
      "<class 'pandas.core.frame.DataFrame'>\n",
      "RangeIndex: 278177 entries, 0 to 278176\n",
      "Data columns (total 3 columns):\n",
      " #   Column    Non-Null Count   Dtype  \n",
      "---  ------    --------------   -----  \n",
      " 0   User-ID   278177 non-null  int64  \n",
      " 1   Location  278177 non-null  object \n",
      " 2   Age       167669 non-null  float64\n",
      "dtypes: float64(1), int64(1), object(1)\n",
      "memory usage: 6.4+ MB\n"
     ]
    }
   ],
   "source": [
    "users_df.info()"
   ]
  },
  {
   "cell_type": "markdown",
   "id": "228de3eb",
   "metadata": {},
   "source": [
    "Ratings Data"
   ]
  },
  {
   "cell_type": "code",
   "execution_count": 91,
   "id": "3734323d",
   "metadata": {},
   "outputs": [
    {
     "data": {
      "text/html": [
       "<div>\n",
       "<style scoped>\n",
       "    .dataframe tbody tr th:only-of-type {\n",
       "        vertical-align: middle;\n",
       "    }\n",
       "\n",
       "    .dataframe tbody tr th {\n",
       "        vertical-align: top;\n",
       "    }\n",
       "\n",
       "    .dataframe thead th {\n",
       "        text-align: right;\n",
       "    }\n",
       "</style>\n",
       "<table border=\"1\" class=\"dataframe\">\n",
       "  <thead>\n",
       "    <tr style=\"text-align: right;\">\n",
       "      <th></th>\n",
       "      <th>User-ID</th>\n",
       "      <th>ISBN</th>\n",
       "      <th>Book-Rating</th>\n",
       "    </tr>\n",
       "  </thead>\n",
       "  <tbody>\n",
       "    <tr>\n",
       "      <th>0</th>\n",
       "      <td>276725</td>\n",
       "      <td>034545104X</td>\n",
       "      <td>0</td>\n",
       "    </tr>\n",
       "    <tr>\n",
       "      <th>1</th>\n",
       "      <td>276726</td>\n",
       "      <td>0155061224</td>\n",
       "      <td>5</td>\n",
       "    </tr>\n",
       "    <tr>\n",
       "      <th>2</th>\n",
       "      <td>276727</td>\n",
       "      <td>0446520802</td>\n",
       "      <td>0</td>\n",
       "    </tr>\n",
       "  </tbody>\n",
       "</table>\n",
       "</div>"
      ],
      "text/plain": [
       "   User-ID        ISBN  Book-Rating\n",
       "0   276725  034545104X            0\n",
       "1   276726  0155061224            5\n",
       "2   276727  0446520802            0"
      ]
     },
     "execution_count": 91,
     "metadata": {},
     "output_type": "execute_result"
    }
   ],
   "source": [
    "ratings_df.head(3)"
   ]
  },
  {
   "cell_type": "code",
   "execution_count": 92,
   "id": "8f6d10f8",
   "metadata": {},
   "outputs": [
    {
     "name": "stdout",
     "output_type": "stream",
     "text": [
      "<class 'pandas.core.frame.DataFrame'>\n",
      "RangeIndex: 1149766 entries, 0 to 1149765\n",
      "Data columns (total 3 columns):\n",
      " #   Column       Non-Null Count    Dtype \n",
      "---  ------       --------------    ----- \n",
      " 0   User-ID      1149766 non-null  int64 \n",
      " 1   ISBN         1149766 non-null  object\n",
      " 2   Book-Rating  1149766 non-null  int64 \n",
      "dtypes: int64(2), object(1)\n",
      "memory usage: 26.3+ MB\n"
     ]
    }
   ],
   "source": [
    "ratings_df.info()"
   ]
  },
  {
   "cell_type": "markdown",
   "id": "bbb9f14f",
   "metadata": {},
   "source": [
    "#### Data Merging "
   ]
  },
  {
   "cell_type": "markdown",
   "id": "4fef03f4",
   "metadata": {},
   "source": [
    "1. **Ratings + Books merge (on ISBN)**:\n",
    "   - ISBN is the unique identifier for books\n",
    "   - This attaches book metadata to each rating record\n",
    "   - We use left join to keep all ratings even if book info is missing"
   ]
  },
  {
   "cell_type": "code",
   "execution_count": 93,
   "id": "1de07fc1",
   "metadata": {},
   "outputs": [],
   "source": [
    "# First merge: Ratings with Books (on ISBN)\n",
    "merged_df = pd.merge(ratings_df, books_df, on='ISBN', how='left')"
   ]
  },
  {
   "cell_type": "markdown",
   "id": "b8b6c587",
   "metadata": {},
   "source": [
    "2. **Result + Users merge (on User-ID)**:\n",
    "   - User-ID is the unique identifier for users\n",
    "   - This attaches demographic info to each rating\n",
    "   - Left join preserves all ratings even if user data is incomplete"
   ]
  },
  {
   "cell_type": "code",
   "execution_count": 94,
   "id": "11398def",
   "metadata": {},
   "outputs": [],
   "source": [
    "# Second merge: Result with Users (on User-ID)\n",
    "final_df = pd.merge(merged_df, users_df, on='User-ID', how='left')\n",
    "df = final_df"
   ]
  },
  {
   "cell_type": "markdown",
   "id": "f63e1e71",
   "metadata": {},
   "source": [
    "### Data Inspection"
   ]
  },
  {
   "cell_type": "code",
   "execution_count": 95,
   "id": "a7cbd219",
   "metadata": {},
   "outputs": [
    {
     "data": {
      "text/html": [
       "<div>\n",
       "<style scoped>\n",
       "    .dataframe tbody tr th:only-of-type {\n",
       "        vertical-align: middle;\n",
       "    }\n",
       "\n",
       "    .dataframe tbody tr th {\n",
       "        vertical-align: top;\n",
       "    }\n",
       "\n",
       "    .dataframe thead th {\n",
       "        text-align: right;\n",
       "    }\n",
       "</style>\n",
       "<table border=\"1\" class=\"dataframe\">\n",
       "  <thead>\n",
       "    <tr style=\"text-align: right;\">\n",
       "      <th></th>\n",
       "      <th>User-ID</th>\n",
       "      <th>ISBN</th>\n",
       "      <th>Book-Rating</th>\n",
       "      <th>Book-Title</th>\n",
       "      <th>Book-Author</th>\n",
       "      <th>Year-Of-Publication</th>\n",
       "      <th>Publisher</th>\n",
       "      <th>Image-URL-S</th>\n",
       "      <th>Image-URL-M</th>\n",
       "      <th>Image-URL-L</th>\n",
       "      <th>Location</th>\n",
       "      <th>Age</th>\n",
       "    </tr>\n",
       "  </thead>\n",
       "  <tbody>\n",
       "    <tr>\n",
       "      <th>0</th>\n",
       "      <td>276725</td>\n",
       "      <td>034545104X</td>\n",
       "      <td>0</td>\n",
       "      <td>Flesh Tones: A Novel</td>\n",
       "      <td>M. J. Rose</td>\n",
       "      <td>2002.0</td>\n",
       "      <td>Ballantine Books</td>\n",
       "      <td>http://images.amazon.com/images/P/034545104X.0...</td>\n",
       "      <td>http://images.amazon.com/images/P/034545104X.0...</td>\n",
       "      <td>http://images.amazon.com/images/P/034545104X.0...</td>\n",
       "      <td>tyler, texas, usa</td>\n",
       "      <td>NaN</td>\n",
       "    </tr>\n",
       "    <tr>\n",
       "      <th>1</th>\n",
       "      <td>276726</td>\n",
       "      <td>0155061224</td>\n",
       "      <td>5</td>\n",
       "      <td>Rites of Passage</td>\n",
       "      <td>Judith Rae</td>\n",
       "      <td>2001.0</td>\n",
       "      <td>Heinle</td>\n",
       "      <td>http://images.amazon.com/images/P/0155061224.0...</td>\n",
       "      <td>http://images.amazon.com/images/P/0155061224.0...</td>\n",
       "      <td>http://images.amazon.com/images/P/0155061224.0...</td>\n",
       "      <td>seattle, washington, usa</td>\n",
       "      <td>NaN</td>\n",
       "    </tr>\n",
       "    <tr>\n",
       "      <th>2</th>\n",
       "      <td>276727</td>\n",
       "      <td>0446520802</td>\n",
       "      <td>0</td>\n",
       "      <td>The Notebook</td>\n",
       "      <td>Nicholas Sparks</td>\n",
       "      <td>1996.0</td>\n",
       "      <td>Warner Books</td>\n",
       "      <td>http://images.amazon.com/images/P/0446520802.0...</td>\n",
       "      <td>http://images.amazon.com/images/P/0446520802.0...</td>\n",
       "      <td>http://images.amazon.com/images/P/0446520802.0...</td>\n",
       "      <td>h, new south wales, australia</td>\n",
       "      <td>16.0</td>\n",
       "    </tr>\n",
       "  </tbody>\n",
       "</table>\n",
       "</div>"
      ],
      "text/plain": [
       "   User-ID        ISBN  Book-Rating            Book-Title      Book-Author  \\\n",
       "0   276725  034545104X            0  Flesh Tones: A Novel       M. J. Rose   \n",
       "1   276726  0155061224            5      Rites of Passage       Judith Rae   \n",
       "2   276727  0446520802            0          The Notebook  Nicholas Sparks   \n",
       "\n",
       "   Year-Of-Publication         Publisher  \\\n",
       "0               2002.0  Ballantine Books   \n",
       "1               2001.0            Heinle   \n",
       "2               1996.0      Warner Books   \n",
       "\n",
       "                                         Image-URL-S  \\\n",
       "0  http://images.amazon.com/images/P/034545104X.0...   \n",
       "1  http://images.amazon.com/images/P/0155061224.0...   \n",
       "2  http://images.amazon.com/images/P/0446520802.0...   \n",
       "\n",
       "                                         Image-URL-M  \\\n",
       "0  http://images.amazon.com/images/P/034545104X.0...   \n",
       "1  http://images.amazon.com/images/P/0155061224.0...   \n",
       "2  http://images.amazon.com/images/P/0446520802.0...   \n",
       "\n",
       "                                         Image-URL-L  \\\n",
       "0  http://images.amazon.com/images/P/034545104X.0...   \n",
       "1  http://images.amazon.com/images/P/0155061224.0...   \n",
       "2  http://images.amazon.com/images/P/0446520802.0...   \n",
       "\n",
       "                        Location   Age  \n",
       "0              tyler, texas, usa   NaN  \n",
       "1       seattle, washington, usa   NaN  \n",
       "2  h, new south wales, australia  16.0  "
      ]
     },
     "execution_count": 95,
     "metadata": {},
     "output_type": "execute_result"
    }
   ],
   "source": [
    "df.head(3)"
   ]
  },
  {
   "cell_type": "markdown",
   "id": "e98e8360",
   "metadata": {},
   "source": [
    "##### Basic info about the merged dataframe"
   ]
  },
  {
   "cell_type": "code",
   "execution_count": 96,
   "id": "428a83a4",
   "metadata": {},
   "outputs": [
    {
     "name": "stdout",
     "output_type": "stream",
     "text": [
      "\n",
      "Dataframe Info:\n",
      "<class 'pandas.core.frame.DataFrame'>\n",
      "RangeIndex: 1149766 entries, 0 to 1149765\n",
      "Data columns (total 12 columns):\n",
      " #   Column               Non-Null Count    Dtype  \n",
      "---  ------               --------------    -----  \n",
      " 0   User-ID              1149766 non-null  int64  \n",
      " 1   ISBN                 1149766 non-null  object \n",
      " 2   Book-Rating          1149766 non-null  int64  \n",
      " 3   Book-Title           1028713 non-null  object \n",
      " 4   Book-Author          1028711 non-null  object \n",
      " 5   Year-Of-Publication  1028713 non-null  float64\n",
      " 6   Publisher            1028711 non-null  object \n",
      " 7   Image-URL-S          1028713 non-null  object \n",
      " 8   Image-URL-M          1028713 non-null  object \n",
      " 9   Image-URL-L          1028713 non-null  object \n",
      " 10  Location             1149558 non-null  object \n",
      " 11  Age                  840142 non-null   float64\n",
      "dtypes: float64(2), int64(2), object(8)\n",
      "memory usage: 105.3+ MB\n",
      "None\n"
     ]
    }
   ],
   "source": [
    "print(\"\\nDataframe Info:\")\n",
    "print(df.info())"
   ]
  },
  {
   "cell_type": "markdown",
   "id": "7a0a3887",
   "metadata": {},
   "source": [
    "| <span style=\"color:#00BCD4\">**Column Name**</span>          | <span style=\"color:#00BCD4\">**Description**</span> |\n",
    "|--------------------------|----------------|\n",
    "| **User-ID**              | Unique identifier for each user |\n",
    "| **ISBN**                 | International Standard Book Number identifying each book |\n",
    "| **Book-Rating**          | Numeric rating given by user (scale 0-10) |\n",
    "| **Book-Title**           | Title of the book |\n",
    "| **Book-Author**          | Author(s) of the book |\n",
    "| **Year-Of-Publication**  | Year the book was published |\n",
    "| **Publisher**            | Company that published the book |\n",
    "| **Image-URL-S**          | URL for small-sized book cover image |\n",
    "| **Image-URL-M**          | URL for medium-sized book cover image |\n",
    "| **Image-URL-L**          | URL for large-sized book cover image |\n",
    "| **Location**             | User's location in \"City, State, Country\" format |\n",
    "| **Age**                  | User's age in years |"
   ]
  },
  {
   "cell_type": "markdown",
   "id": "3629ed7f",
   "metadata": {},
   "source": [
    "##### Check for missing values"
   ]
  },
  {
   "cell_type": "code",
   "execution_count": 97,
   "id": "ca836c48",
   "metadata": {},
   "outputs": [
    {
     "name": "stdout",
     "output_type": "stream",
     "text": [
      "\n",
      "Missing Values:\n",
      "User-ID                     0\n",
      "ISBN                        0\n",
      "Book-Rating                 0\n",
      "Book-Title             121053\n",
      "Book-Author            121055\n",
      "Year-Of-Publication    121053\n",
      "Publisher              121055\n",
      "Image-URL-S            121053\n",
      "Image-URL-M            121053\n",
      "Image-URL-L            121053\n",
      "Location                  208\n",
      "Age                    309624\n",
      "dtype: int64\n"
     ]
    }
   ],
   "source": [
    "print(\"\\nMissing Values:\")\n",
    "print(df.isnull().sum())"
   ]
  },
  {
   "cell_type": "markdown",
   "id": "ce79c80e",
   "metadata": {},
   "source": [
    "##### Summary statistics for numerical columns"
   ]
  },
  {
   "cell_type": "code",
   "execution_count": 98,
   "id": "a4f0c280",
   "metadata": {},
   "outputs": [
    {
     "name": "stdout",
     "output_type": "stream",
     "text": [
      "\n",
      "Summary Statistics:\n"
     ]
    },
    {
     "data": {
      "text/html": [
       "<div>\n",
       "<style scoped>\n",
       "    .dataframe tbody tr th:only-of-type {\n",
       "        vertical-align: middle;\n",
       "    }\n",
       "\n",
       "    .dataframe tbody tr th {\n",
       "        vertical-align: top;\n",
       "    }\n",
       "\n",
       "    .dataframe thead th {\n",
       "        text-align: right;\n",
       "    }\n",
       "</style>\n",
       "<table border=\"1\" class=\"dataframe\">\n",
       "  <thead>\n",
       "    <tr style=\"text-align: right;\">\n",
       "      <th></th>\n",
       "      <th>User-ID</th>\n",
       "      <th>Book-Rating</th>\n",
       "      <th>Year-Of-Publication</th>\n",
       "      <th>Age</th>\n",
       "    </tr>\n",
       "  </thead>\n",
       "  <tbody>\n",
       "    <tr>\n",
       "      <th>count</th>\n",
       "      <td>1.149766e+06</td>\n",
       "      <td>1.149766e+06</td>\n",
       "      <td>1.028713e+06</td>\n",
       "      <td>840142.000000</td>\n",
       "    </tr>\n",
       "    <tr>\n",
       "      <th>mean</th>\n",
       "      <td>1.403862e+05</td>\n",
       "      <td>2.866906e+00</td>\n",
       "      <td>1.968148e+03</td>\n",
       "      <td>37.239230</td>\n",
       "    </tr>\n",
       "    <tr>\n",
       "      <th>std</th>\n",
       "      <td>8.056191e+04</td>\n",
       "      <td>3.854172e+00</td>\n",
       "      <td>2.313042e+02</td>\n",
       "      <td>14.246607</td>\n",
       "    </tr>\n",
       "    <tr>\n",
       "      <th>min</th>\n",
       "      <td>2.000000e+00</td>\n",
       "      <td>0.000000e+00</td>\n",
       "      <td>0.000000e+00</td>\n",
       "      <td>0.000000</td>\n",
       "    </tr>\n",
       "    <tr>\n",
       "      <th>25%</th>\n",
       "      <td>7.034500e+04</td>\n",
       "      <td>0.000000e+00</td>\n",
       "      <td>1.992000e+03</td>\n",
       "      <td>28.000000</td>\n",
       "    </tr>\n",
       "    <tr>\n",
       "      <th>50%</th>\n",
       "      <td>1.410100e+05</td>\n",
       "      <td>0.000000e+00</td>\n",
       "      <td>1.997000e+03</td>\n",
       "      <td>35.000000</td>\n",
       "    </tr>\n",
       "    <tr>\n",
       "      <th>75%</th>\n",
       "      <td>2.110280e+05</td>\n",
       "      <td>7.000000e+00</td>\n",
       "      <td>2.001000e+03</td>\n",
       "      <td>45.000000</td>\n",
       "    </tr>\n",
       "    <tr>\n",
       "      <th>max</th>\n",
       "      <td>2.788540e+05</td>\n",
       "      <td>1.000000e+01</td>\n",
       "      <td>2.050000e+03</td>\n",
       "      <td>244.000000</td>\n",
       "    </tr>\n",
       "  </tbody>\n",
       "</table>\n",
       "</div>"
      ],
      "text/plain": [
       "            User-ID   Book-Rating  Year-Of-Publication            Age\n",
       "count  1.149766e+06  1.149766e+06         1.028713e+06  840142.000000\n",
       "mean   1.403862e+05  2.866906e+00         1.968148e+03      37.239230\n",
       "std    8.056191e+04  3.854172e+00         2.313042e+02      14.246607\n",
       "min    2.000000e+00  0.000000e+00         0.000000e+00       0.000000\n",
       "25%    7.034500e+04  0.000000e+00         1.992000e+03      28.000000\n",
       "50%    1.410100e+05  0.000000e+00         1.997000e+03      35.000000\n",
       "75%    2.110280e+05  7.000000e+00         2.001000e+03      45.000000\n",
       "max    2.788540e+05  1.000000e+01         2.050000e+03     244.000000"
      ]
     },
     "execution_count": 98,
     "metadata": {},
     "output_type": "execute_result"
    }
   ],
   "source": [
    "print(\"\\nSummary Statistics:\")\n",
    "df.describe()"
   ]
  },
  {
   "cell_type": "markdown",
   "id": "6c89c169",
   "metadata": {},
   "source": [
    "##### Unique counts of important fields"
   ]
  },
  {
   "cell_type": "code",
   "execution_count": 99,
   "id": "2d935ed5",
   "metadata": {},
   "outputs": [
    {
     "name": "stdout",
     "output_type": "stream",
     "text": [
      "Unique users: 105274\n",
      "Unique books: 340545\n",
      "Unique ratings: 11\n"
     ]
    }
   ],
   "source": [
    "print(f\"Unique users: {df['User-ID'].nunique()}\")\n",
    "print(f\"Unique books: {df['ISBN'].nunique()}\")\n",
    "print(f\"Unique ratings: {df['Book-Rating'].nunique()}\")"
   ]
  },
  {
   "cell_type": "markdown",
   "id": "8742178f",
   "metadata": {},
   "source": [
    "##  <span style=\"color:#00BCD4\"> **Data Cleaning**</span> "
   ]
  },
  {
   "cell_type": "markdown",
   "id": "2055f9a4",
   "metadata": {},
   "source": [
    "Validate ISBNs"
   ]
  },
  {
   "cell_type": "code",
   "execution_count": 100,
   "id": "64e996d4",
   "metadata": {},
   "outputs": [
    {
     "name": "stdout",
     "output_type": "stream",
     "text": [
      "Removed 10784 rows with invalid ISBNs\n",
      "Remaining valid ISBNs: 1138982\n"
     ]
    }
   ],
   "source": [
    "# Get initial count\n",
    "initial_count = len(df)\n",
    "\n",
    "# Filter to keep only valid ISBNs\n",
    "df = df[df['ISBN'].str.match(r'^\\d{9}[\\dX]$|^\\d{13}$', na=False)]\n",
    "\n",
    "# Calculate removed count\n",
    "removed_count = initial_count - len(df)\n",
    "\n",
    "print(f\"Removed {removed_count} rows with invalid ISBNs\")\n",
    "print(f\"Remaining valid ISBNs: {len(df)}\")"
   ]
  },
  {
   "cell_type": "markdown",
   "id": "44169cf0",
   "metadata": {},
   "source": [
    "The dataset was filtered to remove invalid ISBNs using pattern matching. ISBNs were considered valid if they matched either:\n",
    "- **ISBN-10** format: Exactly 9 digits followed by a digit or 'X' (`^\\d{9}[\\dX]$`)\n",
    "- **ISBN-13** format: Exactly 13 digits (`^\\d{13}$`). \n",
    "\n",
    "A total of 10,784 records with invalid ISBN formats were removed from the dataset. This structural validation ensures all remaining ISBNs conform to standard length and character requirements."
   ]
  },
  {
   "cell_type": "markdown",
   "id": "2f781b97",
   "metadata": {},
   "source": [
    "Handle missing values"
   ]
  },
  {
   "cell_type": "code",
   "execution_count": 101,
   "id": "1ea3d71f",
   "metadata": {},
   "outputs": [
    {
     "name": "stdout",
     "output_type": "stream",
     "text": [
      "Missing values before treatment:\n",
      "User-ID                     0\n",
      "ISBN                        0\n",
      "Book-Rating                 0\n",
      "Book-Title             110953\n",
      "Book-Author            110955\n",
      "Year-Of-Publication    110953\n",
      "Publisher              110955\n",
      "Image-URL-S            110953\n",
      "Image-URL-M            110953\n",
      "Image-URL-L            110953\n",
      "Location                  198\n",
      "Age                    306002\n",
      "dtype: int64\n"
     ]
    }
   ],
   "source": [
    "print(\"Missing values before treatment:\")\n",
    "print(df.isnull().sum())"
   ]
  },
  {
   "cell_type": "code",
   "execution_count": 102,
   "id": "27beb1bb",
   "metadata": {},
   "outputs": [
    {
     "name": "stderr",
     "output_type": "stream",
     "text": [
      "C:\\Users\\Mbego John\\AppData\\Local\\Temp\\ipykernel_22152\\713814294.py:8: SettingWithCopyWarning: \n",
      "A value is trying to be set on a copy of a slice from a DataFrame.\n",
      "Try using .loc[row_indexer,col_indexer] = value instead\n",
      "\n",
      "See the caveats in the documentation: https://pandas.pydata.org/pandas-docs/stable/user_guide/indexing.html#returning-a-view-versus-a-copy\n",
      "  df['Age'] = df.groupby('Location')['Age'].transform(safe_fillna)\n"
     ]
    }
   ],
   "source": [
    "# For age - impute with median by user location\n",
    "def safe_fillna(x):\n",
    "    \"\"\"Handle empty groups gracefully\"\"\"\n",
    "    if x.notna().any():  # Check if group has any non-NA values\n",
    "        return x.fillna(x.median())\n",
    "    return x.fillna(df['Age'].median())\n",
    "\n",
    "df['Age'] = df.groupby('Location')['Age'].transform(safe_fillna)\n",
    "# Keep only ages between 5 and 120 (adjust thresholds as needed)\n",
    "df = df[(df['Age'] >= 5) & (df['Age'] <= 120)]"
   ]
  },
  {
   "cell_type": "markdown",
   "id": "fe9151fc",
   "metadata": {},
   "source": [
    "Book-Related Missing Data "
   ]
  },
  {
   "cell_type": "code",
   "execution_count": 103,
   "id": "38dd8b49",
   "metadata": {},
   "outputs": [
    {
     "name": "stdout",
     "output_type": "stream",
     "text": [
      "Number of rows with all book info missing: 109253\n"
     ]
    }
   ],
   "source": [
    "# Check if missing values coincide\n",
    "book_missing = df[['Book-Title', 'Book-Author', 'Year-Of-Publication']].isna().all(axis=1).sum()\n",
    "print(f\"Number of rows with all book info missing: {book_missing}\")"
   ]
  },
  {
   "cell_type": "markdown",
   "id": "08d038ea",
   "metadata": {},
   "source": [
    "Since this represent invalid book entries and are not critical to the analysis, We choose to drop, we cannot have Unknown title or Auuthor."
   ]
  },
  {
   "cell_type": "code",
   "execution_count": 104,
   "id": "b8c118ee",
   "metadata": {},
   "outputs": [],
   "source": [
    "df = df.dropna(subset=['Book-Title', 'Book-Author', 'Year-Of-Publication'], how='any')"
   ]
  },
  {
   "cell_type": "markdown",
   "id": "bba870cb",
   "metadata": {},
   "source": [
    "Image URL Missing Data"
   ]
  },
  {
   "cell_type": "markdown",
   "id": "f60960bc",
   "metadata": {},
   "source": [
    "These are likely the same records as above and may not be critical for analysis (they are urls and only additional metadata)"
   ]
  },
  {
   "cell_type": "code",
   "execution_count": 105,
   "id": "ae19f418",
   "metadata": {},
   "outputs": [],
   "source": [
    "# drop with the book info \n",
    "df = df.dropna(subset = ['Image-URL-S', 'Image-URL-M', 'Image-URL-L'], how= 'all')"
   ]
  },
  {
   "cell_type": "markdown",
   "id": "51bd07f6",
   "metadata": {},
   "source": [
    "YoP , Publisher and Loaction"
   ]
  },
  {
   "cell_type": "code",
   "execution_count": 106,
   "id": "2e4359db",
   "metadata": {},
   "outputs": [],
   "source": [
    "# Fill less critical missing values\n",
    "df['Year-Of-Publication'] = df['Year-Of-Publication'].fillna(0)\n",
    "df['Publisher'] = df['Publisher'].fillna('Unknown Publisher')\n",
    "df['Location'] = df['Location'].fillna(df['Location'].mode()[0])"
   ]
  },
  {
   "cell_type": "code",
   "execution_count": 107,
   "id": "e351a005",
   "metadata": {},
   "outputs": [
    {
     "name": "stdout",
     "output_type": "stream",
     "text": [
      "Missing values after treatment:\n",
      "User-ID                0\n",
      "ISBN                   0\n",
      "Book-Rating            0\n",
      "Book-Title             0\n",
      "Book-Author            0\n",
      "Year-Of-Publication    0\n",
      "Publisher              0\n",
      "Image-URL-S            0\n",
      "Image-URL-M            0\n",
      "Image-URL-L            0\n",
      "Location               0\n",
      "Age                    0\n",
      "dtype: int64\n"
     ]
    }
   ],
   "source": [
    "print(\"Missing values after treatment:\")\n",
    "print(df.isna().sum())"
   ]
  },
  {
   "cell_type": "markdown",
   "id": "7999b2fa",
   "metadata": {},
   "source": [
    "##  <span style=\"color:#00BCD4\"> **Exploratory Data Analysis**</span> "
   ]
  },
  {
   "cell_type": "markdown",
   "id": "3cda5fce",
   "metadata": {},
   "source": [
    " <span style=\"color:#00BCD4\"> **Univariate Analysis**</span>"
   ]
  },
  {
   "cell_type": "markdown",
   "id": "f699a83f",
   "metadata": {},
   "source": [
    "**Visualize Age Distribution**"
   ]
  },
  {
   "cell_type": "code",
   "execution_count": 108,
   "id": "bb260ddc",
   "metadata": {},
   "outputs": [
    {
     "data": {
      "image/png": "[encoded data removed]",
      "text/plain": [
       "<Figure size 500x300 with 1 Axes>"
      ]
     },
     "metadata": {},
     "output_type": "display_data"
    }
   ],
   "source": [
    "import matplotlib.pyplot as plt\n",
    "\n",
    "plt.figure(figsize=(5, 3))  # Compact size\n",
    "plt.hist(df['Age'], bins=30, color='skyblue', edgecolor='black')\n",
    "plt.xlabel('Age')\n",
    "plt.ylabel('Count')\n",
    "plt.title('Distribution of User Ages (Cleaned)')\n",
    "plt.tight_layout()\n",
    "plt.show()"
   ]
  },
  {
   "cell_type": "markdown",
   "id": "8dd93df5",
   "metadata": {},
   "source": [
    "**Book-Rating**\n",
    "\n",
    "*Analyze distribution*"
   ]
  },
  {
   "cell_type": "code",
   "execution_count": 109,
   "id": "ecc32a7d",
   "metadata": {},
   "outputs": [
    {
     "data": {
      "image/png": "[encoded data removed]",
      "text/plain": [
       "<Figure size 500x200 with 1 Axes>"
      ]
     },
     "metadata": {},
     "output_type": "display_data"
    },
    {
     "name": "stdout",
     "output_type": "stream",
     "text": [
      "Mean rating: 2.84\n",
      "Rating skew: 0.75\n"
     ]
    }
   ],
   "source": [
    "# Distribution of ratings\n",
    "plt.figure(figsize=(5, 2))\n",
    "df['Book-Rating'].value_counts().sort_index().plot(kind='bar', color='teal')\n",
    "plt.title('Distribution of Book Ratings')\n",
    "plt.xlabel('Rating Score')\n",
    "plt.ylabel('Count')\n",
    "plt.show()\n",
    "\n",
    "# Stats\n",
    "print(f\"Mean rating: {df['Book-Rating'].mean():.2f}\")\n",
    "print(f\"Rating skew: {df['Book-Rating'].skew():.2f}\")  # Check for bias (e.g., left-skewed = high-rating dominance)"
   ]
  },
  {
   "cell_type": "markdown",
   "id": "2a1e9ec2",
   "metadata": {},
   "source": [
    "**User Demographics**\n",
    "\n",
    "*Top 10 Countries*"
   ]
  },
  {
   "cell_type": "code",
   "execution_count": 110,
   "id": "f0cbffac",
   "metadata": {},
   "outputs": [
    {
     "data": {
      "image/png": "[encoded data removed]",
      "text/plain": [
       "<Figure size 800x400 with 1 Axes>"
      ]
     },
     "metadata": {},
     "output_type": "display_data"
    }
   ],
   "source": [
    "plt.figure(figsize=(8, 4))\n",
    "df['Location'].str.split(',').str[-1].str.strip().value_counts().head(10).plot(\n",
    "    kind='barh', \n",
    "    colormap='tab10'\n",
    ")\n",
    "plt.title('Top 10 Countries')\n",
    "plt.tight_layout()\n",
    "plt.show()"
   ]
  },
  {
   "cell_type": "markdown",
   "id": "68db73c0",
   "metadata": {},
   "source": [
    "**Book Publication Years**"
   ]
  },
  {
   "cell_type": "code",
   "execution_count": 111,
   "id": "ca19d5ff",
   "metadata": {},
   "outputs": [
    {
     "data": {
      "image/png": "[encoded data removed]",
      "text/plain": [
       "<Figure size 500x300 with 1 Axes>"
      ]
     },
     "metadata": {},
     "output_type": "display_data"
    }
   ],
   "source": [
    "# Publication year trends\n",
    "plt.figure(figsize=(5, 3))\n",
    "df['Year-Of-Publication'].hist(bins=50, color='teal')\n",
    "plt.title('Book Publication Years')\n",
    "plt.xlim(1950, 2025)  # Filter outliers\n",
    "plt.show()\n"
   ]
  },
  {
   "cell_type": "markdown",
   "id": "19fd6d7f",
   "metadata": {},
   "source": [
    "<span style=\"color:#00BCD4\"> **Bivariate Analysis**</span>"
   ]
  },
  {
   "cell_type": "markdown",
   "id": "e377f982",
   "metadata": {},
   "source": [
    "**Comparing Top Authors by Average Rating and Review Count**\n",
    "\n",
    "- Introduction  \n",
    "This visualization compares the top authors based on two key metrics:  \n",
    "- **Average Rating** (blue bars) - Represents the authors' average book ratings  \n",
    "- **Scaled Review Count** (orange bars) - Shows the relative popularity by normalizing review counts (If a author has rcount 50 means he was rated by 50 users) \n",
    "\n",
    "The horizontal bar chart enables easy comparison between author quality (ratings) and engagement (reviews). The review counts are scaled to fit the same range as ratings (1-10 scale) for clearer visual comparison.  \n"
   ]
  },
  {
   "cell_type": "code",
   "execution_count": null,
   "id": "19f9c349",
   "metadata": {},
   "outputs": [
    {
     "data": {
      "image/png": "[encoded data removed]",
      "text/plain": [
       "<Figure size 1000x500 with 1 Axes>"
      ]
     },
     "metadata": {},
     "output_type": "display_data"
    }
   ],
   "source": [
    "# Get top 10 authors\n",
    "top10 = top_authors.sort_values('avg_rating', ascending=False).head(10)\n",
    "\n",
    "fig, ax = plt.subplots(figsize=(10, 5))\n",
    "bar_pos = range(len(top10))\n",
    "width = 0.3\n",
    "ax.barh(bar_pos, top10['avg_rating'], width, color='#1f77b4', label='Avg Rating')\n",
    "ax.barh([p + width for p in bar_pos], \n",
    "        top10['review_count']/top10['review_count'].max()*10, \n",
    "        width, color='#ff7f0e', label='Review Count (scaled)')\n",
    "\n",
    "for i, (rating, count) in enumerate(zip(top10['avg_rating'], top10['review_count'])):\n",
    "    ax.text(rating + 0.1, i, f\"{rating:.1f}\", va='center', color='#1f77b4')\n",
    "    ax.text(count/top10['review_count'].max()*10 + 0.1, i + width, \n",
    "            f\"{count:,}\", va='center', color='#ff7f0e')\n",
    "\n",
    "ax.set(xlabel='Score', title='Top 10 Authors: Rating vs Reviews',\n",
    "       yticks=[p + width/2 for p in bar_pos],\n",
    "       yticklabels=[name[:20] + ('...' if len(name)>20 else '') for name in top10.index])\n",
    "ax.legend(loc='lower right')\n",
    "plt.tight_layout()\n",
    "plt.show()"
   ]
  },
  {
   "cell_type": "markdown",
   "id": "c91a5aa3",
   "metadata": {},
   "source": [
    "**Most frequently reviewed books**"
   ]
  },
  {
   "cell_type": "code",
   "execution_count": 113,
   "id": "505d583e",
   "metadata": {},
   "outputs": [
    {
     "data": {
      "image/png": "[encoded data removed]",
      "text/plain": [
       "<Figure size 800x500 with 1 Axes>"
      ]
     },
     "metadata": {},
     "output_type": "display_data"
    }
   ],
   "source": [
    "import matplotlib.pyplot as plt\n",
    "from matplotlib.colors import LinearSegmentedColormap\n",
    "\n",
    "top_books = df['Book-Title'].value_counts().head(10)\n",
    "\n",
    "plt.figure(figsize=(8, 5))  # Optimal width-to-height ratio\n",
    "\n",
    "wedges, texts, autotexts = plt.pie(top_books,autopct=lambda p: f'{p:.1f}%',startangle=90,colors=plt.cm.Pastel1.colors,wedgeprops={'linewidth': 1.2, 'edgecolor': 'white'},textprops={'fontsize': 10, 'fontweight': 'bold'},pctdistance=0.82, labeldistance=1.05  # Slight outward shift for visibility\n",
    ")\n",
    "\n",
    "# 4. Professional title and legend\n",
    "plt.title('Top 10 Most Reviewed Books\\n',fontsize=14,pad=12,fontweight='bold')\n",
    "\n",
    "legend = plt.legend(wedges,\n",
    "    [f\"{title[:22] + '...' if len(title) > 25 else title}\\n{count:,} reviews\" \n",
    "     for title, count in top_books.items()],title=\"Book Title               Reviews\",loc='center left',bbox_to_anchor=(1, 0.5),fontsize=9,framealpha=0.9,edgecolor='lightgray')\n",
    "plt.subplots_adjust(left=0.1, right=0.75)  # Precise whitespace control\n",
    "plt.tight_layout()\n",
    "plt.show()"
   ]
  }
 ],
 "metadata": {
  "kernelspec": {
   "display_name": "Python 3",
   "language": "python",
   "name": "python3"
  },
  "language_info": {
   "codemirror_mode": {
    "name": "ipython",
    "version": 3
   },
   "file_extension": ".py",
   "mimetype": "text/x-python",
   "name": "python",
   "nbconvert_exporter": "python",
   "pygments_lexer": "ipython3",
   "version": "3.9.20"
  }
 },
 "nbformat": 4,
 "nbformat_minor": 5
}
