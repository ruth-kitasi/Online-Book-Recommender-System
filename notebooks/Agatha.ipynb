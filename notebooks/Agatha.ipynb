{
 "cells": [
  {
   "cell_type": "markdown",
   "id": "54ed2fc6",
   "metadata": {},
   "source": [
    "# Introduction\n",
    "\n",
    "In today's digital age, individuals are often overwhelmed by the sheer volume of available books. A book recommender system aims to alleviate this information overload by suggesting books that are likely to be of interest to a particular user. By analyzing user preferences, reading history, and book characteristics, these systems enhance the book discovery process, improve user engagement with online book platforms, and ultimately drive sales and readership. This project focuses on developing a book recommender system using three distinct datasets: books_df containing book information, ratings_df detailing user ratings, and user_df providing user demographics."
   ]
  },
  {
   "cell_type": "markdown",
   "id": "39734ed4",
   "metadata": {},
   "source": [
    "## Business Understanding\n",
    "\n",
    "The development of an effective book recommender system holds significant value for various stakeholders:\n",
    "\n",
    "- E-commerce Platforms and Online Bookstores: Recommender systems can drive sales by suggesting relevant books to customers, increasing the likelihood of purchases. They also enhance user experience, leading to greater customer satisfaction and loyalty.\n",
    "\n",
    "* Libraries and Educational Institutions: These systems can help patrons discover new titles aligned with their interests or academic needs, fostering a more engaging and enriching experience.\n",
    "\n",
    "\n",
    "+ Publishers and Authors: Understanding user preferences can provide valuable insights into market trends, potentially influencing publishing decisions and marketing strategies.\n",
    "\n",
    "* Individual Users: The primary benefit for users is the ability to effortlessly discover books they are likely to enjoy, saving time and expanding their literary horizons.\n",
    "\n",
    "By leveraging the data within the provided datasets, this project aims to build a system that accurately predicts user preferences and delivers personalized book recommendations, thereby addressing a crucial need in the book discovery ecosystem."
   ]
  },
  {
   "cell_type": "markdown",
   "id": "2d481293",
   "metadata": {},
   "source": [
    "## Problem Statement\n",
    "\n",
    "The core problem this project seeks to address is the challenge users face in discovering books that align with their individual tastes from a vast and ever-expanding catalog. Without an effective recommendation system, users may struggle to find new authors, genres, or titles they would enjoy, potentially leading to a less engaging and fulfilling reading experience. This project aims to develop a data-driven solution that can predict user preferences based on their past interactions and the characteristics of books, thereby providing personalized and relevant recommendations."
   ]
  },
  {
   "cell_type": "markdown",
   "id": "c19ed8c6",
   "metadata": {},
   "source": [
    "## Objectives\n",
    "\n",
    "The primary objectives of this project are to:\n",
    "\n",
    "* Develop a book recommender system: Implement one or more recommendation algorithms (e.g., collaborative filtering, content-based filtering, or hybrid approaches).\n",
    "\n",
    "* Evaluate the performance of the recommender system: Use appropriate metrics to assess the accuracy and effectiveness of the developed model(s).\n",
    "\n",
    "* Provide actionable insights: Based on the analysis and model results, offer insights into user preferences and potential strategies for book recommendations."
   ]
  },
  {
   "cell_type": "markdown",
   "id": "4996af08",
   "metadata": {},
   "source": [
    "## Data Limitations\n",
    "\n",
    "Before embarking on this project, it's important to consider potential limitations of the data:\n",
    "\n",
    "* Data Sparsity: The ratings_df might suffer from sparsity, meaning that most users have only rated a small fraction of the available books. This can pose challenges for collaborative filtering techniques.\n",
    "\n",
    "* Cold Start Problem: New users or new books with no or very few ratings will be difficult to recommend using collaborative filtering.\n",
    "\n",
    "* Data Bias: The data might reflect biases present in the user base or the book catalog. For example, certain genres or authors might be over-represented.\n",
    "\n",
    "* Data Quality: The datasets might contain inconsistencies, errors, or missing values that need to be addressed during preprocessing.\n",
    "\n",
    "* Implicit vs. Explicit Feedback: The ratings_df likely contains explicit feedback (numerical ratings). However, other forms of implicit feedback (e.g., browsing history, purchase history) might not be available, potentially limiting the richness of user preference data.\n",
    "\n",
    "* Evolution of Preferences: User preferences can change over time, which might not be captured effectively by static datasets.\n"
   ]
  },
  {
   "cell_type": "markdown",
   "id": "5a43a24e",
   "metadata": {},
   "source": [
    "# Data Understanding"
   ]
  },
  {
   "cell_type": "markdown",
   "id": "87d7d60c",
   "metadata": {},
   "source": [
    "### Loading Data"
   ]
  },
  {
   "cell_type": "code",
   "execution_count": 2,
   "id": "844a5e2e",
   "metadata": {},
   "outputs": [],
   "source": [
    "import pandas as pd\n",
    "import numpy as np\n",
    "\n",
    "# Load the dataset\n",
    "books_df = pd.read_csv(\n",
    "    '../books_df.csv',\n",
    "    sep=';',                   # Semicolon separator\n",
    "    quotechar='\"',             # Handles quoted text properly\n",
    "    encoding='latin1',         # Supports special characters\n",
    "    on_bad_lines='skip',        # Skips problematic lines\n",
    "    engine='python'  # Use python engine for more flexibility\n",
    ")\n",
    "\n",
    "ratings_df = pd.read_csv(\n",
    "    '../ratings_df.csv',\n",
    "    sep=';',                   # Semicolon separator\n",
    "    quotechar='\"',             # Handles quoted text properly\n",
    "    encoding='latin1',         # Supports special characters\n",
    "    on_bad_lines='skip',        # Skips problematic lines\n",
    "    engine='python'  # Use python engine for more flexibility\n",
    ")\n",
    "\n",
    "user_df = pd.read_csv(\n",
    "    '../user_df.csv',\n",
    "    sep=';',                   # Semicolon separator\n",
    "    quotechar='\"',             # Handles quoted text properly\n",
    "    encoding='latin1',         # Supports special characters\n",
    "    on_bad_lines='skip',        # Skips problematic lines\n",
    "    engine='python'  # Use python engine for more flexibility\n",
    ")"
   ]
  },
  {
   "cell_type": "code",
   "execution_count": 3,
   "id": "193fe76b",
   "metadata": {},
   "outputs": [
    {
     "data": {
      "text/html": [
       "<div>\n",
       "<style scoped>\n",
       "    .dataframe tbody tr th:only-of-type {\n",
       "        vertical-align: middle;\n",
       "    }\n",
       "\n",
       "    .dataframe tbody tr th {\n",
       "        vertical-align: top;\n",
       "    }\n",
       "\n",
       "    .dataframe thead th {\n",
       "        text-align: right;\n",
       "    }\n",
       "</style>\n",
       "<table border=\"1\" class=\"dataframe\">\n",
       "  <thead>\n",
       "    <tr style=\"text-align: right;\">\n",
       "      <th></th>\n",
       "      <th>ISBN</th>\n",
       "      <th>Book-Title</th>\n",
       "      <th>Book-Author</th>\n",
       "      <th>Year-Of-Publication</th>\n",
       "      <th>Publisher</th>\n",
       "      <th>Image-URL-S</th>\n",
       "      <th>Image-URL-M</th>\n",
       "      <th>Image-URL-L</th>\n",
       "    </tr>\n",
       "  </thead>\n",
       "  <tbody>\n",
       "    <tr>\n",
       "      <th>0</th>\n",
       "      <td>0195153448</td>\n",
       "      <td>Classical Mythology</td>\n",
       "      <td>Mark P. O. Morford</td>\n",
       "      <td>2002</td>\n",
       "      <td>Oxford University Press</td>\n",
       "      <td>http://images.amazon.com/images/P/0195153448.0...</td>\n",
       "      <td>http://images.amazon.com/images/P/0195153448.0...</td>\n",
       "      <td>http://images.amazon.com/images/P/0195153448.0...</td>\n",
       "    </tr>\n",
       "    <tr>\n",
       "      <th>1</th>\n",
       "      <td>0002005018</td>\n",
       "      <td>Clara Callan</td>\n",
       "      <td>Richard Bruce Wright</td>\n",
       "      <td>2001</td>\n",
       "      <td>HarperFlamingo Canada</td>\n",
       "      <td>http://images.amazon.com/images/P/0002005018.0...</td>\n",
       "      <td>http://images.amazon.com/images/P/0002005018.0...</td>\n",
       "      <td>http://images.amazon.com/images/P/0002005018.0...</td>\n",
       "    </tr>\n",
       "  </tbody>\n",
       "</table>\n",
       "</div>"
      ],
      "text/plain": [
       "         ISBN           Book-Title           Book-Author  Year-Of-Publication  \\\n",
       "0  0195153448  Classical Mythology    Mark P. O. Morford                 2002   \n",
       "1  0002005018         Clara Callan  Richard Bruce Wright                 2001   \n",
       "\n",
       "                 Publisher                                        Image-URL-S  \\\n",
       "0  Oxford University Press  http://images.amazon.com/images/P/0195153448.0...   \n",
       "1    HarperFlamingo Canada  http://images.amazon.com/images/P/0002005018.0...   \n",
       "\n",
       "                                         Image-URL-M  \\\n",
       "0  http://images.amazon.com/images/P/0195153448.0...   \n",
       "1  http://images.amazon.com/images/P/0002005018.0...   \n",
       "\n",
       "                                         Image-URL-L  \n",
       "0  http://images.amazon.com/images/P/0195153448.0...  \n",
       "1  http://images.amazon.com/images/P/0002005018.0...  "
      ]
     },
     "execution_count": 3,
     "metadata": {},
     "output_type": "execute_result"
    }
   ],
   "source": [
    "books_df.head(2)"
   ]
  },
  {
   "cell_type": "code",
   "execution_count": 4,
   "id": "b1e09cbf",
   "metadata": {},
   "outputs": [
    {
     "name": "stdout",
     "output_type": "stream",
     "text": [
      "<class 'pandas.core.frame.DataFrame'>\n",
      "RangeIndex: 270491 entries, 0 to 270490\n",
      "Data columns (total 8 columns):\n",
      " #   Column               Non-Null Count   Dtype \n",
      "---  ------               --------------   ----- \n",
      " 0   ISBN                 270491 non-null  object\n",
      " 1   Book-Title           270491 non-null  object\n",
      " 2   Book-Author          270489 non-null  object\n",
      " 3   Year-Of-Publication  270491 non-null  int64 \n",
      " 4   Publisher            270489 non-null  object\n",
      " 5   Image-URL-S          270491 non-null  object\n",
      " 6   Image-URL-M          270491 non-null  object\n",
      " 7   Image-URL-L          270491 non-null  object\n",
      "dtypes: int64(1), object(7)\n",
      "memory usage: 16.5+ MB\n"
     ]
    }
   ],
   "source": [
    "#summary of dataframe\n",
    "books_df.info()"
   ]
  },
  {
   "cell_type": "code",
   "execution_count": 5,
   "id": "5e1e6af7",
   "metadata": {},
   "outputs": [
    {
     "data": {
      "text/plain": [
       "(270491, 8)"
      ]
     },
     "execution_count": 5,
     "metadata": {},
     "output_type": "execute_result"
    }
   ],
   "source": [
    "# check dataframe dimension\n",
    "books_df.shape"
   ]
  },
  {
   "cell_type": "code",
   "execution_count": 6,
   "id": "867e9271",
   "metadata": {},
   "outputs": [
    {
     "data": {
      "text/html": [
       "<div>\n",
       "<style scoped>\n",
       "    .dataframe tbody tr th:only-of-type {\n",
       "        vertical-align: middle;\n",
       "    }\n",
       "\n",
       "    .dataframe tbody tr th {\n",
       "        vertical-align: top;\n",
       "    }\n",
       "\n",
       "    .dataframe thead th {\n",
       "        text-align: right;\n",
       "    }\n",
       "</style>\n",
       "<table border=\"1\" class=\"dataframe\">\n",
       "  <thead>\n",
       "    <tr style=\"text-align: right;\">\n",
       "      <th></th>\n",
       "      <th>User-ID</th>\n",
       "      <th>ISBN</th>\n",
       "      <th>Book-Rating</th>\n",
       "    </tr>\n",
       "  </thead>\n",
       "  <tbody>\n",
       "    <tr>\n",
       "      <th>0</th>\n",
       "      <td>276725</td>\n",
       "      <td>034545104X</td>\n",
       "      <td>0</td>\n",
       "    </tr>\n",
       "    <tr>\n",
       "      <th>1</th>\n",
       "      <td>276726</td>\n",
       "      <td>0155061224</td>\n",
       "      <td>5</td>\n",
       "    </tr>\n",
       "  </tbody>\n",
       "</table>\n",
       "</div>"
      ],
      "text/plain": [
       "   User-ID        ISBN  Book-Rating\n",
       "0   276725  034545104X            0\n",
       "1   276726  0155061224            5"
      ]
     },
     "execution_count": 6,
     "metadata": {},
     "output_type": "execute_result"
    }
   ],
   "source": [
    "ratings_df.head(2)"
   ]
  },
  {
   "cell_type": "code",
   "execution_count": 7,
   "id": "bb7ceec4",
   "metadata": {},
   "outputs": [
    {
     "name": "stdout",
     "output_type": "stream",
     "text": [
      "<class 'pandas.core.frame.DataFrame'>\n",
      "RangeIndex: 1149766 entries, 0 to 1149765\n",
      "Data columns (total 3 columns):\n",
      " #   Column       Non-Null Count    Dtype \n",
      "---  ------       --------------    ----- \n",
      " 0   User-ID      1149766 non-null  int64 \n",
      " 1   ISBN         1149766 non-null  object\n",
      " 2   Book-Rating  1149766 non-null  int64 \n",
      "dtypes: int64(2), object(1)\n",
      "memory usage: 26.3+ MB\n"
     ]
    }
   ],
   "source": [
    "#summary of dataframe\n",
    "ratings_df.info()"
   ]
  },
  {
   "cell_type": "code",
   "execution_count": 8,
   "id": "cf54db94",
   "metadata": {},
   "outputs": [
    {
     "data": {
      "text/plain": [
       "(1149766, 3)"
      ]
     },
     "execution_count": 8,
     "metadata": {},
     "output_type": "execute_result"
    }
   ],
   "source": [
    "# check dataframe dimension\n",
    "ratings_df.shape"
   ]
  },
  {
   "cell_type": "code",
   "execution_count": 9,
   "id": "adf4b3d7",
   "metadata": {},
   "outputs": [
    {
     "data": {
      "text/html": [
       "<div>\n",
       "<style scoped>\n",
       "    .dataframe tbody tr th:only-of-type {\n",
       "        vertical-align: middle;\n",
       "    }\n",
       "\n",
       "    .dataframe tbody tr th {\n",
       "        vertical-align: top;\n",
       "    }\n",
       "\n",
       "    .dataframe thead th {\n",
       "        text-align: right;\n",
       "    }\n",
       "</style>\n",
       "<table border=\"1\" class=\"dataframe\">\n",
       "  <thead>\n",
       "    <tr style=\"text-align: right;\">\n",
       "      <th></th>\n",
       "      <th>User-ID</th>\n",
       "      <th>Location</th>\n",
       "      <th>Age</th>\n",
       "    </tr>\n",
       "  </thead>\n",
       "  <tbody>\n",
       "    <tr>\n",
       "      <th>0</th>\n",
       "      <td>1</td>\n",
       "      <td>nyc, new york, usa</td>\n",
       "      <td>NaN</td>\n",
       "    </tr>\n",
       "    <tr>\n",
       "      <th>1</th>\n",
       "      <td>2</td>\n",
       "      <td>stockton, california, usa</td>\n",
       "      <td>18.0</td>\n",
       "    </tr>\n",
       "  </tbody>\n",
       "</table>\n",
       "</div>"
      ],
      "text/plain": [
       "   User-ID                   Location   Age\n",
       "0        1         nyc, new york, usa   NaN\n",
       "1        2  stockton, california, usa  18.0"
      ]
     },
     "execution_count": 9,
     "metadata": {},
     "output_type": "execute_result"
    }
   ],
   "source": [
    "user_df.head(2)"
   ]
  },
  {
   "cell_type": "code",
   "execution_count": 10,
   "id": "5d763288",
   "metadata": {},
   "outputs": [
    {
     "name": "stdout",
     "output_type": "stream",
     "text": [
      "<class 'pandas.core.frame.DataFrame'>\n",
      "RangeIndex: 278177 entries, 0 to 278176\n",
      "Data columns (total 3 columns):\n",
      " #   Column    Non-Null Count   Dtype  \n",
      "---  ------    --------------   -----  \n",
      " 0   User-ID   278177 non-null  int64  \n",
      " 1   Location  278177 non-null  object \n",
      " 2   Age       167669 non-null  float64\n",
      "dtypes: float64(1), int64(1), object(1)\n",
      "memory usage: 6.4+ MB\n"
     ]
    }
   ],
   "source": [
    "#summary of dataframe\n",
    "user_df.info()"
   ]
  },
  {
   "cell_type": "code",
   "execution_count": 11,
   "id": "b46a6e5f",
   "metadata": {},
   "outputs": [
    {
     "data": {
      "text/plain": [
       "(278177, 3)"
      ]
     },
     "execution_count": 11,
     "metadata": {},
     "output_type": "execute_result"
    }
   ],
   "source": [
    "# check dataframe dimension\n",
    "user_df.shape"
   ]
  },
  {
   "cell_type": "markdown",
   "id": "fd071d1d",
   "metadata": {},
   "source": [
    "## Data Cleaning"
   ]
  },
  {
   "cell_type": "code",
   "execution_count": 12,
   "id": "1d79903e",
   "metadata": {},
   "outputs": [
    {
     "name": "stdout",
     "output_type": "stream",
     "text": [
      "\n",
      "Missing values in Books dataset:\n",
      "Book-Author    2\n",
      "Publisher      2\n",
      "dtype: int64\n",
      "\n",
      "Missing values in Ratings dataset:\n",
      "No missing values.\n",
      "\n",
      "Missing values in Users dataset:\n",
      "Age    110508\n",
      "dtype: int64\n"
     ]
    }
   ],
   "source": [
    "# List of dataframes with names for clarity\n",
    "dfs = [(\"Books\", books_df), (\"Ratings\", ratings_df), (\"Users\", user_df)]\n",
    "\n",
    "# Loop through and check missing values\n",
    "for name, df in dfs:\n",
    "    print(f\"\\nMissing values in {name} dataset:\")\n",
    "    missing = df.isnull().sum()\n",
    "    missing = missing[missing > 0]\n",
    "    if not missing.empty:\n",
    "        print(missing)\n",
    "    else:\n",
    "        print(\"No missing values.\")\n"
   ]
  },
  {
   "cell_type": "markdown",
   "id": "10d81aa1",
   "metadata": {},
   "source": [
    "* Books dataset has missing values in Book-Author and Publisher. \n",
    "* Users dataset has missing values in Age.\n",
    "\n"
   ]
  },
  {
   "cell_type": "markdown",
   "id": "c5701815",
   "metadata": {},
   "source": [
    "## Handling missing values"
   ]
  },
  {
   "cell_type": "markdown",
   "id": "f7913bf3",
   "metadata": {},
   "source": [
    "We will drop the missing values in books dataset because the number is insignificant."
   ]
  },
  {
   "cell_type": "code",
   "execution_count": 13,
   "id": "cc1082c5",
   "metadata": {},
   "outputs": [],
   "source": [
    "#Dropping missin values of Books data as they are negligible\n",
    "books_df.dropna(inplace=True)"
   ]
  },
  {
   "cell_type": "code",
   "execution_count": 14,
   "id": "5cfda11b",
   "metadata": {},
   "outputs": [
    {
     "data": {
      "text/plain": [
       "ISBN                   0\n",
       "Book-Title             0\n",
       "Book-Author            0\n",
       "Year-Of-Publication    0\n",
       "Publisher              0\n",
       "Image-URL-S            0\n",
       "Image-URL-M            0\n",
       "Image-URL-L            0\n",
       "dtype: int64"
      ]
     },
     "execution_count": 14,
     "metadata": {},
     "output_type": "execute_result"
    }
   ],
   "source": [
    "books_df.isna().sum()"
   ]
  },
  {
   "cell_type": "code",
   "execution_count": 15,
   "id": "7b25fbad",
   "metadata": {},
   "outputs": [],
   "source": [
    "#Fill missing Values in Age Column with Median\n",
    "user_df['Age'] =user_df['Age'].fillna(user_df['Age'].median())"
   ]
  },
  {
   "cell_type": "code",
   "execution_count": 16,
   "id": "ad81b811",
   "metadata": {},
   "outputs": [
    {
     "data": {
      "text/plain": [
       "User-ID     0\n",
       "Location    0\n",
       "Age         0\n",
       "dtype: int64"
      ]
     },
     "execution_count": 16,
     "metadata": {},
     "output_type": "execute_result"
    }
   ],
   "source": [
    "user_df.isna().sum()"
   ]
  },
  {
   "cell_type": "code",
   "execution_count": 17,
   "id": "6bb94411",
   "metadata": {},
   "outputs": [
    {
     "data": {
      "text/plain": [
       "count    278177.000000\n",
       "mean         33.658624\n",
       "std          11.284321\n",
       "min           0.000000\n",
       "25%          29.000000\n",
       "50%          32.000000\n",
       "75%          35.000000\n",
       "max         244.000000\n",
       "Name: Age, dtype: float64"
      ]
     },
     "execution_count": 17,
     "metadata": {},
     "output_type": "execute_result"
    }
   ],
   "source": [
    "#check summary statistics\n",
    "user_df['Age'].describe()"
   ]
  },
  {
   "cell_type": "markdown",
   "id": "f366ae98",
   "metadata": {},
   "source": [
    "Minimum age 0 and max age 244 indicates outliers exist in age"
   ]
  },
  {
   "cell_type": "code",
   "execution_count": 18,
   "id": "be80aeb9",
   "metadata": {},
   "outputs": [],
   "source": [
    "#Capping the outlier rows with Percentiles\n",
    "upper_lim = user_df['Age'].quantile(.95)\n",
    "lower_lim = user_df['Age'].quantile(.05)\n",
    "user_df.loc[(user_df[\"Age\"] > upper_lim),\"Age\"] = upper_lim\n",
    "user_df.loc[(user_df[\"Age\"] < lower_lim),\"Age\"] = lower_lim\n",
    "     "
   ]
  },
  {
   "cell_type": "code",
   "execution_count": 19,
   "id": "8006e680",
   "metadata": {},
   "outputs": [
    {
     "data": {
      "text/plain": [
       "count    278177.000000\n",
       "mean         33.402449\n",
       "std           9.522502\n",
       "min          18.000000\n",
       "25%          29.000000\n",
       "50%          32.000000\n",
       "75%          35.000000\n",
       "max          56.000000\n",
       "Name: Age, dtype: float64"
      ]
     },
     "execution_count": 19,
     "metadata": {},
     "output_type": "execute_result"
    }
   ],
   "source": [
    "#recheck age summary\n",
    "user_df['Age'].describe()"
   ]
  },
  {
   "cell_type": "markdown",
   "id": "384bf3ae",
   "metadata": {},
   "source": [
    "### Checking for duplicates"
   ]
  },
  {
   "cell_type": "code",
   "execution_count": 20,
   "id": "de53e503",
   "metadata": {},
   "outputs": [
    {
     "name": "stdout",
     "output_type": "stream",
     "text": [
      "Books dataset has 0 duplicate rows.\n",
      "Ratings dataset has 0 duplicate rows.\n",
      "Users dataset has 0 duplicate rows.\n"
     ]
    }
   ],
   "source": [
    "\n",
    "# Loop through and check for duplicate rows\n",
    "for name, df in dfs:\n",
    "    duplicates = df.duplicated().sum()\n",
    "    print(f\"{name} dataset has {duplicates} duplicate rows.\")\n"
   ]
  },
  {
   "cell_type": "markdown",
   "id": "291c794b",
   "metadata": {},
   "source": [
    "Drop unnecessary column in books dataset"
   ]
  },
  {
   "cell_type": "code",
   "execution_count": 21,
   "id": "4dc14ec7",
   "metadata": {},
   "outputs": [],
   "source": [
    "# Drop image URLs columns\n",
    "books_df = books_df.drop(columns=['Image-URL-S', 'Image-URL-M', 'Image-URL-L'])\n"
   ]
  },
  {
   "cell_type": "code",
   "execution_count": 22,
   "id": "a5fc2559",
   "metadata": {},
   "outputs": [
    {
     "data": {
      "text/html": [
       "<div>\n",
       "<style scoped>\n",
       "    .dataframe tbody tr th:only-of-type {\n",
       "        vertical-align: middle;\n",
       "    }\n",
       "\n",
       "    .dataframe tbody tr th {\n",
       "        vertical-align: top;\n",
       "    }\n",
       "\n",
       "    .dataframe thead th {\n",
       "        text-align: right;\n",
       "    }\n",
       "</style>\n",
       "<table border=\"1\" class=\"dataframe\">\n",
       "  <thead>\n",
       "    <tr style=\"text-align: right;\">\n",
       "      <th></th>\n",
       "      <th>ISBN</th>\n",
       "      <th>Book-Title</th>\n",
       "      <th>Book-Author</th>\n",
       "      <th>Year-Of-Publication</th>\n",
       "      <th>Publisher</th>\n",
       "    </tr>\n",
       "  </thead>\n",
       "  <tbody>\n",
       "    <tr>\n",
       "      <th>0</th>\n",
       "      <td>0195153448</td>\n",
       "      <td>Classical Mythology</td>\n",
       "      <td>Mark P. O. Morford</td>\n",
       "      <td>2002</td>\n",
       "      <td>Oxford University Press</td>\n",
       "    </tr>\n",
       "    <tr>\n",
       "      <th>1</th>\n",
       "      <td>0002005018</td>\n",
       "      <td>Clara Callan</td>\n",
       "      <td>Richard Bruce Wright</td>\n",
       "      <td>2001</td>\n",
       "      <td>HarperFlamingo Canada</td>\n",
       "    </tr>\n",
       "  </tbody>\n",
       "</table>\n",
       "</div>"
      ],
      "text/plain": [
       "         ISBN           Book-Title           Book-Author  Year-Of-Publication  \\\n",
       "0  0195153448  Classical Mythology    Mark P. O. Morford                 2002   \n",
       "1  0002005018         Clara Callan  Richard Bruce Wright                 2001   \n",
       "\n",
       "                 Publisher  \n",
       "0  Oxford University Press  \n",
       "1    HarperFlamingo Canada  "
      ]
     },
     "execution_count": 22,
     "metadata": {},
     "output_type": "execute_result"
    }
   ],
   "source": [
    "books_df.head(2)"
   ]
  },
  {
   "cell_type": "code",
   "execution_count": 23,
   "id": "51514462",
   "metadata": {},
   "outputs": [
    {
     "data": {
      "text/plain": [
       "(270487, 5)"
      ]
     },
     "execution_count": 23,
     "metadata": {},
     "output_type": "execute_result"
    }
   ],
   "source": [
    "books_df.shape"
   ]
  },
  {
   "cell_type": "markdown",
   "id": "3c725ebe",
   "metadata": {},
   "source": [
    "## Merging the datasets"
   ]
  },
  {
   "cell_type": "markdown",
   "id": "81f1bdda",
   "metadata": {},
   "source": [
    "Merging user and ratings dataset on User-ID column."
   ]
  },
  {
   "cell_type": "code",
   "execution_count": 24,
   "id": "a36b72a2",
   "metadata": {},
   "outputs": [],
   "source": [
    "#Merging users and rating dataframe\n",
    "user_ratings_df=pd.merge(user_df,ratings_df, on='User-ID')\n",
    "     "
   ]
  },
  {
   "cell_type": "code",
   "execution_count": 25,
   "id": "f03aeb0e",
   "metadata": {},
   "outputs": [
    {
     "data": {
      "text/plain": [
       "(1149558, 5)"
      ]
     },
     "execution_count": 25,
     "metadata": {},
     "output_type": "execute_result"
    }
   ],
   "source": [
    "user_ratings_df.shape"
   ]
  },
  {
   "cell_type": "markdown",
   "id": "ad9a0b8c",
   "metadata": {},
   "source": [
    "Merging combined data of user and ratings with books data on ISBN column"
   ]
  },
  {
   "cell_type": "code",
   "execution_count": 26,
   "id": "ccda772f",
   "metadata": {},
   "outputs": [],
   "source": [
    "#Merging both data\n",
    "merged_df=pd.merge(books_df,user_ratings_df, on='ISBN')"
   ]
  },
  {
   "cell_type": "code",
   "execution_count": 27,
   "id": "12eaca54",
   "metadata": {},
   "outputs": [
    {
     "data": {
      "text/html": [
       "<div>\n",
       "<style scoped>\n",
       "    .dataframe tbody tr th:only-of-type {\n",
       "        vertical-align: middle;\n",
       "    }\n",
       "\n",
       "    .dataframe tbody tr th {\n",
       "        vertical-align: top;\n",
       "    }\n",
       "\n",
       "    .dataframe thead th {\n",
       "        text-align: right;\n",
       "    }\n",
       "</style>\n",
       "<table border=\"1\" class=\"dataframe\">\n",
       "  <thead>\n",
       "    <tr style=\"text-align: right;\">\n",
       "      <th></th>\n",
       "      <th>ISBN</th>\n",
       "      <th>Book-Title</th>\n",
       "      <th>Book-Author</th>\n",
       "      <th>Year-Of-Publication</th>\n",
       "      <th>Publisher</th>\n",
       "      <th>User-ID</th>\n",
       "      <th>Location</th>\n",
       "      <th>Age</th>\n",
       "      <th>Book-Rating</th>\n",
       "    </tr>\n",
       "  </thead>\n",
       "  <tbody>\n",
       "    <tr>\n",
       "      <th>0</th>\n",
       "      <td>0195153448</td>\n",
       "      <td>Classical Mythology</td>\n",
       "      <td>Mark P. O. Morford</td>\n",
       "      <td>2002</td>\n",
       "      <td>Oxford University Press</td>\n",
       "      <td>2</td>\n",
       "      <td>stockton, california, usa</td>\n",
       "      <td>18.0</td>\n",
       "      <td>0</td>\n",
       "    </tr>\n",
       "    <tr>\n",
       "      <th>1</th>\n",
       "      <td>0002005018</td>\n",
       "      <td>Clara Callan</td>\n",
       "      <td>Richard Bruce Wright</td>\n",
       "      <td>2001</td>\n",
       "      <td>HarperFlamingo Canada</td>\n",
       "      <td>8</td>\n",
       "      <td>timmins, ontario, canada</td>\n",
       "      <td>32.0</td>\n",
       "      <td>5</td>\n",
       "    </tr>\n",
       "  </tbody>\n",
       "</table>\n",
       "</div>"
      ],
      "text/plain": [
       "         ISBN           Book-Title           Book-Author  Year-Of-Publication  \\\n",
       "0  0195153448  Classical Mythology    Mark P. O. Morford                 2002   \n",
       "1  0002005018         Clara Callan  Richard Bruce Wright                 2001   \n",
       "\n",
       "                 Publisher  User-ID                   Location   Age  \\\n",
       "0  Oxford University Press        2  stockton, california, usa  18.0   \n",
       "1    HarperFlamingo Canada        8   timmins, ontario, canada  32.0   \n",
       "\n",
       "   Book-Rating  \n",
       "0            0  \n",
       "1            5  "
      ]
     },
     "execution_count": 27,
     "metadata": {},
     "output_type": "execute_result"
    }
   ],
   "source": [
    "#head of all 3 merged dataframe\n",
    "merged_df.head(2)"
   ]
  },
  {
   "cell_type": "code",
   "execution_count": 28,
   "id": "1e940230",
   "metadata": {},
   "outputs": [
    {
     "name": "stdout",
     "output_type": "stream",
     "text": [
      "<class 'pandas.core.frame.DataFrame'>\n",
      "RangeIndex: 1028622 entries, 0 to 1028621\n",
      "Data columns (total 9 columns):\n",
      " #   Column               Non-Null Count    Dtype  \n",
      "---  ------               --------------    -----  \n",
      " 0   ISBN                 1028622 non-null  object \n",
      " 1   Book-Title           1028622 non-null  object \n",
      " 2   Book-Author          1028622 non-null  object \n",
      " 3   Year-Of-Publication  1028622 non-null  int64  \n",
      " 4   Publisher            1028622 non-null  object \n",
      " 5   User-ID              1028622 non-null  int64  \n",
      " 6   Location             1028622 non-null  object \n",
      " 7   Age                  1028622 non-null  float64\n",
      " 8   Book-Rating          1028622 non-null  int64  \n",
      "dtypes: float64(1), int64(3), object(5)\n",
      "memory usage: 70.6+ MB\n"
     ]
    }
   ],
   "source": [
    "# check summary\n",
    "merged_df.info()"
   ]
  },
  {
   "cell_type": "code",
   "execution_count": 29,
   "id": "bd2f087d",
   "metadata": {},
   "outputs": [
    {
     "data": {
      "text/plain": [
       "(1028622, 9)"
      ]
     },
     "execution_count": 29,
     "metadata": {},
     "output_type": "execute_result"
    }
   ],
   "source": [
    "merged_df.shape"
   ]
  },
  {
   "cell_type": "code",
   "execution_count": 30,
   "id": "9180b218",
   "metadata": {},
   "outputs": [
    {
     "data": {
      "text/plain": [
       "Location\n",
       "toronto, ontario, canada            14738\n",
       "n/a, n/a, n/a                       11135\n",
       "chicago, illinois, usa               8481\n",
       "seattle, washington, usa             8377\n",
       "ottawa, ontario, canada              8096\n",
       "                                    ...  \n",
       "mitcham, ,                              1\n",
       "norwood, north carolina, usa            1\n",
       "vitoria, país vasco, spain              1\n",
       "shenley, england, united kingdom        1\n",
       "linclon, nebraska, usa                  1\n",
       "Name: count, Length: 22403, dtype: int64"
      ]
     },
     "execution_count": 30,
     "metadata": {},
     "output_type": "execute_result"
    }
   ],
   "source": [
    "#Country value counts\n",
    "merged_df.Location.value_counts()\n",
    "     "
   ]
  },
  {
   "cell_type": "markdown",
   "id": "b350d165",
   "metadata": {},
   "source": [
    "Split location into components: City, State, Country. This helps normalize and allows country-based filtering."
   ]
  },
  {
   "cell_type": "code",
   "execution_count": 31,
   "id": "6f72cc8a",
   "metadata": {},
   "outputs": [
    {
     "data": {
      "text/html": [
       "<div>\n",
       "<style scoped>\n",
       "    .dataframe tbody tr th:only-of-type {\n",
       "        vertical-align: middle;\n",
       "    }\n",
       "\n",
       "    .dataframe tbody tr th {\n",
       "        vertical-align: top;\n",
       "    }\n",
       "\n",
       "    .dataframe thead th {\n",
       "        text-align: right;\n",
       "    }\n",
       "</style>\n",
       "<table border=\"1\" class=\"dataframe\">\n",
       "  <thead>\n",
       "    <tr style=\"text-align: right;\">\n",
       "      <th></th>\n",
       "      <th>Location</th>\n",
       "      <th>City</th>\n",
       "      <th>State</th>\n",
       "      <th>Country</th>\n",
       "    </tr>\n",
       "  </thead>\n",
       "  <tbody>\n",
       "    <tr>\n",
       "      <th>0</th>\n",
       "      <td>stockton, california, usa</td>\n",
       "      <td>stockton</td>\n",
       "      <td>california</td>\n",
       "      <td>usa</td>\n",
       "    </tr>\n",
       "    <tr>\n",
       "      <th>1</th>\n",
       "      <td>timmins, ontario, canada</td>\n",
       "      <td>timmins</td>\n",
       "      <td>ontario</td>\n",
       "      <td>canada</td>\n",
       "    </tr>\n",
       "    <tr>\n",
       "      <th>2</th>\n",
       "      <td>ottawa, ontario, canada</td>\n",
       "      <td>ottawa</td>\n",
       "      <td>ontario</td>\n",
       "      <td>canada</td>\n",
       "    </tr>\n",
       "    <tr>\n",
       "      <th>3</th>\n",
       "      <td>n/a, n/a, n/a</td>\n",
       "      <td>Unknown</td>\n",
       "      <td>Unknown</td>\n",
       "      <td>Unknown</td>\n",
       "    </tr>\n",
       "    <tr>\n",
       "      <th>4</th>\n",
       "      <td>sudbury, ontario, canada</td>\n",
       "      <td>sudbury</td>\n",
       "      <td>ontario</td>\n",
       "      <td>canada</td>\n",
       "    </tr>\n",
       "  </tbody>\n",
       "</table>\n",
       "</div>"
      ],
      "text/plain": [
       "                    Location      City       State  Country\n",
       "0  stockton, california, usa  stockton  california      usa\n",
       "1   timmins, ontario, canada   timmins     ontario   canada\n",
       "2    ottawa, ontario, canada    ottawa     ontario   canada\n",
       "3              n/a, n/a, n/a   Unknown     Unknown  Unknown\n",
       "4   sudbury, ontario, canada   sudbury     ontario   canada"
      ]
     },
     "execution_count": 31,
     "metadata": {},
     "output_type": "execute_result"
    }
   ],
   "source": [
    "# Split 'Location' column into three new columns\n",
    "merged_df[['City', 'State', 'Country']] = merged_df['Location'].str.split(',', n=2, expand=True)\n",
    "\n",
    "# Clean up whitespace\n",
    "merged_df['City'] = merged_df['City'].str.strip()\n",
    "merged_df['State'] = merged_df['State'].str.strip()\n",
    "merged_df['Country'] = merged_df['Country'].str.strip()\n",
    "\n",
    "# Replace 'n/a'  with 'Unknown'\n",
    "merged_df[['City', 'State', 'Country']] = merged_df[['City', 'State', 'Country']].replace(['n/a', 'N/A', 'na', 'NA'], 'Unknown')\n",
    "merged_df[['City', 'State', 'Country']] = merged_df[['City', 'State', 'Country']].fillna('Unknown')\n",
    "\n",
    "# Optional: Check result\n",
    "merged_df[['Location', 'City', 'State', 'Country']].head()\n"
   ]
  },
  {
   "cell_type": "code",
   "execution_count": 32,
   "id": "6b9fcb1c",
   "metadata": {},
   "outputs": [],
   "source": [
    "# Drop the 'Location' column\n",
    "merged_df.drop(columns=['Location'], inplace=True)\n",
    "\n",
    "\n"
   ]
  },
  {
   "cell_type": "code",
   "execution_count": 33,
   "id": "01a53260",
   "metadata": {},
   "outputs": [
    {
     "data": {
      "text/html": [
       "<div>\n",
       "<style scoped>\n",
       "    .dataframe tbody tr th:only-of-type {\n",
       "        vertical-align: middle;\n",
       "    }\n",
       "\n",
       "    .dataframe tbody tr th {\n",
       "        vertical-align: top;\n",
       "    }\n",
       "\n",
       "    .dataframe thead th {\n",
       "        text-align: right;\n",
       "    }\n",
       "</style>\n",
       "<table border=\"1\" class=\"dataframe\">\n",
       "  <thead>\n",
       "    <tr style=\"text-align: right;\">\n",
       "      <th></th>\n",
       "      <th>ISBN</th>\n",
       "      <th>Book-Title</th>\n",
       "      <th>Book-Author</th>\n",
       "      <th>Year-Of-Publication</th>\n",
       "      <th>Publisher</th>\n",
       "      <th>User-ID</th>\n",
       "      <th>Age</th>\n",
       "      <th>Book-Rating</th>\n",
       "      <th>City</th>\n",
       "      <th>State</th>\n",
       "      <th>Country</th>\n",
       "    </tr>\n",
       "  </thead>\n",
       "  <tbody>\n",
       "    <tr>\n",
       "      <th>0</th>\n",
       "      <td>0195153448</td>\n",
       "      <td>Classical Mythology</td>\n",
       "      <td>Mark P. O. Morford</td>\n",
       "      <td>2002</td>\n",
       "      <td>Oxford University Press</td>\n",
       "      <td>2</td>\n",
       "      <td>18.0</td>\n",
       "      <td>0</td>\n",
       "      <td>stockton</td>\n",
       "      <td>california</td>\n",
       "      <td>usa</td>\n",
       "    </tr>\n",
       "    <tr>\n",
       "      <th>1</th>\n",
       "      <td>0002005018</td>\n",
       "      <td>Clara Callan</td>\n",
       "      <td>Richard Bruce Wright</td>\n",
       "      <td>2001</td>\n",
       "      <td>HarperFlamingo Canada</td>\n",
       "      <td>8</td>\n",
       "      <td>32.0</td>\n",
       "      <td>5</td>\n",
       "      <td>timmins</td>\n",
       "      <td>ontario</td>\n",
       "      <td>canada</td>\n",
       "    </tr>\n",
       "    <tr>\n",
       "      <th>2</th>\n",
       "      <td>0002005018</td>\n",
       "      <td>Clara Callan</td>\n",
       "      <td>Richard Bruce Wright</td>\n",
       "      <td>2001</td>\n",
       "      <td>HarperFlamingo Canada</td>\n",
       "      <td>11400</td>\n",
       "      <td>49.0</td>\n",
       "      <td>0</td>\n",
       "      <td>ottawa</td>\n",
       "      <td>ontario</td>\n",
       "      <td>canada</td>\n",
       "    </tr>\n",
       "    <tr>\n",
       "      <th>3</th>\n",
       "      <td>0002005018</td>\n",
       "      <td>Clara Callan</td>\n",
       "      <td>Richard Bruce Wright</td>\n",
       "      <td>2001</td>\n",
       "      <td>HarperFlamingo Canada</td>\n",
       "      <td>11676</td>\n",
       "      <td>32.0</td>\n",
       "      <td>8</td>\n",
       "      <td>Unknown</td>\n",
       "      <td>Unknown</td>\n",
       "      <td>Unknown</td>\n",
       "    </tr>\n",
       "    <tr>\n",
       "      <th>4</th>\n",
       "      <td>0002005018</td>\n",
       "      <td>Clara Callan</td>\n",
       "      <td>Richard Bruce Wright</td>\n",
       "      <td>2001</td>\n",
       "      <td>HarperFlamingo Canada</td>\n",
       "      <td>41385</td>\n",
       "      <td>32.0</td>\n",
       "      <td>0</td>\n",
       "      <td>sudbury</td>\n",
       "      <td>ontario</td>\n",
       "      <td>canada</td>\n",
       "    </tr>\n",
       "    <tr>\n",
       "      <th>5</th>\n",
       "      <td>0002005018</td>\n",
       "      <td>Clara Callan</td>\n",
       "      <td>Richard Bruce Wright</td>\n",
       "      <td>2001</td>\n",
       "      <td>HarperFlamingo Canada</td>\n",
       "      <td>67544</td>\n",
       "      <td>30.0</td>\n",
       "      <td>8</td>\n",
       "      <td>toronto</td>\n",
       "      <td>ontario</td>\n",
       "      <td>canada</td>\n",
       "    </tr>\n",
       "    <tr>\n",
       "      <th>6</th>\n",
       "      <td>0002005018</td>\n",
       "      <td>Clara Callan</td>\n",
       "      <td>Richard Bruce Wright</td>\n",
       "      <td>2001</td>\n",
       "      <td>HarperFlamingo Canada</td>\n",
       "      <td>85526</td>\n",
       "      <td>36.0</td>\n",
       "      <td>0</td>\n",
       "      <td>victoria</td>\n",
       "      <td>british columbia</td>\n",
       "      <td>canada</td>\n",
       "    </tr>\n",
       "    <tr>\n",
       "      <th>7</th>\n",
       "      <td>0002005018</td>\n",
       "      <td>Clara Callan</td>\n",
       "      <td>Richard Bruce Wright</td>\n",
       "      <td>2001</td>\n",
       "      <td>HarperFlamingo Canada</td>\n",
       "      <td>96054</td>\n",
       "      <td>29.0</td>\n",
       "      <td>0</td>\n",
       "      <td>ottawa</td>\n",
       "      <td>ontario</td>\n",
       "      <td>canada</td>\n",
       "    </tr>\n",
       "    <tr>\n",
       "      <th>8</th>\n",
       "      <td>0002005018</td>\n",
       "      <td>Clara Callan</td>\n",
       "      <td>Richard Bruce Wright</td>\n",
       "      <td>2001</td>\n",
       "      <td>HarperFlamingo Canada</td>\n",
       "      <td>116866</td>\n",
       "      <td>32.0</td>\n",
       "      <td>9</td>\n",
       "      <td>ottawa</td>\n",
       "      <td></td>\n",
       "      <td></td>\n",
       "    </tr>\n",
       "    <tr>\n",
       "      <th>9</th>\n",
       "      <td>0002005018</td>\n",
       "      <td>Clara Callan</td>\n",
       "      <td>Richard Bruce Wright</td>\n",
       "      <td>2001</td>\n",
       "      <td>HarperFlamingo Canada</td>\n",
       "      <td>123629</td>\n",
       "      <td>32.0</td>\n",
       "      <td>9</td>\n",
       "      <td>kingston</td>\n",
       "      <td>ontario</td>\n",
       "      <td>canada</td>\n",
       "    </tr>\n",
       "  </tbody>\n",
       "</table>\n",
       "</div>"
      ],
      "text/plain": [
       "         ISBN           Book-Title           Book-Author  Year-Of-Publication  \\\n",
       "0  0195153448  Classical Mythology    Mark P. O. Morford                 2002   \n",
       "1  0002005018         Clara Callan  Richard Bruce Wright                 2001   \n",
       "2  0002005018         Clara Callan  Richard Bruce Wright                 2001   \n",
       "3  0002005018         Clara Callan  Richard Bruce Wright                 2001   \n",
       "4  0002005018         Clara Callan  Richard Bruce Wright                 2001   \n",
       "5  0002005018         Clara Callan  Richard Bruce Wright                 2001   \n",
       "6  0002005018         Clara Callan  Richard Bruce Wright                 2001   \n",
       "7  0002005018         Clara Callan  Richard Bruce Wright                 2001   \n",
       "8  0002005018         Clara Callan  Richard Bruce Wright                 2001   \n",
       "9  0002005018         Clara Callan  Richard Bruce Wright                 2001   \n",
       "\n",
       "                 Publisher  User-ID   Age  Book-Rating      City  \\\n",
       "0  Oxford University Press        2  18.0            0  stockton   \n",
       "1    HarperFlamingo Canada        8  32.0            5   timmins   \n",
       "2    HarperFlamingo Canada    11400  49.0            0    ottawa   \n",
       "3    HarperFlamingo Canada    11676  32.0            8   Unknown   \n",
       "4    HarperFlamingo Canada    41385  32.0            0   sudbury   \n",
       "5    HarperFlamingo Canada    67544  30.0            8   toronto   \n",
       "6    HarperFlamingo Canada    85526  36.0            0  victoria   \n",
       "7    HarperFlamingo Canada    96054  29.0            0    ottawa   \n",
       "8    HarperFlamingo Canada   116866  32.0            9    ottawa   \n",
       "9    HarperFlamingo Canada   123629  32.0            9  kingston   \n",
       "\n",
       "              State  Country  \n",
       "0        california      usa  \n",
       "1           ontario   canada  \n",
       "2           ontario   canada  \n",
       "3           Unknown  Unknown  \n",
       "4           ontario   canada  \n",
       "5           ontario   canada  \n",
       "6  british columbia   canada  \n",
       "7           ontario   canada  \n",
       "8                             \n",
       "9           ontario   canada  "
      ]
     },
     "execution_count": 33,
     "metadata": {},
     "output_type": "execute_result"
    }
   ],
   "source": [
    "# display dataframe\n",
    "merged_df.head(10)"
   ]
  },
  {
   "cell_type": "code",
   "execution_count": 34,
   "id": "0caafcdb",
   "metadata": {},
   "outputs": [
    {
     "data": {
      "text/plain": [
       "array([2002, 2001, 1991, 1999, 2000, 1993, 1996, 1988, 2004, 1998, 1994,\n",
       "       2003, 1997, 1983, 1979, 1995, 1982, 1985, 1992, 1986, 1978, 1980,\n",
       "       1952, 1987, 1990, 1981, 1989, 1984,    0, 1968, 1961, 1958, 1974,\n",
       "       1976, 1971, 1977, 1975, 1965, 1941, 1970, 1962, 1973, 1972, 1960,\n",
       "       1966, 1920, 1956, 1959, 1953, 1951, 1942, 1963, 1964, 1969, 1954,\n",
       "       1950, 1967, 2005, 1957, 1940, 1937, 1955, 1946, 1936, 1930, 2011,\n",
       "       1925, 1948, 1943, 1947, 1945, 1923, 2020, 1939, 1926, 1938, 2030,\n",
       "       1911, 1904, 1949, 1932, 1928, 1929, 1927, 1931, 1914, 2050, 1934,\n",
       "       1910, 1933, 1902, 1924, 1921, 1900, 2038, 2026, 1944, 1917, 1901,\n",
       "       2010, 1908, 1906, 1935, 1806, 2021, 2012, 2006, 1909, 2008, 1378,\n",
       "       1919, 1922, 1897, 2024, 1376, 2037], dtype=int64)"
      ]
     },
     "execution_count": 34,
     "metadata": {},
     "output_type": "execute_result"
    }
   ],
   "source": [
    "# getting unique value from 'year_of_publication' feature\n",
    "\n",
    "merged_df['Year-Of-Publication'].unique()"
   ]
  },
  {
   "cell_type": "code",
   "execution_count": 35,
   "id": "4382d554",
   "metadata": {},
   "outputs": [
    {
     "name": "stdout",
     "output_type": "stream",
     "text": [
      "[2002 2001 1991 1999 2000 1993 1996 1988 2004 1998 1994 2003 1997 1983\n",
      " 1979 1995 1982 1985 1992 1986 1978 1980 1952 1987 1990 1981 1989 1984\n",
      " 1968 1961 1958 1974 1976 1971 1977 1975 1965 1941 1970 1962 1973 1972\n",
      " 1960 1966 1920 1956 1959 1953 1951 1942 1963 1964 1969 1954 1950 1967\n",
      " 2005 1957 1940 1937 1955 1946 1936 1930 2011 1925 1948 1943 1947 1945\n",
      " 1923 2020 1939 1926 1938 2030 1911 1904 1949 1932 1928 1929 1927 1931\n",
      " 1914 2050 1934 1910 1933 1902 1924 1921 1900 2038 2026 1944 1917 1901\n",
      " 2010 1908 1906 1935 1806 2021 2012 2006 1909 2008 1378 1919 1922 1897\n",
      " 2024 1376 2037]\n"
     ]
    }
   ],
   "source": [
    "# Remove rows with Year-Of-Publication as 0\n",
    "merged_df = merged_df[merged_df['Year-Of-Publication'] != 0]\n",
    "\n",
    "# Optional: Reset index after deletion\n",
    "merged_df.reset_index(drop=True, inplace=True)\n",
    "\n",
    "# Check if 0 is gone\n",
    "print(merged_df['Year-Of-Publication'].unique())\n"
   ]
  },
  {
   "cell_type": "markdown",
   "id": "0d103b5c",
   "metadata": {},
   "source": [
    "## Exploratory Data Analysis"
   ]
  },
  {
   "cell_type": "markdown",
   "id": "fe0f5cc2",
   "metadata": {},
   "source": [
    "### Univariate Analysis"
   ]
  },
  {
   "cell_type": "code",
   "execution_count": 37,
   "id": "62f27b09",
   "metadata": {},
   "outputs": [
    {
     "data": {
      "image/png": "[encoded data removed]",
      "text/plain": [
       "<Figure size 1152x864 with 1 Axes>"
      ]
     },
     "metadata": {
      "needs_background": "light"
     },
     "output_type": "display_data"
    }
   ],
   "source": [
    "import seaborn as sns\n",
    "import matplotlib.pyplot as plt\n",
    "plt.figure(figsize=(16, 12))\n",
    "sns.countplot(x=merged_df['Age'])\n",
    "plt.xlabel('User Ages')\n",
    "plt.show()"
   ]
  },
  {
   "cell_type": "markdown",
   "id": "03dc54e0",
   "metadata": {},
   "source": [
    "Summary\n",
    "\n",
    "The graph shows a very uneven age distribution with a massive concentration at age 32. "
   ]
  },
  {
   "cell_type": "code",
   "execution_count": 38,
   "id": "94497858",
   "metadata": {},
   "outputs": [
    {
     "data": {
      "image/png": "[encoded data removed]",
      "text/plain": [
       "<Figure size 576x432 with 1 Axes>"
      ]
     },
     "metadata": {
      "needs_background": "light"
     },
     "output_type": "display_data"
    }
   ],
   "source": [
    "plt.figure(figsize=(8, 6))\n",
    "sns.histplot(merged_df['Book-Rating'], bins=11, discrete=True, kde=False)\n",
    "plt.title('Distribution of Book Ratings')\n",
    "plt.xlabel('Book Rating (0-10)')\n",
    "plt.ylabel('Frequency')\n",
    "plt.xticks(range(0, 11))\n",
    "plt.tight_layout()\n",
    "plt.show()"
   ]
  },
  {
   "cell_type": "markdown",
   "id": "983b8c89",
   "metadata": {},
   "source": [
    "### Observation\n",
    "\n",
    "This indicates that a vast majority of the ratings in the dataset are 0 which can translate to Users disliked the book or Users interacted with the book but chose not to rate it. There are noticeable, though much smaller, peaks at higher ratings, particularly around 7, 8, 9, and 10. This suggests that while most ratings are 0, there's also a considerable number of books that have received positive feedback."
   ]
  },
  {
   "cell_type": "code",
   "execution_count": 39,
   "id": "ee4415c8",
   "metadata": {},
   "outputs": [
    {
     "data": {
      "image/png": "[encoded data removed]",
      "text/plain": [
       "<Figure size 864x504 with 1 Axes>"
      ]
     },
     "metadata": {
      "needs_background": "light"
     },
     "output_type": "display_data"
    }
   ],
   "source": [
    "# Get the top 10 publishers by count\n",
    "top_10_publishers = merged_df['Publisher'].value_counts().nlargest(10)\n",
    "\n",
    "# Create the bar plot\n",
    "plt.figure(figsize=(12, 7))\n",
    "sns.barplot(x=top_10_publishers.index, y=top_10_publishers.values, palette='mako')\n",
    "plt.title('Top 10 Publishers by Number of Books')\n",
    "plt.xlabel('Publisher')\n",
    "plt.ylabel('Number of Books')\n",
    "plt.xticks(rotation=45, ha='right')\n",
    "plt.tight_layout()\n",
    "plt.show()"
   ]
  },
  {
   "cell_type": "markdown",
   "id": "401755ea",
   "metadata": {},
   "source": [
    "### Observation\n",
    "\n",
    "Ballantine Books has the highest number of books by a significant margin. This suggests that the publisher has realesed many books in the market"
   ]
  },
  {
   "cell_type": "markdown",
   "id": "0700c0ef",
   "metadata": {},
   "source": [
    "### Bivariate Analysis"
   ]
  },
  {
   "cell_type": "code",
   "execution_count": 40,
   "id": "ba71d1f7",
   "metadata": {},
   "outputs": [
    {
     "data": {
      "image/png": "[encoded data removed]",
      "text/plain": [
       "<Figure size 864x504 with 1 Axes>"
      ]
     },
     "metadata": {
      "needs_background": "light"
     },
     "output_type": "display_data"
    }
   ],
   "source": [
    "# Get the top 10 publishers by count\n",
    "top_10_publishers = merged_df['Publisher'].value_counts().nlargest(10).index\n",
    "\n",
    "# Filter the DataFrame to include only books from the top 10 publishers\n",
    "top_publishers_df = merged_df[merged_df['Publisher'].isin(top_10_publishers)]\n",
    "\n",
    "# Group by publisher and calculate the average book rating\n",
    "average_ratings = top_publishers_df.groupby('Publisher')['Book-Rating'].mean().sort_values(ascending=False)\n",
    "\n",
    "# Create the bar plot\n",
    "plt.figure(figsize=(12, 7))\n",
    "sns.barplot(x=average_ratings.index, y=average_ratings.values, palette='viridis')\n",
    "plt.title('Average Book Rating for Top 10 Publishers')\n",
    "plt.xlabel('Publisher')\n",
    "plt.ylabel('Average Book Rating')\n",
    "plt.xticks(rotation=45, ha='right')\n",
    "plt.tight_layout()\n",
    "plt.show()"
   ]
  },
  {
   "cell_type": "markdown",
   "id": "257146d1",
   "metadata": {},
   "source": [
    "### Observation\n",
    "\n",
    "Books published by Penguin Books have received the highest ratings from users. Some publishers in the middle of the ranking have average ratings that are quite close to each other (e.g., Bantam, Ballantine Books, Signet Book, Warner Books, Pocket, Avon). This suggests that, on average, user satisfaction with books from these publishers is somewhat similar."
   ]
  },
  {
   "cell_type": "code",
   "execution_count": 42,
   "id": "34bde5b9",
   "metadata": {},
   "outputs": [
    {
     "data": {
      "image/png": "[encoded data removed]",
      "text/plain": [
       "<Figure size 864x504 with 1 Axes>"
      ]
     },
     "metadata": {
      "needs_background": "light"
     },
     "output_type": "display_data"
    }
   ],
   "source": [
    "# Age vs. top 10 Publisher\n",
    "top_n = 10\n",
    "top_publishers = merged_df['Publisher'].value_counts().nlargest(top_n).index\n",
    "filtered_df = merged_df[merged_df['Publisher'].isin(top_publishers)]\n",
    "\n",
    "plt.figure(figsize=(12, 7))\n",
    "sns.violinplot(x='Publisher', y='Age', data=filtered_df)\n",
    "plt.title(f'Age Distribution for Top {top_n} Publishers')\n",
    "plt.xlabel('Publisher')\n",
    "plt.ylabel('Age')\n",
    "plt.xticks(rotation=45, ha='right')\n",
    "plt.show()"
   ]
  },
  {
   "cell_type": "markdown",
   "id": "a5b1981d",
   "metadata": {},
   "source": [
    "### Observation\n",
    "\n",
    "The graph reveals that different publishers appear to attract readers of varying age distributions. Some publishers (e.g., Berkley Publishing Group, Ballantine Books, Avon) seem to have a relatively wider age range of readers, suggesting their catalog might appeal to a broader demographic."
   ]
  },
  {
   "cell_type": "code",
   "execution_count": 43,
   "id": "a14ff3a8",
   "metadata": {},
   "outputs": [
    {
     "data": {
      "image/png": "[encoded data removed]",
      "text/plain": [
       "<Figure size 720x432 with 1 Axes>"
      ]
     },
     "metadata": {
      "needs_background": "light"
     },
     "output_type": "display_data"
    }
   ],
   "source": [
    "# Year of Publication vs. Book Rating\n",
    "plt.figure(figsize=(10, 6))\n",
    "sns.scatterplot(x='Year-Of-Publication', y='Book-Rating', data=merged_df)\n",
    "plt.title('Book Rating vs. Year of Publication')\n",
    "plt.xlabel('Year of Publication')\n",
    "plt.ylabel('Book Rating')\n",
    "plt.show()"
   ]
  },
  {
   "cell_type": "markdown",
   "id": "814ab040",
   "metadata": {},
   "source": [
    "### Observation\n",
    "There are very few data points for books published before the 1900s. This indicates a scarcity of ratings for older titles in your dataset.  This data will likely struggle to provide accurate recommendations for very old books due to the lack of rating information. This is a classic \"cold start\" problem. \n",
    "\n"
   ]
  },
  {
   "cell_type": "markdown",
   "id": "59352305",
   "metadata": {},
   "source": [
    "## Data Pre-processing"
   ]
  },
  {
   "cell_type": "code",
   "execution_count": 46,
   "id": "82caf86d",
   "metadata": {},
   "outputs": [
    {
     "data": {
      "text/html": [
       "<div>\n",
       "<style scoped>\n",
       "    .dataframe tbody tr th:only-of-type {\n",
       "        vertical-align: middle;\n",
       "    }\n",
       "\n",
       "    .dataframe tbody tr th {\n",
       "        vertical-align: top;\n",
       "    }\n",
       "\n",
       "    .dataframe thead th {\n",
       "        text-align: right;\n",
       "    }\n",
       "</style>\n",
       "<table border=\"1\" class=\"dataframe\">\n",
       "  <thead>\n",
       "    <tr style=\"text-align: right;\">\n",
       "      <th></th>\n",
       "      <th>ISBN</th>\n",
       "      <th>Book-Title</th>\n",
       "      <th>Book-Author</th>\n",
       "      <th>Year-Of-Publication</th>\n",
       "      <th>Publisher</th>\n",
       "      <th>User-ID</th>\n",
       "      <th>Age</th>\n",
       "      <th>Book-Rating</th>\n",
       "      <th>City</th>\n",
       "      <th>State</th>\n",
       "      <th>Country</th>\n",
       "    </tr>\n",
       "  </thead>\n",
       "  <tbody>\n",
       "    <tr>\n",
       "      <th>1</th>\n",
       "      <td>0002005018</td>\n",
       "      <td>Clara Callan</td>\n",
       "      <td>Richard Bruce Wright</td>\n",
       "      <td>2001</td>\n",
       "      <td>HarperFlamingo Canada</td>\n",
       "      <td>8</td>\n",
       "      <td>32.0</td>\n",
       "      <td>5</td>\n",
       "      <td>timmins</td>\n",
       "      <td>ontario</td>\n",
       "      <td>canada</td>\n",
       "    </tr>\n",
       "    <tr>\n",
       "      <th>3</th>\n",
       "      <td>0002005018</td>\n",
       "      <td>Clara Callan</td>\n",
       "      <td>Richard Bruce Wright</td>\n",
       "      <td>2001</td>\n",
       "      <td>HarperFlamingo Canada</td>\n",
       "      <td>11676</td>\n",
       "      <td>32.0</td>\n",
       "      <td>8</td>\n",
       "      <td>Unknown</td>\n",
       "      <td>Unknown</td>\n",
       "      <td>Unknown</td>\n",
       "    </tr>\n",
       "  </tbody>\n",
       "</table>\n",
       "</div>"
      ],
      "text/plain": [
       "         ISBN    Book-Title           Book-Author  Year-Of-Publication  \\\n",
       "1  0002005018  Clara Callan  Richard Bruce Wright                 2001   \n",
       "3  0002005018  Clara Callan  Richard Bruce Wright                 2001   \n",
       "\n",
       "               Publisher  User-ID   Age  Book-Rating     City    State  \\\n",
       "1  HarperFlamingo Canada        8  32.0            5  timmins  ontario   \n",
       "3  HarperFlamingo Canada    11676  32.0            8  Unknown  Unknown   \n",
       "\n",
       "   Country  \n",
       "1   canada  \n",
       "3  Unknown  "
      ]
     },
     "execution_count": 46,
     "metadata": {},
     "output_type": "execute_result"
    }
   ],
   "source": [
    "merged_df.head(2)"
   ]
  },
  {
   "cell_type": "markdown",
   "id": "45fdf660",
   "metadata": {},
   "source": [
    "We drop '0' rating rows because it does not explicitly mean the reader disliked the book. Also By focusing on explicit positive ratings, the model can better distinguish between items that users liked and those they didn't "
   ]
  },
  {
   "cell_type": "code",
   "execution_count": 47,
   "id": "075c2f42",
   "metadata": {},
   "outputs": [],
   "source": [
    "# Drop rows where the 'Book-Rating' column is equal to 0\n",
    "merged_df.drop(merged_df[merged_df['Book-Rating'] == 0].index, inplace=True)\n"
   ]
  },
  {
   "cell_type": "code",
   "execution_count": 48,
   "id": "63657908",
   "metadata": {},
   "outputs": [
    {
     "data": {
      "text/html": [
       "<div>\n",
       "<style scoped>\n",
       "    .dataframe tbody tr th:only-of-type {\n",
       "        vertical-align: middle;\n",
       "    }\n",
       "\n",
       "    .dataframe tbody tr th {\n",
       "        vertical-align: top;\n",
       "    }\n",
       "\n",
       "    .dataframe thead th {\n",
       "        text-align: right;\n",
       "    }\n",
       "</style>\n",
       "<table border=\"1\" class=\"dataframe\">\n",
       "  <thead>\n",
       "    <tr style=\"text-align: right;\">\n",
       "      <th></th>\n",
       "      <th>ISBN</th>\n",
       "      <th>Book-Title</th>\n",
       "      <th>Book-Author</th>\n",
       "      <th>Year-Of-Publication</th>\n",
       "      <th>Publisher</th>\n",
       "      <th>User-ID</th>\n",
       "      <th>Age</th>\n",
       "      <th>Book-Rating</th>\n",
       "      <th>City</th>\n",
       "      <th>State</th>\n",
       "      <th>Country</th>\n",
       "    </tr>\n",
       "  </thead>\n",
       "  <tbody>\n",
       "    <tr>\n",
       "      <th>1</th>\n",
       "      <td>0002005018</td>\n",
       "      <td>Clara Callan</td>\n",
       "      <td>Richard Bruce Wright</td>\n",
       "      <td>2001</td>\n",
       "      <td>HarperFlamingo Canada</td>\n",
       "      <td>8</td>\n",
       "      <td>32.0</td>\n",
       "      <td>5</td>\n",
       "      <td>timmins</td>\n",
       "      <td>ontario</td>\n",
       "      <td>canada</td>\n",
       "    </tr>\n",
       "    <tr>\n",
       "      <th>3</th>\n",
       "      <td>0002005018</td>\n",
       "      <td>Clara Callan</td>\n",
       "      <td>Richard Bruce Wright</td>\n",
       "      <td>2001</td>\n",
       "      <td>HarperFlamingo Canada</td>\n",
       "      <td>11676</td>\n",
       "      <td>32.0</td>\n",
       "      <td>8</td>\n",
       "      <td>Unknown</td>\n",
       "      <td>Unknown</td>\n",
       "      <td>Unknown</td>\n",
       "    </tr>\n",
       "    <tr>\n",
       "      <th>5</th>\n",
       "      <td>0002005018</td>\n",
       "      <td>Clara Callan</td>\n",
       "      <td>Richard Bruce Wright</td>\n",
       "      <td>2001</td>\n",
       "      <td>HarperFlamingo Canada</td>\n",
       "      <td>67544</td>\n",
       "      <td>30.0</td>\n",
       "      <td>8</td>\n",
       "      <td>toronto</td>\n",
       "      <td>ontario</td>\n",
       "      <td>canada</td>\n",
       "    </tr>\n",
       "    <tr>\n",
       "      <th>8</th>\n",
       "      <td>0002005018</td>\n",
       "      <td>Clara Callan</td>\n",
       "      <td>Richard Bruce Wright</td>\n",
       "      <td>2001</td>\n",
       "      <td>HarperFlamingo Canada</td>\n",
       "      <td>116866</td>\n",
       "      <td>32.0</td>\n",
       "      <td>9</td>\n",
       "      <td>ottawa</td>\n",
       "      <td></td>\n",
       "      <td></td>\n",
       "    </tr>\n",
       "    <tr>\n",
       "      <th>9</th>\n",
       "      <td>0002005018</td>\n",
       "      <td>Clara Callan</td>\n",
       "      <td>Richard Bruce Wright</td>\n",
       "      <td>2001</td>\n",
       "      <td>HarperFlamingo Canada</td>\n",
       "      <td>123629</td>\n",
       "      <td>32.0</td>\n",
       "      <td>9</td>\n",
       "      <td>kingston</td>\n",
       "      <td>ontario</td>\n",
       "      <td>canada</td>\n",
       "    </tr>\n",
       "  </tbody>\n",
       "</table>\n",
       "</div>"
      ],
      "text/plain": [
       "         ISBN    Book-Title           Book-Author  Year-Of-Publication  \\\n",
       "1  0002005018  Clara Callan  Richard Bruce Wright                 2001   \n",
       "3  0002005018  Clara Callan  Richard Bruce Wright                 2001   \n",
       "5  0002005018  Clara Callan  Richard Bruce Wright                 2001   \n",
       "8  0002005018  Clara Callan  Richard Bruce Wright                 2001   \n",
       "9  0002005018  Clara Callan  Richard Bruce Wright                 2001   \n",
       "\n",
       "               Publisher  User-ID   Age  Book-Rating      City    State  \\\n",
       "1  HarperFlamingo Canada        8  32.0            5   timmins  ontario   \n",
       "3  HarperFlamingo Canada    11676  32.0            8   Unknown  Unknown   \n",
       "5  HarperFlamingo Canada    67544  30.0            8   toronto  ontario   \n",
       "8  HarperFlamingo Canada   116866  32.0            9    ottawa            \n",
       "9  HarperFlamingo Canada   123629  32.0            9  kingston  ontario   \n",
       "\n",
       "   Country  \n",
       "1   canada  \n",
       "3  Unknown  \n",
       "5   canada  \n",
       "8           \n",
       "9   canada  "
      ]
     },
     "execution_count": 48,
     "metadata": {},
     "output_type": "execute_result"
    }
   ],
   "source": [
    "# Display the first few rows of the updated DataFrame\n",
    "merged_df.head()"
   ]
  }
 ],
 "metadata": {
  "kernelspec": {
   "display_name": "learn-env",
   "language": "python",
   "name": "python3"
  },
  "language_info": {
   "codemirror_mode": {
    "name": "ipython",
    "version": 3
   },
   "file_extension": ".py",
   "mimetype": "text/x-python",
   "name": "python",
   "nbconvert_exporter": "python",
   "pygments_lexer": "ipython3",
   "version": "3.8.5"
  }
 },
 "nbformat": 4,
 "nbformat_minor": 5
}
