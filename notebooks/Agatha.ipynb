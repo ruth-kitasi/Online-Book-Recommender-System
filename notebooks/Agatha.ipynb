{
 "cells": [
  {
   "cell_type": "markdown",
   "id": "54ed2fc6",
   "metadata": {},
   "source": [
    "# Introduction\n",
    "\n",
    "In today's digital age, individuals are often overwhelmed by the sheer volume of available books. A book recommender system aims to alleviate this information overload by suggesting books that are likely to be of interest to a particular user. By analyzing user preferences, reading history, and book characteristics, these systems enhance the book discovery process, improve user engagement with online book platforms, and ultimately drive sales and readership. This project focuses on developing a book recommender system using three distinct datasets: books_df containing book information, ratings_df detailing user ratings, and user_df providing user demographics."
   ]
  },
  {
   "cell_type": "markdown",
   "id": "39734ed4",
   "metadata": {},
   "source": [
    "## Business Understanding\n",
    "\n",
    "The development of an effective book recommender system holds significant value for various stakeholders:\n",
    "\n",
    "- E-commerce Platforms and Online Bookstores: Recommender systems can drive sales by suggesting relevant books to customers, increasing the likelihood of purchases. They also enhance user experience, leading to greater customer satisfaction and loyalty.\n",
    "\n",
    "* Libraries and Educational Institutions: These systems can help patrons discover new titles aligned with their interests or academic needs, fostering a more engaging and enriching experience.\n",
    "\n",
    "\n",
    "+ Publishers and Authors: Understanding user preferences can provide valuable insights into market trends, potentially influencing publishing decisions and marketing strategies.\n",
    "\n",
    "* Individual Users: The primary benefit for users is the ability to effortlessly discover books they are likely to enjoy, saving time and expanding their literary horizons.\n",
    "\n",
    "By leveraging the data within the provided datasets, this project aims to build a system that accurately predicts user preferences and delivers personalized book recommendations, thereby addressing a crucial need in the book discovery ecosystem."
   ]
  },
  {
   "cell_type": "markdown",
   "id": "2d481293",
   "metadata": {},
   "source": [
    "## Problem Statement\n",
    "\n",
    "The core problem this project seeks to address is the challenge users face in discovering books that align with their individual tastes from a vast and ever-expanding catalog. Without an effective recommendation system, users may struggle to find new authors, genres, or titles they would enjoy, potentially leading to a less engaging and fulfilling reading experience. This project aims to develop a data-driven solution that can predict user preferences based on their past interactions and the characteristics of books, thereby providing personalized and relevant recommendations."
   ]
  },
  {
   "cell_type": "markdown",
   "id": "c19ed8c6",
   "metadata": {},
   "source": [
    "## Objectives\n",
    "\n",
    "The primary objectives of this project are to:\n",
    "\n",
    "* Develop a book recommender system: Implement one or more recommendation algorithms (e.g., collaborative filtering, content-based filtering, or hybrid approaches).\n",
    "\n",
    "* Evaluate the performance of the recommender system: Use appropriate metrics to assess the accuracy and effectiveness of the developed model(s).\n",
    "\n",
    "* Provide actionable insights: Based on the analysis and model results, offer insights into user preferences and potential strategies for book recommendations."
   ]
  },
  {
   "cell_type": "markdown",
   "id": "4996af08",
   "metadata": {},
   "source": [
    "## Data Limitations\n",
    "\n",
    "Before embarking on this project, it's important to consider potential limitations of the data:\n",
    "\n",
    "* Data Sparsity: The ratings_df might suffer from sparsity, meaning that most users have only rated a small fraction of the available books. This can pose challenges for collaborative filtering techniques.\n",
    "\n",
    "* Cold Start Problem: New users or new books with no or very few ratings will be difficult to recommend using collaborative filtering.\n",
    "\n",
    "* Data Bias: The data might reflect biases present in the user base or the book catalog. For example, certain genres or authors might be over-represented.\n",
    "\n",
    "* Data Quality: The datasets might contain inconsistencies, errors, or missing values that need to be addressed during preprocessing.\n",
    "\n",
    "* Implicit vs. Explicit Feedback: The ratings_df likely contains explicit feedback (numerical ratings). However, other forms of implicit feedback (e.g., browsing history, purchase history) might not be available, potentially limiting the richness of user preference data.\n",
    "\n",
    "* Evolution of Preferences: User preferences can change over time, which might not be captured effectively by static datasets.\n"
   ]
  },
  {
   "cell_type": "markdown",
   "id": "5a43a24e",
   "metadata": {},
   "source": [
    "# Data Understanding"
   ]
  },
  {
   "cell_type": "markdown",
   "id": "87d7d60c",
   "metadata": {},
   "source": [
    "### Loading Data"
   ]
  },
  {
   "cell_type": "code",
   "execution_count": 70,
   "id": "844a5e2e",
   "metadata": {},
   "outputs": [],
   "source": [
    "import pandas as pd\n",
    "import numpy as np\n",
    "\n",
    "# Load the dataset\n",
    "books_df = pd.read_csv(\n",
    "    '../books_df.csv',\n",
    "    sep=';',                   # Semicolon separator\n",
    "    quotechar='\"',             # Handles quoted text properly\n",
    "    encoding='latin1',         # Supports special characters\n",
    "    on_bad_lines='skip',        # Skips problematic lines\n",
    "    engine='python'  # Use python engine for more flexibility\n",
    ")\n",
    "\n",
    "ratings_df = pd.read_csv(\n",
    "    '../ratings_df.csv',\n",
    "    sep=';',                   # Semicolon separator\n",
    "    quotechar='\"',             # Handles quoted text properly\n",
    "    encoding='latin1',         # Supports special characters\n",
    "    on_bad_lines='skip',        # Skips problematic lines\n",
    "    engine='python'  # Use python engine for more flexibility\n",
    ")\n",
    "\n",
    "user_df = pd.read_csv(\n",
    "    '../user_df.csv',\n",
    "    sep=';',                   # Semicolon separator\n",
    "    quotechar='\"',             # Handles quoted text properly\n",
    "    encoding='latin1',         # Supports special characters\n",
    "    on_bad_lines='skip',        # Skips problematic lines\n",
    "    engine='python'  # Use python engine for more flexibility\n",
    ")"
   ]
  },
  {
   "cell_type": "code",
   "execution_count": 71,
   "id": "193fe76b",
   "metadata": {},
   "outputs": [
    {
     "data": {
      "text/html": [
       "<div>\n",
       "<style scoped>\n",
       "    .dataframe tbody tr th:only-of-type {\n",
       "        vertical-align: middle;\n",
       "    }\n",
       "\n",
       "    .dataframe tbody tr th {\n",
       "        vertical-align: top;\n",
       "    }\n",
       "\n",
       "    .dataframe thead th {\n",
       "        text-align: right;\n",
       "    }\n",
       "</style>\n",
       "<table border=\"1\" class=\"dataframe\">\n",
       "  <thead>\n",
       "    <tr style=\"text-align: right;\">\n",
       "      <th></th>\n",
       "      <th>ISBN</th>\n",
       "      <th>Book-Title</th>\n",
       "      <th>Book-Author</th>\n",
       "      <th>Year-Of-Publication</th>\n",
       "      <th>Publisher</th>\n",
       "      <th>Image-URL-S</th>\n",
       "      <th>Image-URL-M</th>\n",
       "      <th>Image-URL-L</th>\n",
       "    </tr>\n",
       "  </thead>\n",
       "  <tbody>\n",
       "    <tr>\n",
       "      <th>0</th>\n",
       "      <td>0195153448</td>\n",
       "      <td>Classical Mythology</td>\n",
       "      <td>Mark P. O. Morford</td>\n",
       "      <td>2002</td>\n",
       "      <td>Oxford University Press</td>\n",
       "      <td>http://images.amazon.com/images/P/0195153448.0...</td>\n",
       "      <td>http://images.amazon.com/images/P/0195153448.0...</td>\n",
       "      <td>http://images.amazon.com/images/P/0195153448.0...</td>\n",
       "    </tr>\n",
       "    <tr>\n",
       "      <th>1</th>\n",
       "      <td>0002005018</td>\n",
       "      <td>Clara Callan</td>\n",
       "      <td>Richard Bruce Wright</td>\n",
       "      <td>2001</td>\n",
       "      <td>HarperFlamingo Canada</td>\n",
       "      <td>http://images.amazon.com/images/P/0002005018.0...</td>\n",
       "      <td>http://images.amazon.com/images/P/0002005018.0...</td>\n",
       "      <td>http://images.amazon.com/images/P/0002005018.0...</td>\n",
       "    </tr>\n",
       "  </tbody>\n",
       "</table>\n",
       "</div>"
      ],
      "text/plain": [
       "         ISBN           Book-Title           Book-Author  Year-Of-Publication  \\\n",
       "0  0195153448  Classical Mythology    Mark P. O. Morford                 2002   \n",
       "1  0002005018         Clara Callan  Richard Bruce Wright                 2001   \n",
       "\n",
       "                 Publisher                                        Image-URL-S  \\\n",
       "0  Oxford University Press  http://images.amazon.com/images/P/0195153448.0...   \n",
       "1    HarperFlamingo Canada  http://images.amazon.com/images/P/0002005018.0...   \n",
       "\n",
       "                                         Image-URL-M  \\\n",
       "0  http://images.amazon.com/images/P/0195153448.0...   \n",
       "1  http://images.amazon.com/images/P/0002005018.0...   \n",
       "\n",
       "                                         Image-URL-L  \n",
       "0  http://images.amazon.com/images/P/0195153448.0...  \n",
       "1  http://images.amazon.com/images/P/0002005018.0...  "
      ]
     },
     "execution_count": 71,
     "metadata": {},
     "output_type": "execute_result"
    }
   ],
   "source": [
    "books_df.head(2)"
   ]
  },
  {
   "cell_type": "code",
   "execution_count": 72,
   "id": "b1e09cbf",
   "metadata": {},
   "outputs": [
    {
     "name": "stdout",
     "output_type": "stream",
     "text": [
      "<class 'pandas.core.frame.DataFrame'>\n",
      "RangeIndex: 270491 entries, 0 to 270490\n",
      "Data columns (total 8 columns):\n",
      " #   Column               Non-Null Count   Dtype \n",
      "---  ------               --------------   ----- \n",
      " 0   ISBN                 270491 non-null  object\n",
      " 1   Book-Title           270491 non-null  object\n",
      " 2   Book-Author          270489 non-null  object\n",
      " 3   Year-Of-Publication  270491 non-null  int64 \n",
      " 4   Publisher            270489 non-null  object\n",
      " 5   Image-URL-S          270491 non-null  object\n",
      " 6   Image-URL-M          270491 non-null  object\n",
      " 7   Image-URL-L          270491 non-null  object\n",
      "dtypes: int64(1), object(7)\n",
      "memory usage: 16.5+ MB\n"
     ]
    }
   ],
   "source": [
    "#summary of dataframe\n",
    "books_df.info()"
   ]
  },
  {
   "cell_type": "code",
   "execution_count": 73,
   "id": "5e1e6af7",
   "metadata": {},
   "outputs": [
    {
     "data": {
      "text/plain": [
       "(270491, 8)"
      ]
     },
     "execution_count": 73,
     "metadata": {},
     "output_type": "execute_result"
    }
   ],
   "source": [
    "# check dataframe dimension\n",
    "books_df.shape"
   ]
  },
  {
   "cell_type": "code",
   "execution_count": 74,
   "id": "867e9271",
   "metadata": {},
   "outputs": [
    {
     "data": {
      "text/html": [
       "<div>\n",
       "<style scoped>\n",
       "    .dataframe tbody tr th:only-of-type {\n",
       "        vertical-align: middle;\n",
       "    }\n",
       "\n",
       "    .dataframe tbody tr th {\n",
       "        vertical-align: top;\n",
       "    }\n",
       "\n",
       "    .dataframe thead th {\n",
       "        text-align: right;\n",
       "    }\n",
       "</style>\n",
       "<table border=\"1\" class=\"dataframe\">\n",
       "  <thead>\n",
       "    <tr style=\"text-align: right;\">\n",
       "      <th></th>\n",
       "      <th>User-ID</th>\n",
       "      <th>ISBN</th>\n",
       "      <th>Book-Rating</th>\n",
       "    </tr>\n",
       "  </thead>\n",
       "  <tbody>\n",
       "    <tr>\n",
       "      <th>0</th>\n",
       "      <td>276725</td>\n",
       "      <td>034545104X</td>\n",
       "      <td>0</td>\n",
       "    </tr>\n",
       "    <tr>\n",
       "      <th>1</th>\n",
       "      <td>276726</td>\n",
       "      <td>0155061224</td>\n",
       "      <td>5</td>\n",
       "    </tr>\n",
       "  </tbody>\n",
       "</table>\n",
       "</div>"
      ],
      "text/plain": [
       "   User-ID        ISBN  Book-Rating\n",
       "0   276725  034545104X            0\n",
       "1   276726  0155061224            5"
      ]
     },
     "execution_count": 74,
     "metadata": {},
     "output_type": "execute_result"
    }
   ],
   "source": [
    "ratings_df.head(2)"
   ]
  },
  {
   "cell_type": "code",
   "execution_count": 75,
   "id": "bb7ceec4",
   "metadata": {},
   "outputs": [
    {
     "name": "stdout",
     "output_type": "stream",
     "text": [
      "<class 'pandas.core.frame.DataFrame'>\n",
      "RangeIndex: 1149766 entries, 0 to 1149765\n",
      "Data columns (total 3 columns):\n",
      " #   Column       Non-Null Count    Dtype \n",
      "---  ------       --------------    ----- \n",
      " 0   User-ID      1149766 non-null  int64 \n",
      " 1   ISBN         1149766 non-null  object\n",
      " 2   Book-Rating  1149766 non-null  int64 \n",
      "dtypes: int64(2), object(1)\n",
      "memory usage: 26.3+ MB\n"
     ]
    }
   ],
   "source": [
    "#summary of dataframe\n",
    "ratings_df.info()"
   ]
  },
  {
   "cell_type": "code",
   "execution_count": 76,
   "id": "cf54db94",
   "metadata": {},
   "outputs": [
    {
     "data": {
      "text/plain": [
       "(1149766, 3)"
      ]
     },
     "execution_count": 76,
     "metadata": {},
     "output_type": "execute_result"
    }
   ],
   "source": [
    "# check dataframe dimension\n",
    "ratings_df.shape"
   ]
  },
  {
   "cell_type": "code",
   "execution_count": 77,
   "id": "adf4b3d7",
   "metadata": {},
   "outputs": [
    {
     "data": {
      "text/html": [
       "<div>\n",
       "<style scoped>\n",
       "    .dataframe tbody tr th:only-of-type {\n",
       "        vertical-align: middle;\n",
       "    }\n",
       "\n",
       "    .dataframe tbody tr th {\n",
       "        vertical-align: top;\n",
       "    }\n",
       "\n",
       "    .dataframe thead th {\n",
       "        text-align: right;\n",
       "    }\n",
       "</style>\n",
       "<table border=\"1\" class=\"dataframe\">\n",
       "  <thead>\n",
       "    <tr style=\"text-align: right;\">\n",
       "      <th></th>\n",
       "      <th>User-ID</th>\n",
       "      <th>Location</th>\n",
       "      <th>Age</th>\n",
       "    </tr>\n",
       "  </thead>\n",
       "  <tbody>\n",
       "    <tr>\n",
       "      <th>0</th>\n",
       "      <td>1</td>\n",
       "      <td>nyc, new york, usa</td>\n",
       "      <td>NaN</td>\n",
       "    </tr>\n",
       "    <tr>\n",
       "      <th>1</th>\n",
       "      <td>2</td>\n",
       "      <td>stockton, california, usa</td>\n",
       "      <td>18.0</td>\n",
       "    </tr>\n",
       "  </tbody>\n",
       "</table>\n",
       "</div>"
      ],
      "text/plain": [
       "   User-ID                   Location   Age\n",
       "0        1         nyc, new york, usa   NaN\n",
       "1        2  stockton, california, usa  18.0"
      ]
     },
     "execution_count": 77,
     "metadata": {},
     "output_type": "execute_result"
    }
   ],
   "source": [
    "user_df.head(2)"
   ]
  },
  {
   "cell_type": "code",
   "execution_count": 78,
   "id": "5d763288",
   "metadata": {},
   "outputs": [
    {
     "name": "stdout",
     "output_type": "stream",
     "text": [
      "<class 'pandas.core.frame.DataFrame'>\n",
      "RangeIndex: 278177 entries, 0 to 278176\n",
      "Data columns (total 3 columns):\n",
      " #   Column    Non-Null Count   Dtype  \n",
      "---  ------    --------------   -----  \n",
      " 0   User-ID   278177 non-null  int64  \n",
      " 1   Location  278177 non-null  object \n",
      " 2   Age       167669 non-null  float64\n",
      "dtypes: float64(1), int64(1), object(1)\n",
      "memory usage: 6.4+ MB\n"
     ]
    }
   ],
   "source": [
    "#summary of dataframe\n",
    "user_df.info()"
   ]
  },
  {
   "cell_type": "code",
   "execution_count": 79,
   "id": "b46a6e5f",
   "metadata": {},
   "outputs": [
    {
     "data": {
      "text/plain": [
       "(278177, 3)"
      ]
     },
     "execution_count": 79,
     "metadata": {},
     "output_type": "execute_result"
    }
   ],
   "source": [
    "# check dataframe dimension\n",
    "user_df.shape"
   ]
  },
  {
   "cell_type": "markdown",
   "id": "fd071d1d",
   "metadata": {},
   "source": [
    "## Data Cleaning"
   ]
  },
  {
   "cell_type": "code",
   "execution_count": 80,
   "id": "1d79903e",
   "metadata": {},
   "outputs": [
    {
     "name": "stdout",
     "output_type": "stream",
     "text": [
      "\n",
      "Missing values in Books dataset:\n",
      "Book-Author    2\n",
      "Publisher      2\n",
      "dtype: int64\n",
      "\n",
      "Missing values in Ratings dataset:\n",
      "No missing values.\n",
      "\n",
      "Missing values in Users dataset:\n",
      "Age    110508\n",
      "dtype: int64\n"
     ]
    }
   ],
   "source": [
    "# List of dataframes with names for clarity\n",
    "dfs = [(\"Books\", books_df), (\"Ratings\", ratings_df), (\"Users\", user_df)]\n",
    "\n",
    "# Loop through and check missing values\n",
    "for name, df in dfs:\n",
    "    print(f\"\\nMissing values in {name} dataset:\")\n",
    "    missing = df.isnull().sum()\n",
    "    missing = missing[missing > 0]\n",
    "    if not missing.empty:\n",
    "        print(missing)\n",
    "    else:\n",
    "        print(\"No missing values.\")\n"
   ]
  },
  {
   "cell_type": "markdown",
   "id": "10d81aa1",
   "metadata": {},
   "source": [
    "* Books dataset has missing values in Book-Author and Publisher. \n",
    "* Users dataset has missing values in Age.\n",
    "\n"
   ]
  },
  {
   "cell_type": "markdown",
   "id": "c5701815",
   "metadata": {},
   "source": [
    "## Handling missing values"
   ]
  },
  {
   "cell_type": "markdown",
   "id": "f7913bf3",
   "metadata": {},
   "source": [
    "We will drop the missing values in books dataset because the number is insignificant."
   ]
  },
  {
   "cell_type": "code",
   "execution_count": 81,
   "id": "cc1082c5",
   "metadata": {},
   "outputs": [],
   "source": [
    "#Dropping missin values of Books data as they are negligible\n",
    "books_df.dropna(inplace=True)"
   ]
  },
  {
   "cell_type": "code",
   "execution_count": 82,
   "id": "5cfda11b",
   "metadata": {},
   "outputs": [
    {
     "data": {
      "text/plain": [
       "ISBN                   0\n",
       "Book-Title             0\n",
       "Book-Author            0\n",
       "Year-Of-Publication    0\n",
       "Publisher              0\n",
       "Image-URL-S            0\n",
       "Image-URL-M            0\n",
       "Image-URL-L            0\n",
       "dtype: int64"
      ]
     },
     "execution_count": 82,
     "metadata": {},
     "output_type": "execute_result"
    }
   ],
   "source": [
    "books_df.isna().sum()"
   ]
  },
  {
   "cell_type": "code",
   "execution_count": 83,
   "id": "7b25fbad",
   "metadata": {},
   "outputs": [],
   "source": [
    "#Fill missing Values in Age Column with Median\n",
    "user_df['Age'] =user_df['Age'].fillna(user_df['Age'].median())"
   ]
  },
  {
   "cell_type": "code",
   "execution_count": 84,
   "id": "ad81b811",
   "metadata": {},
   "outputs": [
    {
     "data": {
      "text/plain": [
       "User-ID     0\n",
       "Location    0\n",
       "Age         0\n",
       "dtype: int64"
      ]
     },
     "execution_count": 84,
     "metadata": {},
     "output_type": "execute_result"
    }
   ],
   "source": [
    "user_df.isna().sum()"
   ]
  },
  {
   "cell_type": "code",
   "execution_count": 85,
   "id": "6bb94411",
   "metadata": {},
   "outputs": [
    {
     "data": {
      "text/plain": [
       "count    278177.000000\n",
       "mean         33.658624\n",
       "std          11.284321\n",
       "min           0.000000\n",
       "25%          29.000000\n",
       "50%          32.000000\n",
       "75%          35.000000\n",
       "max         244.000000\n",
       "Name: Age, dtype: float64"
      ]
     },
     "execution_count": 85,
     "metadata": {},
     "output_type": "execute_result"
    }
   ],
   "source": [
    "#check summary statistics\n",
    "user_df['Age'].describe()"
   ]
  },
  {
   "cell_type": "markdown",
   "id": "f366ae98",
   "metadata": {},
   "source": [
    "Minimum age 0 and max age 244 indicates outliers exist in age"
   ]
  },
  {
   "cell_type": "code",
   "execution_count": 86,
   "id": "be80aeb9",
   "metadata": {},
   "outputs": [],
   "source": [
    "#Capping the outlier rows with Percentiles\n",
    "upper_lim = user_df['Age'].quantile(.95)\n",
    "lower_lim = user_df['Age'].quantile(.05)\n",
    "user_df.loc[(user_df[\"Age\"] > upper_lim),\"Age\"] = upper_lim\n",
    "user_df.loc[(user_df[\"Age\"] < lower_lim),\"Age\"] = lower_lim\n",
    "     "
   ]
  },
  {
   "cell_type": "code",
   "execution_count": 87,
   "id": "8006e680",
   "metadata": {},
   "outputs": [
    {
     "data": {
      "text/plain": [
       "count    278177.000000\n",
       "mean         33.402449\n",
       "std           9.522502\n",
       "min          18.000000\n",
       "25%          29.000000\n",
       "50%          32.000000\n",
       "75%          35.000000\n",
       "max          56.000000\n",
       "Name: Age, dtype: float64"
      ]
     },
     "execution_count": 87,
     "metadata": {},
     "output_type": "execute_result"
    }
   ],
   "source": [
    "#recheck age summary\n",
    "user_df['Age'].describe()"
   ]
  },
  {
   "cell_type": "markdown",
   "id": "384bf3ae",
   "metadata": {},
   "source": [
    "### Checking for duplicates"
   ]
  },
  {
   "cell_type": "code",
   "execution_count": 88,
   "id": "de53e503",
   "metadata": {},
   "outputs": [
    {
     "name": "stdout",
     "output_type": "stream",
     "text": [
      "Books dataset has 0 duplicate rows.\n",
      "Ratings dataset has 0 duplicate rows.\n",
      "Users dataset has 0 duplicate rows.\n"
     ]
    }
   ],
   "source": [
    "\n",
    "# Loop through and check for duplicate rows\n",
    "for name, df in dfs:\n",
    "    duplicates = df.duplicated().sum()\n",
    "    print(f\"{name} dataset has {duplicates} duplicate rows.\")\n"
   ]
  },
  {
   "cell_type": "markdown",
   "id": "291c794b",
   "metadata": {},
   "source": [
    "Drop unnecessary column in books dataset"
   ]
  },
  {
   "cell_type": "code",
   "execution_count": 89,
   "id": "4dc14ec7",
   "metadata": {},
   "outputs": [],
   "source": [
    "# Drop image URLs columns\n",
    "books_df = books_df.drop(columns=['Image-URL-S', 'Image-URL-M', 'Image-URL-L'])\n"
   ]
  },
  {
   "cell_type": "code",
   "execution_count": 90,
   "id": "a5fc2559",
   "metadata": {},
   "outputs": [
    {
     "data": {
      "text/html": [
       "<div>\n",
       "<style scoped>\n",
       "    .dataframe tbody tr th:only-of-type {\n",
       "        vertical-align: middle;\n",
       "    }\n",
       "\n",
       "    .dataframe tbody tr th {\n",
       "        vertical-align: top;\n",
       "    }\n",
       "\n",
       "    .dataframe thead th {\n",
       "        text-align: right;\n",
       "    }\n",
       "</style>\n",
       "<table border=\"1\" class=\"dataframe\">\n",
       "  <thead>\n",
       "    <tr style=\"text-align: right;\">\n",
       "      <th></th>\n",
       "      <th>ISBN</th>\n",
       "      <th>Book-Title</th>\n",
       "      <th>Book-Author</th>\n",
       "      <th>Year-Of-Publication</th>\n",
       "      <th>Publisher</th>\n",
       "    </tr>\n",
       "  </thead>\n",
       "  <tbody>\n",
       "    <tr>\n",
       "      <th>0</th>\n",
       "      <td>0195153448</td>\n",
       "      <td>Classical Mythology</td>\n",
       "      <td>Mark P. O. Morford</td>\n",
       "      <td>2002</td>\n",
       "      <td>Oxford University Press</td>\n",
       "    </tr>\n",
       "    <tr>\n",
       "      <th>1</th>\n",
       "      <td>0002005018</td>\n",
       "      <td>Clara Callan</td>\n",
       "      <td>Richard Bruce Wright</td>\n",
       "      <td>2001</td>\n",
       "      <td>HarperFlamingo Canada</td>\n",
       "    </tr>\n",
       "  </tbody>\n",
       "</table>\n",
       "</div>"
      ],
      "text/plain": [
       "         ISBN           Book-Title           Book-Author  Year-Of-Publication  \\\n",
       "0  0195153448  Classical Mythology    Mark P. O. Morford                 2002   \n",
       "1  0002005018         Clara Callan  Richard Bruce Wright                 2001   \n",
       "\n",
       "                 Publisher  \n",
       "0  Oxford University Press  \n",
       "1    HarperFlamingo Canada  "
      ]
     },
     "execution_count": 90,
     "metadata": {},
     "output_type": "execute_result"
    }
   ],
   "source": [
    "books_df.head(2)"
   ]
  },
  {
   "cell_type": "markdown",
   "id": "3c725ebe",
   "metadata": {},
   "source": []
  }
 ],
 "metadata": {
  "kernelspec": {
   "display_name": "learn-env",
   "language": "python",
   "name": "python3"
  },
  "language_info": {
   "codemirror_mode": {
    "name": "ipython",
    "version": 3
   },
   "file_extension": ".py",
   "mimetype": "text/x-python",
   "name": "python",
   "nbconvert_exporter": "python",
   "pygments_lexer": "ipython3",
   "version": "3.8.5"
  }
 },
 "nbformat": 4,
 "nbformat_minor": 5
}
