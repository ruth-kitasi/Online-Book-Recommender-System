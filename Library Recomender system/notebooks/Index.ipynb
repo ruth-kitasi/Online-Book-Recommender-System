{
 "cells": [
  {
   "cell_type": "markdown",
   "id": "7b030f73",
   "metadata": {},
   "source": [
    "## BUSINESS UNDERSTANDING\n",
    "\n",
    "### 1.1 Overview\n",
    "In the era of exponential data growth, the emergence of more sophisticated systems leveraging big data has become increasingly prevalent. Among these systems, recommendation systems have proven to be valuable information filtering tools, enhancing search results by providing users with more relevant items based on their search queries or browsing history. Major technology companies have embraced recommendation systems across various applications: YouTube utilizes them to determine the next autoplay video, while Spotify employs them to curate personalized \"Made for You\" daily mixes.\n",
    "\n",
    "In line with this project's objectives, we aim to harness the power of data analysis to recommend the best books to users. By examining user behaviors, both individual and collective, we can derive insights that enable us to deliver tailored book recommendations that align with their interests and preferences.\n",
    "\n",
    "The underlying principle of this project is to leverage data-driven techniques to understand user preferences and behaviors. By analyzing user interactions, historical data, and patterns, we can uncover valuable insights that inform our recommendation system. This allows us to present users with a curated list of book suggestions that are highly likely to resonate with their tastes.\n",
    "\n",
    "### 1.2 Problem Statement\n",
    "Book-Crossing is looking to optimize their recommendation system such that it will suggest different and new books with the emphasis on relevancy to the user tastes\n",
    "\n",
    "We have therefore been appointed as Junior Data Scientists by Book-Crossing so as to optimize their book recommendation system. This will enhance customer engagement, and optimize relevant user recommendations.\n",
    "The data set was obtained from here\n",
    "\n",
    "### 1.3 The Data\n",
    "The Book-Crossing dataset comprises 3 files:\n",
    "\n",
    "`Users`: Contains the users. Note that user IDs (User-ID) have been anonymized and map to integers. Demographic data is provided (Location, Age) if available. Otherwise, these fields contain NULL values.\n",
    "\n",
    "`Books`: Books are identified by their respective ISBN. Invalid ISBNs have already been removed from the dataset. Moreover, some content-based information is given (Book-Title, Book-Author, Year-Of-Publication, Publisher), obtained from Amazon Web Services. Note that in the case of several authors, only the first is provided. URLs linking to cover images are also given, appearing in three different flavors (Image-URL-S, Image-URL-M, Image-URL-L), i.e., small, medium, large. These URLs point to the Amazon website.\n",
    "\n",
    "`Ratings`: Contains the book rating information. Ratings (Book-Rating) are either explicit, expressed on a scale from 1-10 (higher values denoting higher appreciation), or implicit, expressed by 0.\n",
    "\n",
    "### 1.4 Business Objectives\n",
    "To develop a book recommendation system that provides personalized suggestions to users based on behaviors and preferences of similar users.\n",
    "To analyze top book sales per city\n",
    "To find the most popular books so as to infer genres\n",
    "To find most popular authors\n",
    "To find the voting frequency of the users\n",
    "\n",
    "### 1.5 Project Goals\n",
    "Develop a prediction model within the book recommendation system that can accurately recommend a particular book, based on preferences of similar users\n",
    "Establish evaluation metrics to assess the performance of the recommendation system.\n",
    "Create a function that will return top N recommendations for a user.\n",
    "Deploy and Implement a real-time recommendation feature that can adapt to users' changing preferences and provide up-to-date book suggestions.\n",
    "\n",
    "### 1.6 Success Metric\n",
    "Root Mean Squared Error of close to 0 to evaluate model efficiency."
   ]
  }
 ],
 "metadata": {
  "language_info": {
   "name": "python"
  }
 },
 "nbformat": 4,
 "nbformat_minor": 5
}
