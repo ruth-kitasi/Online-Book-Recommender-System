{
 "cells": [
  {
   "cell_type": "markdown",
   "id": "7b030f73",
   "metadata": {},
   "source": [
    "## BUSINESS UNDERSTANDING\n",
    "\n",
    "### 1.1 Overview\n",
    "In the era of exponential data growth, the emergence of more sophisticated systems leveraging big data has become increasingly prevalent. Among these systems, recommendation systems have proven to be valuable information filtering tools, enhancing search results by providing users with more relevant items based on their search queries or browsing history. Major technology companies have embraced recommendation systems across various applications: YouTube utilizes them to determine the next autoplay video, while Spotify employs them to curate personalized \"Made for You\" daily mixes.\n",
    "\n",
    "In line with this project's objectives, we aim to harness the power of data analysis to recommend the best books to users. By examining user behaviors, both individual and collective, we can derive insights that enable us to deliver tailored book recommendations that align with their interests and preferences.\n",
    "\n",
    "The underlying principle of this project is to leverage data-driven techniques to understand user preferences and behaviors. By analyzing user interactions, historical data, and patterns, we can uncover valuable insights that inform our recommendation system. This allows us to present users with a curated list of book suggestions that are highly likely to resonate with their tastes.\n",
    "\n",
    "### 1.2 Problem Statement\n",
    "Book-Crossing is looking to optimize their recommendation system such that it will suggest different and new books with the emphasis on relevancy to the user tastes\n",
    "\n",
    "We have therefore been appointed as Junior Data Scientists by Book-Crossing so as to optimize their book recommendation system. This will enhance customer engagement, and optimize relevant user recommendations.\n",
    "The data set was obtained from here\n",
    "\n",
    "### 1.3 The Data\n",
    "The Book-Crossing dataset comprises 3 files:\n",
    "\n",
    "`Users`: Contains the users. Note that user IDs (User-ID) have been anonymized and map to integers. Demographic data is provided (Location, Age) if available. Otherwise, these fields contain NULL values.\n",
    "\n",
    "`Books`: Books are identified by their respective ISBN. Invalid ISBNs have already been removed from the dataset. Moreover, some content-based information is given (Book-Title, Book-Author, Year-Of-Publication, Publisher), obtained from Amazon Web Services. Note that in the case of several authors, only the first is provided. URLs linking to cover images are also given, appearing in three different flavors (Image-URL-S, Image-URL-M, Image-URL-L), i.e., small, medium, large. These URLs point to the Amazon website.\n",
    "\n",
    "`Ratings`: Contains the book rating information. Ratings (Book-Rating) are either explicit, expressed on a scale from 1-10 (higher values denoting higher appreciation), or implicit, expressed by 0.\n",
    "\n",
    "\n",
    "### 1.5 Project Goals\n",
    "1. Develop a Personalized Book Recommendation Model\n",
    "Build a robust recommendation engine using collaborative filtering (user-user or item-item) and/or matrix factorization techniques that predicts book preferences by analyzing the behavior of similar users. The model should rank books based on predicted ratings or affinity scores.\n",
    "\n",
    "2. Address the Cold Start Problem\n",
    "Design strategies to recommend books for new users with little to no interaction of data\n",
    "\n",
    "\n",
    "3. Model Evaluation and Optimization\n",
    "Continuously optimize the recommendation model using performance metrics such as Root Mean Square Error (RMSE), Mean Absolute Error (MAE), and Precision@K/Recall@K. Apply techniques like cross-validation and hyperparameter tuning (e.g., for matrix factorization or neural collaborative filtering) to improve model accuracy and relevance.\n",
    "\n",
    "4. Implement a Scalable Recommendation Function\n",
    "Develop a reusable function (e.g., get_top_n_recommendations(user_id, n)) that returns the top N most relevant book recommendations for a given user, considering both model predictions and business logic (e.g., genre diversity, recency).\n",
    "\n",
    "\n",
    "5. System Deployment and User Interface Integration\n",
    "Deploy the recommendation engine using a backend framework (like Flask or FastAPI), connect it to a frontend or chatbot interface, and expose endpoints for fetching personalized book suggestions. Ensure API scalability, reliability, and response time optimizatio\n"
   ]
  },
  {
   "cell_type": "markdown",
   "id": "2f1a8037",
   "metadata": {},
   "source": [
    "## DATA UNDERSTANDING"
   ]
  },
  {
   "cell_type": "markdown",
   "id": "5f2a11af",
   "metadata": {},
   "source": [
    "### `Data Loading`"
   ]
  },
  {
   "cell_type": "code",
   "execution_count": 5,
   "id": "59ca3b60",
   "metadata": {},
   "outputs": [],
   "source": [
    "#Importing necessary libraries required to load and inspect the datasets.\n",
    "\n",
    "import pandas as pd\n",
    "import numpy as np\n"
   ]
  },
  {
   "cell_type": "code",
   "execution_count": 6,
   "id": "a6396ddd",
   "metadata": {},
   "outputs": [
    {
     "data": {
      "text/html": [
       "<div>\n",
       "<style scoped>\n",
       "    .dataframe tbody tr th:only-of-type {\n",
       "        vertical-align: middle;\n",
       "    }\n",
       "\n",
       "    .dataframe tbody tr th {\n",
       "        vertical-align: top;\n",
       "    }\n",
       "\n",
       "    .dataframe thead th {\n",
       "        text-align: right;\n",
       "    }\n",
       "</style>\n",
       "<table border=\"1\" class=\"dataframe\">\n",
       "  <thead>\n",
       "    <tr style=\"text-align: right;\">\n",
       "      <th></th>\n",
       "      <th>ISBN</th>\n",
       "      <th>Book-Title</th>\n",
       "      <th>Book-Author</th>\n",
       "      <th>Year-Of-Publication</th>\n",
       "      <th>Publisher</th>\n",
       "      <th>Image-URL-S</th>\n",
       "      <th>Image-URL-M</th>\n",
       "      <th>Image-URL-L</th>\n",
       "    </tr>\n",
       "  </thead>\n",
       "  <tbody>\n",
       "    <tr>\n",
       "      <th>0</th>\n",
       "      <td>0195153448</td>\n",
       "      <td>Classical Mythology</td>\n",
       "      <td>Mark P. O. Morford</td>\n",
       "      <td>2002</td>\n",
       "      <td>Oxford University Press</td>\n",
       "      <td>http://images.amazon.com/images/P/0195153448.0...</td>\n",
       "      <td>http://images.amazon.com/images/P/0195153448.0...</td>\n",
       "      <td>http://images.amazon.com/images/P/0195153448.0...</td>\n",
       "    </tr>\n",
       "    <tr>\n",
       "      <th>1</th>\n",
       "      <td>0002005018</td>\n",
       "      <td>Clara Callan</td>\n",
       "      <td>Richard Bruce Wright</td>\n",
       "      <td>2001</td>\n",
       "      <td>HarperFlamingo Canada</td>\n",
       "      <td>http://images.amazon.com/images/P/0002005018.0...</td>\n",
       "      <td>http://images.amazon.com/images/P/0002005018.0...</td>\n",
       "      <td>http://images.amazon.com/images/P/0002005018.0...</td>\n",
       "    </tr>\n",
       "    <tr>\n",
       "      <th>2</th>\n",
       "      <td>0060973129</td>\n",
       "      <td>Decision in Normandy</td>\n",
       "      <td>Carlo D'Este</td>\n",
       "      <td>1991</td>\n",
       "      <td>HarperPerennial</td>\n",
       "      <td>http://images.amazon.com/images/P/0060973129.0...</td>\n",
       "      <td>http://images.amazon.com/images/P/0060973129.0...</td>\n",
       "      <td>http://images.amazon.com/images/P/0060973129.0...</td>\n",
       "    </tr>\n",
       "    <tr>\n",
       "      <th>3</th>\n",
       "      <td>0374157065</td>\n",
       "      <td>Flu: The Story of the Great Influenza Pandemic...</td>\n",
       "      <td>Gina Bari Kolata</td>\n",
       "      <td>1999</td>\n",
       "      <td>Farrar Straus Giroux</td>\n",
       "      <td>http://images.amazon.com/images/P/0374157065.0...</td>\n",
       "      <td>http://images.amazon.com/images/P/0374157065.0...</td>\n",
       "      <td>http://images.amazon.com/images/P/0374157065.0...</td>\n",
       "    </tr>\n",
       "    <tr>\n",
       "      <th>4</th>\n",
       "      <td>0393045218</td>\n",
       "      <td>The Mummies of Urumchi</td>\n",
       "      <td>E. J. W. Barber</td>\n",
       "      <td>1999</td>\n",
       "      <td>W. W. Norton &amp;amp; Company</td>\n",
       "      <td>http://images.amazon.com/images/P/0393045218.0...</td>\n",
       "      <td>http://images.amazon.com/images/P/0393045218.0...</td>\n",
       "      <td>http://images.amazon.com/images/P/0393045218.0...</td>\n",
       "    </tr>\n",
       "  </tbody>\n",
       "</table>\n",
       "</div>"
      ],
      "text/plain": [
       "         ISBN                                         Book-Title  \\\n",
       "0  0195153448                                Classical Mythology   \n",
       "1  0002005018                                       Clara Callan   \n",
       "2  0060973129                               Decision in Normandy   \n",
       "3  0374157065  Flu: The Story of the Great Influenza Pandemic...   \n",
       "4  0393045218                             The Mummies of Urumchi   \n",
       "\n",
       "            Book-Author  Year-Of-Publication                   Publisher  \\\n",
       "0    Mark P. O. Morford                 2002     Oxford University Press   \n",
       "1  Richard Bruce Wright                 2001       HarperFlamingo Canada   \n",
       "2          Carlo D'Este                 1991             HarperPerennial   \n",
       "3      Gina Bari Kolata                 1999        Farrar Straus Giroux   \n",
       "4       E. J. W. Barber                 1999  W. W. Norton &amp; Company   \n",
       "\n",
       "                                         Image-URL-S  \\\n",
       "0  http://images.amazon.com/images/P/0195153448.0...   \n",
       "1  http://images.amazon.com/images/P/0002005018.0...   \n",
       "2  http://images.amazon.com/images/P/0060973129.0...   \n",
       "3  http://images.amazon.com/images/P/0374157065.0...   \n",
       "4  http://images.amazon.com/images/P/0393045218.0...   \n",
       "\n",
       "                                         Image-URL-M  \\\n",
       "0  http://images.amazon.com/images/P/0195153448.0...   \n",
       "1  http://images.amazon.com/images/P/0002005018.0...   \n",
       "2  http://images.amazon.com/images/P/0060973129.0...   \n",
       "3  http://images.amazon.com/images/P/0374157065.0...   \n",
       "4  http://images.amazon.com/images/P/0393045218.0...   \n",
       "\n",
       "                                         Image-URL-L  \n",
       "0  http://images.amazon.com/images/P/0195153448.0...  \n",
       "1  http://images.amazon.com/images/P/0002005018.0...  \n",
       "2  http://images.amazon.com/images/P/0060973129.0...  \n",
       "3  http://images.amazon.com/images/P/0374157065.0...  \n",
       "4  http://images.amazon.com/images/P/0393045218.0...  "
      ]
     },
     "execution_count": 6,
     "metadata": {},
     "output_type": "execute_result"
    }
   ],
   "source": [
    "#importing the books data\n",
    "\n",
    "books_df = pd.read_csv(\n",
    "    r'C:\\Users\\AHB\\Desktop\\my_quick_acess\\3.Projects\\projects pipeline\\2025\\4. Library recomender system\\books_df.csv',\n",
    "    sep=';',\n",
    "    encoding='latin1',\n",
    "    quotechar='\"',\n",
    "    on_bad_lines='skip',\n",
    "    engine='python'  # Use python engine for more flexibility\n",
    ")\n",
    "\n",
    "books_df.head()\n"
   ]
  },
  {
   "cell_type": "code",
   "execution_count": 7,
   "id": "212a29dd",
   "metadata": {},
   "outputs": [
    {
     "data": {
      "text/html": [
       "<div>\n",
       "<style scoped>\n",
       "    .dataframe tbody tr th:only-of-type {\n",
       "        vertical-align: middle;\n",
       "    }\n",
       "\n",
       "    .dataframe tbody tr th {\n",
       "        vertical-align: top;\n",
       "    }\n",
       "\n",
       "    .dataframe thead th {\n",
       "        text-align: right;\n",
       "    }\n",
       "</style>\n",
       "<table border=\"1\" class=\"dataframe\">\n",
       "  <thead>\n",
       "    <tr style=\"text-align: right;\">\n",
       "      <th></th>\n",
       "      <th>User-ID</th>\n",
       "      <th>ISBN</th>\n",
       "      <th>Book-Rating</th>\n",
       "    </tr>\n",
       "  </thead>\n",
       "  <tbody>\n",
       "    <tr>\n",
       "      <th>0</th>\n",
       "      <td>276725</td>\n",
       "      <td>034545104X</td>\n",
       "      <td>0</td>\n",
       "    </tr>\n",
       "    <tr>\n",
       "      <th>1</th>\n",
       "      <td>276726</td>\n",
       "      <td>0155061224</td>\n",
       "      <td>5</td>\n",
       "    </tr>\n",
       "    <tr>\n",
       "      <th>2</th>\n",
       "      <td>276727</td>\n",
       "      <td>0446520802</td>\n",
       "      <td>0</td>\n",
       "    </tr>\n",
       "    <tr>\n",
       "      <th>3</th>\n",
       "      <td>276729</td>\n",
       "      <td>052165615X</td>\n",
       "      <td>3</td>\n",
       "    </tr>\n",
       "    <tr>\n",
       "      <th>4</th>\n",
       "      <td>276729</td>\n",
       "      <td>0521795028</td>\n",
       "      <td>6</td>\n",
       "    </tr>\n",
       "  </tbody>\n",
       "</table>\n",
       "</div>"
      ],
      "text/plain": [
       "   User-ID        ISBN  Book-Rating\n",
       "0   276725  034545104X            0\n",
       "1   276726  0155061224            5\n",
       "2   276727  0446520802            0\n",
       "3   276729  052165615X            3\n",
       "4   276729  0521795028            6"
      ]
     },
     "execution_count": 7,
     "metadata": {},
     "output_type": "execute_result"
    }
   ],
   "source": [
    "#importing the rating dataset\n",
    "\n",
    "rating_df = pd.read_csv(\n",
    "    r'C:\\Users\\AHB\\Desktop\\my_quick_acess\\3.Projects\\projects pipeline\\2025\\4. Library recomender system\\ratings_df.csv',\n",
    "    sep=';',\n",
    "    encoding='latin1',\n",
    "    quotechar='\"',\n",
    "    on_bad_lines='skip',\n",
    "    engine='python'  \n",
    ")\n",
    "\n",
    "rating_df.head()\n"
   ]
  },
  {
   "cell_type": "code",
   "execution_count": 8,
   "id": "7e8aebbe",
   "metadata": {},
   "outputs": [
    {
     "data": {
      "text/html": [
       "<div>\n",
       "<style scoped>\n",
       "    .dataframe tbody tr th:only-of-type {\n",
       "        vertical-align: middle;\n",
       "    }\n",
       "\n",
       "    .dataframe tbody tr th {\n",
       "        vertical-align: top;\n",
       "    }\n",
       "\n",
       "    .dataframe thead th {\n",
       "        text-align: right;\n",
       "    }\n",
       "</style>\n",
       "<table border=\"1\" class=\"dataframe\">\n",
       "  <thead>\n",
       "    <tr style=\"text-align: right;\">\n",
       "      <th></th>\n",
       "      <th>User-ID</th>\n",
       "      <th>Location</th>\n",
       "      <th>Age</th>\n",
       "    </tr>\n",
       "  </thead>\n",
       "  <tbody>\n",
       "    <tr>\n",
       "      <th>0</th>\n",
       "      <td>1</td>\n",
       "      <td>nyc, new york, usa</td>\n",
       "      <td>NaN</td>\n",
       "    </tr>\n",
       "    <tr>\n",
       "      <th>1</th>\n",
       "      <td>2</td>\n",
       "      <td>stockton, california, usa</td>\n",
       "      <td>18.0</td>\n",
       "    </tr>\n",
       "    <tr>\n",
       "      <th>2</th>\n",
       "      <td>3</td>\n",
       "      <td>moscow, yukon territory, russia</td>\n",
       "      <td>NaN</td>\n",
       "    </tr>\n",
       "    <tr>\n",
       "      <th>3</th>\n",
       "      <td>4</td>\n",
       "      <td>porto, v.n.gaia, portugal</td>\n",
       "      <td>17.0</td>\n",
       "    </tr>\n",
       "    <tr>\n",
       "      <th>4</th>\n",
       "      <td>5</td>\n",
       "      <td>farnborough, hants, united kingdom</td>\n",
       "      <td>NaN</td>\n",
       "    </tr>\n",
       "  </tbody>\n",
       "</table>\n",
       "</div>"
      ],
      "text/plain": [
       "   User-ID                            Location   Age\n",
       "0        1                  nyc, new york, usa   NaN\n",
       "1        2           stockton, california, usa  18.0\n",
       "2        3     moscow, yukon territory, russia   NaN\n",
       "3        4           porto, v.n.gaia, portugal  17.0\n",
       "4        5  farnborough, hants, united kingdom   NaN"
      ]
     },
     "execution_count": 8,
     "metadata": {},
     "output_type": "execute_result"
    }
   ],
   "source": [
    "#importing the rating dataset\n",
    "\n",
    "user_df = pd.read_csv(\n",
    "    r'C:\\Users\\AHB\\Desktop\\my_quick_acess\\3.Projects\\projects pipeline\\2025\\4. Library recomender system\\user_df.csv',\n",
    "    sep=';',\n",
    "    encoding='latin1',\n",
    "    quotechar='\"',\n",
    "    on_bad_lines='skip',\n",
    "    engine='python'  # Use python engine for more flexibility\n",
    ")\n",
    "\n",
    "user_df.head()\n"
   ]
  },
  {
   "cell_type": "markdown",
   "id": "7c10e612",
   "metadata": {},
   "source": [
    "### `Data Inspection`"
   ]
  },
  {
   "cell_type": "code",
   "execution_count": 9,
   "id": "6a7e6feb",
   "metadata": {},
   "outputs": [],
   "source": [
    "# Function to checking the shape, info and descriptive statistics of the dataset\n",
    "\n",
    "def get_info_shape_stats(dataset, dataset_name):\n",
    "\n",
    "    \n",
    "    print('The Dataset:', dataset_name )\n",
    "\n",
    "    print(f\"has {dataset.shape[0]} rows and {dataset.shape[1]} columns\")\n",
    "\n",
    "    print('-----------------------------------------------------------------------------------------------------------------------------')\n",
    "    print('-----------------------------------------------------------------------------------------------------------------------------')\n",
    "\n",
    "    print(dataset.info())\n",
    "    print('-----------------------------------------------------------------------------------------------------------------------------')\n",
    "    print('-----------------------------------------------------------------------------------------------------------------------------')\n",
    "    print(dataset.dtypes)"
   ]
  },
  {
   "cell_type": "code",
   "execution_count": 10,
   "id": "784b3b9f",
   "metadata": {},
   "outputs": [
    {
     "name": "stdout",
     "output_type": "stream",
     "text": [
      "The Dataset: Ratings\n",
      "has 1149766 rows and 3 columns\n",
      "-----------------------------------------------------------------------------------------------------------------------------\n",
      "-----------------------------------------------------------------------------------------------------------------------------\n",
      "<class 'pandas.core.frame.DataFrame'>\n",
      "RangeIndex: 1149766 entries, 0 to 1149765\n",
      "Data columns (total 3 columns):\n",
      " #   Column       Non-Null Count    Dtype \n",
      "---  ------       --------------    ----- \n",
      " 0   User-ID      1149766 non-null  int64 \n",
      " 1   ISBN         1149766 non-null  object\n",
      " 2   Book-Rating  1149766 non-null  int64 \n",
      "dtypes: int64(2), object(1)\n",
      "memory usage: 26.3+ MB\n",
      "None\n",
      "-----------------------------------------------------------------------------------------------------------------------------\n",
      "-----------------------------------------------------------------------------------------------------------------------------\n",
      "User-ID         int64\n",
      "ISBN           object\n",
      "Book-Rating     int64\n",
      "dtype: object\n"
     ]
    }
   ],
   "source": [
    "#calling on the function get_info_shape_stats\n",
    "\n",
    "get_info_shape_stats(rating_df, 'Ratings')"
   ]
  },
  {
   "cell_type": "markdown",
   "id": "51d8ffd2",
   "metadata": {},
   "source": [
    "1. `Overview of the rating dataset`\n",
    "    - The 'book_ratings' dataset contains a total of `1,149,780 rows` and `3 columns`. Here are some key observations about the dataset:\n",
    "\n",
    "    - The dataset consists of the following columns:\n",
    "\n",
    "        1. User-ID: An anonymized identifier for the users.\n",
    "        2. ISBN: The unique identifier for the books.\n",
    "        3. Book-Rating: The rating given by the users for the books. Ratings range from 0 to 10, with higher values indicating higher appreciation.\n",
    "\n",
    "    - The dataset has no missing values as indicated by the 'Non-Null Count' column.\n",
    "\n",
    "    - Data types:\n",
    "\n",
    "        1. User-ID and Book-Rating columns are of integer type (int64).\n",
    "        2. ISBN column is of object type (string)."
   ]
  },
  {
   "cell_type": "code",
   "execution_count": 11,
   "id": "a21f7a2c",
   "metadata": {},
   "outputs": [
    {
     "name": "stdout",
     "output_type": "stream",
     "text": [
      "The Dataset: users\n",
      "has 278177 rows and 3 columns\n",
      "-----------------------------------------------------------------------------------------------------------------------------\n",
      "-----------------------------------------------------------------------------------------------------------------------------\n",
      "<class 'pandas.core.frame.DataFrame'>\n",
      "RangeIndex: 278177 entries, 0 to 278176\n",
      "Data columns (total 3 columns):\n",
      " #   Column    Non-Null Count   Dtype  \n",
      "---  ------    --------------   -----  \n",
      " 0   User-ID   278177 non-null  int64  \n",
      " 1   Location  278177 non-null  object \n",
      " 2   Age       167669 non-null  float64\n",
      "dtypes: float64(1), int64(1), object(1)\n",
      "memory usage: 6.4+ MB\n",
      "None\n",
      "-----------------------------------------------------------------------------------------------------------------------------\n",
      "-----------------------------------------------------------------------------------------------------------------------------\n",
      "User-ID       int64\n",
      "Location     object\n",
      "Age         float64\n",
      "dtype: object\n"
     ]
    }
   ],
   "source": [
    "get_info_shape_stats(user_df, 'users')"
   ]
  },
  {
   "cell_type": "markdown",
   "id": "ae7c28ca",
   "metadata": {},
   "source": [
    "`Overview of the user dataset`\n",
    "\n",
    "1. The 'users' dataset contains a total of `278,858 rows` and `3 columns`. Here are some key observations about the dataset:\n",
    "\n",
    "2. The dataset consists of the following columns:\n",
    "\n",
    "    - User-ID: An anonymized unique identifier for the users.\n",
    "    - Location: The location of the users.\n",
    "    - Age: The age of the users.\n",
    "\n",
    "3. The dataset `has some missing values` in the 'Age' column, as indicated by the difference between the 'Non-Null Count' and the total number of rows.\n",
    "\n",
    "4. Data types:\n",
    "\n",
    "    - The 'User-ID' column is of integer type.\n",
    "    - The 'Location' column is of object type (string).\n",
    "    - The 'Age' column is of float type."
   ]
  },
  {
   "cell_type": "code",
   "execution_count": 12,
   "id": "d2e3ec2c",
   "metadata": {},
   "outputs": [
    {
     "name": "stdout",
     "output_type": "stream",
     "text": [
      "The Dataset: books\n",
      "has 270491 rows and 8 columns\n",
      "-----------------------------------------------------------------------------------------------------------------------------\n",
      "-----------------------------------------------------------------------------------------------------------------------------\n",
      "<class 'pandas.core.frame.DataFrame'>\n",
      "RangeIndex: 270491 entries, 0 to 270490\n",
      "Data columns (total 8 columns):\n",
      " #   Column               Non-Null Count   Dtype \n",
      "---  ------               --------------   ----- \n",
      " 0   ISBN                 270491 non-null  object\n",
      " 1   Book-Title           270491 non-null  object\n",
      " 2   Book-Author          270489 non-null  object\n",
      " 3   Year-Of-Publication  270491 non-null  int64 \n",
      " 4   Publisher            270489 non-null  object\n",
      " 5   Image-URL-S          270491 non-null  object\n",
      " 6   Image-URL-M          270491 non-null  object\n",
      " 7   Image-URL-L          270491 non-null  object\n",
      "dtypes: int64(1), object(7)\n",
      "memory usage: 16.5+ MB\n",
      "None\n",
      "-----------------------------------------------------------------------------------------------------------------------------\n",
      "-----------------------------------------------------------------------------------------------------------------------------\n",
      "ISBN                   object\n",
      "Book-Title             object\n",
      "Book-Author            object\n",
      "Year-Of-Publication     int64\n",
      "Publisher              object\n",
      "Image-URL-S            object\n",
      "Image-URL-M            object\n",
      "Image-URL-L            object\n",
      "dtype: object\n"
     ]
    }
   ],
   "source": [
    "get_info_shape_stats(books_df, 'books')"
   ]
  },
  {
   "cell_type": "markdown",
   "id": "b9847c2e",
   "metadata": {},
   "source": [
    "`Overview of the books dataset`\n",
    "\n",
    "1. The 'books' dataset contains a total of 271,360 rows and 8 columns. Here are some key observations about the dataset:\n",
    "\n",
    "2. The dataset consists of the following columns:\n",
    "\n",
    "    - ISBN: The unique identifier for the books.\n",
    "    - Book-Title: The title of the books.\n",
    "    - Book-Author: The author of the books.\n",
    "    - Year-Of-Publication: The year when the books were published.\n",
    "    - Publisher: The publisher of the books.\n",
    "    - Image-URL-S: The URL of the small-sized cover image of the books.\n",
    "    - Image-URL-M: The URL of the medium-sized cover image of the books.\n",
    "    - Image-URL-L: The URL of the large-sized cover image of the books.\n",
    "\n",
    "3. The dataset has `some missing values` in the 'Book-Author', 'Publisher', and 'Image-URL-L' columns, as indicated by the 'Non-Null Count' column.\n",
    "\n",
    "4. Data types:\n",
    "\n",
    "    - All columns in the dataset are of object type (string)."
   ]
  },
  {
   "cell_type": "markdown",
   "id": "78d320d8",
   "metadata": {},
   "source": [
    "### `Merging Files`"
   ]
  },
  {
   "cell_type": "markdown",
   "id": "65f775c3",
   "metadata": {},
   "source": [
    "Step 1: Merging the **User dataset** and the **rating dataset** under the common ID `user_ID`"
   ]
  },
  {
   "cell_type": "code",
   "execution_count": 13,
   "id": "4679dcab",
   "metadata": {},
   "outputs": [
    {
     "data": {
      "text/html": [
       "<div>\n",
       "<style scoped>\n",
       "    .dataframe tbody tr th:only-of-type {\n",
       "        vertical-align: middle;\n",
       "    }\n",
       "\n",
       "    .dataframe tbody tr th {\n",
       "        vertical-align: top;\n",
       "    }\n",
       "\n",
       "    .dataframe thead th {\n",
       "        text-align: right;\n",
       "    }\n",
       "</style>\n",
       "<table border=\"1\" class=\"dataframe\">\n",
       "  <thead>\n",
       "    <tr style=\"text-align: right;\">\n",
       "      <th></th>\n",
       "      <th>User-ID</th>\n",
       "      <th>ISBN</th>\n",
       "      <th>Book-Rating</th>\n",
       "    </tr>\n",
       "  </thead>\n",
       "  <tbody>\n",
       "    <tr>\n",
       "      <th>534003</th>\n",
       "      <td>128841</td>\n",
       "      <td>0345328205</td>\n",
       "      <td>0</td>\n",
       "    </tr>\n",
       "    <tr>\n",
       "      <th>62917</th>\n",
       "      <td>12736</td>\n",
       "      <td>190415123X</td>\n",
       "      <td>0</td>\n",
       "    </tr>\n",
       "    <tr>\n",
       "      <th>647161</th>\n",
       "      <td>156274</td>\n",
       "      <td>067972334X</td>\n",
       "      <td>8</td>\n",
       "    </tr>\n",
       "    <tr>\n",
       "      <th>134338</th>\n",
       "      <td>30735</td>\n",
       "      <td>0804111626</td>\n",
       "      <td>8</td>\n",
       "    </tr>\n",
       "    <tr>\n",
       "      <th>390936</th>\n",
       "      <td>94396</td>\n",
       "      <td>0425134350</td>\n",
       "      <td>10</td>\n",
       "    </tr>\n",
       "  </tbody>\n",
       "</table>\n",
       "</div>"
      ],
      "text/plain": [
       "        User-ID        ISBN  Book-Rating\n",
       "534003   128841  0345328205            0\n",
       "62917     12736  190415123X            0\n",
       "647161   156274  067972334X            8\n",
       "134338    30735  0804111626            8\n",
       "390936    94396  0425134350           10"
      ]
     },
     "execution_count": 13,
     "metadata": {},
     "output_type": "execute_result"
    }
   ],
   "source": [
    "ratings_users = pd.merge(rating_df, user_df, on='User-ID')\n",
    "\n",
    "rating_df.sample(n=5)"
   ]
  },
  {
   "cell_type": "code",
   "execution_count": 14,
   "id": "9d0cceef",
   "metadata": {},
   "outputs": [
    {
     "name": "stdout",
     "output_type": "stream",
     "text": [
      "The merged rating_user dataset has 1149766 rows and 3 columns\n"
     ]
    }
   ],
   "source": [
    "rows, columns = rating_df.shape\n",
    "\n",
    "print (f'The merged rating_user dataset has {rows} rows and {columns} columns')"
   ]
  },
  {
   "cell_type": "markdown",
   "id": "7a280dc4",
   "metadata": {},
   "source": [
    "Step 2: Merging the **rating_user** dataset with the **books** datasets on the common feature `ISBN`"
   ]
  },
  {
   "cell_type": "code",
   "execution_count": 15,
   "id": "847b8c8f",
   "metadata": {},
   "outputs": [
    {
     "data": {
      "text/html": [
       "<div>\n",
       "<style scoped>\n",
       "    .dataframe tbody tr th:only-of-type {\n",
       "        vertical-align: middle;\n",
       "    }\n",
       "\n",
       "    .dataframe tbody tr th {\n",
       "        vertical-align: top;\n",
       "    }\n",
       "\n",
       "    .dataframe thead th {\n",
       "        text-align: right;\n",
       "    }\n",
       "</style>\n",
       "<table border=\"1\" class=\"dataframe\">\n",
       "  <thead>\n",
       "    <tr style=\"text-align: right;\">\n",
       "      <th></th>\n",
       "      <th>User-ID</th>\n",
       "      <th>ISBN</th>\n",
       "      <th>Book-Rating</th>\n",
       "      <th>Location</th>\n",
       "      <th>Age</th>\n",
       "      <th>Book-Title</th>\n",
       "      <th>Book-Author</th>\n",
       "      <th>Year-Of-Publication</th>\n",
       "      <th>Publisher</th>\n",
       "      <th>Image-URL-S</th>\n",
       "      <th>Image-URL-M</th>\n",
       "      <th>Image-URL-L</th>\n",
       "    </tr>\n",
       "  </thead>\n",
       "  <tbody>\n",
       "    <tr>\n",
       "      <th>623020</th>\n",
       "      <td>247664</td>\n",
       "      <td>0553268899</td>\n",
       "      <td>7</td>\n",
       "      <td>london, ontario, canada</td>\n",
       "      <td>NaN</td>\n",
       "      <td>Beyond the Sea of Ice (First Americans Saga)</td>\n",
       "      <td>William Sarabande</td>\n",
       "      <td>1987</td>\n",
       "      <td>Bantam</td>\n",
       "      <td>http://images.amazon.com/images/P/0553268899.0...</td>\n",
       "      <td>http://images.amazon.com/images/P/0553268899.0...</td>\n",
       "      <td>http://images.amazon.com/images/P/0553268899.0...</td>\n",
       "    </tr>\n",
       "    <tr>\n",
       "      <th>438804</th>\n",
       "      <td>221262</td>\n",
       "      <td>038531700X</td>\n",
       "      <td>0</td>\n",
       "      <td>trumbull, ,</td>\n",
       "      <td>NaN</td>\n",
       "      <td>The Loop: A Novel</td>\n",
       "      <td>Nicholas Evans</td>\n",
       "      <td>1998</td>\n",
       "      <td>Delacorte Press</td>\n",
       "      <td>http://images.amazon.com/images/P/038531700X.0...</td>\n",
       "      <td>http://images.amazon.com/images/P/038531700X.0...</td>\n",
       "      <td>http://images.amazon.com/images/P/038531700X.0...</td>\n",
       "    </tr>\n",
       "    <tr>\n",
       "      <th>576363</th>\n",
       "      <td>105295</td>\n",
       "      <td>342333052X</td>\n",
       "      <td>9</td>\n",
       "      <td>hamburg, hamburg, germany</td>\n",
       "      <td>NaN</td>\n",
       "      <td>Fermats letzter Satz.</td>\n",
       "      <td>Simon Singh</td>\n",
       "      <td>2000</td>\n",
       "      <td>Dtv</td>\n",
       "      <td>http://images.amazon.com/images/P/342333052X.0...</td>\n",
       "      <td>http://images.amazon.com/images/P/342333052X.0...</td>\n",
       "      <td>http://images.amazon.com/images/P/342333052X.0...</td>\n",
       "    </tr>\n",
       "    <tr>\n",
       "      <th>842829</th>\n",
       "      <td>188010</td>\n",
       "      <td>1850153086</td>\n",
       "      <td>9</td>\n",
       "      <td>edmonton, alberta, canada</td>\n",
       "      <td>NaN</td>\n",
       "      <td>The Best of Women's Quotations (The Best of Qu...</td>\n",
       "      <td>Helen Exley</td>\n",
       "      <td>1993</td>\n",
       "      <td>Exley Giftbooks</td>\n",
       "      <td>http://images.amazon.com/images/P/1850153086.0...</td>\n",
       "      <td>http://images.amazon.com/images/P/1850153086.0...</td>\n",
       "      <td>http://images.amazon.com/images/P/1850153086.0...</td>\n",
       "    </tr>\n",
       "    <tr>\n",
       "      <th>80724</th>\n",
       "      <td>123261</td>\n",
       "      <td>0425142485</td>\n",
       "      <td>0</td>\n",
       "      <td>south orange, new jersey, usa</td>\n",
       "      <td>41.0</td>\n",
       "      <td>The Funhouse</td>\n",
       "      <td>Dean R. Koontz</td>\n",
       "      <td>1994</td>\n",
       "      <td>Berkley Publishing Group</td>\n",
       "      <td>http://images.amazon.com/images/P/0425142485.0...</td>\n",
       "      <td>http://images.amazon.com/images/P/0425142485.0...</td>\n",
       "      <td>http://images.amazon.com/images/P/0425142485.0...</td>\n",
       "    </tr>\n",
       "  </tbody>\n",
       "</table>\n",
       "</div>"
      ],
      "text/plain": [
       "        User-ID        ISBN  Book-Rating                       Location   Age  \\\n",
       "623020   247664  0553268899            7        london, ontario, canada   NaN   \n",
       "438804   221262  038531700X            0                    trumbull, ,   NaN   \n",
       "576363   105295  342333052X            9      hamburg, hamburg, germany   NaN   \n",
       "842829   188010  1850153086            9      edmonton, alberta, canada   NaN   \n",
       "80724    123261  0425142485            0  south orange, new jersey, usa  41.0   \n",
       "\n",
       "                                               Book-Title        Book-Author  \\\n",
       "623020       Beyond the Sea of Ice (First Americans Saga)  William Sarabande   \n",
       "438804                                  The Loop: A Novel     Nicholas Evans   \n",
       "576363                              Fermats letzter Satz.        Simon Singh   \n",
       "842829  The Best of Women's Quotations (The Best of Qu...        Helen Exley   \n",
       "80724                                        The Funhouse     Dean R. Koontz   \n",
       "\n",
       "        Year-Of-Publication                 Publisher  \\\n",
       "623020                 1987                    Bantam   \n",
       "438804                 1998           Delacorte Press   \n",
       "576363                 2000                       Dtv   \n",
       "842829                 1993           Exley Giftbooks   \n",
       "80724                  1994  Berkley Publishing Group   \n",
       "\n",
       "                                              Image-URL-S  \\\n",
       "623020  http://images.amazon.com/images/P/0553268899.0...   \n",
       "438804  http://images.amazon.com/images/P/038531700X.0...   \n",
       "576363  http://images.amazon.com/images/P/342333052X.0...   \n",
       "842829  http://images.amazon.com/images/P/1850153086.0...   \n",
       "80724   http://images.amazon.com/images/P/0425142485.0...   \n",
       "\n",
       "                                              Image-URL-M  \\\n",
       "623020  http://images.amazon.com/images/P/0553268899.0...   \n",
       "438804  http://images.amazon.com/images/P/038531700X.0...   \n",
       "576363  http://images.amazon.com/images/P/342333052X.0...   \n",
       "842829  http://images.amazon.com/images/P/1850153086.0...   \n",
       "80724   http://images.amazon.com/images/P/0425142485.0...   \n",
       "\n",
       "                                              Image-URL-L  \n",
       "623020  http://images.amazon.com/images/P/0553268899.0...  \n",
       "438804  http://images.amazon.com/images/P/038531700X.0...  \n",
       "576363  http://images.amazon.com/images/P/342333052X.0...  \n",
       "842829  http://images.amazon.com/images/P/1850153086.0...  \n",
       "80724   http://images.amazon.com/images/P/0425142485.0...  "
      ]
     },
     "execution_count": 15,
     "metadata": {},
     "output_type": "execute_result"
    }
   ],
   "source": [
    "library_df = pd.merge(ratings_users, books_df, on='ISBN')\n",
    "\n",
    "library_df.sample(n=5)"
   ]
  },
  {
   "cell_type": "code",
   "execution_count": 16,
   "id": "8ba5ccab",
   "metadata": {},
   "outputs": [
    {
     "name": "stdout",
     "output_type": "stream",
     "text": [
      "The merged rating_user dataset has 1028626 rows and 12 columns\n"
     ]
    }
   ],
   "source": [
    "rows, columns = library_df.shape\n",
    "\n",
    "print (f'The merged rating_user dataset has {rows} rows and {columns} columns')"
   ]
  },
  {
   "cell_type": "code",
   "execution_count": 17,
   "id": "ad48d73d",
   "metadata": {},
   "outputs": [
    {
     "name": "stdout",
     "output_type": "stream",
     "text": [
      "<class 'pandas.core.frame.DataFrame'>\n",
      "RangeIndex: 1028626 entries, 0 to 1028625\n",
      "Data columns (total 12 columns):\n",
      " #   Column               Non-Null Count    Dtype  \n",
      "---  ------               --------------    -----  \n",
      " 0   User-ID              1028626 non-null  int64  \n",
      " 1   ISBN                 1028626 non-null  object \n",
      " 2   Book-Rating          1028626 non-null  int64  \n",
      " 3   Location             1028626 non-null  object \n",
      " 4   Age                  751475 non-null   float64\n",
      " 5   Book-Title           1028626 non-null  object \n",
      " 6   Book-Author          1028624 non-null  object \n",
      " 7   Year-Of-Publication  1028626 non-null  int64  \n",
      " 8   Publisher            1028624 non-null  object \n",
      " 9   Image-URL-S          1028626 non-null  object \n",
      " 10  Image-URL-M          1028626 non-null  object \n",
      " 11  Image-URL-L          1028626 non-null  object \n",
      "dtypes: float64(1), int64(3), object(8)\n",
      "memory usage: 94.2+ MB\n"
     ]
    }
   ],
   "source": [
    "library_df.info()"
   ]
  },
  {
   "cell_type": "markdown",
   "id": "4a05068e",
   "metadata": {},
   "source": [
    "************************************************************************************************************************************************"
   ]
  },
  {
   "cell_type": "markdown",
   "id": "5c672793",
   "metadata": {},
   "source": [
    "## DATA CLEANING"
   ]
  },
  {
   "cell_type": "markdown",
   "id": "b7a3b240",
   "metadata": {},
   "source": [
    "### `Checking and handling duplicates columns`"
   ]
  },
  {
   "cell_type": "code",
   "execution_count": 18,
   "id": "5c5476d7",
   "metadata": {},
   "outputs": [
    {
     "name": "stdout",
     "output_type": "stream",
     "text": [
      "No duplicate columns found\n"
     ]
    },
    {
     "data": {
      "text/plain": [
       "[]"
      ]
     },
     "execution_count": 18,
     "metadata": {},
     "output_type": "execute_result"
    }
   ],
   "source": [
    "#checking and handling duplicate columns\n",
    "\n",
    "def find_duplicate_columns(df):\n",
    "    # Create an empty list to store the names of duplicate columns\n",
    "    duplicate_columns = []\n",
    "    \n",
    "    # Iterate over each column and compare it with the remaining columns\n",
    "    for i in range(len(df.columns)):\n",
    "        col1 = df.columns[i]\n",
    "        for j in range(i + 1, len(df.columns)):\n",
    "            col2 = df.columns[j]\n",
    "            # Check if two columns are identical\n",
    "            if df[col1].equals(df[col2]):\n",
    "                duplicate_columns.append(col2)\n",
    "    \n",
    "    # Return the list of duplicate columns\n",
    "    if len(duplicate_columns) > 0:\n",
    "        print(f\"Duplicate columns: {duplicate_columns}\")\n",
    "    else:\n",
    "        print(\"No duplicate columns found\")\n",
    "    \n",
    "    return duplicate_columns\n",
    "\n",
    "find_duplicate_columns(library_df)"
   ]
  },
  {
   "cell_type": "markdown",
   "id": "f69b9e3e",
   "metadata": {},
   "source": [
    "### `Removing unnecessary columns`"
   ]
  },
  {
   "cell_type": "code",
   "execution_count": 19,
   "id": "b3dd4797",
   "metadata": {},
   "outputs": [
    {
     "data": {
      "text/plain": [
       "Index(['User-ID', 'ISBN', 'Book-Rating', 'Location', 'Age', 'Book-Title',\n",
       "       'Book-Author', 'Year-Of-Publication', 'Publisher', 'Image-URL-S',\n",
       "       'Image-URL-M', 'Image-URL-L'],\n",
       "      dtype='object')"
      ]
     },
     "execution_count": 19,
     "metadata": {},
     "output_type": "execute_result"
    }
   ],
   "source": [
    "#column names\n",
    "library_df.columns"
   ]
  },
  {
   "cell_type": "code",
   "execution_count": 20,
   "id": "fb88e760",
   "metadata": {},
   "outputs": [
    {
     "data": {
      "text/html": [
       "<div>\n",
       "<style scoped>\n",
       "    .dataframe tbody tr th:only-of-type {\n",
       "        vertical-align: middle;\n",
       "    }\n",
       "\n",
       "    .dataframe tbody tr th {\n",
       "        vertical-align: top;\n",
       "    }\n",
       "\n",
       "    .dataframe thead th {\n",
       "        text-align: right;\n",
       "    }\n",
       "</style>\n",
       "<table border=\"1\" class=\"dataframe\">\n",
       "  <thead>\n",
       "    <tr style=\"text-align: right;\">\n",
       "      <th></th>\n",
       "      <th>User-ID</th>\n",
       "      <th>ISBN</th>\n",
       "      <th>Book-Rating</th>\n",
       "      <th>Location</th>\n",
       "      <th>Age</th>\n",
       "      <th>Book-Title</th>\n",
       "      <th>Book-Author</th>\n",
       "      <th>Year-Of-Publication</th>\n",
       "      <th>Publisher</th>\n",
       "    </tr>\n",
       "  </thead>\n",
       "  <tbody>\n",
       "    <tr>\n",
       "      <th>0</th>\n",
       "      <td>276725</td>\n",
       "      <td>034545104X</td>\n",
       "      <td>0</td>\n",
       "      <td>tyler, texas, usa</td>\n",
       "      <td>NaN</td>\n",
       "      <td>Flesh Tones: A Novel</td>\n",
       "      <td>M. J. Rose</td>\n",
       "      <td>2002</td>\n",
       "      <td>Ballantine Books</td>\n",
       "    </tr>\n",
       "    <tr>\n",
       "      <th>1</th>\n",
       "      <td>2313</td>\n",
       "      <td>034545104X</td>\n",
       "      <td>5</td>\n",
       "      <td>cincinnati, ohio, usa</td>\n",
       "      <td>23.0</td>\n",
       "      <td>Flesh Tones: A Novel</td>\n",
       "      <td>M. J. Rose</td>\n",
       "      <td>2002</td>\n",
       "      <td>Ballantine Books</td>\n",
       "    </tr>\n",
       "    <tr>\n",
       "      <th>2</th>\n",
       "      <td>6543</td>\n",
       "      <td>034545104X</td>\n",
       "      <td>0</td>\n",
       "      <td>strafford, missouri, usa</td>\n",
       "      <td>34.0</td>\n",
       "      <td>Flesh Tones: A Novel</td>\n",
       "      <td>M. J. Rose</td>\n",
       "      <td>2002</td>\n",
       "      <td>Ballantine Books</td>\n",
       "    </tr>\n",
       "    <tr>\n",
       "      <th>3</th>\n",
       "      <td>8680</td>\n",
       "      <td>034545104X</td>\n",
       "      <td>5</td>\n",
       "      <td>st. charles county, missouri, usa</td>\n",
       "      <td>2.0</td>\n",
       "      <td>Flesh Tones: A Novel</td>\n",
       "      <td>M. J. Rose</td>\n",
       "      <td>2002</td>\n",
       "      <td>Ballantine Books</td>\n",
       "    </tr>\n",
       "    <tr>\n",
       "      <th>4</th>\n",
       "      <td>10314</td>\n",
       "      <td>034545104X</td>\n",
       "      <td>9</td>\n",
       "      <td>beaverton, oregon, usa</td>\n",
       "      <td>NaN</td>\n",
       "      <td>Flesh Tones: A Novel</td>\n",
       "      <td>M. J. Rose</td>\n",
       "      <td>2002</td>\n",
       "      <td>Ballantine Books</td>\n",
       "    </tr>\n",
       "  </tbody>\n",
       "</table>\n",
       "</div>"
      ],
      "text/plain": [
       "   User-ID        ISBN  Book-Rating                           Location   Age  \\\n",
       "0   276725  034545104X            0                  tyler, texas, usa   NaN   \n",
       "1     2313  034545104X            5              cincinnati, ohio, usa  23.0   \n",
       "2     6543  034545104X            0           strafford, missouri, usa  34.0   \n",
       "3     8680  034545104X            5  st. charles county, missouri, usa   2.0   \n",
       "4    10314  034545104X            9             beaverton, oregon, usa   NaN   \n",
       "\n",
       "             Book-Title Book-Author  Year-Of-Publication         Publisher  \n",
       "0  Flesh Tones: A Novel  M. J. Rose                 2002  Ballantine Books  \n",
       "1  Flesh Tones: A Novel  M. J. Rose                 2002  Ballantine Books  \n",
       "2  Flesh Tones: A Novel  M. J. Rose                 2002  Ballantine Books  \n",
       "3  Flesh Tones: A Novel  M. J. Rose                 2002  Ballantine Books  \n",
       "4  Flesh Tones: A Novel  M. J. Rose                 2002  Ballantine Books  "
      ]
     },
     "execution_count": 20,
     "metadata": {},
     "output_type": "execute_result"
    }
   ],
   "source": [
    "#Removing unnecessary colums for our model.\n",
    "library_df.drop(['Image-URL-S','Image-URL-M', 'Image-URL-L'],axis=1, inplace=True)\n",
    "\n",
    "#preview of the dataset after removing columns\n",
    "library_df.head()"
   ]
  },
  {
   "cell_type": "markdown",
   "id": "7bd14ca3",
   "metadata": {},
   "source": [
    "## `Checking and handing missing values`"
   ]
  },
  {
   "cell_type": "code",
   "execution_count": 21,
   "id": "42f34d62",
   "metadata": {},
   "outputs": [
    {
     "name": "stdout",
     "output_type": "stream",
     "text": [
      "True\n"
     ]
    }
   ],
   "source": [
    "#checking for presense of missing values \n",
    "\n",
    "if library_df.isnull().values.any():\n",
    "    print(True)\n",
    "else:\n",
    "    print(None)"
   ]
  },
  {
   "cell_type": "code",
   "execution_count": 22,
   "id": "6100b354",
   "metadata": {},
   "outputs": [
    {
     "name": "stdout",
     "output_type": "stream",
     "text": [
      "Age            277151\n",
      "Book-Author         2\n",
      "Publisher           2\n",
      "dtype: int64\n"
     ]
    }
   ],
   "source": [
    "#checking for missing values\n",
    "\n",
    "missing_values = library_df.isnull().sum()\n",
    "\n",
    "#printing missing values\n",
    "\n",
    "print(missing_values[missing_values>0])"
   ]
  },
  {
   "cell_type": "code",
   "execution_count": 23,
   "id": "eb77fdc4",
   "metadata": {},
   "outputs": [
    {
     "name": "stdout",
     "output_type": "stream",
     "text": [
      "User-ID                0\n",
      "ISBN                   0\n",
      "Book-Rating            0\n",
      "Location               0\n",
      "Book-Title             0\n",
      "Book-Author            0\n",
      "Year-Of-Publication    0\n",
      "Publisher              0\n",
      "dtype: int64\n",
      "(1028622, 8)\n"
     ]
    }
   ],
   "source": [
    "# Dropping  rows where Book-Author or Publisher is missing\n",
    "library_df = library_df.dropna(subset=['Book-Author', 'Publisher'])\n",
    "\n",
    "# Drop the Age column completely\n",
    "library_df = library_df.drop(columns='Age')\n",
    "\n",
    "# Optional: Check the result\n",
    "print(library_df.isnull().sum())\n",
    "print(library_df.shape)\n"
   ]
  },
  {
   "cell_type": "code",
   "execution_count": 24,
   "id": "07f86922",
   "metadata": {},
   "outputs": [
    {
     "data": {
      "text/html": [
       "<div>\n",
       "<style scoped>\n",
       "    .dataframe tbody tr th:only-of-type {\n",
       "        vertical-align: middle;\n",
       "    }\n",
       "\n",
       "    .dataframe tbody tr th {\n",
       "        vertical-align: top;\n",
       "    }\n",
       "\n",
       "    .dataframe thead th {\n",
       "        text-align: right;\n",
       "    }\n",
       "</style>\n",
       "<table border=\"1\" class=\"dataframe\">\n",
       "  <thead>\n",
       "    <tr style=\"text-align: right;\">\n",
       "      <th></th>\n",
       "      <th>User-ID</th>\n",
       "      <th>ISBN</th>\n",
       "      <th>Book-Rating</th>\n",
       "      <th>Location</th>\n",
       "      <th>Book-Title</th>\n",
       "      <th>Book-Author</th>\n",
       "      <th>Year-Of-Publication</th>\n",
       "      <th>Publisher</th>\n",
       "    </tr>\n",
       "  </thead>\n",
       "  <tbody>\n",
       "    <tr>\n",
       "      <th>686163</th>\n",
       "      <td>57215</td>\n",
       "      <td>0553578170</td>\n",
       "      <td>7</td>\n",
       "      <td>bellaire, texas, usa</td>\n",
       "      <td>Jane and the Wandering Eye: Being the Third Ja...</td>\n",
       "      <td>Stephanie Barron</td>\n",
       "      <td>1998</td>\n",
       "      <td>Bantam</td>\n",
       "    </tr>\n",
       "    <tr>\n",
       "      <th>714539</th>\n",
       "      <td>230458</td>\n",
       "      <td>0064470652</td>\n",
       "      <td>0</td>\n",
       "      <td>chestertown, maryland, usa</td>\n",
       "      <td>Witch Baby (Weetzie Bat)</td>\n",
       "      <td>Francesca Lia Block</td>\n",
       "      <td>1992</td>\n",
       "      <td>HarperTrophy</td>\n",
       "    </tr>\n",
       "    <tr>\n",
       "      <th>731702</th>\n",
       "      <td>204864</td>\n",
       "      <td>0142003808</td>\n",
       "      <td>0</td>\n",
       "      <td>simi valley, california, usa</td>\n",
       "      <td>Drop City</td>\n",
       "      <td>T. Coraghessan Boyle</td>\n",
       "      <td>2004</td>\n",
       "      <td>Penguin USA (Paper)</td>\n",
       "    </tr>\n",
       "    <tr>\n",
       "      <th>59</th>\n",
       "      <td>274925</td>\n",
       "      <td>034545104X</td>\n",
       "      <td>7</td>\n",
       "      <td>enfield, connecticut, usa</td>\n",
       "      <td>Flesh Tones: A Novel</td>\n",
       "      <td>M. J. Rose</td>\n",
       "      <td>2002</td>\n",
       "      <td>Ballantine Books</td>\n",
       "    </tr>\n",
       "    <tr>\n",
       "      <th>311707</th>\n",
       "      <td>234683</td>\n",
       "      <td>0446364290</td>\n",
       "      <td>0</td>\n",
       "      <td>lappvik, etelä-suomen lääni, finland</td>\n",
       "      <td>Prime Time</td>\n",
       "      <td>Sandra Brown</td>\n",
       "      <td>1995</td>\n",
       "      <td>Warner Books</td>\n",
       "    </tr>\n",
       "  </tbody>\n",
       "</table>\n",
       "</div>"
      ],
      "text/plain": [
       "        User-ID        ISBN  Book-Rating  \\\n",
       "686163    57215  0553578170            7   \n",
       "714539   230458  0064470652            0   \n",
       "731702   204864  0142003808            0   \n",
       "59       274925  034545104X            7   \n",
       "311707   234683  0446364290            0   \n",
       "\n",
       "                                    Location  \\\n",
       "686163                  bellaire, texas, usa   \n",
       "714539            chestertown, maryland, usa   \n",
       "731702          simi valley, california, usa   \n",
       "59                 enfield, connecticut, usa   \n",
       "311707  lappvik, etelä-suomen lääni, finland   \n",
       "\n",
       "                                               Book-Title  \\\n",
       "686163  Jane and the Wandering Eye: Being the Third Ja...   \n",
       "714539                           Witch Baby (Weetzie Bat)   \n",
       "731702                                          Drop City   \n",
       "59                                   Flesh Tones: A Novel   \n",
       "311707                                         Prime Time   \n",
       "\n",
       "                 Book-Author  Year-Of-Publication            Publisher  \n",
       "686163      Stephanie Barron                 1998               Bantam  \n",
       "714539   Francesca Lia Block                 1992         HarperTrophy  \n",
       "731702  T. Coraghessan Boyle                 2004  Penguin USA (Paper)  \n",
       "59                M. J. Rose                 2002     Ballantine Books  \n",
       "311707          Sandra Brown                 1995         Warner Books  "
      ]
     },
     "execution_count": 24,
     "metadata": {},
     "output_type": "execute_result"
    }
   ],
   "source": [
    "library_df.sample(n=5)"
   ]
  },
  {
   "cell_type": "markdown",
   "id": "6f64b268",
   "metadata": {},
   "source": [
    "## `Feature Engineering`"
   ]
  },
  {
   "cell_type": "code",
   "execution_count": 25,
   "id": "feaa56b6",
   "metadata": {},
   "outputs": [
    {
     "data": {
      "text/html": [
       "<div>\n",
       "<style scoped>\n",
       "    .dataframe tbody tr th:only-of-type {\n",
       "        vertical-align: middle;\n",
       "    }\n",
       "\n",
       "    .dataframe tbody tr th {\n",
       "        vertical-align: top;\n",
       "    }\n",
       "\n",
       "    .dataframe thead th {\n",
       "        text-align: right;\n",
       "    }\n",
       "</style>\n",
       "<table border=\"1\" class=\"dataframe\">\n",
       "  <thead>\n",
       "    <tr style=\"text-align: right;\">\n",
       "      <th></th>\n",
       "      <th>User-ID</th>\n",
       "      <th>ISBN</th>\n",
       "      <th>Book-Rating</th>\n",
       "      <th>Book-Title</th>\n",
       "      <th>Book-Author</th>\n",
       "      <th>Year-Of-Publication</th>\n",
       "      <th>Publisher</th>\n",
       "      <th>City</th>\n",
       "      <th>State</th>\n",
       "      <th>Country</th>\n",
       "    </tr>\n",
       "  </thead>\n",
       "  <tbody>\n",
       "    <tr>\n",
       "      <th>0</th>\n",
       "      <td>276725</td>\n",
       "      <td>034545104X</td>\n",
       "      <td>0</td>\n",
       "      <td>Flesh Tones: A Novel</td>\n",
       "      <td>M. J. Rose</td>\n",
       "      <td>2002</td>\n",
       "      <td>Ballantine Books</td>\n",
       "      <td>tyler</td>\n",
       "      <td>texas</td>\n",
       "      <td>usa</td>\n",
       "    </tr>\n",
       "    <tr>\n",
       "      <th>1</th>\n",
       "      <td>2313</td>\n",
       "      <td>034545104X</td>\n",
       "      <td>5</td>\n",
       "      <td>Flesh Tones: A Novel</td>\n",
       "      <td>M. J. Rose</td>\n",
       "      <td>2002</td>\n",
       "      <td>Ballantine Books</td>\n",
       "      <td>cincinnati</td>\n",
       "      <td>ohio</td>\n",
       "      <td>usa</td>\n",
       "    </tr>\n",
       "    <tr>\n",
       "      <th>2</th>\n",
       "      <td>6543</td>\n",
       "      <td>034545104X</td>\n",
       "      <td>0</td>\n",
       "      <td>Flesh Tones: A Novel</td>\n",
       "      <td>M. J. Rose</td>\n",
       "      <td>2002</td>\n",
       "      <td>Ballantine Books</td>\n",
       "      <td>strafford</td>\n",
       "      <td>missouri</td>\n",
       "      <td>usa</td>\n",
       "    </tr>\n",
       "    <tr>\n",
       "      <th>3</th>\n",
       "      <td>8680</td>\n",
       "      <td>034545104X</td>\n",
       "      <td>5</td>\n",
       "      <td>Flesh Tones: A Novel</td>\n",
       "      <td>M. J. Rose</td>\n",
       "      <td>2002</td>\n",
       "      <td>Ballantine Books</td>\n",
       "      <td>st. charles county</td>\n",
       "      <td>missouri</td>\n",
       "      <td>usa</td>\n",
       "    </tr>\n",
       "    <tr>\n",
       "      <th>4</th>\n",
       "      <td>10314</td>\n",
       "      <td>034545104X</td>\n",
       "      <td>9</td>\n",
       "      <td>Flesh Tones: A Novel</td>\n",
       "      <td>M. J. Rose</td>\n",
       "      <td>2002</td>\n",
       "      <td>Ballantine Books</td>\n",
       "      <td>beaverton</td>\n",
       "      <td>oregon</td>\n",
       "      <td>usa</td>\n",
       "    </tr>\n",
       "  </tbody>\n",
       "</table>\n",
       "</div>"
      ],
      "text/plain": [
       "   User-ID        ISBN  Book-Rating            Book-Title Book-Author  \\\n",
       "0   276725  034545104X            0  Flesh Tones: A Novel  M. J. Rose   \n",
       "1     2313  034545104X            5  Flesh Tones: A Novel  M. J. Rose   \n",
       "2     6543  034545104X            0  Flesh Tones: A Novel  M. J. Rose   \n",
       "3     8680  034545104X            5  Flesh Tones: A Novel  M. J. Rose   \n",
       "4    10314  034545104X            9  Flesh Tones: A Novel  M. J. Rose   \n",
       "\n",
       "   Year-Of-Publication         Publisher                City     State Country  \n",
       "0                 2002  Ballantine Books               tyler     texas     usa  \n",
       "1                 2002  Ballantine Books          cincinnati      ohio     usa  \n",
       "2                 2002  Ballantine Books           strafford  missouri     usa  \n",
       "3                 2002  Ballantine Books  st. charles county  missouri     usa  \n",
       "4                 2002  Ballantine Books           beaverton    oregon     usa  "
      ]
     },
     "execution_count": 25,
     "metadata": {},
     "output_type": "execute_result"
    }
   ],
   "source": [
    "# Split location column, but allow flexible number of splits\n",
    "location_split = library_df['Location'].str.split(',', expand=True)\n",
    "\n",
    "# Assign new columns using only the first three columns (if they exist)\n",
    "library_df['City'] = location_split[0].str.strip()\n",
    "library_df['State'] = location_split[1].str.strip() if location_split.shape[1] > 1 else None\n",
    "library_df['Country'] = location_split[2].str.strip() if location_split.shape[1] > 2 else None\n",
    "\n",
    "# Optionally drop the original column\n",
    "library_df.drop(columns='Location', inplace=True)\n",
    "\n",
    "# Preview result\n",
    "library_df.head()\n"
   ]
  },
  {
   "cell_type": "markdown",
   "id": "99a370bd",
   "metadata": {},
   "source": [
    "********************************************************************************************************************************************"
   ]
  },
  {
   "cell_type": "markdown",
   "id": "9b75de3c",
   "metadata": {},
   "source": [
    "## EXPLANATORY DATA ANALYSIS\n",
    "\n",
    "Using `domain knowledge` to visualize features that are likely to influence user preferences and recommendation outcomes."
   ]
  },
  {
   "cell_type": "code",
   "execution_count": 26,
   "id": "6aeb6a15",
   "metadata": {},
   "outputs": [],
   "source": [
    "import seaborn as sns\n",
    "import matplotlib.pyplot as plt\n",
    "%matplotlib inline\n",
    "\n",
    "\n",
    "def visualize_feature(df, feature, top_n=10):\n",
    "    \"\"\"\n",
    "    Visualize a feature from the dataframe with values on the x-axis.\n",
    "\n",
    "    Parameters:\n",
    "    df (DataFrame): Your DataFrame\n",
    "    feature (str): Column name to visualize\n",
    "    top_n (int): Show top N most frequent values (for categorical features)\n",
    "    \"\"\"\n",
    "    plt.figure(figsize=(10, 6))\n",
    "\n",
    "    # Check if it's categorical or low-cardinality\n",
    "    if df[feature].dtype == 'object' or df[feature].nunique() < 30:\n",
    "        top_values = df[feature].value_counts().nlargest(top_n)\n",
    "        sns.barplot(x=top_values.index.astype(str), y=top_values.values, palette='viridis')\n",
    "        plt.xlabel(feature)\n",
    "        plt.ylabel(\"Count\")\n",
    "        plt.title(f\"Top {top_n} Most Frequent Values in '{feature}'\")\n",
    "        plt.xticks(rotation=45, ha='right')\n",
    "\n",
    "    else:\n",
    "        # For numerical features\n",
    "        sns.histplot(df[feature].dropna(), bins=20, kde=False, color='coral')\n",
    "        plt.xlabel(feature)\n",
    "        plt.ylabel(\"Frequency\")\n",
    "        plt.title(f\"Distribution of '{feature}'\")\n",
    "\n",
    "    plt.tight_layout()\n",
    "    plt.show()\n"
   ]
  },
  {
   "cell_type": "code",
   "execution_count": null,
   "id": "1f90bdad",
   "metadata": {},
   "outputs": [
    {
     "data": {
      "image/png": "[encoded data removed]",
      "text/plain": [
       "<Figure size 720x432 with 1 Axes>"
      ]
     },
     "metadata": {
      "needs_background": "light"
     },
     "output_type": "display_data"
    }
   ],
   "source": [
    "visualize_feature(library_df[library_df['Book-Rating'] > 0], 'Book-Rating')\n"
   ]
  },
  {
   "cell_type": "code",
   "execution_count": 29,
   "id": "39b40c02",
   "metadata": {},
   "outputs": [
    {
     "data": {
      "image/png": "[encoded data removed]",
      "text/plain": [
       "<Figure size 720x432 with 1 Axes>"
      ]
     },
     "metadata": {
      "needs_background": "light"
     },
     "output_type": "display_data"
    }
   ],
   "source": [
    "visualize_feature(library_df, 'Book-Author')"
   ]
  },
  {
   "cell_type": "code",
   "execution_count": 30,
   "id": "e30e1e85",
   "metadata": {},
   "outputs": [
    {
     "data": {
      "image/png": "[encoded data removed]",
      "text/plain": [
       "<Figure size 720x432 with 1 Axes>"
      ]
     },
     "metadata": {
      "needs_background": "light"
     },
     "output_type": "display_data"
    }
   ],
   "source": [
    "visualize_feature(library_df, 'Book-Title')"
   ]
  },
  {
   "cell_type": "code",
   "execution_count": 31,
   "id": "b919ad06",
   "metadata": {},
   "outputs": [
    {
     "data": {
      "image/png": "[encoded data removed]",
      "text/plain": [
       "<Figure size 720x432 with 1 Axes>"
      ]
     },
     "metadata": {
      "needs_background": "light"
     },
     "output_type": "display_data"
    }
   ],
   "source": [
    "visualize_feature(library_df, 'Publisher')"
   ]
  },
  {
   "cell_type": "code",
   "execution_count": 40,
   "id": "f3f47e34",
   "metadata": {},
   "outputs": [
    {
     "data": {
      "application/vnd.plotly.v1+json": {
       "config": {
        "plotlyServerURL": "https://plot.ly"
       },
       "data": [
        {
         "coloraxis": "coloraxis",
         "geo": "geo",
         "hovertemplate": "Country=%{location}<br>Count=%{z}<extra></extra>",
         "locationmode": "country names",
         "locations": [
          "usa",
          "canada",
          "united kingdom",
          "germany",
          "",
          "australia",
          "spain",
          "n/a",
          "france",
          "portugal",
          "new zealand",
          "malaysia",
          "netherlands",
          "switzerland",
          "italy",
          "austria",
          "iran",
          "finland",
          "romania",
          "singapore",
          "england",
          "brazil",
          "dominican republic",
          "ireland",
          "sweden",
          "philippines",
          "japan",
          "belgium",
          "china",
          "denmark",
          "norway",
          "ohio",
          "new york",
          "poland",
          "qatar",
          "mexico",
          "hong kong",
          "us",
          "argentina",
          "taiwan",
          "south africa",
          "israel",
          "greece",
          "canary islands",
          "bulgaria",
          "costa rica",
          "far away...",
          "kuwait",
          "india",
          "aruba",
          "united states",
          "united state",
          "cambridgeshire",
          "universe",
          "czech republic",
          "virginia",
          "egypt",
          "okinawa",
          "luxembourg",
          "chile",
          "guernsey",
          "florida",
          "burma",
          "south korea",
          "phillipines",
          "illinois",
          "iceland",
          "turkey",
          "cyprus",
          "antarctica",
          "euskal herria",
          "maryland",
          "kansas",
          "slovenia",
          "russia",
          "venezuela",
          "california",
          "hungary",
          "dc",
          "trinidad and tobago",
          "slovakia",
          "wales",
          "indonesia",
          "west yorkshire",
          "lithuania",
          "u.s.a.",
          "bahamas",
          "british columbia",
          "catalonia",
          "catalunya",
          "n/a - on the road",
          "saint lucia",
          "bermuda",
          "michigan",
          "laos",
          "madagascar",
          "malta",
          "oregon",
          "andorra",
          "ontario",
          "italia",
          "cuba",
          "texas",
          "saudi arabia",
          "croatia",
          "zimbabwe",
          "peru",
          "nz",
          "north carolina",
          "ukraine",
          "españa",
          "papua new guinea",
          "vietnam",
          "pakistan",
          "scotland",
          "kenya",
          "haiti",
          "panama",
          "seoul",
          "iraq",
          "connecticut",
          "bahrain",
          "deutschland",
          "idaho",
          "cayman islands",
          "west indies",
          "tennessee",
          "new south wales",
          "kazakhstan",
          "belize",
          "sri lanka",
          "new mexico",
          "united kindgonm",
          "colombia",
          "solomon islands",
          "moldova",
          "andalucia",
          "thailand",
          "albania",
          "everywhere and anywhere",
          "framingham",
          "la chine éternelle !",
          "jamaica",
          "guatemala",
          "saskatchewan",
          "honduras",
          "arizona",
          "barbados",
          "galiza",
          "united arab emirates",
          "grenada",
          "tanzania",
          "van wert",
          "america",
          "la chine éternelle!",
          "aberdeenshire",
          "uruguay",
          "south dakota",
          "ecuador",
          "benin",
          "yugoslavia",
          "uk",
          "alderney",
          "orense",
          "quit",
          "nepal",
          "la france",
          "missouri",
          "ghana",
          "ile de france",
          "puerto rico",
          "bolivia",
          "oeiras",
          "disrito federal",
          "hawaii",
          "nigeria",
          "jersey",
          "alberta",
          "catalunya spain",
          "co. carlow",
          "queensland",
          "oklahoma",
          "washington",
          "georgia",
          "morgan",
          "minnesota",
          "brunei",
          "new brunswick",
          "guinea",
          "north dakota",
          "eu",
          "u.a.e",
          "morocco",
          "indiana",
          "district of columbia",
          "victoria",
          "u.k.",
          "lleida",
          "here and there",
          "alabama",
          "north yorkshire",
          "l`italia",
          "new jersey",
          "tn",
          "paraguay",
          "stadt",
          "u.s>",
          "rutherford",
          "latvia",
          "massachusetts",
          "oman",
          "wisconsin",
          "kedah",
          "macedonia",
          "uzbekistan",
          "ysa",
          "afghanistan",
          "maine",
          "fort bend",
          "cape verde",
          "monaco",
          "tunisia",
          "alachua",
          "quebec",
          "maricopa",
          "rhode island",
          "space",
          "obviously",
          "polk",
          "k1c7b1",
          "colorado",
          "cameroon",
          "cherokee",
          "estonia",
          "pennsylvania",
          "montana",
          "iowa",
          "nebraska",
          "metro manila",
          "shelby",
          "gabon",
          "caribbean sea",
          "pais vasco",
          "county cork",
          "niger",
          "travelling....",
          "rwanda",
          "ca.",
          "collin",
          "nova scotia",
          "the great white north",
          "antigua and barbuda",
          "south australia",
          "fiji",
          "county galway",
          "st. helena",
          "mauritius",
          "anystate",
          "usa now",
          "san franicsco",
          "madrid",
          "álava",
          "baden-wuerttemberg",
          "galiza neghra",
          "granada",
          "usa (currently living in england)",
          "bc",
          "berlin",
          "macau",
          "maracopa",
          "bourgogne",
          "uganda",
          "arkansas",
          "d.c.",
          "australian capital territory",
          "cambodia",
          "usa & canada",
          "st.gallen",
          "ferrara",
          "otago",
          "paris",
          "tasmania",
          "syria",
          "nsw",
          "in europe",
          "ee.uu",
          "la belgique",
          "hungary and usa",
          "south island",
          "gipuzkoa",
          "la suisse",
          "bangladesh",
          "berguedà",
          "nottinghamshire",
          "gambia",
          "guinea-bissau",
          "hagiwara",
          "u.s.a>",
          "camden",
          "los estados unidos de norte america",
          "prince william",
          "united sates",
          "venezia giulia",
          "cananda",
          "tonga",
          "alaska",
          "united staes",
          "new hampshire",
          "austin",
          "worcester",
          "v9v 1h4",
          "pender",
          "hernando",
          "zapopan",
          "turkmenistan",
          "palau",
          "ca",
          "middlesex",
          "mozambique",
          "tdzimi",
          "burkina faso",
          "saint loius",
          "petrolwar nation",
          "burlington",
          "san mateo",
          "ua",
          "senegal",
          "zambia",
          "onondaga nation",
          "north sumatera",
          "yu-song",
          "west virginia",
          "el salvador",
          "lkjlj",
          "bosnia and herzegovina",
          "61 men",
          "algeria",
          "lk ammerland",
          "newfoundland",
          "st.thomasi",
          "auckland",
          "francisco morazan",
          "lebanon",
          "aroostook",
          "united states of america",
          "orange co",
          "shanghai",
          "ventura county",
          "ouranos",
          "x",
          "u.s. of a.",
          "samoa",
          "almería",
          "marshall islands",
          "c",
          "il",
          "louisiana",
          "nevada",
          "pontevedra",
          "republic of panama",
          "richmond country",
          "ethiopia",
          "unknown",
          "etelä-suomi",
          "mongolia",
          "niedersachsen",
          "angola",
          "kalamazoo",
          "we`re global!",
          "bayern",
          "kosovo",
          "csa",
          "urugua",
          "tajikistan",
          "kern",
          "päijät-häme"
         ],
         "name": "",
         "type": "choropleth",
         "z": [
          743509,
          92691,
          31814,
          27605,
          24406,
          18142,
          14712,
          11168,
          10582,
          6839,
          5548,
          5021,
          4955,
          4170,
          3444,
          2799,
          1649,
          1187,
          1166,
          1143,
          997,
          924,
          923,
          842,
          767,
          682,
          677,
          636,
          603,
          390,
          387,
          373,
          363,
          352,
          335,
          294,
          290,
          289,
          261,
          204,
          200,
          200,
          193,
          171,
          162,
          149,
          145,
          139,
          134,
          129,
          124,
          121,
          114,
          103,
          103,
          99,
          99,
          96,
          94,
          90,
          82,
          79,
          77,
          76,
          75,
          66,
          62,
          61,
          60,
          55,
          55,
          54,
          54,
          50,
          50,
          45,
          44,
          40,
          39,
          36,
          34,
          32,
          32,
          31,
          29,
          29,
          27,
          27,
          26,
          25,
          25,
          24,
          24,
          23,
          22,
          22,
          21,
          21,
          19,
          19,
          18,
          18,
          18,
          18,
          17,
          17,
          17,
          17,
          17,
          16,
          16,
          16,
          16,
          16,
          16,
          16,
          16,
          15,
          14,
          14,
          13,
          13,
          13,
          13,
          12,
          12,
          12,
          12,
          11,
          11,
          11,
          11,
          11,
          10,
          10,
          10,
          10,
          10,
          10,
          10,
          10,
          9,
          9,
          9,
          9,
          9,
          8,
          8,
          8,
          8,
          8,
          8,
          8,
          8,
          7,
          7,
          7,
          6,
          6,
          6,
          6,
          6,
          6,
          6,
          6,
          6,
          5,
          5,
          5,
          5,
          5,
          5,
          5,
          5,
          5,
          5,
          5,
          5,
          5,
          4,
          4,
          4,
          4,
          4,
          4,
          4,
          4,
          4,
          4,
          4,
          4,
          4,
          4,
          4,
          3,
          3,
          3,
          3,
          3,
          3,
          3,
          3,
          3,
          3,
          3,
          3,
          3,
          3,
          3,
          3,
          3,
          3,
          3,
          3,
          3,
          3,
          3,
          3,
          3,
          3,
          3,
          3,
          3,
          2,
          2,
          2,
          2,
          2,
          2,
          2,
          2,
          2,
          2,
          2,
          2,
          2,
          2,
          2,
          2,
          2,
          2,
          2,
          2,
          2,
          2,
          2,
          2,
          2,
          2,
          2,
          2,
          2,
          2,
          2,
          2,
          2,
          2,
          1,
          1,
          1,
          1,
          1,
          1,
          1,
          1,
          1,
          1,
          1,
          1,
          1,
          1,
          1,
          1,
          1,
          1,
          1,
          1,
          1,
          1,
          1,
          1,
          1,
          1,
          1,
          1,
          1,
          1,
          1,
          1,
          1,
          1,
          1,
          1,
          1,
          1,
          1,
          1,
          1,
          1,
          1,
          1,
          1,
          1,
          1,
          1,
          1,
          1,
          1,
          1,
          1,
          1,
          1,
          1,
          1,
          1,
          1,
          1,
          1,
          1,
          1,
          1,
          1,
          1,
          1,
          1,
          1,
          1,
          1,
          1,
          1,
          1,
          1,
          1,
          1,
          1,
          1,
          1,
          1,
          1,
          1,
          1,
          1,
          1,
          1,
          1,
          1,
          1,
          1,
          1,
          1,
          1,
          1,
          1,
          1,
          1,
          1,
          1,
          1,
          1,
          1,
          1,
          1,
          1,
          1,
          1,
          1,
          1,
          1,
          1,
          1,
          1,
          1,
          1,
          1,
          1,
          1
         ]
        }
       ],
       "layout": {
        "coloraxis": {
         "cmax": 900,
         "cmin": 0,
         "colorbar": {
          "title": {
           "text": "Count"
          }
         },
         "colorscale": [
          [
           0,
           "#440154"
          ],
          [
           0.1111111111111111,
           "#482878"
          ],
          [
           0.2222222222222222,
           "#3e4989"
          ],
          [
           0.3333333333333333,
           "#31688e"
          ],
          [
           0.4444444444444444,
           "#26828e"
          ],
          [
           0.5555555555555556,
           "#1f9e89"
          ],
          [
           0.6666666666666666,
           "#35b779"
          ],
          [
           0.7777777777777778,
           "#6ece58"
          ],
          [
           0.8888888888888888,
           "#b5de2b"
          ],
          [
           1,
           "#fde725"
          ]
         ]
        },
        "geo": {
         "center": {},
         "domain": {
          "x": [
           0,
           1
          ],
          "y": [
           0,
           1
          ]
         }
        },
        "legend": {
         "tracegroupgap": 0
        },
        "template": {
         "data": {
          "bar": [
           {
            "error_x": {
             "color": "#2a3f5f"
            },
            "error_y": {
             "color": "#2a3f5f"
            },
            "marker": {
             "line": {
              "color": "#E5ECF6",
              "width": 0.5
             }
            },
            "type": "bar"
           }
          ],
          "barpolar": [
           {
            "marker": {
             "line": {
              "color": "#E5ECF6",
              "width": 0.5
             }
            },
            "type": "barpolar"
           }
          ],
          "carpet": [
           {
            "aaxis": {
             "endlinecolor": "#2a3f5f",
             "gridcolor": "white",
             "linecolor": "white",
             "minorgridcolor": "white",
             "startlinecolor": "#2a3f5f"
            },
            "baxis": {
             "endlinecolor": "#2a3f5f",
             "gridcolor": "white",
             "linecolor": "white",
             "minorgridcolor": "white",
             "startlinecolor": "#2a3f5f"
            },
            "type": "carpet"
           }
          ],
          "choropleth": [
           {
            "colorbar": {
             "outlinewidth": 0,
             "ticks": ""
            },
            "type": "choropleth"
           }
          ],
          "contour": [
           {
            "colorbar": {
             "outlinewidth": 0,
             "ticks": ""
            },
            "colorscale": [
             [
              0,
              "#0d0887"
             ],
             [
              0.1111111111111111,
              "#46039f"
             ],
             [
              0.2222222222222222,
              "#7201a8"
             ],
             [
              0.3333333333333333,
              "#9c179e"
             ],
             [
              0.4444444444444444,
              "#bd3786"
             ],
             [
              0.5555555555555556,
              "#d8576b"
             ],
             [
              0.6666666666666666,
              "#ed7953"
             ],
             [
              0.7777777777777778,
              "#fb9f3a"
             ],
             [
              0.8888888888888888,
              "#fdca26"
             ],
             [
              1,
              "#f0f921"
             ]
            ],
            "type": "contour"
           }
          ],
          "contourcarpet": [
           {
            "colorbar": {
             "outlinewidth": 0,
             "ticks": ""
            },
            "type": "contourcarpet"
           }
          ],
          "heatmap": [
           {
            "colorbar": {
             "outlinewidth": 0,
             "ticks": ""
            },
            "colorscale": [
             [
              0,
              "#0d0887"
             ],
             [
              0.1111111111111111,
              "#46039f"
             ],
             [
              0.2222222222222222,
              "#7201a8"
             ],
             [
              0.3333333333333333,
              "#9c179e"
             ],
             [
              0.4444444444444444,
              "#bd3786"
             ],
             [
              0.5555555555555556,
              "#d8576b"
             ],
             [
              0.6666666666666666,
              "#ed7953"
             ],
             [
              0.7777777777777778,
              "#fb9f3a"
             ],
             [
              0.8888888888888888,
              "#fdca26"
             ],
             [
              1,
              "#f0f921"
             ]
            ],
            "type": "heatmap"
           }
          ],
          "heatmapgl": [
           {
            "colorbar": {
             "outlinewidth": 0,
             "ticks": ""
            },
            "colorscale": [
             [
              0,
              "#0d0887"
             ],
             [
              0.1111111111111111,
              "#46039f"
             ],
             [
              0.2222222222222222,
              "#7201a8"
             ],
             [
              0.3333333333333333,
              "#9c179e"
             ],
             [
              0.4444444444444444,
              "#bd3786"
             ],
             [
              0.5555555555555556,
              "#d8576b"
             ],
             [
              0.6666666666666666,
              "#ed7953"
             ],
             [
              0.7777777777777778,
              "#fb9f3a"
             ],
             [
              0.8888888888888888,
              "#fdca26"
             ],
             [
              1,
              "#f0f921"
             ]
            ],
            "type": "heatmapgl"
           }
          ],
          "histogram": [
           {
            "marker": {
             "colorbar": {
              "outlinewidth": 0,
              "ticks": ""
             }
            },
            "type": "histogram"
           }
          ],
          "histogram2d": [
           {
            "colorbar": {
             "outlinewidth": 0,
             "ticks": ""
            },
            "colorscale": [
             [
              0,
              "#0d0887"
             ],
             [
              0.1111111111111111,
              "#46039f"
             ],
             [
              0.2222222222222222,
              "#7201a8"
             ],
             [
              0.3333333333333333,
              "#9c179e"
             ],
             [
              0.4444444444444444,
              "#bd3786"
             ],
             [
              0.5555555555555556,
              "#d8576b"
             ],
             [
              0.6666666666666666,
              "#ed7953"
             ],
             [
              0.7777777777777778,
              "#fb9f3a"
             ],
             [
              0.8888888888888888,
              "#fdca26"
             ],
             [
              1,
              "#f0f921"
             ]
            ],
            "type": "histogram2d"
           }
          ],
          "histogram2dcontour": [
           {
            "colorbar": {
             "outlinewidth": 0,
             "ticks": ""
            },
            "colorscale": [
             [
              0,
              "#0d0887"
             ],
             [
              0.1111111111111111,
              "#46039f"
             ],
             [
              0.2222222222222222,
              "#7201a8"
             ],
             [
              0.3333333333333333,
              "#9c179e"
             ],
             [
              0.4444444444444444,
              "#bd3786"
             ],
             [
              0.5555555555555556,
              "#d8576b"
             ],
             [
              0.6666666666666666,
              "#ed7953"
             ],
             [
              0.7777777777777778,
              "#fb9f3a"
             ],
             [
              0.8888888888888888,
              "#fdca26"
             ],
             [
              1,
              "#f0f921"
             ]
            ],
            "type": "histogram2dcontour"
           }
          ],
          "mesh3d": [
           {
            "colorbar": {
             "outlinewidth": 0,
             "ticks": ""
            },
            "type": "mesh3d"
           }
          ],
          "parcoords": [
           {
            "line": {
             "colorbar": {
              "outlinewidth": 0,
              "ticks": ""
             }
            },
            "type": "parcoords"
           }
          ],
          "pie": [
           {
            "automargin": true,
            "type": "pie"
           }
          ],
          "scatter": [
           {
            "marker": {
             "colorbar": {
              "outlinewidth": 0,
              "ticks": ""
             }
            },
            "type": "scatter"
           }
          ],
          "scatter3d": [
           {
            "line": {
             "colorbar": {
              "outlinewidth": 0,
              "ticks": ""
             }
            },
            "marker": {
             "colorbar": {
              "outlinewidth": 0,
              "ticks": ""
             }
            },
            "type": "scatter3d"
           }
          ],
          "scattercarpet": [
           {
            "marker": {
             "colorbar": {
              "outlinewidth": 0,
              "ticks": ""
             }
            },
            "type": "scattercarpet"
           }
          ],
          "scattergeo": [
           {
            "marker": {
             "colorbar": {
              "outlinewidth": 0,
              "ticks": ""
             }
            },
            "type": "scattergeo"
           }
          ],
          "scattergl": [
           {
            "marker": {
             "colorbar": {
              "outlinewidth": 0,
              "ticks": ""
             }
            },
            "type": "scattergl"
           }
          ],
          "scattermapbox": [
           {
            "marker": {
             "colorbar": {
              "outlinewidth": 0,
              "ticks": ""
             }
            },
            "type": "scattermapbox"
           }
          ],
          "scatterpolar": [
           {
            "marker": {
             "colorbar": {
              "outlinewidth": 0,
              "ticks": ""
             }
            },
            "type": "scatterpolar"
           }
          ],
          "scatterpolargl": [
           {
            "marker": {
             "colorbar": {
              "outlinewidth": 0,
              "ticks": ""
             }
            },
            "type": "scatterpolargl"
           }
          ],
          "scatterternary": [
           {
            "marker": {
             "colorbar": {
              "outlinewidth": 0,
              "ticks": ""
             }
            },
            "type": "scatterternary"
           }
          ],
          "surface": [
           {
            "colorbar": {
             "outlinewidth": 0,
             "ticks": ""
            },
            "colorscale": [
             [
              0,
              "#0d0887"
             ],
             [
              0.1111111111111111,
              "#46039f"
             ],
             [
              0.2222222222222222,
              "#7201a8"
             ],
             [
              0.3333333333333333,
              "#9c179e"
             ],
             [
              0.4444444444444444,
              "#bd3786"
             ],
             [
              0.5555555555555556,
              "#d8576b"
             ],
             [
              0.6666666666666666,
              "#ed7953"
             ],
             [
              0.7777777777777778,
              "#fb9f3a"
             ],
             [
              0.8888888888888888,
              "#fdca26"
             ],
             [
              1,
              "#f0f921"
             ]
            ],
            "type": "surface"
           }
          ],
          "table": [
           {
            "cells": {
             "fill": {
              "color": "#EBF0F8"
             },
             "line": {
              "color": "white"
             }
            },
            "header": {
             "fill": {
              "color": "#C8D4E3"
             },
             "line": {
              "color": "white"
             }
            },
            "type": "table"
           }
          ]
         },
         "layout": {
          "annotationdefaults": {
           "arrowcolor": "#2a3f5f",
           "arrowhead": 0,
           "arrowwidth": 1
          },
          "coloraxis": {
           "colorbar": {
            "outlinewidth": 0,
            "ticks": ""
           }
          },
          "colorscale": {
           "diverging": [
            [
             0,
             "#8e0152"
            ],
            [
             0.1,
             "#c51b7d"
            ],
            [
             0.2,
             "#de77ae"
            ],
            [
             0.3,
             "#f1b6da"
            ],
            [
             0.4,
             "#fde0ef"
            ],
            [
             0.5,
             "#f7f7f7"
            ],
            [
             0.6,
             "#e6f5d0"
            ],
            [
             0.7,
             "#b8e186"
            ],
            [
             0.8,
             "#7fbc41"
            ],
            [
             0.9,
             "#4d9221"
            ],
            [
             1,
             "#276419"
            ]
           ],
           "sequential": [
            [
             0,
             "#0d0887"
            ],
            [
             0.1111111111111111,
             "#46039f"
            ],
            [
             0.2222222222222222,
             "#7201a8"
            ],
            [
             0.3333333333333333,
             "#9c179e"
            ],
            [
             0.4444444444444444,
             "#bd3786"
            ],
            [
             0.5555555555555556,
             "#d8576b"
            ],
            [
             0.6666666666666666,
             "#ed7953"
            ],
            [
             0.7777777777777778,
             "#fb9f3a"
            ],
            [
             0.8888888888888888,
             "#fdca26"
            ],
            [
             1,
             "#f0f921"
            ]
           ],
           "sequentialminus": [
            [
             0,
             "#0d0887"
            ],
            [
             0.1111111111111111,
             "#46039f"
            ],
            [
             0.2222222222222222,
             "#7201a8"
            ],
            [
             0.3333333333333333,
             "#9c179e"
            ],
            [
             0.4444444444444444,
             "#bd3786"
            ],
            [
             0.5555555555555556,
             "#d8576b"
            ],
            [
             0.6666666666666666,
             "#ed7953"
            ],
            [
             0.7777777777777778,
             "#fb9f3a"
            ],
            [
             0.8888888888888888,
             "#fdca26"
            ],
            [
             1,
             "#f0f921"
            ]
           ]
          },
          "colorway": [
           "#636efa",
           "#EF553B",
           "#00cc96",
           "#ab63fa",
           "#FFA15A",
           "#19d3f3",
           "#FF6692",
           "#B6E880",
           "#FF97FF",
           "#FECB52"
          ],
          "font": {
           "color": "#2a3f5f"
          },
          "geo": {
           "bgcolor": "white",
           "lakecolor": "white",
           "landcolor": "#E5ECF6",
           "showlakes": true,
           "showland": true,
           "subunitcolor": "white"
          },
          "hoverlabel": {
           "align": "left"
          },
          "hovermode": "closest",
          "mapbox": {
           "style": "light"
          },
          "paper_bgcolor": "white",
          "plot_bgcolor": "#E5ECF6",
          "polar": {
           "angularaxis": {
            "gridcolor": "white",
            "linecolor": "white",
            "ticks": ""
           },
           "bgcolor": "#E5ECF6",
           "radialaxis": {
            "gridcolor": "white",
            "linecolor": "white",
            "ticks": ""
           }
          },
          "scene": {
           "xaxis": {
            "backgroundcolor": "#E5ECF6",
            "gridcolor": "white",
            "gridwidth": 2,
            "linecolor": "white",
            "showbackground": true,
            "ticks": "",
            "zerolinecolor": "white"
           },
           "yaxis": {
            "backgroundcolor": "#E5ECF6",
            "gridcolor": "white",
            "gridwidth": 2,
            "linecolor": "white",
            "showbackground": true,
            "ticks": "",
            "zerolinecolor": "white"
           },
           "zaxis": {
            "backgroundcolor": "#E5ECF6",
            "gridcolor": "white",
            "gridwidth": 2,
            "linecolor": "white",
            "showbackground": true,
            "ticks": "",
            "zerolinecolor": "white"
           }
          },
          "shapedefaults": {
           "line": {
            "color": "#2a3f5f"
           }
          },
          "ternary": {
           "aaxis": {
            "gridcolor": "white",
            "linecolor": "white",
            "ticks": ""
           },
           "baxis": {
            "gridcolor": "white",
            "linecolor": "white",
            "ticks": ""
           },
           "bgcolor": "#E5ECF6",
           "caxis": {
            "gridcolor": "white",
            "linecolor": "white",
            "ticks": ""
           }
          },
          "title": {
           "x": 0.05
          },
          "xaxis": {
           "automargin": true,
           "gridcolor": "white",
           "linecolor": "white",
           "ticks": "",
           "title": {
            "standoff": 15
           },
           "zerolinecolor": "white",
           "zerolinewidth": 2
          },
          "yaxis": {
           "automargin": true,
           "gridcolor": "white",
           "linecolor": "white",
           "ticks": "",
           "title": {
            "standoff": 15
           },
           "zerolinecolor": "white",
           "zerolinewidth": 2
          }
         }
        },
        "title": {
         "text": "User Distribution by Country"
        }
       }
      }
     },
     "metadata": {},
     "output_type": "display_data"
    }
   ],
   "source": [
    "import plotly.express as px\n",
    "\n",
    "country_data = library_df['Country'].value_counts().reset_index()\n",
    "country_data.columns = ['Country', 'Count']\n",
    "\n",
    "fig = px.choropleth(\n",
    "    country_data,\n",
    "    locations='Country',\n",
    "    locationmode='country names',\n",
    "    color='Count',\n",
    "    color_continuous_scale='Viridis',  # Changed here\n",
    "    range_color=(0, 900),\n",
    "    title='User Distribution by Country'\n",
    ")\n",
    "fig.show()\n"
   ]
  },
  {
   "cell_type": "markdown",
   "id": "4a94fa0a",
   "metadata": {},
   "source": [
    "### Findings\n",
    "\n",
    "\n"
   ]
  },
  {
   "cell_type": "markdown",
   "id": "1d43bf1a",
   "metadata": {},
   "source": [
    "*********************************************************************************************************************************************"
   ]
  },
  {
   "cell_type": "markdown",
   "id": "fbbe9d2d",
   "metadata": {},
   "source": [
    "## FEATURE SELECTION"
   ]
  }
 ],
 "metadata": {
  "kernelspec": {
   "display_name": "Python (learn-env)",
   "language": "python",
   "name": "learn-env"
  },
  "language_info": {
   "codemirror_mode": {
    "name": "ipython",
    "version": 3
   },
   "file_extension": ".py",
   "mimetype": "text/x-python",
   "name": "python",
   "nbconvert_exporter": "python",
   "pygments_lexer": "ipython3",
   "version": "3.8.5"
  }
 },
 "nbformat": 4,
 "nbformat_minor": 5
}
